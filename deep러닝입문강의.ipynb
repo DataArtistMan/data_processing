{
 "cells": [
  {
   "cell_type": "code",
   "execution_count": 1,
   "id": "273dad67",
   "metadata": {},
   "outputs": [
    {
     "name": "stdout",
     "output_type": "stream",
     "text": [
      "2.12.0\n"
     ]
    }
   ],
   "source": [
    "import tensorflow as tf\n",
    "print(tf.__version__)"
   ]
  },
  {
   "cell_type": "code",
   "execution_count": 2,
   "id": "292dbae3",
   "metadata": {},
   "outputs": [
    {
     "data": {
      "text/plain": [
       "200"
      ]
     },
     "execution_count": 2,
     "metadata": {},
     "output_type": "execute_result"
    }
   ],
   "source": [
    "car = {\n",
    "    'hp' : 200,\n",
    "    'make' : 'bmw'\n",
    "}\n",
    "car['hp']"
   ]
  },
  {
   "cell_type": "code",
   "execution_count": 3,
   "id": "86775222",
   "metadata": {},
   "outputs": [],
   "source": [
    "car['color']='white'"
   ]
  },
  {
   "cell_type": "code",
   "execution_count": 4,
   "id": "d0279492",
   "metadata": {},
   "outputs": [
    {
     "data": {
      "text/plain": [
       "{'hp': 200, 'make': 'bmw', 'color': 'white'}"
      ]
     },
     "execution_count": 4,
     "metadata": {},
     "output_type": "execute_result"
    }
   ],
   "source": [
    "car"
   ]
  },
  {
   "cell_type": "code",
   "execution_count": 5,
   "id": "b4945978",
   "metadata": {},
   "outputs": [],
   "source": [
    "temp = -10"
   ]
  },
  {
   "cell_type": "code",
   "execution_count": 6,
   "id": "59b239d5",
   "metadata": {},
   "outputs": [
    {
     "name": "stdout",
     "output_type": "stream",
     "text": [
      "영하입니다\n"
     ]
    }
   ],
   "source": [
    "if temp < 0:\n",
    "    print('영하입니다')\n",
    "else:\n",
    "    print('영상입니다')"
   ]
  },
  {
   "cell_type": "code",
   "execution_count": 7,
   "id": "17646054",
   "metadata": {},
   "outputs": [
    {
     "name": "stdout",
     "output_type": "stream",
     "text": [
      "Hello 나의 이름은John\n"
     ]
    }
   ],
   "source": [
    "class Person:\n",
    "    def __init__(self, name, age):\n",
    "        self.name = name\n",
    "        self.age = age\n",
    "    def sayHello(self):\n",
    "        print('Hello 나의 이름은' + self.name)\n",
    "        \n",
    "p1 = Person('John', 36)\n",
    "p1.sayHello()"
   ]
  },
  {
   "cell_type": "code",
   "execution_count": 8,
   "id": "19550850",
   "metadata": {},
   "outputs": [
    {
     "data": {
      "text/plain": [
       "array([1, 2, 3])"
      ]
     },
     "execution_count": 8,
     "metadata": {},
     "output_type": "execute_result"
    }
   ],
   "source": [
    "# numpy 1차원 배열 \n",
    "import numpy as np\n",
    "a = np.array([1,2,3])\n",
    "a"
   ]
  },
  {
   "cell_type": "code",
   "execution_count": 9,
   "id": "23166eac",
   "metadata": {},
   "outputs": [
    {
     "data": {
      "text/plain": [
       "1"
      ]
     },
     "execution_count": 9,
     "metadata": {},
     "output_type": "execute_result"
    }
   ],
   "source": [
    "a[0]"
   ]
  },
  {
   "cell_type": "code",
   "execution_count": 11,
   "id": "6c4716bd",
   "metadata": {},
   "outputs": [
    {
     "data": {
      "text/plain": [
       "array([[1, 2, 3],\n",
       "       [4, 5, 6],\n",
       "       [7, 8, 9]])"
      ]
     },
     "execution_count": 11,
     "metadata": {},
     "output_type": "execute_result"
    }
   ],
   "source": [
    "b = np.array([[1,2,3],\n",
    "            [4,5,6],\n",
    "            [7,8,9]])\n",
    "b"
   ]
  },
  {
   "cell_type": "code",
   "execution_count": 12,
   "id": "728050b3",
   "metadata": {},
   "outputs": [
    {
     "data": {
      "text/plain": [
       "3"
      ]
     },
     "execution_count": 12,
     "metadata": {},
     "output_type": "execute_result"
    }
   ],
   "source": [
    "b[0][2]"
   ]
  },
  {
   "cell_type": "code",
   "execution_count": 5,
   "id": "ce7a4d81",
   "metadata": {},
   "outputs": [
    {
     "data": {
      "text/plain": [
       "(3, 3)"
      ]
     },
     "execution_count": 5,
     "metadata": {},
     "output_type": "execute_result"
    }
   ],
   "source": [
    "import numpy as np\n",
    "a = np.array([[0.3,1,2],\n",
    "             [3,4,5],\n",
    "             [6,7,8]])\n",
    "\n",
    "a.shape"
   ]
  },
  {
   "cell_type": "code",
   "execution_count": 2,
   "id": "f047ee24",
   "metadata": {},
   "outputs": [
    {
     "ename": "NameError",
     "evalue": "name 'b' is not defined",
     "output_type": "error",
     "traceback": [
      "\u001b[1;31m---------------------------------------------------------------------------\u001b[0m",
      "\u001b[1;31mNameError\u001b[0m                                 Traceback (most recent call last)",
      "Cell \u001b[1;32mIn[2], line 1\u001b[0m\n\u001b[1;32m----> 1\u001b[0m \u001b[43mb\u001b[49m\u001b[38;5;241m.\u001b[39mshape\n",
      "\u001b[1;31mNameError\u001b[0m: name 'b' is not defined"
     ]
    }
   ],
   "source": [
    "b.shape"
   ]
  },
  {
   "cell_type": "code",
   "execution_count": 3,
   "id": "17b8edb5",
   "metadata": {},
   "outputs": [
    {
     "data": {
      "text/plain": [
       "2"
      ]
     },
     "execution_count": 3,
     "metadata": {},
     "output_type": "execute_result"
    }
   ],
   "source": [
    "a.ndim\n"
   ]
  },
  {
   "cell_type": "code",
   "execution_count": 16,
   "id": "86592197",
   "metadata": {},
   "outputs": [
    {
     "data": {
      "text/plain": [
       "1"
      ]
     },
     "execution_count": 16,
     "metadata": {},
     "output_type": "execute_result"
    }
   ],
   "source": [
    "a.ndim"
   ]
  },
  {
   "cell_type": "code",
   "execution_count": 6,
   "id": "2f441b86",
   "metadata": {},
   "outputs": [
    {
     "data": {
      "text/plain": [
       "dtype('float64')"
      ]
     },
     "execution_count": 6,
     "metadata": {},
     "output_type": "execute_result"
    }
   ],
   "source": [
    "a.dtype"
   ]
  },
  {
   "cell_type": "code",
   "execution_count": 7,
   "id": "8c2e34cb",
   "metadata": {},
   "outputs": [
    {
     "data": {
      "text/plain": [
       "9"
      ]
     },
     "execution_count": 7,
     "metadata": {},
     "output_type": "execute_result"
    }
   ],
   "source": [
    "a.size"
   ]
  },
  {
   "cell_type": "code",
   "execution_count": 19,
   "id": "e22906d6",
   "metadata": {},
   "outputs": [
    {
     "data": {
      "text/plain": [
       "9"
      ]
     },
     "execution_count": 19,
     "metadata": {},
     "output_type": "execute_result"
    }
   ],
   "source": [
    "b.size"
   ]
  },
  {
   "cell_type": "code",
   "execution_count": 16,
   "id": "a06f2dfd",
   "metadata": {},
   "outputs": [
    {
     "data": {
      "text/plain": [
       "array([0., 0., 0., 0., 0., 0., 0., 0., 0., 0.])"
      ]
     },
     "execution_count": 16,
     "metadata": {},
     "output_type": "execute_result"
    }
   ],
   "source": [
    "# 간단한 numpy array 만들기\n",
    "a = np.zeros([10])\n",
    "a"
   ]
  },
  {
   "cell_type": "code",
   "execution_count": 13,
   "id": "feb61264",
   "metadata": {},
   "outputs": [
    {
     "data": {
      "text/plain": [
       "array([[0., 0., 0., 0.],\n",
       "       [0., 0., 0., 0.],\n",
       "       [0., 0., 0., 0.]])"
      ]
     },
     "execution_count": 13,
     "metadata": {},
     "output_type": "execute_result"
    }
   ],
   "source": [
    "a = np.zeros((3,4))\n",
    "a"
   ]
  },
  {
   "cell_type": "code",
   "execution_count": 21,
   "id": "ddde6710",
   "metadata": {},
   "outputs": [
    {
     "data": {
      "text/plain": [
       "array([[1., 1., 1., 1.],\n",
       "       [1., 1., 1., 1.],\n",
       "       [1., 1., 1., 1.]])"
      ]
     },
     "execution_count": 21,
     "metadata": {},
     "output_type": "execute_result"
    }
   ],
   "source": [
    "np.ones(a.shape)"
   ]
  },
  {
   "cell_type": "code",
   "execution_count": 22,
   "id": "cdf9a307",
   "metadata": {},
   "outputs": [
    {
     "data": {
      "text/plain": [
       "array([[1., 0., 0.],\n",
       "       [0., 1., 0.],\n",
       "       [0., 0., 1.]])"
      ]
     },
     "execution_count": 22,
     "metadata": {},
     "output_type": "execute_result"
    }
   ],
   "source": [
    "np.eye(3) #I 항등 매트릭스"
   ]
  },
  {
   "cell_type": "code",
   "execution_count": 17,
   "id": "81ffa26c",
   "metadata": {},
   "outputs": [
    {
     "data": {
      "text/plain": [
       "array([0, 1, 2, 3, 4])"
      ]
     },
     "execution_count": 17,
     "metadata": {},
     "output_type": "execute_result"
    }
   ],
   "source": [
    "# arange(시작값, 종료값, 간격)\n",
    "np.arange(5)"
   ]
  },
  {
   "cell_type": "code",
   "execution_count": 25,
   "id": "b49b322b",
   "metadata": {},
   "outputs": [
    {
     "data": {
      "text/plain": [
       "array([1, 2, 3, 4, 5])"
      ]
     },
     "execution_count": 25,
     "metadata": {},
     "output_type": "execute_result"
    }
   ],
   "source": [
    "np.arange(1, 6)"
   ]
  },
  {
   "cell_type": "code",
   "execution_count": 26,
   "id": "5b3131a0",
   "metadata": {},
   "outputs": [
    {
     "data": {
      "text/plain": [
       "array([1, 3, 5, 7, 9])"
      ]
     },
     "execution_count": 26,
     "metadata": {},
     "output_type": "execute_result"
    }
   ],
   "source": [
    "np.arange(1,10,2)"
   ]
  },
  {
   "cell_type": "code",
   "execution_count": 18,
   "id": "25f8450a",
   "metadata": {},
   "outputs": [
    {
     "data": {
      "text/plain": [
       "array([ 0.        ,  0.1010101 ,  0.2020202 ,  0.3030303 ,  0.4040404 ,\n",
       "        0.50505051,  0.60606061,  0.70707071,  0.80808081,  0.90909091,\n",
       "        1.01010101,  1.11111111,  1.21212121,  1.31313131,  1.41414141,\n",
       "        1.51515152,  1.61616162,  1.71717172,  1.81818182,  1.91919192,\n",
       "        2.02020202,  2.12121212,  2.22222222,  2.32323232,  2.42424242,\n",
       "        2.52525253,  2.62626263,  2.72727273,  2.82828283,  2.92929293,\n",
       "        3.03030303,  3.13131313,  3.23232323,  3.33333333,  3.43434343,\n",
       "        3.53535354,  3.63636364,  3.73737374,  3.83838384,  3.93939394,\n",
       "        4.04040404,  4.14141414,  4.24242424,  4.34343434,  4.44444444,\n",
       "        4.54545455,  4.64646465,  4.74747475,  4.84848485,  4.94949495,\n",
       "        5.05050505,  5.15151515,  5.25252525,  5.35353535,  5.45454545,\n",
       "        5.55555556,  5.65656566,  5.75757576,  5.85858586,  5.95959596,\n",
       "        6.06060606,  6.16161616,  6.26262626,  6.36363636,  6.46464646,\n",
       "        6.56565657,  6.66666667,  6.76767677,  6.86868687,  6.96969697,\n",
       "        7.07070707,  7.17171717,  7.27272727,  7.37373737,  7.47474747,\n",
       "        7.57575758,  7.67676768,  7.77777778,  7.87878788,  7.97979798,\n",
       "        8.08080808,  8.18181818,  8.28282828,  8.38383838,  8.48484848,\n",
       "        8.58585859,  8.68686869,  8.78787879,  8.88888889,  8.98989899,\n",
       "        9.09090909,  9.19191919,  9.29292929,  9.39393939,  9.49494949,\n",
       "        9.5959596 ,  9.6969697 ,  9.7979798 ,  9.8989899 , 10.        ])"
      ]
     },
     "execution_count": 18,
     "metadata": {},
     "output_type": "execute_result"
    }
   ],
   "source": [
    "# linspace(시작값, 종료값, 개수) 함수 0부터 10까지  100개 뽑기 좀다르다\n",
    "np.linspace(0,10,100)"
   ]
  },
  {
   "cell_type": "code",
   "execution_count": 19,
   "id": "5e51a7fc",
   "metadata": {},
   "outputs": [
    {
     "data": {
      "text/plain": [
       "array([[1, 2, 5, 6],\n",
       "       [3, 4, 7, 8]])"
      ]
     },
     "execution_count": 19,
     "metadata": {},
     "output_type": "execute_result"
    }
   ],
   "source": [
    "x = np.array([[1,2], [3,4]])\n",
    "y = np.array([[5,6],[7,8]])\n",
    "np.concatenate((x,y),axis = 1)\n"
   ]
  },
  {
   "cell_type": "code",
   "execution_count": 20,
   "id": "7035af12",
   "metadata": {},
   "outputs": [
    {
     "data": {
      "text/plain": [
       "array([[1, 2],\n",
       "       [3, 4],\n",
       "       [5, 6],\n",
       "       [7, 8]])"
      ]
     },
     "execution_count": 20,
     "metadata": {},
     "output_type": "execute_result"
    }
   ],
   "source": [
    "np.concatenate((x,y),axis = 0)"
   ]
  },
  {
   "cell_type": "code",
   "execution_count": 24,
   "id": "079a9392",
   "metadata": {},
   "outputs": [
    {
     "data": {
      "text/plain": [
       "array([[1, 2],\n",
       "       [3, 4],\n",
       "       [5, 6],\n",
       "       [7, 8]])"
      ]
     },
     "execution_count": 24,
     "metadata": {},
     "output_type": "execute_result"
    }
   ],
   "source": [
    "np.vstack((x,y))"
   ]
  },
  {
   "cell_type": "code",
   "execution_count": 34,
   "id": "66c5535e",
   "metadata": {},
   "outputs": [
    {
     "data": {
      "text/plain": [
       "array([[1, 2],\n",
       "       [3, 4],\n",
       "       [5, 6]])"
      ]
     },
     "execution_count": 34,
     "metadata": {},
     "output_type": "execute_result"
    }
   ],
   "source": [
    "old = np.arange(1,7)\n",
    "new = old.reshape(3,2)\n",
    "new"
   ]
  },
  {
   "cell_type": "code",
   "execution_count": 36,
   "id": "4353aaa3",
   "metadata": {},
   "outputs": [
    {
     "data": {
      "text/plain": [
       "array([ 0,  1,  2,  3,  4,  5,  6,  7,  8,  9, 10, 11])"
      ]
     },
     "execution_count": 36,
     "metadata": {},
     "output_type": "execute_result"
    }
   ],
   "source": [
    "a = np.arange(12)\n",
    "a"
   ]
  },
  {
   "cell_type": "code",
   "execution_count": 41,
   "id": "c08c46ed",
   "metadata": {},
   "outputs": [
    {
     "data": {
      "text/plain": [
       "array([[ 0,  1,  2,  3],\n",
       "       [ 4,  5,  6,  7],\n",
       "       [ 8,  9, 10, 11]])"
      ]
     },
     "execution_count": 41,
     "metadata": {},
     "output_type": "execute_result"
    }
   ],
   "source": [
    "a.reshape(3,4)"
   ]
  },
  {
   "cell_type": "code",
   "execution_count": 37,
   "id": "ef1bd5b9",
   "metadata": {},
   "outputs": [
    {
     "data": {
      "text/plain": [
       "array([[ 0,  1,  2,  3,  4,  5],\n",
       "       [ 6,  7,  8,  9, 10, 11]])"
      ]
     },
     "execution_count": 37,
     "metadata": {},
     "output_type": "execute_result"
    }
   ],
   "source": [
    "#-1은 unknown 상태의 dimension을 비워놓고 이를 numpy가 알아서 찾아내게끔 맡기는 의미 \n",
    "a.reshape(2,-1)"
   ]
  },
  {
   "cell_type": "code",
   "execution_count": 40,
   "id": "969328c7",
   "metadata": {},
   "outputs": [],
   "source": [
    "#array 분할하기\n",
    "array = np.arange(30).reshape(-1, 10)"
   ]
  },
  {
   "cell_type": "code",
   "execution_count": 41,
   "id": "958ce691",
   "metadata": {},
   "outputs": [
    {
     "data": {
      "text/plain": [
       "array([[ 0,  1,  2,  3,  4,  5,  6,  7,  8,  9],\n",
       "       [10, 11, 12, 13, 14, 15, 16, 17, 18, 19],\n",
       "       [20, 21, 22, 23, 24, 25, 26, 27, 28, 29]])"
      ]
     },
     "execution_count": 41,
     "metadata": {},
     "output_type": "execute_result"
    }
   ],
   "source": [
    "array"
   ]
  },
  {
   "cell_type": "code",
   "execution_count": 51,
   "id": "642aec9b",
   "metadata": {},
   "outputs": [],
   "source": [
    "# Array 분할하기\n",
    "arr1, arr2 = np.split(array, [5], axis=1)"
   ]
  },
  {
   "cell_type": "code",
   "execution_count": 52,
   "id": "bf8ce7ff",
   "metadata": {},
   "outputs": [
    {
     "data": {
      "text/plain": [
       "array([[ 0,  1,  2,  3,  4],\n",
       "       [10, 11, 12, 13, 14],\n",
       "       [20, 21, 22, 23, 24]])"
      ]
     },
     "execution_count": 52,
     "metadata": {},
     "output_type": "execute_result"
    }
   ],
   "source": [
    "arr1"
   ]
  },
  {
   "cell_type": "code",
   "execution_count": 53,
   "id": "8deb3273",
   "metadata": {},
   "outputs": [
    {
     "data": {
      "text/plain": [
       "array([[ 5,  6,  7,  8,  9],\n",
       "       [15, 16, 17, 18, 19],\n",
       "       [25, 26, 27, 28, 29]])"
      ]
     },
     "execution_count": 53,
     "metadata": {},
     "output_type": "execute_result"
    }
   ],
   "source": [
    "arr2"
   ]
  },
  {
   "cell_type": "code",
   "execution_count": 62,
   "id": "145f1b6a",
   "metadata": {},
   "outputs": [
    {
     "data": {
      "text/plain": [
       "(6,)"
      ]
     },
     "execution_count": 62,
     "metadata": {},
     "output_type": "execute_result"
    }
   ],
   "source": [
    "# array에 새로운 축 추가\n",
    "a = np.array([1,2,3,4,5,6])\n",
    "a.shape # (6,)로 나오기때문에 새로운 축을 추가할때 사용\n",
    "\n"
   ]
  },
  {
   "cell_type": "code",
   "execution_count": 52,
   "id": "efb21308",
   "metadata": {},
   "outputs": [],
   "source": [
    "a1 = a[np.newaxis,:]"
   ]
  },
  {
   "cell_type": "code",
   "execution_count": 53,
   "id": "06a790e2",
   "metadata": {},
   "outputs": [
    {
     "data": {
      "text/plain": [
       "array([[1, 2, 3, 4, 5, 6]])"
      ]
     },
     "execution_count": 53,
     "metadata": {},
     "output_type": "execute_result"
    }
   ],
   "source": [
    "a1"
   ]
  },
  {
   "cell_type": "code",
   "execution_count": 54,
   "id": "b6281285",
   "metadata": {},
   "outputs": [
    {
     "data": {
      "text/plain": [
       "(1, 6)"
      ]
     },
     "execution_count": 54,
     "metadata": {},
     "output_type": "execute_result"
    }
   ],
   "source": [
    "a1.shape"
   ]
  },
  {
   "cell_type": "code",
   "execution_count": 57,
   "id": "ac3a5ed2",
   "metadata": {},
   "outputs": [],
   "source": [
    "a2 = a[:,np.newaxis]"
   ]
  },
  {
   "cell_type": "code",
   "execution_count": 58,
   "id": "5f259605",
   "metadata": {},
   "outputs": [
    {
     "data": {
      "text/plain": [
       "array([[1],\n",
       "       [2],\n",
       "       [3],\n",
       "       [4],\n",
       "       [5],\n",
       "       [6]])"
      ]
     },
     "execution_count": 58,
     "metadata": {},
     "output_type": "execute_result"
    }
   ],
   "source": [
    "a2"
   ]
  },
  {
   "cell_type": "code",
   "execution_count": 59,
   "id": "5660ba55",
   "metadata": {},
   "outputs": [
    {
     "data": {
      "text/plain": [
       "(6, 1)"
      ]
     },
     "execution_count": 59,
     "metadata": {},
     "output_type": "execute_result"
    }
   ],
   "source": [
    "a2.shape"
   ]
  },
  {
   "cell_type": "code",
   "execution_count": 54,
   "id": "60199792",
   "metadata": {},
   "outputs": [
    {
     "data": {
      "text/plain": [
       "array([19, 25])"
      ]
     },
     "execution_count": 54,
     "metadata": {},
     "output_type": "execute_result"
    }
   ],
   "source": [
    "# 인덱싱\n",
    "ages = np.array([18,19,25,30,28])\n",
    "ages[1:3]"
   ]
  },
  {
   "cell_type": "code",
   "execution_count": 64,
   "id": "8f04ac15",
   "metadata": {},
   "outputs": [
    {
     "data": {
      "text/plain": [
       "array([18, 19])"
      ]
     },
     "execution_count": 64,
     "metadata": {},
     "output_type": "execute_result"
    }
   ],
   "source": [
    "ages[:2]"
   ]
  },
  {
   "cell_type": "code",
   "execution_count": 56,
   "id": "c53ec87b",
   "metadata": {},
   "outputs": [
    {
     "data": {
      "text/plain": [
       "array([False, False,  True,  True,  True])"
      ]
     },
     "execution_count": 56,
     "metadata": {},
     "output_type": "execute_result"
    }
   ],
   "source": [
    "#논리적인 인덱싱(logical indexing)\n",
    "y = ages > 20\n",
    "y"
   ]
  },
  {
   "cell_type": "code",
   "execution_count": 58,
   "id": "4e476781",
   "metadata": {},
   "outputs": [
    {
     "data": {
      "text/plain": [
       "array([25, 30, 28])"
      ]
     },
     "execution_count": 58,
     "metadata": {},
     "output_type": "execute_result"
    }
   ],
   "source": [
    "ages[[False, False, True, True, True]]"
   ]
  },
  {
   "cell_type": "code",
   "execution_count": 66,
   "id": "2ef720a8",
   "metadata": {},
   "outputs": [
    {
     "ename": "TypeError",
     "evalue": "'>' not supported between instances of 'list' and 'int'",
     "output_type": "error",
     "traceback": [
      "\u001b[1;31m---------------------------------------------------------------------------\u001b[0m",
      "\u001b[1;31mTypeError\u001b[0m                                 Traceback (most recent call last)",
      "\u001b[1;32m~\\AppData\\Local\\Temp\\ipykernel_33592\\4141427936.py\u001b[0m in \u001b[0;36m<module>\u001b[1;34m\u001b[0m\n\u001b[0;32m      1\u001b[0m \u001b[0ml\u001b[0m \u001b[1;33m=\u001b[0m \u001b[1;33m[\u001b[0m\u001b[1;36m1\u001b[0m\u001b[1;33m,\u001b[0m\u001b[1;36m2\u001b[0m\u001b[1;33m,\u001b[0m\u001b[1;36m3\u001b[0m\u001b[1;33m,\u001b[0m\u001b[1;36m4\u001b[0m\u001b[1;33m]\u001b[0m\u001b[1;33m\u001b[0m\u001b[1;33m\u001b[0m\u001b[0m\n\u001b[1;32m----> 2\u001b[1;33m \u001b[0ma\u001b[0m \u001b[1;33m=\u001b[0m \u001b[0ml\u001b[0m \u001b[1;33m>\u001b[0m \u001b[1;36m2\u001b[0m\u001b[1;33m\u001b[0m\u001b[1;33m\u001b[0m\u001b[0m\n\u001b[0m\u001b[0;32m      3\u001b[0m \u001b[0ma\u001b[0m\u001b[1;33m\u001b[0m\u001b[1;33m\u001b[0m\u001b[0m\n",
      "\u001b[1;31mTypeError\u001b[0m: '>' not supported between instances of 'list' and 'int'"
     ]
    }
   ],
   "source": [
    "# 그냥 리스트는 에러\n",
    "l = [1,2,3,4]\n",
    "a = l > 2\n",
    "a"
   ]
  },
  {
   "cell_type": "code",
   "execution_count": 67,
   "id": "8e51e9b2",
   "metadata": {},
   "outputs": [
    {
     "data": {
      "text/plain": [
       "array([25, 30, 28])"
      ]
     },
     "execution_count": 67,
     "metadata": {},
     "output_type": "execute_result"
    }
   ],
   "source": [
    "ages[ages>20]"
   ]
  },
  {
   "cell_type": "code",
   "execution_count": 68,
   "id": "b061dd84",
   "metadata": {},
   "outputs": [
    {
     "data": {
      "text/plain": [
       "array([25, 30, 28])"
      ]
     },
     "execution_count": 68,
     "metadata": {},
     "output_type": "execute_result"
    }
   ],
   "source": [
    "ages[y]"
   ]
  },
  {
   "cell_type": "code",
   "execution_count": 69,
   "id": "e2e44823",
   "metadata": {},
   "outputs": [
    {
     "data": {
      "text/plain": [
       "array([25])"
      ]
     },
     "execution_count": 69,
     "metadata": {},
     "output_type": "execute_result"
    }
   ],
   "source": [
    "ages[[False,False,True,False,False]]"
   ]
  },
  {
   "cell_type": "code",
   "execution_count": 59,
   "id": "296fc09f",
   "metadata": {},
   "outputs": [
    {
     "data": {
      "text/plain": [
       "3"
      ]
     },
     "execution_count": 59,
     "metadata": {},
     "output_type": "execute_result"
    }
   ],
   "source": [
    "import numpy as np\n",
    "a = np.array([[1,2,3],[4,5,6],[7,8,9]])\n",
    "a[0,2] # a[0][2]\n"
   ]
  },
  {
   "cell_type": "code",
   "execution_count": 5,
   "id": "75841ecf",
   "metadata": {},
   "outputs": [
    {
     "data": {
      "text/plain": [
       "array([[12,  2,  3],\n",
       "       [ 4,  5,  6],\n",
       "       [ 7,  8,  9]])"
      ]
     },
     "execution_count": 5,
     "metadata": {},
     "output_type": "execute_result"
    }
   ],
   "source": [
    "a[0,0] = 12\n",
    "a"
   ]
  },
  {
   "cell_type": "code",
   "execution_count": 76,
   "id": "b9411237",
   "metadata": {},
   "outputs": [
    {
     "data": {
      "text/plain": [
       "array([[4, 5],\n",
       "       [7, 8]])"
      ]
     },
     "execution_count": 76,
     "metadata": {},
     "output_type": "execute_result"
    }
   ],
   "source": [
    "a[[1,2],:2]"
   ]
  },
  {
   "cell_type": "code",
   "execution_count": 8,
   "id": "5dc32335",
   "metadata": {},
   "outputs": [
    {
     "data": {
      "text/plain": [
       "array([[2, 3],\n",
       "       [4, 5],\n",
       "       [6, 7]])"
      ]
     },
     "execution_count": 8,
     "metadata": {},
     "output_type": "execute_result"
    }
   ],
   "source": [
    "# array와 array의 연산\n",
    "arr1 = np.array([[1,2],[3,4],[5,6]])\n",
    "arr2 = np.array([[1,1],[1,1],[1,1]])\n",
    "result = arr1 + arr2\n",
    "result"
   ]
  },
  {
   "cell_type": "code",
   "execution_count": 9,
   "id": "0386f92b",
   "metadata": {},
   "outputs": [
    {
     "data": {
      "text/plain": [
       "[[1, 2], [3, 4], [1, 1], [1, 1]]"
      ]
     },
     "execution_count": 9,
     "metadata": {},
     "output_type": "execute_result"
    }
   ],
   "source": [
    "# 리스트 + 리스트\n",
    "l1 = [[1,2],[3,4]]\n",
    "l2 = [[1,1],[1,1]]\n",
    "re = l1 + l2\n",
    "re"
   ]
  },
  {
   "cell_type": "code",
   "execution_count": 11,
   "id": "df25c8f2",
   "metadata": {},
   "outputs": [
    {
     "data": {
      "text/plain": [
       "array([1.6, 3.2, 4.8])"
      ]
     },
     "execution_count": 11,
     "metadata": {},
     "output_type": "execute_result"
    }
   ],
   "source": [
    "# 스칼라와 array의 곱셈 (broadcasting)방식\n",
    "miles = np.array([1,2,3])\n",
    "result = miles * 1.6\n",
    "result"
   ]
  },
  {
   "cell_type": "code",
   "execution_count": 79,
   "id": "33d0b062",
   "metadata": {},
   "outputs": [
    {
     "data": {
      "text/plain": [
       "array([[ 2,  2],\n",
       "       [ 6,  4],\n",
       "       [10,  6]])"
      ]
     },
     "execution_count": 79,
     "metadata": {},
     "output_type": "execute_result"
    }
   ],
   "source": [
    "# arr와 arr의 곱셈\n",
    "arr1 = np.array([[1,2],[3,4],[5,6]])\n",
    "arr2 = np.array([[2,1],[2,1],[2,1]])\n",
    "result = arr1 * arr2\n",
    "result"
   ]
  },
  {
   "cell_type": "code",
   "execution_count": 81,
   "id": "d3c7c141",
   "metadata": {},
   "outputs": [
    {
     "data": {
      "text/plain": [
       "array([[12, 12],\n",
       "       [30, 30],\n",
       "       [48, 48]])"
      ]
     },
     "execution_count": 81,
     "metadata": {},
     "output_type": "execute_result"
    }
   ],
   "source": [
    "#행렬곱셈(dot product)\n",
    "arr1 = np.array([[1,2,3],[4,5,6],[7,8,9]])\n",
    "arr2 = np.array([[2,2],[2,2],[2,2]])\n",
    "result = arr1 @ arr2\n",
    "result\n"
   ]
  },
  {
   "cell_type": "code",
   "execution_count": 82,
   "id": "65aa6c2c",
   "metadata": {},
   "outputs": [
    {
     "data": {
      "text/plain": [
       "array([[12, 12],\n",
       "       [30, 30],\n",
       "       [48, 48]])"
      ]
     },
     "execution_count": 82,
     "metadata": {},
     "output_type": "execute_result"
    }
   ],
   "source": [
    "a = arr1 @ arr2\n",
    "a"
   ]
  },
  {
   "cell_type": "code",
   "execution_count": 18,
   "id": "fd691936",
   "metadata": {},
   "outputs": [
    {
     "data": {
      "text/plain": [
       "180"
      ]
     },
     "execution_count": 18,
     "metadata": {},
     "output_type": "execute_result"
    }
   ],
   "source": [
    "a.sum()"
   ]
  },
  {
   "cell_type": "code",
   "execution_count": 19,
   "id": "6ac8484c",
   "metadata": {},
   "outputs": [
    {
     "data": {
      "text/plain": [
       "12"
      ]
     },
     "execution_count": 19,
     "metadata": {},
     "output_type": "execute_result"
    }
   ],
   "source": [
    "a.min()"
   ]
  },
  {
   "cell_type": "code",
   "execution_count": 20,
   "id": "b8d1c387",
   "metadata": {},
   "outputs": [
    {
     "data": {
      "text/plain": [
       "48"
      ]
     },
     "execution_count": 20,
     "metadata": {},
     "output_type": "execute_result"
    }
   ],
   "source": [
    "a.max()"
   ]
  },
  {
   "cell_type": "code",
   "execution_count": 21,
   "id": "9071712f",
   "metadata": {},
   "outputs": [
    {
     "data": {
      "text/plain": [
       "(3, 2)"
      ]
     },
     "execution_count": 21,
     "metadata": {},
     "output_type": "execute_result"
    }
   ],
   "source": [
    "a.shape"
   ]
  },
  {
   "cell_type": "code",
   "execution_count": 88,
   "id": "0115ebad",
   "metadata": {
    "scrolled": true
   },
   "outputs": [
    {
     "name": "stdout",
     "output_type": "stream",
     "text": [
      "84.0\n"
     ]
    }
   ],
   "source": [
    "# 특정열또는 행에대한 메소드\n",
    "scores =np.array([[99,93,60],[98,82,93],[93,65,81],[78,82,81]])\n",
    "scores.mean(axis=1)\n",
    "print((99+93+60)/3)"
   ]
  },
  {
   "cell_type": "code",
   "execution_count": 93,
   "id": "7c313f73",
   "metadata": {},
   "outputs": [
    {
     "data": {
      "text/plain": [
       "array([0.54340494, 0.27836939, 0.42451759, 0.84477613, 0.00471886])"
      ]
     },
     "execution_count": 93,
     "metadata": {},
     "output_type": "execute_result"
    }
   ],
   "source": [
    "# 난수생성\n",
    "np.random.seed(100)\n",
    "\n",
    "np.random.rand(5)"
   ]
  },
  {
   "cell_type": "code",
   "execution_count": 92,
   "id": "3ba3e3c0",
   "metadata": {},
   "outputs": [
    {
     "data": {
      "text/plain": [
       "array([0.54340494, 0.27836939, 0.42451759, 0.84477613, 0.00471886])"
      ]
     },
     "execution_count": 92,
     "metadata": {},
     "output_type": "execute_result"
    }
   ],
   "source": [
    "np.random.seed(100)\n",
    "np.random.rand(5)"
   ]
  },
  {
   "cell_type": "code",
   "execution_count": 25,
   "id": "50958891",
   "metadata": {},
   "outputs": [
    {
     "data": {
      "text/plain": [
       "array([ 0.67272081, -0.10441114, -0.53128038,  1.02973269, -0.43813562])"
      ]
     },
     "execution_count": 25,
     "metadata": {},
     "output_type": "execute_result"
    }
   ],
   "source": [
    "np.random.randn(5)"
   ]
  },
  {
   "cell_type": "code",
   "execution_count": 26,
   "id": "451ace76",
   "metadata": {},
   "outputs": [
    {
     "data": {
      "text/plain": [
       "array([[-1.11831825,  1.61898166,  1.54160517, -0.25187914],\n",
       "       [-0.84243574,  0.18451869,  0.9370822 ,  0.73100034],\n",
       "       [ 1.36155613, -0.32623806,  0.05567601,  0.22239961],\n",
       "       [-1.443217  , -0.75635231,  0.81645401,  0.75044476],\n",
       "       [-0.45594693,  1.18962227, -1.69061683, -1.35639905]])"
      ]
     },
     "execution_count": 26,
     "metadata": {},
     "output_type": "execute_result"
    }
   ],
   "source": [
    "np.random.randn(5,4)"
   ]
  },
  {
   "cell_type": "code",
   "execution_count": 27,
   "id": "128683f1",
   "metadata": {},
   "outputs": [
    {
     "data": {
      "text/plain": [
       "array([ 7.53513097,  8.91112168,  8.66365653, 10.01462913,  8.77412253])"
      ]
     },
     "execution_count": 27,
     "metadata": {},
     "output_type": "execute_result"
    }
   ],
   "source": [
    "m, sigma = 10, 2\n",
    "m + sigma*np.random.randn(5)"
   ]
  },
  {
   "cell_type": "code",
   "execution_count": 101,
   "id": "e6ce0122",
   "metadata": {},
   "outputs": [
    {
     "data": {
      "text/plain": [
       "array([-0.08708131,  0.02289321, -0.04080399])"
      ]
     },
     "execution_count": 101,
     "metadata": {},
     "output_type": "execute_result"
    }
   ],
   "source": [
    "mu, sigma = 0, 0.1\n",
    "a = np.array([1,2,3])\n",
    "new = np.random.normal(mu, sigma, a.shape)\n",
    "new"
   ]
  },
  {
   "cell_type": "code",
   "execution_count": 30,
   "id": "f0eff2f6",
   "metadata": {},
   "outputs": [
    {
     "name": "stdout",
     "output_type": "stream",
     "text": [
      "[[1 3 5]\n",
      " [2 4 6]]\n"
     ]
    }
   ],
   "source": [
    "# transpose\n",
    "arr = np.array([[1,2],[3,4],[5,6]])\n",
    "print(arr.T)"
   ]
  },
  {
   "cell_type": "code",
   "execution_count": 114,
   "id": "23346cbc",
   "metadata": {},
   "outputs": [
    {
     "data": {
      "text/plain": [
       "(1, 8)"
      ]
     },
     "execution_count": 114,
     "metadata": {},
     "output_type": "execute_result"
    }
   ],
   "source": [
    "x = np.array([[1,2,3,4],[5,6,7,8]])\n",
    "x.flatten()[np.newaxis,:].shape\n",
    "#x.reshape(1,-1).shape\n",
    "\n"
   ]
  },
  {
   "cell_type": "code",
   "execution_count": 34,
   "id": "fc206736",
   "metadata": {},
   "outputs": [
    {
     "data": {
      "image/png": "[encoded data removed]",
      "text/plain": [
       "<Figure size 640x480 with 1 Axes>"
      ]
     },
     "metadata": {},
     "output_type": "display_data"
    }
   ],
   "source": [
    "import matplotlib.pyplot as plt\n",
    "x = ['mon','tue']\n",
    "y = [1,2]\n",
    "plt.plot(x, y, label = 'seoul')\n",
    "plt.xlabel('day')\n",
    "plt.ylabel('temp')\n",
    "plt.legend(loc='upper right')\n",
    "plt.title('temperature')\n",
    "plt.show()"
   ]
  },
  {
   "cell_type": "code",
   "execution_count": 36,
   "id": "ed0b75f1",
   "metadata": {
    "scrolled": true
   },
   "outputs": [
    {
     "data": {
      "image/png": "[encoded data removed]",
      "text/plain": [
       "<Figure size 640x480 with 1 Axes>"
      ]
     },
     "metadata": {},
     "output_type": "display_data"
    }
   ],
   "source": [
    "%matplotlib inline\n",
    "plt.plot(x,y,'sm')\n",
    "plt.show()"
   ]
  },
  {
   "cell_type": "code",
   "execution_count": 37,
   "id": "4d844a54",
   "metadata": {},
   "outputs": [
    {
     "data": {
      "image/png": "[encoded data removed]",
      "text/plain": [
       "<Figure size 640x480 with 1 Axes>"
      ]
     },
     "metadata": {},
     "output_type": "display_data"
    }
   ],
   "source": [
    "# numpy를 이용한 matplot\n",
    "x = np.arange(0,10)\n",
    "y = x ** 2\n",
    "plt.plot(x,y)\n",
    "plt.show()"
   ]
  },
  {
   "cell_type": "code",
   "execution_count": 39,
   "id": "664c54cf",
   "metadata": {},
   "outputs": [
    {
     "data": {
      "image/png": "[encoded data removed]",
      "text/plain": [
       "<Figure size 640x480 with 1 Axes>"
      ]
     },
     "metadata": {},
     "output_type": "display_data"
    }
   ],
   "source": [
    "y1 = x\n",
    "y2 = x**2\n",
    "y3 = np.ones(10)\n",
    "plt.plot(x,y1,x,y2,x,y3)\n",
    "plt.show()"
   ]
  },
  {
   "cell_type": "code",
   "execution_count": 5,
   "id": "9c5db732",
   "metadata": {},
   "outputs": [
    {
     "name": "stdout",
     "output_type": "stream",
     "text": [
      "Requirement already satisfied: sklearn in c:\\users\\mark8\\anaconda3\\envs\\deep\\lib\\site-packages (0.0.post1)\n",
      "Note: you may need to restart the kernel to use updated packages.\n"
     ]
    }
   ],
   "source": [
    "pip install sklearn"
   ]
  },
  {
   "cell_type": "code",
   "execution_count": 1,
   "id": "1c4297f5",
   "metadata": {},
   "outputs": [],
   "source": [
    "#붗꽃 데이터셋 가져오기\n",
    "from sklearn import datasets"
   ]
  },
  {
   "cell_type": "code",
   "execution_count": 3,
   "id": "2365a18d",
   "metadata": {},
   "outputs": [
    {
     "name": "stdout",
     "output_type": "stream",
     "text": [
      "{'data': array([[5.1, 3.5, 1.4, 0.2],\n",
      "       [4.9, 3. , 1.4, 0.2],\n",
      "       [4.7, 3.2, 1.3, 0.2],\n",
      "       [4.6, 3.1, 1.5, 0.2],\n",
      "       [5. , 3.6, 1.4, 0.2],\n",
      "       [5.4, 3.9, 1.7, 0.4],\n",
      "       [4.6, 3.4, 1.4, 0.3],\n",
      "       [5. , 3.4, 1.5, 0.2],\n",
      "       [4.4, 2.9, 1.4, 0.2],\n",
      "       [4.9, 3.1, 1.5, 0.1],\n",
      "       [5.4, 3.7, 1.5, 0.2],\n",
      "       [4.8, 3.4, 1.6, 0.2],\n",
      "       [4.8, 3. , 1.4, 0.1],\n",
      "       [4.3, 3. , 1.1, 0.1],\n",
      "       [5.8, 4. , 1.2, 0.2],\n",
      "       [5.7, 4.4, 1.5, 0.4],\n",
      "       [5.4, 3.9, 1.3, 0.4],\n",
      "       [5.1, 3.5, 1.4, 0.3],\n",
      "       [5.7, 3.8, 1.7, 0.3],\n",
      "       [5.1, 3.8, 1.5, 0.3],\n",
      "       [5.4, 3.4, 1.7, 0.2],\n",
      "       [5.1, 3.7, 1.5, 0.4],\n",
      "       [4.6, 3.6, 1. , 0.2],\n",
      "       [5.1, 3.3, 1.7, 0.5],\n",
      "       [4.8, 3.4, 1.9, 0.2],\n",
      "       [5. , 3. , 1.6, 0.2],\n",
      "       [5. , 3.4, 1.6, 0.4],\n",
      "       [5.2, 3.5, 1.5, 0.2],\n",
      "       [5.2, 3.4, 1.4, 0.2],\n",
      "       [4.7, 3.2, 1.6, 0.2],\n",
      "       [4.8, 3.1, 1.6, 0.2],\n",
      "       [5.4, 3.4, 1.5, 0.4],\n",
      "       [5.2, 4.1, 1.5, 0.1],\n",
      "       [5.5, 4.2, 1.4, 0.2],\n",
      "       [4.9, 3.1, 1.5, 0.2],\n",
      "       [5. , 3.2, 1.2, 0.2],\n",
      "       [5.5, 3.5, 1.3, 0.2],\n",
      "       [4.9, 3.6, 1.4, 0.1],\n",
      "       [4.4, 3. , 1.3, 0.2],\n",
      "       [5.1, 3.4, 1.5, 0.2],\n",
      "       [5. , 3.5, 1.3, 0.3],\n",
      "       [4.5, 2.3, 1.3, 0.3],\n",
      "       [4.4, 3.2, 1.3, 0.2],\n",
      "       [5. , 3.5, 1.6, 0.6],\n",
      "       [5.1, 3.8, 1.9, 0.4],\n",
      "       [4.8, 3. , 1.4, 0.3],\n",
      "       [5.1, 3.8, 1.6, 0.2],\n",
      "       [4.6, 3.2, 1.4, 0.2],\n",
      "       [5.3, 3.7, 1.5, 0.2],\n",
      "       [5. , 3.3, 1.4, 0.2],\n",
      "       [7. , 3.2, 4.7, 1.4],\n",
      "       [6.4, 3.2, 4.5, 1.5],\n",
      "       [6.9, 3.1, 4.9, 1.5],\n",
      "       [5.5, 2.3, 4. , 1.3],\n",
      "       [6.5, 2.8, 4.6, 1.5],\n",
      "       [5.7, 2.8, 4.5, 1.3],\n",
      "       [6.3, 3.3, 4.7, 1.6],\n",
      "       [4.9, 2.4, 3.3, 1. ],\n",
      "       [6.6, 2.9, 4.6, 1.3],\n",
      "       [5.2, 2.7, 3.9, 1.4],\n",
      "       [5. , 2. , 3.5, 1. ],\n",
      "       [5.9, 3. , 4.2, 1.5],\n",
      "       [6. , 2.2, 4. , 1. ],\n",
      "       [6.1, 2.9, 4.7, 1.4],\n",
      "       [5.6, 2.9, 3.6, 1.3],\n",
      "       [6.7, 3.1, 4.4, 1.4],\n",
      "       [5.6, 3. , 4.5, 1.5],\n",
      "       [5.8, 2.7, 4.1, 1. ],\n",
      "       [6.2, 2.2, 4.5, 1.5],\n",
      "       [5.6, 2.5, 3.9, 1.1],\n",
      "       [5.9, 3.2, 4.8, 1.8],\n",
      "       [6.1, 2.8, 4. , 1.3],\n",
      "       [6.3, 2.5, 4.9, 1.5],\n",
      "       [6.1, 2.8, 4.7, 1.2],\n",
      "       [6.4, 2.9, 4.3, 1.3],\n",
      "       [6.6, 3. , 4.4, 1.4],\n",
      "       [6.8, 2.8, 4.8, 1.4],\n",
      "       [6.7, 3. , 5. , 1.7],\n",
      "       [6. , 2.9, 4.5, 1.5],\n",
      "       [5.7, 2.6, 3.5, 1. ],\n",
      "       [5.5, 2.4, 3.8, 1.1],\n",
      "       [5.5, 2.4, 3.7, 1. ],\n",
      "       [5.8, 2.7, 3.9, 1.2],\n",
      "       [6. , 2.7, 5.1, 1.6],\n",
      "       [5.4, 3. , 4.5, 1.5],\n",
      "       [6. , 3.4, 4.5, 1.6],\n",
      "       [6.7, 3.1, 4.7, 1.5],\n",
      "       [6.3, 2.3, 4.4, 1.3],\n",
      "       [5.6, 3. , 4.1, 1.3],\n",
      "       [5.5, 2.5, 4. , 1.3],\n",
      "       [5.5, 2.6, 4.4, 1.2],\n",
      "       [6.1, 3. , 4.6, 1.4],\n",
      "       [5.8, 2.6, 4. , 1.2],\n",
      "       [5. , 2.3, 3.3, 1. ],\n",
      "       [5.6, 2.7, 4.2, 1.3],\n",
      "       [5.7, 3. , 4.2, 1.2],\n",
      "       [5.7, 2.9, 4.2, 1.3],\n",
      "       [6.2, 2.9, 4.3, 1.3],\n",
      "       [5.1, 2.5, 3. , 1.1],\n",
      "       [5.7, 2.8, 4.1, 1.3],\n",
      "       [6.3, 3.3, 6. , 2.5],\n",
      "       [5.8, 2.7, 5.1, 1.9],\n",
      "       [7.1, 3. , 5.9, 2.1],\n",
      "       [6.3, 2.9, 5.6, 1.8],\n",
      "       [6.5, 3. , 5.8, 2.2],\n",
      "       [7.6, 3. , 6.6, 2.1],\n",
      "       [4.9, 2.5, 4.5, 1.7],\n",
      "       [7.3, 2.9, 6.3, 1.8],\n",
      "       [6.7, 2.5, 5.8, 1.8],\n",
      "       [7.2, 3.6, 6.1, 2.5],\n",
      "       [6.5, 3.2, 5.1, 2. ],\n",
      "       [6.4, 2.7, 5.3, 1.9],\n",
      "       [6.8, 3. , 5.5, 2.1],\n",
      "       [5.7, 2.5, 5. , 2. ],\n",
      "       [5.8, 2.8, 5.1, 2.4],\n",
      "       [6.4, 3.2, 5.3, 2.3],\n",
      "       [6.5, 3. , 5.5, 1.8],\n",
      "       [7.7, 3.8, 6.7, 2.2],\n",
      "       [7.7, 2.6, 6.9, 2.3],\n",
      "       [6. , 2.2, 5. , 1.5],\n",
      "       [6.9, 3.2, 5.7, 2.3],\n",
      "       [5.6, 2.8, 4.9, 2. ],\n",
      "       [7.7, 2.8, 6.7, 2. ],\n",
      "       [6.3, 2.7, 4.9, 1.8],\n",
      "       [6.7, 3.3, 5.7, 2.1],\n",
      "       [7.2, 3.2, 6. , 1.8],\n",
      "       [6.2, 2.8, 4.8, 1.8],\n",
      "       [6.1, 3. , 4.9, 1.8],\n",
      "       [6.4, 2.8, 5.6, 2.1],\n",
      "       [7.2, 3. , 5.8, 1.6],\n",
      "       [7.4, 2.8, 6.1, 1.9],\n",
      "       [7.9, 3.8, 6.4, 2. ],\n",
      "       [6.4, 2.8, 5.6, 2.2],\n",
      "       [6.3, 2.8, 5.1, 1.5],\n",
      "       [6.1, 2.6, 5.6, 1.4],\n",
      "       [7.7, 3. , 6.1, 2.3],\n",
      "       [6.3, 3.4, 5.6, 2.4],\n",
      "       [6.4, 3.1, 5.5, 1.8],\n",
      "       [6. , 3. , 4.8, 1.8],\n",
      "       [6.9, 3.1, 5.4, 2.1],\n",
      "       [6.7, 3.1, 5.6, 2.4],\n",
      "       [6.9, 3.1, 5.1, 2.3],\n",
      "       [5.8, 2.7, 5.1, 1.9],\n",
      "       [6.8, 3.2, 5.9, 2.3],\n",
      "       [6.7, 3.3, 5.7, 2.5],\n",
      "       [6.7, 3. , 5.2, 2.3],\n",
      "       [6.3, 2.5, 5. , 1.9],\n",
      "       [6.5, 3. , 5.2, 2. ],\n",
      "       [6.2, 3.4, 5.4, 2.3],\n",
      "       [5.9, 3. , 5.1, 1.8]]), 'target': array([0, 0, 0, 0, 0, 0, 0, 0, 0, 0, 0, 0, 0, 0, 0, 0, 0, 0, 0, 0, 0, 0,\n",
      "       0, 0, 0, 0, 0, 0, 0, 0, 0, 0, 0, 0, 0, 0, 0, 0, 0, 0, 0, 0, 0, 0,\n",
      "       0, 0, 0, 0, 0, 0, 1, 1, 1, 1, 1, 1, 1, 1, 1, 1, 1, 1, 1, 1, 1, 1,\n",
      "       1, 1, 1, 1, 1, 1, 1, 1, 1, 1, 1, 1, 1, 1, 1, 1, 1, 1, 1, 1, 1, 1,\n",
      "       1, 1, 1, 1, 1, 1, 1, 1, 1, 1, 1, 1, 2, 2, 2, 2, 2, 2, 2, 2, 2, 2,\n",
      "       2, 2, 2, 2, 2, 2, 2, 2, 2, 2, 2, 2, 2, 2, 2, 2, 2, 2, 2, 2, 2, 2,\n",
      "       2, 2, 2, 2, 2, 2, 2, 2, 2, 2, 2, 2, 2, 2, 2, 2, 2, 2]), 'frame': None, 'target_names': array(['setosa', 'versicolor', 'virginica'], dtype='<U10'), 'DESCR': '.. _iris_dataset:\\n\\nIris plants dataset\\n--------------------\\n\\n**Data Set Characteristics:**\\n\\n    :Number of Instances: 150 (50 in each of three classes)\\n    :Number of Attributes: 4 numeric, predictive attributes and the class\\n    :Attribute Information:\\n        - sepal length in cm\\n        - sepal width in cm\\n        - petal length in cm\\n        - petal width in cm\\n        - class:\\n                - Iris-Setosa\\n                - Iris-Versicolour\\n                - Iris-Virginica\\n                \\n    :Summary Statistics:\\n\\n    ============== ==== ==== ======= ===== ====================\\n                    Min  Max   Mean    SD   Class Correlation\\n    ============== ==== ==== ======= ===== ====================\\n    sepal length:   4.3  7.9   5.84   0.83    0.7826\\n    sepal width:    2.0  4.4   3.05   0.43   -0.4194\\n    petal length:   1.0  6.9   3.76   1.76    0.9490  (high!)\\n    petal width:    0.1  2.5   1.20   0.76    0.9565  (high!)\\n    ============== ==== ==== ======= ===== ====================\\n\\n    :Missing Attribute Values: None\\n    :Class Distribution: 33.3% for each of 3 classes.\\n    :Creator: R.A. Fisher\\n    :Donor: Michael Marshall (MARSHALL%PLU@io.arc.nasa.gov)\\n    :Date: July, 1988\\n\\nThe famous Iris database, first used by Sir R.A. Fisher. The dataset is taken\\nfrom Fisher\\'s paper. Note that it\\'s the same as in R, but not as in the UCI\\nMachine Learning Repository, which has two wrong data points.\\n\\nThis is perhaps the best known database to be found in the\\npattern recognition literature.  Fisher\\'s paper is a classic in the field and\\nis referenced frequently to this day.  (See Duda & Hart, for example.)  The\\ndata set contains 3 classes of 50 instances each, where each class refers to a\\ntype of iris plant.  One class is linearly separable from the other 2; the\\nlatter are NOT linearly separable from each other.\\n\\n.. topic:: References\\n\\n   - Fisher, R.A. \"The use of multiple measurements in taxonomic problems\"\\n     Annual Eugenics, 7, Part II, 179-188 (1936); also in \"Contributions to\\n     Mathematical Statistics\" (John Wiley, NY, 1950).\\n   - Duda, R.O., & Hart, P.E. (1973) Pattern Classification and Scene Analysis.\\n     (Q327.D83) John Wiley & Sons.  ISBN 0-471-22361-1.  See page 218.\\n   - Dasarathy, B.V. (1980) \"Nosing Around the Neighborhood: A New System\\n     Structure and Classification Rule for Recognition in Partially Exposed\\n     Environments\".  IEEE Transactions on Pattern Analysis and Machine\\n     Intelligence, Vol. PAMI-2, No. 1, 67-71.\\n   - Gates, G.W. (1972) \"The Reduced Nearest Neighbor Rule\".  IEEE Transactions\\n     on Information Theory, May 1972, 431-433.\\n   - See also: 1988 MLC Proceedings, 54-64.  Cheeseman et al\"s AUTOCLASS II\\n     conceptual clustering system finds 3 classes in the data.\\n   - Many, many more ...', 'feature_names': ['sepal length (cm)', 'sepal width (cm)', 'petal length (cm)', 'petal width (cm)'], 'filename': 'iris.csv', 'data_module': 'sklearn.datasets.data'}\n"
     ]
    }
   ],
   "source": [
    "iris = datasets.load_iris()\n",
    "print(iris)"
   ]
  },
  {
   "cell_type": "code",
   "execution_count": 4,
   "id": "2eab9d6c",
   "metadata": {},
   "outputs": [],
   "source": [
    "import numpy as np"
   ]
  },
  {
   "cell_type": "code",
   "execution_count": 1,
   "id": "33fa659a",
   "metadata": {
    "scrolled": true
   },
   "outputs": [
    {
     "ename": "SyntaxError",
     "evalue": "invalid syntax (682729913.py, line 9)",
     "output_type": "error",
     "traceback": [
      "\u001b[1;36m  File \u001b[1;32m\"C:\\Users\\mark8\\AppData\\Local\\Temp\\ipykernel_23844\\682729913.py\"\u001b[1;36m, line \u001b[1;32m9\u001b[0m\n\u001b[1;33m    retrun 1\u001b[0m\n\u001b[1;37m           ^\u001b[0m\n\u001b[1;31mSyntaxError\u001b[0m\u001b[1;31m:\u001b[0m invalid syntax\n"
     ]
    }
   ],
   "source": [
    "epsilon = 0\n",
    "\n",
    "def perceptron(x1, x2):\n",
    "    X = np.array([x1,x2])\n",
    "    W = np.array([1.0,1.0])\n",
    "    B = -1.5\n",
    "    sum = np.dot(W,X) + B\n",
    "    if sum>epsilon:\n",
    "        retrun 1\n",
    "    else:\n",
    "        return 0\n",
    "    "
   ]
  },
  {
   "cell_type": "code",
   "execution_count": null,
   "id": "37050eaa",
   "metadata": {},
   "outputs": [],
   "source": []
  },
  {
   "cell_type": "code",
   "execution_count": 7,
   "id": "d496e854",
   "metadata": {},
   "outputs": [
    {
     "name": "stdout",
     "output_type": "stream",
     "text": [
      "[0. 0. 0.]\n",
      "[0.08       0.17666667 0.27333333]\n",
      "[0.15646667 0.34497778 0.53348889]\n",
      "[0.22956711 0.50533185 0.78109659]\n",
      "[0.29946047 0.65810838 1.01675629]\n",
      "[0.36629831 0.80366874 1.24103917]\n",
      "[0.43022493 0.94235705 1.45448917]\n",
      "[0.49137779 1.07450101 1.65762423]\n",
      "[0.54988777 1.20041266 1.85093755]\n",
      "[0.60587952 1.32038915 2.03489879]\n",
      "[0.65947173 1.43471346 2.20995518]\n",
      "[0.71077747 1.54365503 2.3765326 ]\n",
      "[0.75990436 1.64747046 2.53503656]\n",
      "[0.80695496 1.7464041  2.68585324]\n",
      "[0.85202687 1.84068861 2.82935035]\n",
      "[0.8952131  1.93054558 2.96587805]\n",
      "[0.93660219 2.01618599 3.09576978]\n",
      "[0.97627847 2.09781076 3.21934306]\n",
      "[1.01432225 2.17561124 3.33690022]\n",
      "[1.05081003 2.2497696  3.44872917]\n",
      "[1.08581464 2.32045935 3.55510407]\n",
      "[1.11940545 2.38784572 3.65628598]\n",
      "[1.15164854 2.45208602 3.7525235 ]\n",
      "[1.18260682 2.51333008 3.84405334]\n",
      "[1.21234021 2.57172056 3.93110091]\n",
      "[1.2409058  2.62739334 4.01388087]\n",
      "[1.26835794 2.68047777 4.0925976 ]\n",
      "[1.29474838 2.73109706 4.16744574]\n",
      "[1.32012644 2.77936853 4.23861062]\n",
      "[1.34453907 2.82540389 4.30626872]\n",
      "[1.36803099 2.86930954 4.37058809]\n",
      "[1.3906448  2.91118678 4.43172876]\n",
      "[1.41242106 2.95113208 4.4898431 ]\n",
      "[1.43339842 2.98923732 4.54507621]\n",
      "[1.45361368 3.02558997 4.59756627]\n",
      "[1.47310188 3.06027336 4.64744484]\n",
      "[1.49189641 3.0933668  4.6948372 ]\n",
      "[1.51002907 3.12494586 4.73986264]\n",
      "[1.52753016 3.15508247 4.78263478]\n",
      "[1.54442851 3.18384514 4.82326177]\n",
      "[1.56075161 3.21129911 4.86184662]\n",
      "[1.57652562 3.23750651 4.8984874 ]\n",
      "[1.59177549 3.26252651 4.93327752]\n",
      "[1.60652496 3.28641543 4.9663059 ]\n",
      "[1.62079665 3.30922694 4.99765723]\n",
      "[1.63461211 3.33101213 5.02741214]\n",
      "[1.64799187 3.35181964 5.05564741]\n",
      "[1.66095548 3.37169582 5.08243616]\n",
      "[1.67352156 3.39068478 5.107848  ]\n",
      "[1.68570787 3.40882855 5.13194923]\n",
      "[1.6975313  3.42616713 5.15480297]\n",
      "[1.70900795 3.44273863 5.17646932]\n",
      "[1.72015318 3.45857935 5.19700551]\n",
      "[1.73098159 3.47372382 5.21646605]\n",
      "[1.74150712 3.48820497 5.23490283]\n",
      "[1.75174302 3.50205414 5.25236526]\n",
      "[1.76170194 3.51530116 5.26890038]\n",
      "[1.77139591 3.52797445 5.284553  ]\n",
      "[1.78083642 3.5401011  5.29936577]\n",
      "[1.7900344  3.55170686 5.31337931]\n",
      "[1.79900026 3.56281628 5.3266323 ]\n",
      "[1.80774394 3.57345275 5.33916156]\n",
      "[1.81627488 3.58363852 5.35100216]\n",
      "[1.82460211 3.5933948  5.36218749]\n",
      "[1.83273422 3.60274177 5.37274933]\n",
      "[1.84067938 3.61169867 5.38271795]\n",
      "[1.84844541 3.6202838  5.39212219]\n",
      "[1.85603973 3.6285146  5.40098947]\n",
      "[1.86346944 3.63640768 5.40934593]\n",
      "[1.87074129 3.64397887 5.41721645]\n",
      "[1.87786171 3.65124321 5.42462471]\n",
      "[1.88483685 3.65821506 5.43159328]\n",
      "[1.89167254 3.66490808 5.43814362]\n",
      "[1.89837438 3.67133529 5.44429619]\n",
      "[1.90494768 3.67750906 5.45007045]\n",
      "[1.9113975  3.68344122 5.45548494]\n",
      "[1.91772867 3.68914298 5.4605573 ]\n",
      "[1.92394581 3.69462507 5.46530434]\n",
      "[1.93005331 3.69989768 5.46974205]\n",
      "[1.93605536 3.70497052 5.47388567]\n",
      "[1.94195595 3.70985283 5.47774971]\n",
      "[1.94775889 3.71455342 5.48134795]\n",
      "[1.95346782 3.71908069 5.48469356]\n",
      "[1.95908621 3.72344262 5.48779904]\n",
      "[1.96461735 3.72764683 5.49067631]\n",
      "[1.97006442 3.73170057 5.49333672]\n",
      "[1.97543041 3.73561073 5.49579105]\n",
      "[1.98071819 3.7393839  5.4980496 ]\n",
      "[1.98593051 3.74302633 5.50012215]\n",
      "[1.99106999 3.746544   5.50201801]\n",
      "[1.99613911 3.74994259 5.50374607]\n",
      "[2.00114026 3.7532275  5.50531475]\n",
      "[2.00607571 3.75640391 5.50673211]\n",
      "[2.01094763 3.75947671 5.50800579]\n",
      "[2.01575809 3.76245059 5.50914308]\n",
      "[2.02050908 3.76533    5.51015091]\n",
      "[2.02520248 3.76811918 5.51103588]\n",
      "[2.0298401  3.77082219 5.51180429]\n",
      "[2.03442365 3.77344288 5.5124621 ]\n",
      "[2.0389548  3.77598491 5.51301502]\n",
      "[2.0434351  3.77845177 5.51346845]\n",
      "[2.04786606 3.78084681 5.51382757]\n",
      "[2.05224913 3.7831732  5.51409727]\n",
      "[2.05658566 3.78543395 5.51428224]\n",
      "[2.06087698 3.78763195 5.51438691]\n",
      "[2.06512434 3.78976994 5.51441553]\n",
      "[2.06932895 3.79185053 5.51437212]\n",
      "[2.07349194 3.79387622 5.51426051]\n",
      "[2.07761441 3.79584938 5.51408436]\n",
      "[2.08169742 3.79777228 5.51384713]\n",
      "[2.08574198 3.79964705 5.51355213]\n",
      "[2.08974904 3.80147577 5.5132025 ]\n",
      "[2.09371952 3.80326038 5.51280124]\n",
      "[2.09765431 3.80500276 5.5123512 ]\n",
      "[2.10155426 3.80670467 5.51185507]\n",
      "[2.10542017 3.80836781 5.51131545]\n",
      "[2.10925281 3.80999379 5.51073478]\n",
      "[2.11305293 3.81158416 5.51011539]\n",
      "[2.11682125 3.81314038 5.50945951]\n",
      "[2.12055844 3.81466384 5.50876924]\n",
      "[2.12426517 3.81615588 5.5080466 ]\n",
      "[2.12794205 3.81761777 5.5072935 ]\n",
      "[2.13158969 3.81905072 5.50651174]\n",
      "[2.13520868 3.82045588 5.50570307]\n",
      "[2.13879956 3.82183434 5.50486913]\n",
      "[2.14236287 3.82318717 5.50401147]\n",
      "[2.14589913 3.82451536 5.50313159]\n",
      "[2.14940882 3.82581986 5.50223091]\n",
      "[2.15289243 3.82710159 5.50131075]\n",
      "[2.15635039 3.8283614  5.50037241]\n",
      "[2.15978317 3.82960013 5.4994171 ]\n",
      "[2.16319116 3.83081857 5.49844598]\n",
      "[2.16657479 3.83201746 5.49746013]\n",
      "[2.16993444 3.83319753 5.49646061]\n",
      "[2.17327049 3.83435945 5.49544841]\n",
      "[2.1765833  3.83550389 5.49442447]\n",
      "[2.17987323 3.83663146 5.49338969]\n",
      "[2.1831406  3.83774276 5.49234492]\n",
      "[2.18638574 3.83883835 5.49129096]\n",
      "[2.18960897 3.83991878 5.49022859]\n",
      "[2.1928106  3.84098457 5.48915853]\n",
      "[2.19599091 3.8420362  5.48808149]\n",
      "[2.19915018 3.84307415 5.48699811]\n",
      "[2.2022887  3.84409886 5.48590902]\n",
      "[2.20540672 3.84511077 5.48481482]\n",
      "[2.20850451 3.84611029 5.48371606]\n",
      "[2.2115823  3.8470978  5.48261329]\n",
      "[2.21464035 3.84807368 5.48150701]\n",
      "[2.21767887 3.84903829 5.4803977 ]\n",
      "[2.22069811 3.84999196 5.47928582]\n",
      "[2.22369827 3.85093503 5.4781718 ]\n",
      "[2.22667957 3.85186781 5.47705605]\n",
      "[2.22964221 3.85279059 5.47593896]\n",
      "[2.2325864  3.85370365 5.4748209 ]\n",
      "[2.23551233 3.85460728 5.47370222]\n",
      "[2.23842018 3.85550172 5.47258326]\n",
      "[2.24131015 3.85638723 5.47146431]\n",
      "[2.2441824  3.85726405 5.47034569]\n",
      "[2.24703712 3.85813239 5.46922767]\n",
      "[2.24987447 3.8589925  5.46811052]\n",
      "[2.25269462 3.85984456 5.46699449]\n",
      "[2.25549773 3.86068877 5.46587982]\n",
      "[2.25828396 3.86152534 5.46476673]\n",
      "[2.26105345 3.86235444 5.46365544]\n",
      "[2.26380636 3.86317625 5.46254614]\n",
      "[2.26654284 3.86399094 5.46143904]\n",
      "[2.26926302 3.86479866 5.4603343 ]\n",
      "[2.27196704 3.86559957 5.4592321 ]\n",
      "[2.27465505 3.86639382 5.45813259]\n",
      "[2.27732718 3.86718155 5.45703593]\n",
      "[2.27998354 3.8679629  5.45594225]\n",
      "[2.28262429 3.86873799 5.45485169]\n",
      "[2.28524953 3.86950695 5.45376438]\n",
      "[2.28785939 3.87026991 5.45268043]\n",
      "[2.29045399 3.87102697 5.45159996]\n",
      "[2.29303345 3.87177825 5.45052306]\n",
      "[2.29559788 3.87252386 5.44944984]\n",
      "[2.29814741 3.87326389 5.44838038]\n",
      "[2.30068213 3.87399845 5.44731477]\n",
      "[2.30320216 3.87472763 5.4462531 ]\n",
      "[2.30570761 3.87545152 5.44519543]\n",
      "[2.30819858 3.8761702  5.44414183]\n",
      "[2.31067517 3.87688377 5.44309238]\n",
      "[2.3131375  3.87759231 5.44204712]\n",
      "[2.31558565 3.87829589 5.44100612]\n",
      "[2.31801973 3.87899458 5.43996943]\n",
      "[2.32043984 3.87968847 5.43893709]\n",
      "[2.32284607 3.88037761 5.43790915]\n",
      "[2.32523852 3.88106209 5.43688565]\n",
      "[2.32761728 3.88174196 5.43586663]\n",
      "[2.32998244 3.88241728 5.43485212]\n",
      "[2.33233409 3.88308813 5.43384216]\n",
      "[2.33467233 3.88375455 5.43283676]\n",
      "[2.33699724 3.8844166  5.43183596]\n",
      "[2.33930891 3.88507435 5.43083979]\n",
      "[2.34160742 3.88572783 5.42984825]\n",
      "[2.34389287 3.88637712 5.42886137]\n",
      "[2.34616532 3.88702224 5.42787916]\n",
      "[2.34842488 3.88766326 5.42690164]\n",
      "[2.35067161 3.88830022 5.42592882]\n",
      "[2.35290561 3.88893316 5.42496071]\n",
      "[2.35512695 3.88956213 5.42399732]\n",
      "[2.3573357  3.89018718 5.42303865]\n",
      "[2.35953196 3.89080834 5.42208472]\n",
      "[2.36171579 3.89142565 5.42113551]\n",
      "[2.36388728 3.89203916 5.42019104]\n",
      "[2.3660465  3.8926489  5.41925131]\n",
      "[2.36819352 3.89325492 5.41831631]\n",
      "[2.37032842 3.89385723 5.41738605]\n",
      "[2.37245128 3.89445589 5.41646051]\n",
      "[2.37456216 3.89505093 5.4155397 ]\n",
      "[2.37666114 3.89564238 5.41462361]\n",
      "[2.37874829 3.89623026 5.41371224]\n",
      "[2.38082369 3.89681463 5.41280557]\n",
      "[2.38288739 3.8973955  5.4119036 ]\n",
      "[2.38493948 3.8979729  5.41100632]\n",
      "[2.38698003 3.89854687 5.41011372]\n",
      "[2.38900909 3.89911744 5.40922579]\n",
      "[2.39102674 3.89968463 5.40834252]\n",
      "[2.39303305 3.90024847 5.4074639 ]\n",
      "[2.39502808 3.900809   5.40658992]\n",
      "[2.3970119  3.90136622 5.40572055]\n",
      "[2.39898457 3.90192018 5.4048558 ]\n",
      "[2.40094617 3.9024709  5.40399563]\n",
      "[2.40289675 3.9030184  5.40314005]\n",
      "[2.40483638 3.90356271 5.40228904]\n",
      "[2.40676513 3.90410385 5.40144257]\n",
      "[2.40868305 3.90464185 5.40060064]\n",
      "[2.41059021 3.90517672 5.39976323]\n",
      "[2.41248668 3.9057085  5.39893032]\n",
      "[2.41437251 3.9062372  5.3981019 ]\n",
      "[2.41624777 3.90676285 5.39727794]\n",
      "[2.41811251 3.90728547 5.39645843]\n",
      "[2.4199668  3.90780508 5.39564336]\n",
      "[2.4218107 3.9083217 5.3948327]\n",
      "[2.42364426 3.90883535 5.39402644]\n",
      "[2.42546756 3.90934606 5.39322455]\n",
      "[2.42728064 3.90985383 5.39242703]\n",
      "[2.42908356 3.9103587  5.39163385]\n",
      "[2.43087639 3.91086069 5.39084499]\n",
      "[2.43265917 3.9113598  5.39006043]\n",
      "[2.43443198 3.91185607 5.38928016]\n",
      "[2.43619485 3.9123495  5.38850416]\n",
      "[2.43794786 3.91284013 5.38773239]\n",
      "[2.43969106 3.91332796 5.38696486]\n",
      "[2.4414245  3.91381302 5.38620153]\n",
      "[2.44314824 3.91429532 5.38544239]\n",
      "[2.44486234 3.91477488 5.38468742]\n",
      "[2.44656684 3.91525171 5.38393659]\n",
      "[2.4482618  3.91572585 5.38318989]\n",
      "[2.44994729 3.91619729 5.3824473 ]\n",
      "[2.45162334 3.91666607 5.38170879]\n",
      "[2.45329002 3.91713219 5.38097436]\n",
      "[2.45494738 3.91759567 5.38024397]\n",
      "[2.45659546 3.91805653 5.37951761]\n",
      "[2.45823433 3.91851479 5.37879525]\n",
      "[2.45986404 3.91897046 5.37807689]\n",
      "[2.46148463 3.91942356 5.37736249]\n",
      "[2.46309616 3.9198741  5.37665203]\n",
      "[2.46469867 3.92032209 5.37594551]\n",
      "[2.46629223 3.92076756 5.37524289]\n",
      "[2.46787688 3.92121052 5.37454416]\n",
      "[2.46945267 3.92165099 5.3738493 ]\n",
      "[2.47101965 3.92208897 5.37315829]\n",
      "[2.47257787 3.92252449 5.3724711 ]\n",
      "[2.47412738 3.92295755 5.37178772]\n",
      "[2.47566823 3.92338818 5.37110813]\n",
      "[2.47720047 3.92381639 5.37043231]\n",
      "[2.47872414 3.92424219 5.36976023]\n",
      "[2.4802393  3.92466559 5.36909189]\n",
      "[2.48174598 3.92508662 5.36842725]\n",
      "[2.48324425 3.92550528 5.3677663 ]\n",
      "[2.48473415 3.92592159 5.36710903]\n",
      "[2.48621571 3.92633556 5.3664554 ]\n",
      "[2.487689  3.9267472 5.3658054]\n",
      "[2.48915406 3.92715654 5.36515902]\n",
      "[2.49061093 3.92756358 5.36451623]\n",
      "[2.49205966 3.92796833 5.36387701]\n",
      "[2.49350029 3.92837082 5.36324135]\n",
      "[2.49493287 3.92877104 5.36260922]\n",
      "[2.49635745 3.92916903 5.3619806 ]\n",
      "[2.49777407 3.92956478 5.36135548]\n",
      "[2.49918278 3.92995831 5.36073385]\n",
      "[2.50058361 3.93034964 5.36011567]\n",
      "[2.50197662 3.93073877 5.35950093]\n",
      "[2.50336184 3.93112573 5.35888961]\n",
      "[2.50473933 3.93151051 5.3582817 ]\n",
      "[2.50610912 3.93189314 5.35767717]\n",
      "[2.50747125 3.93227363 5.357076  ]\n",
      "[2.50882578 3.93265199 5.35647819]\n",
      "[2.51017274 3.93302822 5.35588371]\n",
      "[2.51151218 3.93340235 5.35529253]\n",
      "[2.51284413 3.93377439 5.35470465]\n",
      "[2.51416864 3.93414435 5.35412005]\n",
      "[2.51548576 3.93451223 5.3535387 ]\n",
      "[2.51679551 3.93487805 5.3529606 ]\n",
      "[2.51809795 3.93524183 5.35238571]\n",
      "[2.51939311 3.93560357 5.35181403]\n",
      "[2.52068104 3.93596329 5.35124554]\n",
      "[2.52196178 3.936321   5.35068022]\n",
      "[2.52323536 3.9366767  5.35011804]\n",
      "[2.52450182 3.93703041 5.34955901]\n",
      "[2.52576121 3.93738215 5.34900308]\n",
      "[2.52701357 3.93773192 5.34845026]\n",
      "[2.52825893 3.93807973 5.34790053]\n",
      "[2.52949734 3.9384256  5.34735385]\n",
      "[2.53072883 3.93876953 5.34681023]\n",
      "[2.53195344 3.93911154 5.34626964]\n",
      "[2.5331712  3.93945164 5.34573207]\n",
      "[2.53438217 3.93978983 5.34519749]\n",
      "[2.53558638 3.94012614 5.3446659 ]\n",
      "[2.53678385 3.94046056 5.34413727]\n",
      "[2.53797464 3.94079311 5.34361159]\n",
      "[2.53915878 3.94112381 5.34308884]\n",
      "[2.5403363  3.94145266 5.34256901]\n",
      "[2.54150725 3.94177967 5.34205208]\n",
      "[2.54267166 3.94210485 5.34153804]\n",
      "[2.54382956 3.94242821 5.34102686]\n",
      "[2.544981   3.94274977 5.34051854]\n",
      "[2.546126   3.94306953 5.34001305]\n",
      "[2.54726461 3.9433875  5.33951039]\n",
      "[2.54839686 3.94370369 5.33901053]\n",
      "[2.54952279 3.94401812 5.33851346]\n",
      "[2.55064242 3.94433079 5.33801916]\n",
      "[2.55175581 3.94464172 5.33752762]\n",
      "[2.55286297 3.9449509  5.33703883]\n",
      "[2.55396395 3.94525836 5.33655276]\n",
      "[2.55505879 3.9455641  5.33606941]\n",
      "[2.55614751 3.94586813 5.33558876]\n",
      "[2.55723014 3.94617046 5.33511079]\n",
      "[2.55830673 3.94647111 5.33463548]\n",
      "[2.55937731 3.94677007 5.33416283]\n",
      "[2.56044191 3.94706737 5.33369282]\n",
      "[2.56150056 3.947363   5.33322543]\n",
      "[2.5625533  3.94765698 5.33276066]\n",
      "[2.56360016 3.94794932 5.33229847]\n",
      "[2.56464118 3.94824002 5.33183887]\n",
      "[2.56567638 3.9485291  5.33138183]\n",
      "[2.56670579 3.94881657 5.33092735]\n",
      "[2.56772946 3.94910243 5.3304754 ]\n",
      "[2.56874741 3.94938669 5.33002597]\n",
      "[2.56975968 3.94966937 5.32957906]\n",
      "[2.57076629 3.94995047 5.32913464]\n",
      "[2.57176728 3.95022999 5.3286927 ]\n",
      "[2.57276268 3.95050796 5.32825323]\n",
      "[2.57375252 3.95078437 5.32781621]\n",
      "[2.57473684 3.95105923 5.32738163]\n",
      "[2.57571565 3.95133257 5.32694948]\n",
      "[2.576689   3.95160437 5.32651974]\n",
      "[2.57765691 3.95187466 5.3260924 ]\n",
      "[2.57861942 3.95214344 5.32566745]\n",
      "[2.57957655 3.95241071 5.32524487]\n",
      "[2.58052834 3.95267649 5.32482465]\n",
      "[2.58147481 3.95294079 5.32440678]\n",
      "[2.58241599 3.95320361 5.32399124]\n",
      "[2.58335192 3.95346497 5.32357802]\n",
      "[2.58428262 3.95372486 5.3231671 ]\n",
      "[2.58520812 3.9539833  5.32275848]\n",
      "[2.58612846 3.9542403  5.32235215]\n",
      "[2.58704365 3.95449587 5.32194808]\n",
      "[2.58795373 3.95475    5.32154627]\n",
      "[2.58885873 3.95500272 5.3211467 ]\n",
      "[2.58975868 3.95525402 5.32074937]\n",
      "[2.5906536  3.95550392 5.32035425]\n",
      "[2.59154352 3.95575243 5.31996134]\n",
      "[2.59242847 3.95599955 5.31957062]\n",
      "[2.59330848 3.95624528 5.31918209]\n",
      "[2.59418358 3.95648965 5.31879572]\n",
      "[2.59505378 3.95673265 5.31841151]\n",
      "[2.59591913 3.95697429 5.31802945]\n",
      "[2.59677964 3.95721458 5.31764952]\n",
      "[2.59763535 3.95745353 5.31727172]\n",
      "[2.59848628 3.95769115 5.31689602]\n",
      "[2.59933246 3.95792744 5.31652242]\n",
      "[2.60017391 3.95816241 5.31615091]\n",
      "[2.60101066 3.95839607 5.31578147]\n",
      "[2.60184274 3.95862842 5.3154141 ]\n",
      "[2.60267017 3.95885947 5.31504877]\n",
      "[2.60349298 3.95908924 5.31468549]\n",
      "[2.6043112  3.95931772 5.31432424]\n",
      "[2.60512484 3.95954492 5.313965  ]\n",
      "[2.60593394 3.95977086 5.31360777]\n",
      "[2.60673853 3.95999553 5.31325253]\n",
      "[2.60753862 3.96021895 5.31289928]\n",
      "[2.60833424 3.96044112 5.312548  ]\n",
      "[2.60912542 3.96066205 5.31219868]\n",
      "[2.60991217 3.96088175 5.31185132]\n",
      "[2.61069454 3.96110022 5.31150589]\n",
      "[2.61147254 3.96131746 5.31116239]\n",
      "[2.61224619 3.9615335  5.31082081]\n",
      "[2.61301552 3.96174833 5.31048114]\n",
      "[2.61378055 3.96196196 5.31014337]\n",
      "[2.61454131 3.96217439 5.30980748]\n",
      "[2.61529782 3.96238564 5.30947347]\n",
      "[2.61605011 3.96259571 5.30914132]\n",
      "[2.6167982  3.96280461 5.30881103]\n",
      "[2.6175421  3.96301234 5.30848258]\n",
      "[2.61828186 3.96321891 5.30815597]\n",
      "[2.61901748 3.96342433 5.30783118]\n",
      "[2.61974899 3.9636286  5.3075082 ]\n",
      "[2.62047642 3.96383172 5.30718703]\n",
      "[2.62119979 3.96403372 5.30686765]\n",
      "[2.62191911 3.96423458 5.30655006]\n",
      "[2.62263442 3.96443433 5.30623423]\n",
      "[2.62334573 3.96463296 5.30592018]\n",
      "[2.62405307 3.96483047 5.30560787]\n",
      "[2.62475646 3.96502689 5.30529732]\n",
      "[2.62545593 3.96522221 5.30498849]\n",
      "[2.62615148 3.96541644 5.30468139]\n",
      "[2.62684315 3.96560958 5.30437601]\n",
      "[2.62753096 3.96580164 5.30407233]\n",
      "[2.62821493 3.96599264 5.30377034]\n",
      "[2.62889508 3.96618256 5.30347005]\n",
      "[2.62957142 3.96637143 5.30317143]\n",
      "[2.630244   3.96655923 5.30287447]\n",
      "[2.63091281 3.966746   5.30257918]\n",
      "[2.63157789 3.96693171 5.30228554]\n",
      "[2.63223926 3.96711639 5.30199353]\n",
      "[2.63289693 3.96730004 5.30170316]\n",
      "[2.63355093 3.96748267 5.3014144 ]\n",
      "[2.63420128 3.96766427 5.30112726]\n",
      "[2.63484799 3.96784486 5.30084173]\n",
      "[2.63549109 3.96802444 5.30055779]\n",
      "[2.6361306  3.96820302 5.30027543]\n",
      "[2.63676654 3.9683806  5.29999465]\n",
      "[2.63739893 3.96855719 5.29971544]\n",
      "[2.63802779 3.96873279 5.29943779]\n",
      "[2.63865313 3.96890741 5.29916169]\n",
      "[2.63927498 3.96908106 5.29888713]\n",
      "[2.63989336 3.96925373 5.29861411]\n",
      "[2.64050829 3.96942545 5.29834261]\n",
      "[2.64111978 3.9695962  5.29807262]\n",
      "[2.64172786 3.969766   5.29780414]\n",
      "[2.64233254 3.96993485 5.29753717]\n",
      "[2.64293384 3.97010276 5.29727168]\n",
      "[2.64353178 3.97026973 5.29700768]\n",
      "[2.64412639 3.97043577 5.29674515]\n",
      "[2.64471767 3.97060088 5.29648409]\n",
      "[2.64530566 3.97076507 5.29622448]\n",
      "[2.64589035 3.97092834 5.29596633]\n",
      "[2.64647179 3.9710907  5.29570961]\n",
      "[2.64704997 3.97125215 5.29545433]\n",
      "[2.64762493 3.9714127  5.29520048]\n",
      "[2.64819668 3.97157236 5.29494804]\n",
      "[2.64876523 3.97173112 5.29469702]\n",
      "[2.64933061 3.971889   5.29444739]\n",
      "[2.64989283 3.97204599 5.29419916]\n",
      "[2.65045191 3.97220211 5.29395232]\n",
      "[2.65100786 3.97235736 5.29370685]\n",
      "[2.65156072 3.97251174 5.29346276]\n",
      "[2.65211048 3.97266525 5.29322003]\n",
      "[2.65265718 3.97281791 5.29297865]\n",
      "[2.65320082 3.97296972 5.29273862]\n",
      "[2.65374142 3.97312068 5.29249993]\n",
      "[2.65427901 3.9732708  5.29226258]\n",
      "[2.6548136  3.97342007 5.29202655]\n",
      "[2.65534519 3.97356852 5.29179184]\n",
      "[2.65587382 3.97371613 5.29155844]\n",
      "[2.6563995  3.97386292 5.29132635]\n",
      "[2.65692224 3.97400889 5.29109555]\n",
      "[2.65744206 3.97415405 5.29086603]\n",
      "[2.65795898 3.97429839 5.29063781]\n",
      "[2.65847302 3.97444193 5.29041085]\n",
      "[2.65898418 3.97458467 5.29018516]\n",
      "[2.65949248 3.97472661 5.28996074]\n",
      "[2.65999795 3.97486776 5.28973756]\n",
      "[2.6605006  3.97500812 5.28951564]\n",
      "[2.66100043 3.97514769 5.28929495]\n",
      "[2.66149748 3.97528649 5.28907549]\n",
      "[2.66199175 3.97542451 5.28885726]\n",
      "[2.66248326 3.97556176 5.28864025]\n",
      "[2.66297202 3.97569824 5.28842446]\n",
      "[2.66345806 3.97583396 5.28820986]\n",
      "[2.66394138 3.97596892 5.28799647]\n",
      "[2.664422   3.97610313 5.28778426]\n",
      "[2.66489994 3.97623659 5.28757325]\n",
      "[2.66537521 3.97636931 5.28736341]\n",
      "[2.66584782 3.97650128 5.28715474]\n",
      "[2.6663178  3.97663252 5.28694724]\n",
      "[2.66678515 3.97676302 5.28674089]\n",
      "[2.66724989 3.97689279 5.2865357 ]\n",
      "[2.66771203 3.97702184 5.28633166]\n",
      "[2.66817159 3.97715017 5.28612875]\n",
      "[2.66862859 3.97727778 5.28592698]\n",
      "[2.66908303 3.97740468 5.28572633]\n",
      "[2.66953494 3.97753087 5.28552681]\n",
      "[2.66998432 3.97765636 5.2853284 ]\n",
      "[2.6704312  3.97778114 5.28513109]\n",
      "[2.67087557 3.97790523 5.28493489]\n",
      "[2.67131747 3.97802863 5.28473979]\n",
      "[2.6717569  3.97815133 5.28454577]\n",
      "[2.67219387 3.97827336 5.28435284]\n",
      "[2.6726284  3.97839469 5.28416099]\n",
      "[2.67306051 3.97851536 5.2839702 ]\n",
      "[2.6734902  3.97863534 5.28378049]\n",
      "[2.67391749 3.97875466 5.28359183]\n",
      "[2.6743424  3.97887331 5.28340423]\n",
      "[2.67476493 3.9789913  5.28321767]\n",
      "[2.67518511 3.97910863 5.28303215]\n",
      "[2.67560294 3.97922531 5.28284768]\n",
      "[2.67601843 3.97934133 5.28266423]\n",
      "[2.6764316 3.9794567 5.2824818]\n",
      "[2.67684247 3.97957143 5.2823004 ]\n",
      "[2.67725104 3.97968552 5.28212001]\n",
      "[2.67765733 3.97979898 5.28194062]\n",
      "[2.67806135 3.9799118  5.28176224]\n",
      "[2.67846311 3.98002398 5.28158485]\n",
      "[2.67886263 3.98013555 5.28140846]\n",
      "[2.67925992 3.98024649 5.28123305]\n",
      "[2.67965499 3.98035681 5.28105862]\n",
      "[2.68004786 3.98046651 5.28088516]\n",
      "[2.68043853 3.9805756  5.28071267]\n",
      "[2.68082702 3.98068408 5.28054115]\n",
      "[2.68121333 3.98079196 5.28037058]\n",
      "[2.68159749 3.98089923 5.28020097]\n",
      "[2.68197951 3.98100591 5.2800323 ]\n",
      "[2.68235939 3.98111198 5.27986458]\n",
      "[2.68273715 3.98121747 5.27969779]\n",
      "[2.6831128  3.98132237 5.27953193]\n",
      "[2.68348636 3.98142668 5.279367  ]\n",
      "[2.68385782 3.98153041 5.27920299]\n",
      "[2.68422721 3.98163356 5.2790399 ]\n",
      "[2.68459454 3.98173613 5.27887772]\n",
      "[2.68495982 3.98183813 5.27871644]\n",
      "[2.68532306 3.98193956 5.27855606]\n",
      "[2.68568427 3.98204042 5.27839658]\n",
      "[2.68604346 3.98214073 5.27823799]\n",
      "[2.68640064 3.98224047 5.27808029]\n",
      "[2.68675583 3.98233965 5.27792347]\n",
      "[2.68710904 3.98243828 5.27776752]\n",
      "[2.68746028 3.98253636 5.27761244]\n",
      "[2.68780955 3.98263389 5.27745823]\n",
      "[2.68815687 3.98273088 5.27730488]\n",
      "[2.68850225 3.98282732 5.27715239]\n",
      "[2.68884571 3.98292323 5.27700075]\n",
      "[2.68918724 3.9830186  5.27684995]\n",
      "[2.68952687 3.98311344 5.2767    ]\n",
      "[2.6898646  3.98320774 5.27655089]\n",
      "[2.69020045 3.98330153 5.27640261]\n",
      "[2.69053442 3.98339478 5.27625515]\n",
      "[2.69086652 3.98348752 5.27610852]\n",
      "[2.69119677 3.98357974 5.27596271]\n",
      "[2.69152518 3.98367144 5.27581771]\n",
      "[2.69185175 3.98376264 5.27567353]\n",
      "[2.69217649 3.98385332 5.27553014]\n",
      "[2.69249943 3.9839435  5.27538756]\n",
      "[2.69282056 3.98403317 5.27524578]\n",
      "[2.69313989 3.98412234 5.27510479]\n",
      "[2.69345745 3.98421101 5.27496458]\n",
      "[2.69377323 3.98429919 5.27482516]\n",
      "[2.69408724 3.98438688 5.27468651]\n",
      "[2.69439951 3.98447407 5.27454864]\n",
      "[2.69471002 3.98456078 5.27441154]\n",
      "[2.69501881 3.98464701 5.27427521]\n",
      "[2.69532587 3.98473275 5.27413964]\n",
      "[2.69563121 3.98481802 5.27400482]\n",
      "[2.69593485 3.98490281 5.27387076]\n",
      "[2.6962368  3.98498712 5.27373745]\n",
      "[2.69653705 3.98507097 5.27360488]\n",
      "[2.69683563 3.98515434 5.27347305]\n",
      "[2.69713255 3.98523725 5.27334195]\n",
      "[2.6974278  3.9853197  5.27321159]\n",
      "[2.69772141 3.98540169 5.27308196]\n",
      "[2.69801338 3.98548321 5.27295305]\n",
      "[2.69830371 3.98556429 5.27282486]\n",
      "[2.69859243 3.98564491 5.27269739]\n",
      "[2.69887953 3.98572508 5.27257063]\n",
      "[2.69916503 3.9858048  5.27244458]\n",
      "[2.69944893 3.98588408 5.27231923]\n",
      "[2.69973125 3.98596291 5.27219458]\n",
      "[2.70001199 3.98604131 5.27207063]\n",
      "[2.70029116 3.98611927 5.27194737]\n",
      "[2.70056878 3.98619679 5.2718248 ]\n",
      "[2.70084484 3.98627388 5.27170291]\n",
      "[2.70111936 3.98635053 5.2715817 ]\n",
      "[2.70139235 3.98642676 5.27146117]\n",
      "[2.70166382 3.98650257 5.27134132]\n",
      "[2.70193377 3.98657795 5.27122213]\n",
      "[2.70220221 3.98665291 5.27110361]\n",
      "[2.70246915 3.98672745 5.27098575]\n",
      "[2.7027346  3.98680157 5.27086855]\n",
      "[2.70299857 3.98687528 5.270752  ]\n",
      "[2.70326106 3.98694858 5.2706361 ]\n",
      "[2.70352209 3.98702147 5.27052085]\n",
      "[2.70378166 3.98709396 5.27040625]\n",
      "[2.70403978 3.98716603 5.27029228]\n",
      "[2.70429646 3.98723771 5.27017895]\n",
      "[2.70455171 3.98730898 5.27006626]\n",
      "[2.70480553 3.98737986 5.26995419]\n",
      "[2.70505793 3.98745034 5.26984275]\n",
      "[2.70530893 3.98752043 5.26973193]\n",
      "[2.70555852 3.98759013 5.26962173]\n",
      "[2.70580671 3.98765943 5.26951215]\n",
      "[2.70605353 3.98772835 5.26940318]\n",
      "[2.70629896 3.98779689 5.26929482]\n",
      "[2.70654302 3.98786504 5.26918706]\n",
      "[2.70678572 3.98793281 5.2690799 ]\n",
      "[2.70702706 3.9880002  5.26897334]\n",
      "[2.70726706 3.98806722 5.26886738]\n",
      "[2.70750572 3.98813386 5.26876201]\n",
      "[2.70774304 3.98820013 5.26865723]\n",
      "[2.70797904 3.98826603 5.26855303]\n",
      "[2.70821371 3.98833157 5.26844942]\n",
      "[2.70844708 3.98839673 5.26834638]\n",
      "[2.70867915 3.98846153 5.26824392]\n",
      "[2.70890992 3.98852597 5.26814203]\n",
      "[2.7091394  3.98859005 5.26804071]\n",
      "[2.7093676  3.98865378 5.26793995]\n",
      "[2.70959452 3.98871714 5.26783976]\n",
      "[2.70982018 3.98878016 5.26774013]\n",
      "[2.71004458 3.98884282 5.26764106]\n",
      "[2.71026772 3.98890513 5.26754253]\n",
      "[2.71048962 3.98896709 5.26744456]\n",
      "[2.71071028 3.98902871 5.26734714]\n",
      "[2.7109297  3.98908998 5.26725026]\n",
      "[2.7111479  3.98915091 5.26715392]\n",
      "[2.71136488 3.9892115  5.26705812]\n",
      "[2.71158065 3.98927175 5.26696285]\n",
      "[2.71179522 3.98933167 5.26686812]\n",
      "[2.71200859 3.98939125 5.26677391]\n",
      "[2.71222076 3.9894505  5.26668023]\n",
      "[2.71243175 3.98950941 5.26658707]\n",
      "[2.71264156 3.989568   5.26649444]\n",
      "[2.7128502  3.98962626 5.26640232]\n",
      "[2.71305768 3.9896842  5.26631072]\n",
      "[2.71326399 3.98974181 5.26621962]\n",
      "[2.71346916 3.9897991  5.26612904]\n",
      "[2.71367317 3.98985607 5.26603896]\n",
      "[2.71387605 3.98991272 5.26594939]\n",
      "[2.7140778  3.98996906 5.26586031]\n",
      "[2.71427842 3.99002508 5.26577174]\n",
      "[2.71447792 3.99008079 5.26568365]\n",
      "[2.7146763  3.99013618 5.26559606]\n",
      "[2.71487358 3.99019127 5.26550896]\n",
      "[2.71506975 3.99024605 5.26542235]\n",
      "[2.71526483 3.99030052 5.26533622]\n",
      "[2.71545882 3.99035469 5.26525057]\n",
      "[2.71565173 3.99040856 5.2651654 ]\n",
      "[2.71584355 3.99046213 5.2650807 ]\n",
      "[2.71603431 3.99051539 5.26499648]\n",
      "[2.716224   3.99056836 5.26491272]\n",
      "[2.71641264 3.99062104 5.26482944]\n",
      "[2.71660022 3.99067342 5.26474662]\n",
      "[2.71678675 3.99072551 5.26466426]\n",
      "[2.71697224 3.9907773  5.26458237]\n",
      "[2.71715669 3.99082881 5.26450093]\n",
      "[2.71734012 3.99088003 5.26441994]\n",
      "[2.71752252 3.99093096 5.26433941]\n",
      "[2.7177039  3.99098161 5.26425933]\n",
      "[2.71788426 3.99103198 5.26417969]\n",
      "[2.71806362 3.99108206 5.2641005 ]\n",
      "[2.71824198 3.99113187 5.26402175]\n",
      "[2.71841935 3.99118139 5.26394344]\n",
      "[2.71859572 3.99123064 5.26386557]\n",
      "[2.7187711  3.99127962 5.26378813]\n",
      "[2.71894551 3.99132832 5.26371113]\n",
      "[2.71911895 3.99137675 5.26363455]\n",
      "[2.71929141 3.99142491 5.26355841]\n",
      "[2.71946291 3.9914728  5.26348269]\n",
      "[2.71963346 3.99152042 5.26340739]\n",
      "[2.71980305 3.99156778 5.26333251]\n",
      "[2.71997169 3.99161487 5.26325805]\n",
      "[2.7201394  3.9916617  5.26318401]\n",
      "[2.72030616 3.99170827 5.26311038]\n",
      "[2.720472   3.99175458 5.26303716]\n",
      "[2.7206369  3.99180063 5.26296435]\n",
      "[2.72080089 3.99184642 5.26289194]\n",
      "[2.72096396 3.99189195 5.26281995]\n",
      "[2.72112612 3.99193724 5.26274835]\n",
      "[2.72128738 3.99198227 5.26267715]\n",
      "[2.72144773 3.99202704 5.26260635]\n",
      "[2.72160719 3.99207157 5.26253595]\n",
      "[2.72176576 3.99211585 5.26246594]\n",
      "[2.72192345 3.99215988 5.26239632]\n",
      "[2.72208025 3.99220367 5.26232709]\n",
      "[2.72223617 3.99224721 5.26225824]\n",
      "[2.72239123 3.99229051 5.26218978]\n",
      "[2.72254542 3.99233356 5.2621217 ]\n",
      "[2.72269875 3.99237638 5.26205401]\n",
      "[2.72285122 3.99241895 5.26198669]\n",
      "[2.72300284 3.99246129 5.26191974]\n",
      "[2.72315362 3.99250339 5.26185317]\n",
      "[2.72330355 3.99254526 5.26178698]\n",
      "[2.72345264 3.9925869  5.26172115]\n",
      "[2.72360091 3.9926283  5.26165569]\n",
      "[2.72374834 3.99266947 5.26159059]\n",
      "[2.72389495 3.99271041 5.26152586]\n",
      "[2.72404074 3.99275112 5.26146149]\n",
      "[2.72418572 3.9927916  5.26139748]\n",
      "[2.72432989 3.99283186 5.26133383]\n",
      "[2.72447325 3.99287189 5.26127053]\n",
      "[2.72461581 3.9929117  5.26120759]\n",
      "[2.72475758 3.99295129 5.26114499]\n",
      "[2.72489855 3.99299065 5.26108275]\n",
      "[2.72503874 3.9930298  5.26102086]\n",
      "[2.72517814 3.99306873 5.26095931]\n",
      "[2.72531677 3.99310744 5.2608981 ]\n",
      "[2.72545462 3.99314593 5.26083724]\n",
      "[2.7255917  3.99318421 5.26077671]\n",
      "[2.72572802 3.99322227 5.26071653]\n",
      "[2.72586357 3.99326013 5.26065668]\n",
      "[2.72599837 3.99329777 5.26059716]\n",
      "[2.72613241 3.9933352  5.26053798]\n",
      "[2.72626571 3.99337242 5.26047913]\n",
      "[2.72639826 3.99340943 5.2604206 ]\n",
      "[2.72653007 3.99344624 5.26036241]\n",
      "[2.72666115 3.99348284 5.26030453]\n",
      "[2.72679149 3.99351924 5.26024698]\n",
      "[2.72692111 3.99355543 5.26018976]\n",
      "[2.72705    3.99359142 5.26013285]\n",
      "[2.72717817 3.99362721 5.26007626]\n",
      "[2.72730563 3.99366281 5.26001998]\n",
      "[2.72743237 3.9936982  5.25996402]\n",
      "[2.72755841 3.99373339 5.25990838]\n",
      "[2.72768374 3.99376839 5.25985304]\n",
      "[2.72780837 3.99380319 5.25979801]\n",
      "[2.72793231 3.9938378  5.25974329]\n",
      "[2.72805555 3.99387221 5.25968888]\n",
      "[2.72817811 3.99390644 5.25963477]\n",
      "[2.72829998 3.99394047 5.25958096]\n",
      "[2.72842117 3.99397431 5.25952745]\n",
      "[2.72854168 3.99400796 5.25947424]\n",
      "[2.72866152 3.99404143 5.25942133]\n",
      "[2.72878069 3.9940747  5.25936871]\n",
      "[2.7288992  3.9941078  5.25931639]\n",
      "[2.72901704 3.9941407  5.25926436]\n",
      "[2.72913423 3.99417343 5.25921262]\n",
      "[2.72925076 3.99420597 5.25916117]\n",
      "[2.72936664 3.99423833 5.25911001]\n",
      "[2.72948188 3.9942705  5.25905913]\n",
      "[2.72959647 3.9943025  5.25900854]\n",
      "[2.72971042 3.99433432 5.25895823]\n",
      "[2.72982373 3.99436596 5.2589082 ]\n",
      "[2.72993641 3.99439743 5.25885845]\n",
      "[2.73004846 3.99442872 5.25880897]\n",
      "[2.73015989 3.99445983 5.25875978]\n",
      "[2.73027069 3.99449077 5.25871085]\n",
      "[2.73038087 3.99452154 5.25866221]\n",
      "[2.73049044 3.99455214 5.25861383]\n",
      "[2.7305994  3.99458256 5.25856572]\n",
      "[2.73070775 3.99461282 5.25851788]\n",
      "[2.73081549 3.9946429  5.25847031]\n",
      "[2.73092264 3.99467282 5.25842301]\n",
      "[2.73102918 3.99470257 5.25837597]\n",
      "[2.73113513 3.99473216 5.25832919]\n",
      "[2.73124048 3.99476158 5.25828267]\n",
      "[2.73134525 3.99479083 5.25823641]\n",
      "[2.73144944 3.99481993 5.25819042]\n",
      "[2.73155304 3.99484886 5.25814467]\n",
      "[2.73165606 3.99487762 5.25809919]\n",
      "[2.73175851 3.99490623 5.25805396]\n",
      "[2.73186038 3.99493468 5.25800898]\n",
      "[2.73196169 3.99496297 5.25796425]\n",
      "[2.73206243 3.9949911  5.25791977]\n",
      "[2.73216261 3.99501907 5.25787554]\n",
      "[2.73226223 3.99504689 5.25783155]\n",
      "[2.73236129 3.99507455 5.25778782]\n",
      "[2.7324598  3.99510206 5.25774432]\n",
      "[2.73255776 3.99512941 5.25770107]\n",
      "[2.73265517 3.99515662 5.25765806]\n",
      "[2.73275204 3.99518367 5.25761529]\n",
      "[2.73284836 3.99521056 5.25757276]\n",
      "[2.73294415 3.99523731 5.25753047]\n",
      "[2.73303941 3.99526391 5.25748842]\n",
      "[2.73313413 3.99529036 5.25744659]\n",
      "[2.73322832 3.99531666 5.25740501]\n",
      "[2.73332199 3.99534282 5.25736365]\n",
      "[2.73341513 3.99536883 5.25732253]\n",
      "[2.73350775 3.99539469 5.25728163]\n",
      "[2.73359986 3.99542041 5.25724096]\n",
      "[2.73369145 3.99544599 5.25720052]\n",
      "[2.73378253 3.99547142 5.25716031]\n",
      "[2.7338731  3.99549671 5.25712032]\n",
      "[2.73396317 3.99552186 5.25708056]\n",
      "[2.73405273 3.99554687 5.25704101]\n",
      "[2.73414179 3.99557174 5.25700169]\n",
      "[2.73423036 3.99559647 5.25696259]\n",
      "[2.73431843 3.99562107 5.2569237 ]\n",
      "[2.73440601 3.99564552 5.25688503]\n",
      "[2.7344931  3.99566984 5.25684658]\n",
      "[2.7345797  3.99569402 5.25680835]\n",
      "[2.73466582 3.99571807 5.25677032]\n",
      "[2.73475146 3.99574199 5.25673251]\n",
      "[2.73483662 3.99576577 5.25669491]\n",
      "[2.7349213  3.99578941 5.25665752]\n",
      "[2.73500552 3.99581293 5.25662034]\n",
      "[2.73508926 3.99583631 5.25658337]\n",
      "[2.73517253 3.99585957 5.2565466 ]\n",
      "[2.73525534 3.99588269 5.25651004]\n",
      "[2.73533769 3.99590568 5.25647368]\n",
      "[2.73541957 3.99592855 5.25643753]\n",
      "[2.735501   3.99595129 5.25640157]\n",
      "[2.73558198 3.9959739  5.25636582]\n",
      "[2.7356625  3.99599638 5.25633027]\n",
      "[2.73574257 3.99601874 5.25629492]\n",
      "[2.7358222  3.99604098 5.25625976]\n",
      "[2.73590138 3.99606309 5.2562248 ]\n",
      "[2.73598011 3.99608508 5.25619004]\n",
      "[2.73605841 3.99610694 5.25615547]\n",
      "[2.73613627 3.99612868 5.25612109]\n",
      "[2.7362137  3.9961503  5.25608691]\n",
      "[2.73629069 3.9961718  5.25605291]\n",
      "[2.73636726 3.99619318 5.25601911]\n",
      "[2.73644339 3.99621444 5.25598549]\n",
      "[2.73651911 3.99623558 5.25595206]\n",
      "[2.73659439 3.99625661 5.25591882]\n",
      "[2.73666926 3.99627751 5.25588577]\n",
      "[2.73674371 3.9962983  5.2558529 ]\n",
      "[2.73681775 3.99631898 5.25582021]\n",
      "[2.73689137 3.99633953 5.2557877 ]\n",
      "[2.73696458 3.99635998 5.25575538]\n",
      "[2.73703738 3.99638031 5.25572324]\n",
      "[2.73710977 3.99640052 5.25569127]\n",
      "[2.73718176 3.99642062 5.25565949]\n",
      "[2.73725335 3.99644061 5.25562788]\n",
      "[2.73732453 3.99646049 5.25559645]\n",
      "[2.73739532 3.99648026 5.2555652 ]\n",
      "[2.73746572 3.99649992 5.25553412]\n",
      "[2.73753572 3.99651946 5.25550321]\n",
      "[2.73760533 3.9965389  5.25547247]\n",
      "[2.73767455 3.99655823 5.25544191]\n",
      "[2.73774339 3.99657745 5.25541152]\n",
      "[2.73781184 3.99659657 5.2553813 ]\n",
      "[2.73787991 3.99661558 5.25535124]\n",
      "[2.7379476  3.99663448 5.25532136]\n",
      "[2.73801491 3.99665327 5.25529164]\n",
      "[2.73808184 3.99667196 5.25526209]\n",
      "[2.7381484  3.99669055 5.2552327 ]\n",
      "[2.73821459 3.99670903 5.25520348]\n",
      "[2.73828041 3.99672741 5.25517441]\n",
      "[2.73834586 3.99674569 5.25514552]\n",
      "[2.73841095 3.99676386 5.25511678]\n",
      "[2.73847567 3.99678194 5.2550882 ]\n",
      "[2.73854003 3.99679991 5.25505979]\n",
      "[2.73860403 3.99681778 5.25503153]\n",
      "[2.73866768 3.99683555 5.25500343]\n",
      "[2.73873097 3.99685323 5.25497549]\n",
      "[2.7387939 3.9968708 5.2549477]\n",
      "[2.73885649 3.99688828 5.25492007]\n",
      "[2.73891872 3.99690566 5.25489259]\n",
      "[2.73898061 3.99692294 5.25486526]\n",
      "[2.73904215 3.99694012 5.25483809]\n",
      "[2.73910335 3.99695721 5.25481107]\n",
      "[2.7391642 3.9969742 5.2547842]\n",
      "[2.73922472 3.9969911  5.25475749]\n",
      "[2.7392849  3.99700791 5.25473092]\n",
      "[2.73934474 3.99702462 5.25470449]\n",
      "[2.73940425 3.99704123 5.25467822]\n",
      "[2.73946342 3.99705776 5.25465209]\n",
      "[2.73952227 3.99707419 5.25462611]\n",
      "[2.73958078 3.99709053 5.25460028]\n",
      "[2.73963897 3.99710678 5.25457458]\n",
      "[2.73969684 3.99712294 5.25454904]\n",
      "[2.73975438 3.997139   5.25452363]\n",
      "[2.7398116  3.99715498 5.25449837]\n",
      "[2.7398685  3.99717087 5.25447324]\n",
      "[2.73992508 3.99718667 5.25444826]\n",
      "[2.73998135 3.99720238 5.25442342]\n",
      "[2.7400373  3.99721801 5.25439872]\n",
      "[2.74009294 3.99723354 5.25437415]\n",
      "[2.74014827 3.99724899 5.25434972]\n",
      "[2.74020329 3.99726436 5.25432543]\n",
      "[2.740258   3.99727964 5.25430127]\n",
      "[2.74031241 3.99729483 5.25427725]\n",
      "[2.74036651 3.99730994 5.25425336]\n",
      "[2.74042031 3.99732496 5.25422961]\n",
      "[2.74047381 3.9973399  5.25420599]\n",
      "[2.74052702 3.99735476 5.2541825 ]\n",
      "[2.74057992 3.99736953 5.25415914]\n",
      "[2.74063253 3.99738422 5.25413591]\n",
      "[2.74068485 3.99739883 5.25411281]\n",
      "[2.74073687 3.99741336 5.25408984]\n",
      "[2.7407886 3.9974278 5.254067 ]\n",
      "[2.74084005 3.99744217 5.25404429]\n",
      "[2.7408912  3.99745645 5.2540217 ]\n",
      "[2.74094207 3.99747066 5.25399924]\n",
      "[2.74099266 3.99748478 5.25397691]\n",
      "[2.74104297 3.99749883 5.2539547 ]\n",
      "[2.74109299 3.9975128  5.25393261]\n",
      "[2.74114273 3.99752669 5.25391065]\n",
      "[2.7411922  3.9975405  5.25388881]\n",
      "[2.74124139 3.99755424 5.25386709]\n",
      "[2.7412903  3.9975679  5.25384549]\n",
      "[2.74133895 3.99758148 5.25382401]\n",
      "[2.74138732 3.99759499 5.25380266]\n",
      "[2.74143542 3.99760842 5.25378142]\n",
      "[2.74148325 3.99762178 5.2537603 ]\n",
      "[2.74153081 3.99763506 5.2537393 ]\n",
      "[2.74157811 3.99764827 5.25371842]\n",
      "[2.74162515 3.9976614  5.25369765]\n",
      "[2.74167192 3.99767446 5.253677  ]\n",
      "[2.74171843 3.99768745 5.25365647]\n",
      "[2.74176468 3.99770036 5.25363605]\n",
      "[2.74181067 3.99771321 5.25361574]\n",
      "[2.74185641 3.99772598 5.25359555]\n",
      "[2.74190189 3.99773868 5.25357547]\n",
      "[2.74194712 3.99775131 5.2535555 ]\n",
      "[2.74199209 3.99776386 5.25353564]\n",
      "[2.74203681 3.99777635 5.25351589]\n",
      "[2.74208129 3.99778877 5.25349626]\n",
      "[2.74212551 3.99780112 5.25347673]\n",
      "[2.74216949 3.9978134  5.25345732]\n",
      "[2.74221322 3.99782561 5.25343801]\n",
      "[2.74225671 3.99783776 5.25341881]\n",
      "[2.74229995 3.99784983 5.25339971]\n",
      "[2.74234296 3.99786184 5.25338073]\n",
      "[2.74238572 3.99787378 5.25336185]\n",
      "[2.74242824 3.99788566 5.25334307]\n",
      "[2.74247053 3.99789746 5.2533244 ]\n",
      "[2.74251258 3.99790921 5.25330583]\n",
      "[2.7425544  3.99792088 5.25328737]\n",
      "[2.74259598 3.9979325  5.25326901]\n",
      "[2.74263733 3.99794404 5.25325076]\n",
      "[2.74267845 3.99795552 5.2532326 ]\n",
      "[2.74271934 3.99796694 5.25321455]\n",
      "[2.74276    3.9979783  5.25319659]\n",
      "[2.74280043 3.99798959 5.25317874]\n",
      "[2.74284064 3.99800082 5.25316099]\n",
      "[2.74288062 3.99801198 5.25314334]\n",
      "[2.74292039 3.99802308 5.25312578]\n",
      "[2.74295992 3.99803412 5.25310832]\n",
      "[2.74299924 3.9980451  5.25309096]\n",
      "[2.74303834 3.99805602 5.2530737 ]\n",
      "[2.74307722 3.99806688 5.25305654]\n",
      "[2.74311588 3.99807767 5.25303947]\n",
      "[2.74315433 3.99808841 5.25302249]\n",
      "[2.74319256 3.99809908 5.25300561]\n",
      "[2.74323058 3.9981097  5.25298882]\n",
      "[2.74326838 3.99812026 5.25297213]\n",
      "[2.74330598 3.99813076 5.25295553]\n",
      "[2.74334336 3.9981412  5.25293903]\n",
      "[2.74338054 3.99815158 5.25292261]\n",
      "[2.74341751 3.9981619  5.25290629]\n",
      "[2.74345427 3.99817217 5.25289006]\n",
      "[2.74349083 3.99818237 5.25287392]\n",
      "[2.74352718 3.99819252 5.25285787]\n",
      "[2.74356333 3.99820262 5.25284191]\n",
      "[2.74359928 3.99821266 5.25282604]\n",
      "[2.74363502 3.99822264 5.25281025]\n",
      "[2.74367057 3.99823257 5.25279456]\n",
      "[2.74370592 3.99824244 5.25277895]\n",
      "[2.74374107 3.99825225 5.25276343]\n",
      "[2.74377603 3.99826201 5.252748  ]\n",
      "[2.74381079 3.99827172 5.25273265]\n",
      "[2.74384535 3.99828137 5.25271739]\n",
      "[2.74387972 3.99829097 5.25270222]\n",
      "[2.7439139  3.99830051 5.25268712]\n",
      "[2.74394789 3.99831001 5.25267212]\n",
      "[2.74398169 3.99831944 5.25265719]\n",
      "[2.7440153  3.99832883 5.25264235]\n",
      "[2.74404873 3.99833816 5.2526276 ]\n",
      "[2.74408196 3.99834744 5.25261292]\n",
      "[2.74411502 3.99835667 5.25259833]\n",
      "[2.74414788 3.99836585 5.25258382]\n",
      "[2.74418057 3.99837498 5.25256939]\n",
      "[2.74421307 3.99838405 5.25255504]\n",
      "[2.74424538 3.99839308 5.25254077]\n",
      "[2.74427752 3.99840205 5.25252658]\n",
      "[2.74430948 3.99841098 5.25251247]\n",
      "[2.74434126 3.99841985 5.25249844]\n",
      "[2.74437287 3.99842867 5.25248448]\n",
      "[2.74440429 3.99843745 5.25247061]\n",
      "[2.74443554 3.99844618 5.25245681]\n",
      "[2.74446662 3.99845485 5.25244309]\n",
      "[2.74449752 3.99846348 5.25242945]\n",
      "[2.74452825 3.99847207 5.25241588]\n",
      "[2.74455881 3.9984806  5.25240238]\n",
      "[2.7445892  3.99848908 5.25238897]\n",
      "[2.74461942 3.99849752 5.25237563]\n",
      "[2.74464947 3.99850591 5.25236236]\n",
      "[2.74467935 3.99851426 5.25234917]\n",
      "[2.74470906 3.99852255 5.25233605]\n",
      "[2.74473861 3.99853081 5.252323  ]\n",
      "[2.744768   3.99853901 5.25231003]\n",
      "[2.74479722 3.99854717 5.25229712]\n",
      "[2.74482627 3.99855528 5.2522843 ]\n",
      "[2.74485517 3.99856335 5.25227154]\n",
      "[2.7448839  3.99857138 5.25225885]\n",
      "[2.74491247 3.99857936 5.25224624]\n",
      "[2.74494089 3.99858729 5.25223369]\n",
      "[2.74496914 3.99859518 5.25222122]\n",
      "[2.74499724 3.99860302 5.25220881]\n",
      "[2.74502518 3.99861083 5.25219648]\n",
      "[2.74505296 3.99861858 5.25218421]\n",
      "[2.74508059 3.9986263  5.25217201]\n",
      "[2.74510806 3.99863397 5.25215988]\n",
      "[2.74513538 3.9986416  5.25214782]\n",
      "[2.74516255 3.99864919 5.25213582]\n",
      "[2.74518957 3.99865673 5.25212389]\n",
      "[2.74521643 3.99866423 5.25211203]\n",
      "[2.74524315 3.99867169 5.25210024]\n",
      "[2.74526971 3.99867911 5.25208851]\n",
      "[2.74529613 3.99868649 5.25207684]\n",
      "[2.7453224  3.99869382 5.25206525]\n",
      "[2.74534853 3.99870112 5.25205371]\n",
      "[2.7453745  3.99870837 5.25204224]\n",
      "[2.74540034 3.99871559 5.25203084]\n",
      "[2.74542602 3.99872276 5.25201949]\n",
      "[2.74545157 3.99872989 5.25200822]\n",
      "[2.74547697 3.99873699 5.251997  ]\n"
     ]
    }
   ],
   "source": [
    "import numpy as np\n",
    "import matplotlib.pyplot as plt\n",
    "\n",
    "x = np.array([0.0, 1.0, 2.0])\n",
    "y = np.array([3.0, 3.5, 5.5])\n",
    "\n",
    "w = 0 # 기울기\n",
    "b = 0 # 절편\n",
    "\n",
    "Irate = 0.01 # 학습률\n",
    "epochs = 1000 # 반복횟수\n",
    "\n",
    "n = float(len(x)) #입력데이터의 개수\n",
    "\n",
    "for i in range(epochs):\n",
    "   \n",
    "    y_pred = w * x + b\n",
    "    print(y_pred)\n",
    "    dw = (2/n) * sum(x * (y_pred-y))\n",
    "    db = (2/n) * sum(y_pred-y)\n",
    "    w = w - Irate * dw\n",
    "    b = b - Irate * db"
   ]
  },
  {
   "cell_type": "code",
   "execution_count": 3,
   "id": "e90112fa",
   "metadata": {},
   "outputs": [
    {
     "name": "stdout",
     "output_type": "stream",
     "text": [
      "1.2532418085611319 2.745502230882486\n"
     ]
    },
    {
     "data": {
      "image/png": "[encoded data removed]",
      "text/plain": [
       "<Figure size 640x480 with 1 Axes>"
      ]
     },
     "metadata": {},
     "output_type": "display_data"
    }
   ],
   "source": [
    "# 경사하강법으로 w, b를 구한것\n",
    "print(w,b)\n",
    "y_pred = w*x+b\n",
    "plt.scatter(x,y)\n",
    "plt.plot([min(x), max(x)], [min(y_pred), max(y_pred)], color = 'red')\n",
    "plt.show()"
   ]
  },
  {
   "cell_type": "code",
   "execution_count": 4,
   "id": "20e6651a",
   "metadata": {},
   "outputs": [],
   "source": [
    "import matplotlib.pylab as plt\n",
    "import numpy as np\n",
    "from sklearn import linear_model\n",
    "from sklearn import datasets\n",
    "\n",
    "diabetes_x, diabetes_y = datasets.load_diabetes(return_X_y=True)\n",
    "diabetes_x_new = diabetes_x[:, np.newaxis, 2]"
   ]
  },
  {
   "cell_type": "code",
   "execution_count": 7,
   "id": "fcc759e1",
   "metadata": {},
   "outputs": [
    {
     "name": "stdout",
     "output_type": "stream",
     "text": [
      "Requirement already satisfied: numpy in c:\\users\\mark8\\anaconda3\\envs\\test\\lib\\site-packages (1.23.5)\n",
      "Collecting numpy\n",
      "  Downloading numpy-1.24.3-cp310-cp310-win_amd64.whl (14.8 MB)\n",
      "     --------------------------------------- 14.8/14.8 MB 10.4 MB/s eta 0:00:00\n",
      "Installing collected packages: numpy\n",
      "  Attempting uninstall: numpy\n",
      "    Found existing installation: numpy 1.23.5\n",
      "    Uninstalling numpy-1.23.5:\n",
      "      Successfully uninstalled numpy-1.23.5\n",
      "Successfully installed numpy-1.24.3\n",
      "Note: you may need to restart the kernel to use updated packages.\n"
     ]
    },
    {
     "name": "stderr",
     "output_type": "stream",
     "text": [
      "ERROR: pip's dependency resolver does not currently take into account all the packages that are installed. This behaviour is the source of the following dependency conflicts.\n",
      "daal4py 2021.4.0 requires daal==2021.3.0, which is not installed.\n",
      "tensorflow-intel 2.12.0 requires numpy<1.24,>=1.22, but you have numpy 1.24.3 which is incompatible.\n",
      "numba 0.56.4 requires numpy<1.24,>=1.18, but you have numpy 1.24.3 which is incompatible.\n"
     ]
    }
   ],
   "source": [
    "pip install numpy --upgrade"
   ]
  },
  {
   "cell_type": "code",
   "execution_count": 1,
   "id": "bac63679",
   "metadata": {},
   "outputs": [],
   "source": [
    "import matplotlib.pyplot as plt\n",
    "import tensorflow as tf\n",
    "(train_images, train_labels),(test_images, test_labels) = tf.keras.datasets.mnist.load_data()"
   ]
  },
  {
   "cell_type": "code",
   "execution_count": 3,
   "id": "cc25d5aa",
   "metadata": {},
   "outputs": [
    {
     "data": {
      "text/plain": [
       "(60000, 28, 28)"
      ]
     },
     "execution_count": 3,
     "metadata": {},
     "output_type": "execute_result"
    }
   ],
   "source": [
    "train_images.shape"
   ]
  },
  {
   "cell_type": "code",
   "execution_count": 5,
   "id": "f01eb16c",
   "metadata": {},
   "outputs": [
    {
     "data": {
      "text/plain": [
       "array([5, 0, 4, ..., 5, 6, 8], dtype=uint8)"
      ]
     },
     "execution_count": 5,
     "metadata": {},
     "output_type": "execute_result"
    }
   ],
   "source": [
    "train_labels"
   ]
  },
  {
   "cell_type": "code",
   "execution_count": 6,
   "id": "e17109af",
   "metadata": {},
   "outputs": [
    {
     "data": {
      "text/plain": [
       "(10000, 28, 28)"
      ]
     },
     "execution_count": 6,
     "metadata": {},
     "output_type": "execute_result"
    }
   ],
   "source": [
    "test_images.shape"
   ]
  },
  {
   "cell_type": "code",
   "execution_count": 7,
   "id": "a0dcc379",
   "metadata": {},
   "outputs": [
    {
     "data": {
      "text/plain": [
       "<matplotlib.image.AxesImage at 0x222500cb280>"
      ]
     },
     "execution_count": 7,
     "metadata": {},
     "output_type": "execute_result"
    },
    {
     "name": "stderr",
     "output_type": "stream",
     "text": [
      "findfont: Font family 'NanumGothic' not found.\n",
      "findfont: Font family 'NanumGothic' not found.\n",
      "findfont: Font family 'NanumGothic' not found.\n",
      "findfont: Font family 'NanumGothic' not found.\n",
      "findfont: Font family 'NanumGothic' not found.\n",
      "findfont: Font family 'NanumGothic' not found.\n",
      "findfont: Font family 'NanumGothic' not found.\n",
      "findfont: Font family 'NanumGothic' not found.\n",
      "findfont: Font family 'NanumGothic' not found.\n",
      "findfont: Font family 'NanumGothic' not found.\n",
      "findfont: Font family 'NanumGothic' not found.\n",
      "findfont: Font family 'NanumGothic' not found.\n",
      "findfont: Font family 'NanumGothic' not found.\n",
      "findfont: Font family 'NanumGothic' not found.\n",
      "findfont: Font family 'NanumGothic' not found.\n",
      "findfont: Font family 'NanumGothic' not found.\n",
      "findfont: Font family 'NanumGothic' not found.\n",
      "findfont: Font family 'NanumGothic' not found.\n",
      "findfont: Font family 'NanumGothic' not found.\n",
      "findfont: Font family 'NanumGothic' not found.\n",
      "findfont: Font family 'NanumGothic' not found.\n",
      "findfont: Font family 'NanumGothic' not found.\n",
      "findfont: Font family 'NanumGothic' not found.\n",
      "findfont: Font family 'NanumGothic' not found.\n",
      "findfont: Font family 'NanumGothic' not found.\n",
      "findfont: Font family 'NanumGothic' not found.\n",
      "findfont: Font family 'NanumGothic' not found.\n",
      "findfont: Font family 'NanumGothic' not found.\n",
      "findfont: Font family 'NanumGothic' not found.\n",
      "findfont: Font family 'NanumGothic' not found.\n",
      "findfont: Font family 'NanumGothic' not found.\n",
      "findfont: Font family 'NanumGothic' not found.\n",
      "findfont: Font family 'NanumGothic' not found.\n",
      "findfont: Font family 'NanumGothic' not found.\n",
      "findfont: Font family 'NanumGothic' not found.\n",
      "findfont: Font family 'NanumGothic' not found.\n",
      "findfont: Font family 'NanumGothic' not found.\n",
      "findfont: Font family 'NanumGothic' not found.\n"
     ]
    },
    {
     "data": {
      "image/png": "[encoded data removed]",
      "text/plain": [
       "<Figure size 640x480 with 1 Axes>"
      ]
     },
     "metadata": {},
     "output_type": "display_data"
    }
   ],
   "source": [
    "plt.imshow(train_images[0],cmap=\"Greys\")"
   ]
  },
  {
   "cell_type": "code",
   "execution_count": 12,
   "id": "7896178d",
   "metadata": {},
   "outputs": [],
   "source": [
    "model = tf.keras.models.Sequential()\n",
    "model.add(tf.keras.layers.Dense(512, activation='relu',input_shape=(784,)))\n",
    "model.add(tf.keras.layers.Dense(512, activation='relu'))\n",
    "model.add(tf.keras.layers.Dense(10,activation='sigmoid'))\n"
   ]
  },
  {
   "cell_type": "code",
   "execution_count": 13,
   "id": "0e410ed2",
   "metadata": {},
   "outputs": [],
   "source": [
    "# metric지표는 훈련과 테스트 과정에서 사용되는 척도\n",
    "model.compile(optimizer='rmsprop',loss='mse',metrics=['accuracy'])"
   ]
  },
  {
   "cell_type": "code",
   "execution_count": 6,
   "id": "ccb43b09",
   "metadata": {},
   "outputs": [],
   "source": [
    "train_images = train_images.reshape((60000,784))\n",
    "train_images = train_images.astype('float32')/255.0\n",
    "\n",
    "test_images = test_images.reshape((10000,784))\n",
    "test_images = test_images.astype('float32')/255.0"
   ]
  },
  {
   "cell_type": "code",
   "execution_count": 7,
   "id": "ccd9f36a",
   "metadata": {},
   "outputs": [],
   "source": [
    "train_labels = tf.keras.utils.to_categorical(train_labels)\n",
    "test_labels = tf.keras.utils.to_categorical(test_labels)"
   ]
  },
  {
   "cell_type": "code",
   "execution_count": 14,
   "id": "d23ad671",
   "metadata": {},
   "outputs": [
    {
     "name": "stdout",
     "output_type": "stream",
     "text": [
      "Epoch 1/5\n",
      "469/469 [==============================] - 13s 25ms/step - loss: 0.0222 - accuracy: 0.8817\n",
      "Epoch 2/5\n",
      "469/469 [==============================] - 14s 31ms/step - loss: 0.0099 - accuracy: 0.9434\n",
      "Epoch 3/5\n",
      "469/469 [==============================] - 13s 29ms/step - loss: 0.0074 - accuracy: 0.9588\n",
      "Epoch 4/5\n",
      "469/469 [==============================] - 14s 30ms/step - loss: 0.0059 - accuracy: 0.9677\n",
      "Epoch 5/5\n",
      "469/469 [==============================] - 15s 31ms/step - loss: 0.0050 - accuracy: 0.9733\n"
     ]
    },
    {
     "data": {
      "text/plain": [
       "<keras.callbacks.History at 0x229db16ea40>"
      ]
     },
     "execution_count": 14,
     "metadata": {},
     "output_type": "execute_result"
    }
   ],
   "source": [
    "model.fit(train_images, train_labels, epochs=5, batch_size=128)"
   ]
  },
  {
   "cell_type": "code",
   "execution_count": 15,
   "id": "296fc630",
   "metadata": {},
   "outputs": [
    {
     "name": "stdout",
     "output_type": "stream",
     "text": [
      "Epoch 1/5\n",
      "469/469 [==============================] - 9s 19ms/step - loss: 0.0043 - accuracy: 0.9790\n",
      "Epoch 2/5\n",
      "469/469 [==============================] - 9s 20ms/step - loss: 0.0041 - accuracy: 0.9805\n",
      "Epoch 3/5\n",
      "469/469 [==============================] - 7s 16ms/step - loss: 0.0038 - accuracy: 0.9819\n",
      "Epoch 4/5\n",
      "469/469 [==============================] - 10s 22ms/step - loss: 0.0036 - accuracy: 0.9834\n",
      "Epoch 5/5\n",
      "469/469 [==============================] - 9s 18ms/step - loss: 0.0034 - accuracy: 0.9841\n"
     ]
    },
    {
     "name": "stderr",
     "output_type": "stream",
     "text": [
      "findfont: Font family 'NanumGothic' not found.\n",
      "findfont: Font family 'NanumGothic' not found.\n",
      "findfont: Font family 'NanumGothic' not found.\n",
      "findfont: Font family 'NanumGothic' not found.\n",
      "findfont: Font family 'NanumGothic' not found.\n",
      "findfont: Font family 'NanumGothic' not found.\n",
      "findfont: Font family 'NanumGothic' not found.\n",
      "findfont: Font family 'NanumGothic' not found.\n",
      "findfont: Font family 'NanumGothic' not found.\n",
      "findfont: Font family 'NanumGothic' not found.\n",
      "findfont: Font family 'NanumGothic' not found.\n",
      "findfont: Font family 'NanumGothic' not found.\n",
      "findfont: Font family 'NanumGothic' not found.\n",
      "findfont: Font family 'NanumGothic' not found.\n",
      "findfont: Font family 'NanumGothic' not found.\n",
      "findfont: Font family 'NanumGothic' not found.\n",
      "findfont: Font family 'NanumGothic' not found.\n",
      "findfont: Font family 'NanumGothic' not found.\n",
      "findfont: Font family 'NanumGothic' not found.\n",
      "findfont: Font family 'NanumGothic' not found.\n",
      "findfont: Font family 'NanumGothic' not found.\n",
      "findfont: Font family 'NanumGothic' not found.\n",
      "findfont: Font family 'NanumGothic' not found.\n",
      "findfont: Font family 'NanumGothic' not found.\n",
      "findfont: Font family 'NanumGothic' not found.\n",
      "findfont: Font family 'NanumGothic' not found.\n",
      "findfont: Font family 'NanumGothic' not found.\n",
      "findfont: Font family 'NanumGothic' not found.\n",
      "findfont: Font family 'NanumGothic' not found.\n",
      "findfont: Font family 'NanumGothic' not found.\n",
      "findfont: Font family 'NanumGothic' not found.\n",
      "findfont: Font family 'NanumGothic' not found.\n",
      "findfont: Font family 'NanumGothic' not found.\n",
      "findfont: Font family 'NanumGothic' not found.\n",
      "findfont: Font family 'NanumGothic' not found.\n",
      "findfont: Font family 'NanumGothic' not found.\n",
      "findfont: Font family 'NanumGothic' not found.\n",
      "findfont: Font family 'NanumGothic' not found.\n",
      "findfont: Font family 'NanumGothic' not found.\n",
      "findfont: Font family 'NanumGothic' not found.\n",
      "findfont: Font family 'NanumGothic' not found.\n",
      "findfont: Font family 'NanumGothic' not found.\n",
      "findfont: Font family 'NanumGothic' not found.\n",
      "findfont: Font family 'NanumGothic' not found.\n",
      "findfont: Font family 'NanumGothic' not found.\n",
      "findfont: Font family 'NanumGothic' not found.\n",
      "findfont: Font family 'NanumGothic' not found.\n",
      "findfont: Font family 'NanumGothic' not found.\n",
      "findfont: Font family 'NanumGothic' not found.\n",
      "findfont: Font family 'NanumGothic' not found.\n"
     ]
    },
    {
     "data": {
      "image/png": "[encoded data removed]",
      "text/plain": [
       "<Figure size 640x480 with 1 Axes>"
      ]
     },
     "metadata": {},
     "output_type": "display_data"
    },
    {
     "name": "stderr",
     "output_type": "stream",
     "text": [
      "findfont: Font family 'NanumGothic' not found.\n",
      "findfont: Font family 'NanumGothic' not found.\n",
      "findfont: Font family 'NanumGothic' not found.\n",
      "findfont: Font family 'NanumGothic' not found.\n",
      "findfont: Font family 'NanumGothic' not found.\n",
      "findfont: Font family 'NanumGothic' not found.\n",
      "findfont: Font family 'NanumGothic' not found.\n",
      "findfont: Font family 'NanumGothic' not found.\n",
      "findfont: Font family 'NanumGothic' not found.\n",
      "findfont: Font family 'NanumGothic' not found.\n",
      "findfont: Font family 'NanumGothic' not found.\n",
      "findfont: Font family 'NanumGothic' not found.\n",
      "findfont: Font family 'NanumGothic' not found.\n",
      "findfont: Font family 'NanumGothic' not found.\n",
      "findfont: Font family 'NanumGothic' not found.\n",
      "findfont: Font family 'NanumGothic' not found.\n",
      "findfont: Font family 'NanumGothic' not found.\n",
      "findfont: Font family 'NanumGothic' not found.\n",
      "findfont: Font family 'NanumGothic' not found.\n",
      "findfont: Font family 'NanumGothic' not found.\n",
      "findfont: Font family 'NanumGothic' not found.\n",
      "findfont: Font family 'NanumGothic' not found.\n",
      "findfont: Font family 'NanumGothic' not found.\n",
      "findfont: Font family 'NanumGothic' not found.\n",
      "findfont: Font family 'NanumGothic' not found.\n",
      "findfont: Font family 'NanumGothic' not found.\n",
      "findfont: Font family 'NanumGothic' not found.\n",
      "findfont: Font family 'NanumGothic' not found.\n",
      "findfont: Font family 'NanumGothic' not found.\n",
      "findfont: Font family 'NanumGothic' not found.\n",
      "findfont: Font family 'NanumGothic' not found.\n",
      "findfont: Font family 'NanumGothic' not found.\n",
      "findfont: Font family 'NanumGothic' not found.\n",
      "findfont: Font family 'NanumGothic' not found.\n",
      "findfont: Font family 'NanumGothic' not found.\n",
      "findfont: Font family 'NanumGothic' not found.\n",
      "findfont: Font family 'NanumGothic' not found.\n",
      "findfont: Font family 'NanumGothic' not found.\n",
      "findfont: Font family 'NanumGothic' not found.\n",
      "findfont: Font family 'NanumGothic' not found.\n",
      "findfont: Font family 'NanumGothic' not found.\n",
      "findfont: Font family 'NanumGothic' not found.\n",
      "findfont: Font family 'NanumGothic' not found.\n",
      "findfont: Font family 'NanumGothic' not found.\n",
      "findfont: Font family 'NanumGothic' not found.\n",
      "findfont: Font family 'NanumGothic' not found.\n",
      "findfont: Font family 'NanumGothic' not found.\n",
      "findfont: Font family 'NanumGothic' not found.\n",
      "findfont: Font family 'NanumGothic' not found.\n",
      "findfont: Font family 'NanumGothic' not found.\n",
      "findfont: Font family 'NanumGothic' not found.\n",
      "findfont: Font family 'NanumGothic' not found.\n",
      "findfont: Font family 'NanumGothic' not found.\n"
     ]
    },
    {
     "data": {
      "image/png": "[encoded data removed]",
      "text/plain": [
       "<Figure size 640x480 with 1 Axes>"
      ]
     },
     "metadata": {},
     "output_type": "display_data"
    }
   ],
   "source": [
    "history = model.fit(train_images, train_labels, epochs=5, batch_size=128)\n",
    "loss = history.history['loss']\n",
    "acc = history.history['accuracy']\n",
    "epochs = range(1,len(loss)+1)\n",
    "\n",
    "plt.figure(1)\n",
    "plt.plot(epochs,loss,'b',label='Training Loss')\n",
    "plt.xlabel('epochs')\n",
    "plt.ylabel('loss')\n",
    "plt.figure(2)\n",
    "plt.plot(epochs,acc,'r',label='Accuracy')\n",
    "plt.xlabel('epochs')\n",
    "plt.ylabel('acc')\n",
    "plt.show()"
   ]
  },
  {
   "cell_type": "code",
   "execution_count": 9,
   "id": "9be4f813",
   "metadata": {},
   "outputs": [
    {
     "data": {
      "text/plain": [
       "array([[[[0.],\n",
       "         [0.],\n",
       "         [0.],\n",
       "         ...,\n",
       "         [0.],\n",
       "         [0.],\n",
       "         [0.]],\n",
       "\n",
       "        [[0.],\n",
       "         [0.],\n",
       "         [0.],\n",
       "         ...,\n",
       "         [0.],\n",
       "         [0.],\n",
       "         [0.]],\n",
       "\n",
       "        [[0.],\n",
       "         [0.],\n",
       "         [0.],\n",
       "         ...,\n",
       "         [0.],\n",
       "         [0.],\n",
       "         [0.]],\n",
       "\n",
       "        ...,\n",
       "\n",
       "        [[0.],\n",
       "         [0.],\n",
       "         [0.],\n",
       "         ...,\n",
       "         [0.],\n",
       "         [0.],\n",
       "         [0.]],\n",
       "\n",
       "        [[0.],\n",
       "         [0.],\n",
       "         [0.],\n",
       "         ...,\n",
       "         [0.],\n",
       "         [0.],\n",
       "         [0.]],\n",
       "\n",
       "        [[0.],\n",
       "         [0.],\n",
       "         [0.],\n",
       "         ...,\n",
       "         [0.],\n",
       "         [0.],\n",
       "         [0.]]],\n",
       "\n",
       "\n",
       "       [[[0.],\n",
       "         [0.],\n",
       "         [0.],\n",
       "         ...,\n",
       "         [0.],\n",
       "         [0.],\n",
       "         [0.]],\n",
       "\n",
       "        [[0.],\n",
       "         [0.],\n",
       "         [0.],\n",
       "         ...,\n",
       "         [0.],\n",
       "         [0.],\n",
       "         [0.]],\n",
       "\n",
       "        [[0.],\n",
       "         [0.],\n",
       "         [0.],\n",
       "         ...,\n",
       "         [0.],\n",
       "         [0.],\n",
       "         [0.]],\n",
       "\n",
       "        ...,\n",
       "\n",
       "        [[0.],\n",
       "         [0.],\n",
       "         [0.],\n",
       "         ...,\n",
       "         [0.],\n",
       "         [0.],\n",
       "         [0.]],\n",
       "\n",
       "        [[0.],\n",
       "         [0.],\n",
       "         [0.],\n",
       "         ...,\n",
       "         [0.],\n",
       "         [0.],\n",
       "         [0.]],\n",
       "\n",
       "        [[0.],\n",
       "         [0.],\n",
       "         [0.],\n",
       "         ...,\n",
       "         [0.],\n",
       "         [0.],\n",
       "         [0.]]],\n",
       "\n",
       "\n",
       "       [[[0.],\n",
       "         [0.],\n",
       "         [0.],\n",
       "         ...,\n",
       "         [0.],\n",
       "         [0.],\n",
       "         [0.]],\n",
       "\n",
       "        [[0.],\n",
       "         [0.],\n",
       "         [0.],\n",
       "         ...,\n",
       "         [0.],\n",
       "         [0.],\n",
       "         [0.]],\n",
       "\n",
       "        [[0.],\n",
       "         [0.],\n",
       "         [0.],\n",
       "         ...,\n",
       "         [0.],\n",
       "         [0.],\n",
       "         [0.]],\n",
       "\n",
       "        ...,\n",
       "\n",
       "        [[0.],\n",
       "         [0.],\n",
       "         [0.],\n",
       "         ...,\n",
       "         [0.],\n",
       "         [0.],\n",
       "         [0.]],\n",
       "\n",
       "        [[0.],\n",
       "         [0.],\n",
       "         [0.],\n",
       "         ...,\n",
       "         [0.],\n",
       "         [0.],\n",
       "         [0.]],\n",
       "\n",
       "        [[0.],\n",
       "         [0.],\n",
       "         [0.],\n",
       "         ...,\n",
       "         [0.],\n",
       "         [0.],\n",
       "         [0.]]],\n",
       "\n",
       "\n",
       "       ...,\n",
       "\n",
       "\n",
       "       [[[0.],\n",
       "         [0.],\n",
       "         [0.],\n",
       "         ...,\n",
       "         [0.],\n",
       "         [0.],\n",
       "         [0.]],\n",
       "\n",
       "        [[0.],\n",
       "         [0.],\n",
       "         [0.],\n",
       "         ...,\n",
       "         [0.],\n",
       "         [0.],\n",
       "         [0.]],\n",
       "\n",
       "        [[0.],\n",
       "         [0.],\n",
       "         [0.],\n",
       "         ...,\n",
       "         [0.],\n",
       "         [0.],\n",
       "         [0.]],\n",
       "\n",
       "        ...,\n",
       "\n",
       "        [[0.],\n",
       "         [0.],\n",
       "         [0.],\n",
       "         ...,\n",
       "         [0.],\n",
       "         [0.],\n",
       "         [0.]],\n",
       "\n",
       "        [[0.],\n",
       "         [0.],\n",
       "         [0.],\n",
       "         ...,\n",
       "         [0.],\n",
       "         [0.],\n",
       "         [0.]],\n",
       "\n",
       "        [[0.],\n",
       "         [0.],\n",
       "         [0.],\n",
       "         ...,\n",
       "         [0.],\n",
       "         [0.],\n",
       "         [0.]]],\n",
       "\n",
       "\n",
       "       [[[0.],\n",
       "         [0.],\n",
       "         [0.],\n",
       "         ...,\n",
       "         [0.],\n",
       "         [0.],\n",
       "         [0.]],\n",
       "\n",
       "        [[0.],\n",
       "         [0.],\n",
       "         [0.],\n",
       "         ...,\n",
       "         [0.],\n",
       "         [0.],\n",
       "         [0.]],\n",
       "\n",
       "        [[0.],\n",
       "         [0.],\n",
       "         [0.],\n",
       "         ...,\n",
       "         [0.],\n",
       "         [0.],\n",
       "         [0.]],\n",
       "\n",
       "        ...,\n",
       "\n",
       "        [[0.],\n",
       "         [0.],\n",
       "         [0.],\n",
       "         ...,\n",
       "         [0.],\n",
       "         [0.],\n",
       "         [0.]],\n",
       "\n",
       "        [[0.],\n",
       "         [0.],\n",
       "         [0.],\n",
       "         ...,\n",
       "         [0.],\n",
       "         [0.],\n",
       "         [0.]],\n",
       "\n",
       "        [[0.],\n",
       "         [0.],\n",
       "         [0.],\n",
       "         ...,\n",
       "         [0.],\n",
       "         [0.],\n",
       "         [0.]]],\n",
       "\n",
       "\n",
       "       [[[0.],\n",
       "         [0.],\n",
       "         [0.],\n",
       "         ...,\n",
       "         [0.],\n",
       "         [0.],\n",
       "         [0.]],\n",
       "\n",
       "        [[0.],\n",
       "         [0.],\n",
       "         [0.],\n",
       "         ...,\n",
       "         [0.],\n",
       "         [0.],\n",
       "         [0.]],\n",
       "\n",
       "        [[0.],\n",
       "         [0.],\n",
       "         [0.],\n",
       "         ...,\n",
       "         [0.],\n",
       "         [0.],\n",
       "         [0.]],\n",
       "\n",
       "        ...,\n",
       "\n",
       "        [[0.],\n",
       "         [0.],\n",
       "         [0.],\n",
       "         ...,\n",
       "         [0.],\n",
       "         [0.],\n",
       "         [0.]],\n",
       "\n",
       "        [[0.],\n",
       "         [0.],\n",
       "         [0.],\n",
       "         ...,\n",
       "         [0.],\n",
       "         [0.],\n",
       "         [0.]],\n",
       "\n",
       "        [[0.],\n",
       "         [0.],\n",
       "         [0.],\n",
       "         ...,\n",
       "         [0.],\n",
       "         [0.],\n",
       "         [0.]]]])"
      ]
     },
     "execution_count": 9,
     "metadata": {},
     "output_type": "execute_result"
    }
   ],
   "source": [
    "import tensorflow as tf\n",
    "from tensorflow.keras import datasets, layers, models\n",
    "\n",
    "(train_images, train_labels), (test_images, test_labels) = datasets.mnist.load_data()\n",
    "# cnn에 맞는 shape으로 변경\n",
    "train_images = train_images.reshape((60000,28,28,1))\n",
    "test_images = test_images.reshape((10000,28,28,1))\n",
    "# 픽셀값을 0에서 1사이로 정규화\n",
    "train_images,test_images = train_images/255.0, test_images/255.0\n",
    "train_images"
   ]
  },
  {
   "cell_type": "code",
   "execution_count": 8,
   "id": "e1d7e24a",
   "metadata": {},
   "outputs": [
    {
     "ename": "TypeError",
     "evalue": "unhashable type: 'numpy.ndarray'",
     "output_type": "error",
     "traceback": [
      "\u001b[1;31m---------------------------------------------------------------------------\u001b[0m",
      "\u001b[1;31mTypeError\u001b[0m                                 Traceback (most recent call last)",
      "Cell \u001b[1;32mIn[8], line 2\u001b[0m\n\u001b[0;32m      1\u001b[0m \u001b[38;5;28;01mfrom\u001b[39;00m \u001b[38;5;21;01mcollections\u001b[39;00m \u001b[38;5;28;01mimport\u001b[39;00m Counter\n\u001b[1;32m----> 2\u001b[0m counter \u001b[38;5;241m=\u001b[39m \u001b[43mCounter\u001b[49m\u001b[43m(\u001b[49m\u001b[43mtrain_images\u001b[49m\u001b[38;5;241;43m.\u001b[39;49m\u001b[43mreshape\u001b[49m\u001b[43m(\u001b[49m\u001b[38;5;241;43m1\u001b[39;49m\u001b[43m,\u001b[49m\u001b[38;5;241;43m-\u001b[39;49m\u001b[38;5;241;43m1\u001b[39;49m\u001b[43m)\u001b[49m\u001b[43m)\u001b[49m\n",
      "File \u001b[1;32m~\\anaconda3\\envs\\test\\lib\\collections\\__init__.py:577\u001b[0m, in \u001b[0;36mCounter.__init__\u001b[1;34m(self, iterable, **kwds)\u001b[0m\n\u001b[0;32m    566\u001b[0m \u001b[38;5;250m\u001b[39m\u001b[38;5;124;03m'''Create a new, empty Counter object.  And if given, count elements\u001b[39;00m\n\u001b[0;32m    567\u001b[0m \u001b[38;5;124;03mfrom an input iterable.  Or, initialize the count from another mapping\u001b[39;00m\n\u001b[0;32m    568\u001b[0m \u001b[38;5;124;03mof elements to their counts.\u001b[39;00m\n\u001b[1;32m   (...)\u001b[0m\n\u001b[0;32m    574\u001b[0m \n\u001b[0;32m    575\u001b[0m \u001b[38;5;124;03m'''\u001b[39;00m\n\u001b[0;32m    576\u001b[0m \u001b[38;5;28msuper\u001b[39m()\u001b[38;5;241m.\u001b[39m\u001b[38;5;21m__init__\u001b[39m()\n\u001b[1;32m--> 577\u001b[0m \u001b[38;5;28mself\u001b[39m\u001b[38;5;241m.\u001b[39mupdate(iterable, \u001b[38;5;241m*\u001b[39m\u001b[38;5;241m*\u001b[39mkwds)\n",
      "File \u001b[1;32m~\\anaconda3\\envs\\test\\lib\\collections\\__init__.py:670\u001b[0m, in \u001b[0;36mCounter.update\u001b[1;34m(self, iterable, **kwds)\u001b[0m\n\u001b[0;32m    668\u001b[0m             \u001b[38;5;28msuper\u001b[39m()\u001b[38;5;241m.\u001b[39mupdate(iterable)\n\u001b[0;32m    669\u001b[0m     \u001b[38;5;28;01melse\u001b[39;00m:\n\u001b[1;32m--> 670\u001b[0m         \u001b[43m_count_elements\u001b[49m\u001b[43m(\u001b[49m\u001b[38;5;28;43mself\u001b[39;49m\u001b[43m,\u001b[49m\u001b[43m \u001b[49m\u001b[43miterable\u001b[49m\u001b[43m)\u001b[49m\n\u001b[0;32m    671\u001b[0m \u001b[38;5;28;01mif\u001b[39;00m kwds:\n\u001b[0;32m    672\u001b[0m     \u001b[38;5;28mself\u001b[39m\u001b[38;5;241m.\u001b[39mupdate(kwds)\n",
      "\u001b[1;31mTypeError\u001b[0m: unhashable type: 'numpy.ndarray'"
     ]
    }
   ],
   "source": [
    "from collections import Counter\n",
    "counter = Counter(train_images.reshape(1,-1))"
   ]
  },
  {
   "cell_type": "code",
   "execution_count": null,
   "id": "b0a7ec56",
   "metadata": {},
   "outputs": [],
   "source": [
    "counter #리스트에서 나온값의 개수 새기"
   ]
  },
  {
   "cell_type": "code",
   "execution_count": 16,
   "id": "34f7f5ae",
   "metadata": {},
   "outputs": [],
   "source": [
    "model = models.Sequential()"
   ]
  },
  {
   "cell_type": "markdown",
   "id": "4b48401b",
   "metadata": {},
   "source": [
    "model.add(layers.Conv2D(32,(3,3),activation = 'relu', input_shape=(28,28,1)))\n",
    "model.add(layers.MaxPooling2D((2,2)))\n",
    "model.add(layers.Conv2D(64,(3,3),activation='relu'))\n",
    "model.add(layers.MaxPooling2D((2,2)))\n",
    "model.add(layers.Conv2D(64,(3,3),activation='relu'))\n",
    "\n",
    "model.add(layers.Flatten())\n",
    "model.add(layers.Dense(64,activation='relu'))\n",
    "model.add(layers.Dense(10,activation='softmax'))"
   ]
  },
  {
   "cell_type": "code",
   "execution_count": 17,
   "id": "ea9d6e65",
   "metadata": {},
   "outputs": [],
   "source": [
    "model.add(layers.Conv2D(32,(3,3),activation = 'relu', input_shape=(28,28,1))) \n",
    "model.add(layers.MaxPooling2D((2,2))) \n",
    "model.add(layers.Conv2D(64,(3,3),activation='relu')) \n",
    "model.add(layers.MaxPooling2D((2,2))) \n",
    "model.add(layers.Conv2D(64,(3,3),activation='relu'))\n",
    "\n",
    "model.add(layers.Flatten()) \n",
    "model.add(layers.Dense(64,activation='relu'))\n",
    "model.add(layers.Dense(10,activation='softmax'))"
   ]
  },
  {
   "cell_type": "code",
   "execution_count": 18,
   "id": "8329e3db",
   "metadata": {},
   "outputs": [
    {
     "name": "stdout",
     "output_type": "stream",
     "text": [
      "Model: \"sequential_1\"\n",
      "_________________________________________________________________\n",
      " Layer (type)                Output Shape              Param #   \n",
      "=================================================================\n",
      " conv2d (Conv2D)             (None, 26, 26, 32)        320       \n",
      "                                                                 \n",
      " max_pooling2d (MaxPooling2D  (None, 13, 13, 32)       0         \n",
      " )                                                               \n",
      "                                                                 \n",
      " conv2d_1 (Conv2D)           (None, 11, 11, 64)        18496     \n",
      "                                                                 \n",
      " max_pooling2d_1 (MaxPooling  (None, 5, 5, 64)         0         \n",
      " 2D)                                                             \n",
      "                                                                 \n",
      " conv2d_2 (Conv2D)           (None, 3, 3, 64)          36928     \n",
      "                                                                 \n",
      " flatten (Flatten)           (None, 576)               0         \n",
      "                                                                 \n",
      " dense (Dense)               (None, 64)                36928     \n",
      "                                                                 \n",
      " dense_1 (Dense)             (None, 10)                650       \n",
      "                                                                 \n",
      "=================================================================\n",
      "Total params: 93,322\n",
      "Trainable params: 93,322\n",
      "Non-trainable params: 0\n",
      "_________________________________________________________________\n"
     ]
    }
   ],
   "source": [
    "model.summary()"
   ]
  },
  {
   "cell_type": "code",
   "execution_count": 19,
   "id": "117fe9ba",
   "metadata": {},
   "outputs": [
    {
     "name": "stdout",
     "output_type": "stream",
     "text": [
      "Epoch 1/5\n",
      "1875/1875 [==============================] - 42s 21ms/step - loss: 0.1498 - accuracy: 0.9544\n",
      "Epoch 2/5\n",
      "1875/1875 [==============================] - 67s 36ms/step - loss: 0.0478 - accuracy: 0.9849\n",
      "Epoch 3/5\n",
      "1875/1875 [==============================] - 60s 32ms/step - loss: 0.0331 - accuracy: 0.9898\n",
      "Epoch 4/5\n",
      "1875/1875 [==============================] - 58s 31ms/step - loss: 0.0252 - accuracy: 0.9920\n",
      "Epoch 5/5\n",
      "1875/1875 [==============================] - 53s 28ms/step - loss: 0.0209 - accuracy: 0.9932\n"
     ]
    },
    {
     "data": {
      "text/plain": [
       "<keras.callbacks.History at 0x20c94029900>"
      ]
     },
     "execution_count": 19,
     "metadata": {},
     "output_type": "execute_result"
    }
   ],
   "source": [
    "# cnn을 이용해서 mnist 손글씨 인식모델 학습\n",
    "model.compile(optimizer='adam',\n",
    "             loss='sparse_categorical_crossentropy',\n",
    "             metrics=['accuracy'])\n",
    "model.fit(train_images,train_labels,epochs=5)"
   ]
  },
  {
   "cell_type": "code",
   "execution_count": 20,
   "id": "06fcaafa",
   "metadata": {},
   "outputs": [
    {
     "name": "stdout",
     "output_type": "stream",
     "text": [
      "Collecting opencv-pythonNote: you may need to restart the kernel to use updated packages.\n",
      "\n",
      "  Downloading opencv_python-4.7.0.72-cp37-abi3-win_amd64.whl (38.2 MB)\n",
      "     --------------------------------------- 38.2/38.2 MB 10.1 MB/s eta 0:00:00\n",
      "Requirement already satisfied: numpy>=1.21.2 in c:\\users\\mark8\\anaconda3\\envs\\test\\lib\\site-packages (from opencv-python) (1.24.3)\n",
      "Installing collected packages: opencv-python\n",
      "Successfully installed opencv-python-4.7.0.72\n"
     ]
    }
   ],
   "source": [
    "pip install opencv-python"
   ]
  },
  {
   "cell_type": "code",
   "execution_count": 49,
   "id": "b928315c",
   "metadata": {},
   "outputs": [
    {
     "name": "stderr",
     "output_type": "stream",
     "text": [
      "findfont: Font family 'NanumGothic' not found.\n",
      "findfont: Font family 'NanumGothic' not found.\n",
      "findfont: Font family 'NanumGothic' not found.\n",
      "findfont: Font family 'NanumGothic' not found.\n",
      "findfont: Font family 'NanumGothic' not found.\n",
      "findfont: Font family 'NanumGothic' not found.\n",
      "findfont: Font family 'NanumGothic' not found.\n",
      "findfont: Font family 'NanumGothic' not found.\n",
      "findfont: Font family 'NanumGothic' not found.\n",
      "findfont: Font family 'NanumGothic' not found.\n",
      "findfont: Font family 'NanumGothic' not found.\n",
      "findfont: Font family 'NanumGothic' not found.\n",
      "findfont: Font family 'NanumGothic' not found.\n",
      "findfont: Font family 'NanumGothic' not found.\n",
      "findfont: Font family 'NanumGothic' not found.\n",
      "findfont: Font family 'NanumGothic' not found.\n",
      "findfont: Font family 'NanumGothic' not found.\n",
      "findfont: Font family 'NanumGothic' not found.\n",
      "findfont: Font family 'NanumGothic' not found.\n",
      "findfont: Font family 'NanumGothic' not found.\n",
      "findfont: Font family 'NanumGothic' not found.\n",
      "findfont: Font family 'NanumGothic' not found.\n",
      "findfont: Font family 'NanumGothic' not found.\n",
      "findfont: Font family 'NanumGothic' not found.\n",
      "findfont: Font family 'NanumGothic' not found.\n",
      "findfont: Font family 'NanumGothic' not found.\n"
     ]
    },
    {
     "data": {
      "image/png": "[encoded data removed]",
      "text/plain": [
       "<Figure size 640x480 with 1 Axes>"
      ]
     },
     "metadata": {},
     "output_type": "display_data"
    }
   ],
   "source": [
    "import matplotlib.pyplot as plt\n",
    "import cv2 as cv\n",
    "image = cv.imread('test/test9.png',cv.IMREAD_GRAYSCALE)\n",
    "image=cv.resize(image,(28,28))\n",
    "image=image.astype('float32')\n",
    "image=image.reshape(1,784)\n",
    "image=255-image\n",
    "image/=255.0\n",
    "\n",
    "plt.imshow(image.reshape(28,28),cmap='Greys')\n",
    "plt.show()"
   ]
  },
  {
   "cell_type": "code",
   "execution_count": 50,
   "id": "027eb449",
   "metadata": {},
   "outputs": [
    {
     "name": "stdout",
     "output_type": "stream",
     "text": [
      "1/1 [==============================] - 0s 26ms/step\n",
      "추정된 숫자= 9\n"
     ]
    }
   ],
   "source": [
    "pred = model.predict(image.reshape(1,28,28,1),batch_size=1)\n",
    "print('추정된 숫자=',pred.argmax())"
   ]
  },
  {
   "cell_type": "code",
   "execution_count": 1,
   "id": "088a4705",
   "metadata": {},
   "outputs": [
    {
     "name": "stdout",
     "output_type": "stream",
     "text": [
      "Downloading data from https://www.cs.toronto.edu/~kriz/cifar-10-python.tar.gz\n",
      "170498071/170498071 [==============================] - 62s 0us/step\n"
     ]
    }
   ],
   "source": [
    "import numpy as np\n",
    "import matplotlib.pyplot as plt\n",
    "import tensorflow as tf\n",
    "from tensorflow import keras\n",
    "from tensorflow.keras import Sequential\n",
    "from tensorflow.keras.layers import *\n",
    "\n",
    "(x_train, y_train),(x_test, y_test ) = keras.datasets.cifar10.load_data()"
   ]
  },
  {
   "cell_type": "code",
   "execution_count": 2,
   "id": "3fdc9eb9",
   "metadata": {},
   "outputs": [
    {
     "name": "stderr",
     "output_type": "stream",
     "text": [
      "findfont: Font family 'NanumGothic' not found.\n",
      "findfont: Font family 'NanumGothic' not found.\n",
      "findfont: Font family 'NanumGothic' not found.\n",
      "findfont: Font family 'NanumGothic' not found.\n",
      "findfont: Font family 'NanumGothic' not found.\n",
      "findfont: Font family 'NanumGothic' not found.\n",
      "findfont: Font family 'NanumGothic' not found.\n",
      "findfont: Font family 'NanumGothic' not found.\n",
      "findfont: Font family 'NanumGothic' not found.\n",
      "findfont: Font family 'NanumGothic' not found.\n",
      "findfont: Font family 'NanumGothic' not found.\n",
      "findfont: Font family 'NanumGothic' not found.\n",
      "findfont: Font family 'NanumGothic' not found.\n",
      "findfont: Font family 'NanumGothic' not found.\n",
      "findfont: Font family 'NanumGothic' not found.\n",
      "findfont: Font family 'NanumGothic' not found.\n",
      "findfont: Font family 'NanumGothic' not found.\n",
      "findfont: Font family 'NanumGothic' not found.\n",
      "findfont: Font family 'NanumGothic' not found.\n",
      "findfont: Font family 'NanumGothic' not found.\n",
      "findfont: Font family 'NanumGothic' not found.\n",
      "findfont: Font family 'NanumGothic' not found.\n",
      "findfont: Font family 'NanumGothic' not found.\n",
      "findfont: Font family 'NanumGothic' not found.\n",
      "findfont: Font family 'NanumGothic' not found.\n",
      "findfont: Font family 'NanumGothic' not found.\n",
      "findfont: Font family 'NanumGothic' not found.\n",
      "findfont: Font family 'NanumGothic' not found.\n",
      "findfont: Font family 'NanumGothic' not found.\n",
      "findfont: Font family 'NanumGothic' not found.\n",
      "findfont: Font family 'NanumGothic' not found.\n",
      "findfont: Font family 'NanumGothic' not found.\n",
      "findfont: Font family 'NanumGothic' not found.\n",
      "findfont: Font family 'NanumGothic' not found.\n",
      "findfont: Font family 'NanumGothic' not found.\n",
      "findfont: Font family 'NanumGothic' not found.\n",
      "findfont: Font family 'NanumGothic' not found.\n",
      "findfont: Font family 'NanumGothic' not found.\n",
      "findfont: Font family 'NanumGothic' not found.\n",
      "findfont: Font family 'NanumGothic' not found.\n",
      "findfont: Font family 'NanumGothic' not found.\n",
      "findfont: Font family 'NanumGothic' not found.\n",
      "findfont: Font family 'NanumGothic' not found.\n",
      "findfont: Font family 'NanumGothic' not found.\n",
      "findfont: Font family 'NanumGothic' not found.\n"
     ]
    },
    {
     "data": {
      "image/png": "[encoded data removed]",
      "text/plain": [
       "<Figure size 640x480 with 2 Axes>"
      ]
     },
     "metadata": {},
     "output_type": "display_data"
    }
   ],
   "source": [
    "plt.figure()\n",
    "plt.imshow(x_train[1])\n",
    "plt.colorbar()\n",
    "plt.show()"
   ]
  },
  {
   "cell_type": "code",
   "execution_count": 3,
   "id": "352d3916",
   "metadata": {},
   "outputs": [],
   "source": [
    "# 영상의 픽셀값을 0에서 1사이로 변환\n",
    "x_train=x_train/255.0\n",
    "x_test=x_test/255.0"
   ]
  },
  {
   "cell_type": "code",
   "execution_count": 10,
   "id": "f945c31a",
   "metadata": {},
   "outputs": [],
   "source": [
    "# 순차 모델을 구축\n",
    "model = Sequential()\n",
    "model.add(Conv2D(64, activation = 'relu', kernel_size = (3,3)))\n",
    "model.add(MaxPooling2D(pool_size=(2,2)))\n",
    "model.add(Conv2D(32, activation='relu', kernel_size=(3,3)))\n",
    "model.add(Flatten(input_shape=(32,32,3)))\n",
    "model.add(Dense(80, activation='relu'))\n",
    "model.add(Dense(10,activation='softmax'))"
   ]
  },
  {
   "cell_type": "code",
   "execution_count": 12,
   "id": "764da857",
   "metadata": {},
   "outputs": [],
   "source": [
    "model.compile(optimizer = 'adam', loss='sparse_categorical_crossentropy', metrics=['accuracy'])"
   ]
  },
  {
   "cell_type": "code",
   "execution_count": 13,
   "id": "4b963fae",
   "metadata": {},
   "outputs": [
    {
     "name": "stdout",
     "output_type": "stream",
     "text": [
      "Epoch 1/10\n",
      "1094/1094 [==============================] - 104s 93ms/step - loss: 1.5689 - accuracy: 0.4282 - val_loss: 1.3851 - val_accuracy: 0.5032\n",
      "Epoch 2/10\n",
      "1094/1094 [==============================] - 82s 75ms/step - loss: 1.2634 - accuracy: 0.5484 - val_loss: 1.2807 - val_accuracy: 0.5415\n",
      "Epoch 3/10\n",
      "1094/1094 [==============================] - 63s 57ms/step - loss: 1.1202 - accuracy: 0.6053 - val_loss: 1.1339 - val_accuracy: 0.5988\n",
      "Epoch 4/10\n",
      "1094/1094 [==============================] - 63s 58ms/step - loss: 1.0133 - accuracy: 0.6429 - val_loss: 1.1040 - val_accuracy: 0.6109\n",
      "Epoch 5/10\n",
      "1094/1094 [==============================] - 66s 60ms/step - loss: 0.9183 - accuracy: 0.6805 - val_loss: 1.0181 - val_accuracy: 0.6424\n",
      "Epoch 6/10\n",
      "1094/1094 [==============================] - 67s 61ms/step - loss: 0.8353 - accuracy: 0.7085 - val_loss: 1.0228 - val_accuracy: 0.6463\n",
      "Epoch 7/10\n",
      "1094/1094 [==============================] - 65s 59ms/step - loss: 0.7621 - accuracy: 0.7334 - val_loss: 1.0022 - val_accuracy: 0.6575\n",
      "Epoch 8/10\n",
      "1094/1094 [==============================] - 62s 57ms/step - loss: 0.6954 - accuracy: 0.7567 - val_loss: 1.0197 - val_accuracy: 0.6573\n",
      "Epoch 9/10\n",
      "1094/1094 [==============================] - 68s 62ms/step - loss: 0.6371 - accuracy: 0.7785 - val_loss: 1.0646 - val_accuracy: 0.6526\n",
      "Epoch 10/10\n",
      "1094/1094 [==============================] - 93s 85ms/step - loss: 0.5754 - accuracy: 0.8009 - val_loss: 1.1207 - val_accuracy: 0.6535\n"
     ]
    }
   ],
   "source": [
    "history = model.fit(x_train, y_train, epochs=10, verbose=1,validation_split=0.3)"
   ]
  },
  {
   "cell_type": "code",
   "execution_count": 14,
   "id": "65829b89",
   "metadata": {},
   "outputs": [
    {
     "name": "stderr",
     "output_type": "stream",
     "text": [
      "findfont: Font family 'NanumGothic' not found.\n",
      "findfont: Font family 'NanumGothic' not found.\n",
      "findfont: Font family 'NanumGothic' not found.\n",
      "findfont: Font family 'NanumGothic' not found.\n",
      "findfont: Font family 'NanumGothic' not found.\n",
      "findfont: Font family 'NanumGothic' not found.\n",
      "findfont: Font family 'NanumGothic' not found.\n",
      "findfont: Font family 'NanumGothic' not found.\n",
      "findfont: Font family 'NanumGothic' not found.\n",
      "findfont: Font family 'NanumGothic' not found.\n",
      "findfont: Font family 'NanumGothic' not found.\n",
      "findfont: Font family 'NanumGothic' not found.\n",
      "findfont: Font family 'NanumGothic' not found.\n",
      "findfont: Font family 'NanumGothic' not found.\n",
      "findfont: Font family 'NanumGothic' not found.\n",
      "findfont: Font family 'NanumGothic' not found.\n",
      "findfont: Font family 'NanumGothic' not found.\n",
      "findfont: Font family 'NanumGothic' not found.\n",
      "findfont: Font family 'NanumGothic' not found.\n",
      "findfont: Font family 'NanumGothic' not found.\n",
      "findfont: Font family 'NanumGothic' not found.\n",
      "findfont: Font family 'NanumGothic' not found.\n",
      "findfont: Font family 'NanumGothic' not found.\n",
      "findfont: Font family 'NanumGothic' not found.\n",
      "findfont: Font family 'NanumGothic' not found.\n",
      "findfont: Font family 'NanumGothic' not found.\n",
      "findfont: Font family 'NanumGothic' not found.\n",
      "findfont: Font family 'NanumGothic' not found.\n",
      "findfont: Font family 'NanumGothic' not found.\n",
      "findfont: Font family 'NanumGothic' not found.\n",
      "findfont: Font family 'NanumGothic' not found.\n",
      "findfont: Font family 'NanumGothic' not found.\n",
      "findfont: Font family 'NanumGothic' not found.\n",
      "findfont: Font family 'NanumGothic' not found.\n",
      "findfont: Font family 'NanumGothic' not found.\n",
      "findfont: Font family 'NanumGothic' not found.\n",
      "findfont: Font family 'NanumGothic' not found.\n",
      "findfont: Font family 'NanumGothic' not found.\n",
      "findfont: Font family 'NanumGothic' not found.\n",
      "findfont: Font family 'NanumGothic' not found.\n",
      "findfont: Font family 'NanumGothic' not found.\n",
      "findfont: Font family 'NanumGothic' not found.\n",
      "findfont: Font family 'NanumGothic' not found.\n",
      "findfont: Font family 'NanumGothic' not found.\n",
      "findfont: Font family 'NanumGothic' not found.\n",
      "findfont: Font family 'NanumGothic' not found.\n",
      "findfont: Font family 'NanumGothic' not found.\n",
      "findfont: Font family 'NanumGothic' not found.\n",
      "findfont: Font family 'NanumGothic' not found.\n",
      "findfont: Font family 'NanumGothic' not found.\n",
      "findfont: Font family 'NanumGothic' not found.\n",
      "findfont: Font family 'NanumGothic' not found.\n",
      "findfont: Font family 'NanumGothic' not found.\n",
      "findfont: Font family 'NanumGothic' not found.\n",
      "findfont: Font family 'NanumGothic' not found.\n",
      "findfont: Font family 'NanumGothic' not found.\n",
      "findfont: Font family 'NanumGothic' not found.\n",
      "findfont: Font family 'NanumGothic' not found.\n",
      "findfont: Font family 'NanumGothic' not found.\n",
      "findfont: Font family 'NanumGothic' not found.\n",
      "findfont: Font family 'NanumGothic' not found.\n",
      "findfont: Font family 'NanumGothic' not found.\n",
      "findfont: Font family 'NanumGothic' not found.\n",
      "findfont: Font family 'NanumGothic' not found.\n",
      "findfont: Font family 'NanumGothic' not found.\n",
      "findfont: Font family 'NanumGothic' not found.\n",
      "findfont: Font family 'NanumGothic' not found.\n",
      "findfont: Font family 'NanumGothic' not found.\n",
      "findfont: Font family 'NanumGothic' not found.\n",
      "findfont: Font family 'NanumGothic' not found.\n",
      "findfont: Font family 'NanumGothic' not found.\n",
      "findfont: Font family 'NanumGothic' not found.\n",
      "findfont: Font family 'NanumGothic' not found.\n",
      "findfont: Font family 'NanumGothic' not found.\n",
      "findfont: Font family 'NanumGothic' not found.\n",
      "findfont: Font family 'NanumGothic' not found.\n"
     ]
    },
    {
     "data": {
      "image/png": "[encoded data removed]",
      "text/plain": [
       "<Figure size 640x480 with 1 Axes>"
      ]
     },
     "metadata": {},
     "output_type": "display_data"
    }
   ],
   "source": [
    "plt.plot(history.history['loss'])\n",
    "plt.plot(history.history['val_loss'])\n",
    "plt.title('loss')\n",
    "plt.ylabel('loss')\n",
    "plt.xlabel('epoch')\n",
    "plt.legend(['loss','val_loss'],loc='lower right')\n",
    "plt.show()"
   ]
  },
  {
   "cell_type": "code",
   "execution_count": 16,
   "id": "b79e7d02",
   "metadata": {},
   "outputs": [
    {
     "name": "stderr",
     "output_type": "stream",
     "text": [
      "findfont: Font family 'NanumGothic' not found.\n",
      "findfont: Font family 'NanumGothic' not found.\n",
      "findfont: Font family 'NanumGothic' not found.\n",
      "findfont: Font family 'NanumGothic' not found.\n",
      "findfont: Font family 'NanumGothic' not found.\n",
      "findfont: Font family 'NanumGothic' not found.\n",
      "findfont: Font family 'NanumGothic' not found.\n",
      "findfont: Font family 'NanumGothic' not found.\n",
      "findfont: Font family 'NanumGothic' not found.\n",
      "findfont: Font family 'NanumGothic' not found.\n",
      "findfont: Font family 'NanumGothic' not found.\n",
      "findfont: Font family 'NanumGothic' not found.\n",
      "findfont: Font family 'NanumGothic' not found.\n",
      "findfont: Font family 'NanumGothic' not found.\n",
      "findfont: Font family 'NanumGothic' not found.\n",
      "findfont: Font family 'NanumGothic' not found.\n",
      "findfont: Font family 'NanumGothic' not found.\n",
      "findfont: Font family 'NanumGothic' not found.\n",
      "findfont: Font family 'NanumGothic' not found.\n",
      "findfont: Font family 'NanumGothic' not found.\n",
      "findfont: Font family 'NanumGothic' not found.\n",
      "findfont: Font family 'NanumGothic' not found.\n",
      "findfont: Font family 'NanumGothic' not found.\n",
      "findfont: Font family 'NanumGothic' not found.\n",
      "findfont: Font family 'NanumGothic' not found.\n",
      "findfont: Font family 'NanumGothic' not found.\n",
      "findfont: Font family 'NanumGothic' not found.\n",
      "findfont: Font family 'NanumGothic' not found.\n",
      "findfont: Font family 'NanumGothic' not found.\n",
      "findfont: Font family 'NanumGothic' not found.\n"
     ]
    },
    {
     "data": {
      "image/png": "[encoded data removed]",
      "text/plain": [
       "<Figure size 640x480 with 1 Axes>"
      ]
     },
     "metadata": {},
     "output_type": "display_data"
    },
    {
     "name": "stdout",
     "output_type": "stream",
     "text": [
      "313/313 [==============================] - 3s 7ms/step\n",
      "정답= [3]\n",
      "예측값= [9.4258248e-06 5.6383749e-07 6.9052912e-05 9.5960128e-01 1.3800038e-03\n",
      " 5.1140185e-03 3.3125162e-02 3.3018176e-05 6.3490192e-04 3.2576911e-05]\n"
     ]
    }
   ],
   "source": [
    "plt.figure()\n",
    "plt.imshow(x_test[0])\n",
    "plt.show()\n",
    "y_pred=model.predict(x_test)\n",
    "print('정답=',y_test[0])\n",
    "print('예측값=',y_pred[0])\n",
    "# 클래스 3번은 cat"
   ]
  },
  {
   "cell_type": "code",
   "execution_count": 19,
   "id": "a25d8eb6",
   "metadata": {},
   "outputs": [
    {
     "data": {
      "text/plain": [
       "array([[1. , 2. , 4. ],\n",
       "       [3. , 4. , 3. ],\n",
       "       [5.5, 6. , 5. ],\n",
       "       [8. , 8. , 7. ]])"
      ]
     },
     "execution_count": 19,
     "metadata": {},
     "output_type": "execute_result"
    }
   ],
   "source": [
    "# missing data 2 imputation nearest neighbor \n",
    "import numpy as np\n",
    "from sklearn.impute import KNNImputer\n",
    "nan = np.nan\n",
    "x = [[1,2,nan],\n",
    "    [3,4,3],\n",
    "    [nan, 6,5],\n",
    "    [8,8,7]]\n",
    "imputer = KNNImputer(n_neighbors = 2, weights = 'uniform')\n",
    "imputer.fit_transform(x)"
   ]
  },
  {
   "cell_type": "code",
   "execution_count": 16,
   "id": "e2f73fe8",
   "metadata": {},
   "outputs": [
    {
     "ename": "AttributeError",
     "evalue": "module 'tensorflow' has no attribute 'initialize_all_variables'",
     "output_type": "error",
     "traceback": [
      "\u001b[1;31m---------------------------------------------------------------------------\u001b[0m",
      "\u001b[1;31mAttributeError\u001b[0m                            Traceback (most recent call last)",
      "Cell \u001b[1;32mIn[16], line 2\u001b[0m\n\u001b[0;32m      1\u001b[0m \u001b[38;5;66;03m# failedPreconditionError 변수가 초기화되기전에 변수를 읽으려 할때 발생하는 에러 모든 변수 초기화한다\u001b[39;00m\n\u001b[1;32m----> 2\u001b[0m \u001b[43mtf\u001b[49m\u001b[38;5;241;43m.\u001b[39;49m\u001b[43minitialize_all_variables\u001b[49m()\n",
      "\u001b[1;31mAttributeError\u001b[0m: module 'tensorflow' has no attribute 'initialize_all_variables'"
     ]
    }
   ],
   "source": []
  },
  {
   "cell_type": "code",
   "execution_count": 20,
   "id": "e1c144ef",
   "metadata": {},
   "outputs": [],
   "source": [
    "# model 저장및 복원\n",
    "import numpy as np\n",
    "import tensorflow as tf\n",
    "# failedPreconditionError 변수가 초기화되기전에 변수를 읽으려 할때 발생하는 에러 모든 변수 초기화한다\n",
    "# init_op = tf.initialize_all_variables().run()\n",
    "# 난수로 훈련 예제를 만듬\n",
    "test_input = np.random.random((128,32))\n",
    "# len(test_input[0])\n",
    "test_target = np.random.random((128,1))\n",
    "\n"
   ]
  },
  {
   "cell_type": "code",
   "execution_count": 21,
   "id": "4c10f6ef",
   "metadata": {},
   "outputs": [],
   "source": [
    "# 입력이 32, 출력이 1노드인 신경망 모델을 구축 함수형 API를 사용\n",
    "inputs = tf.keras.Input(shape=(32,))\n",
    "outputs = tf.keras.layers.Dense(1)(inputs)\n",
    "model = tf.keras.Model(inputs, outputs)\n",
    "model.compile(optimizer = 'adam', loss ='mean_squared_error')\n"
   ]
  },
  {
   "cell_type": "code",
   "execution_count": 22,
   "id": "541eacde",
   "metadata": {
    "scrolled": false
   },
   "outputs": [
    {
     "name": "stdout",
     "output_type": "stream",
     "text": [
      "Epoch 1/3\n",
      "4/4 [==============================] - 0s 2ms/step - loss: 3.1735\n",
      "Epoch 2/3\n",
      "4/4 [==============================] - 0s 3ms/step - loss: 2.9445\n",
      "Epoch 3/3\n",
      "4/4 [==============================] - 0s 3ms/step - loss: 2.7234\n"
     ]
    },
    {
     "name": "stderr",
     "output_type": "stream",
     "text": [
      "WARNING:absl:Found untraced functions such as _update_step_xla while saving (showing 1 of 1). These functions will not be directly callable after loading.\n"
     ]
    },
    {
     "ename": "FailedPreconditionError",
     "evalue": "my_model\\variables is not a directory",
     "output_type": "error",
     "traceback": [
      "\u001b[1;31m---------------------------------------------------------------------------\u001b[0m",
      "\u001b[1;31mFailedPreconditionError\u001b[0m                   Traceback (most recent call last)",
      "Cell \u001b[1;32mIn[22], line 4\u001b[0m\n\u001b[0;32m      2\u001b[0m model\u001b[38;5;241m.\u001b[39mfit(test_input, test_target, epochs\u001b[38;5;241m=\u001b[39m\u001b[38;5;241m3\u001b[39m)\n\u001b[0;32m      3\u001b[0m \u001b[38;5;66;03m# 3의 에포크를 수행한 모델을 저장\u001b[39;00m\n\u001b[1;32m----> 4\u001b[0m \u001b[43mmodel\u001b[49m\u001b[38;5;241;43m.\u001b[39;49m\u001b[43msave\u001b[49m\u001b[43m(\u001b[49m\u001b[38;5;124;43m\"\u001b[39;49m\u001b[38;5;124;43mmy_model\u001b[39;49m\u001b[38;5;124;43m\"\u001b[39;49m\u001b[43m)\u001b[49m\n\u001b[0;32m      5\u001b[0m saved_model\u001b[38;5;241m=\u001b[39m tf\u001b[38;5;241m.\u001b[39mkeras\u001b[38;5;241m.\u001b[39mmodels\u001b[38;5;241m.\u001b[39mload_model(\u001b[38;5;124m'\u001b[39m\u001b[38;5;124mmy_model\u001b[39m\u001b[38;5;124m'\u001b[39m)\n\u001b[0;32m      6\u001b[0m \u001b[38;5;66;03m# 저장된 모델을 다시 학습시킴\u001b[39;00m\n",
      "File \u001b[1;32m~\\anaconda3\\envs\\test\\lib\\site-packages\\keras\\utils\\traceback_utils.py:70\u001b[0m, in \u001b[0;36mfilter_traceback.<locals>.error_handler\u001b[1;34m(*args, **kwargs)\u001b[0m\n\u001b[0;32m     67\u001b[0m     filtered_tb \u001b[38;5;241m=\u001b[39m _process_traceback_frames(e\u001b[38;5;241m.\u001b[39m__traceback__)\n\u001b[0;32m     68\u001b[0m     \u001b[38;5;66;03m# To get the full stack trace, call:\u001b[39;00m\n\u001b[0;32m     69\u001b[0m     \u001b[38;5;66;03m# `tf.debugging.disable_traceback_filtering()`\u001b[39;00m\n\u001b[1;32m---> 70\u001b[0m     \u001b[38;5;28;01mraise\u001b[39;00m e\u001b[38;5;241m.\u001b[39mwith_traceback(filtered_tb) \u001b[38;5;28;01mfrom\u001b[39;00m \u001b[38;5;28mNone\u001b[39m\n\u001b[0;32m     71\u001b[0m \u001b[38;5;28;01mfinally\u001b[39;00m:\n\u001b[0;32m     72\u001b[0m     \u001b[38;5;28;01mdel\u001b[39;00m filtered_tb\n",
      "File \u001b[1;32m~\\anaconda3\\envs\\test\\lib\\site-packages\\tensorflow\\python\\lib\\io\\file_io.py:513\u001b[0m, in \u001b[0;36mrecursive_create_dir_v2\u001b[1;34m(path)\u001b[0m\n\u001b[0;32m    501\u001b[0m \u001b[38;5;129m@tf_export\u001b[39m(\u001b[38;5;124m\"\u001b[39m\u001b[38;5;124mio.gfile.makedirs\u001b[39m\u001b[38;5;124m\"\u001b[39m)\n\u001b[0;32m    502\u001b[0m \u001b[38;5;28;01mdef\u001b[39;00m \u001b[38;5;21mrecursive_create_dir_v2\u001b[39m(path):\n\u001b[0;32m    503\u001b[0m \u001b[38;5;250m  \u001b[39m\u001b[38;5;124;03m\"\"\"Creates a directory and all parent/intermediate directories.\u001b[39;00m\n\u001b[0;32m    504\u001b[0m \n\u001b[0;32m    505\u001b[0m \u001b[38;5;124;03m  It succeeds if path already exists and is writable.\u001b[39;00m\n\u001b[1;32m   (...)\u001b[0m\n\u001b[0;32m    511\u001b[0m \u001b[38;5;124;03m    errors.OpError: If the operation fails.\u001b[39;00m\n\u001b[0;32m    512\u001b[0m \u001b[38;5;124;03m  \"\"\"\u001b[39;00m\n\u001b[1;32m--> 513\u001b[0m   \u001b[43m_pywrap_file_io\u001b[49m\u001b[38;5;241;43m.\u001b[39;49m\u001b[43mRecursivelyCreateDir\u001b[49m\u001b[43m(\u001b[49m\u001b[43mcompat\u001b[49m\u001b[38;5;241;43m.\u001b[39;49m\u001b[43mpath_to_bytes\u001b[49m\u001b[43m(\u001b[49m\u001b[43mpath\u001b[49m\u001b[43m)\u001b[49m\u001b[43m)\u001b[49m\n",
      "\u001b[1;31mFailedPreconditionError\u001b[0m: my_model\\variables is not a directory"
     ]
    }
   ],
   "source": [
    "# 신경망을 세번 훈련시킴\n",
    "model.fit(test_input, test_target, epochs=3)\n",
    "# 3의 에포크를 수행한 모델을 저장\n",
    "model.save(\"my_model\")\n",
    "saved_model= tf.keras.models.load_model('my_model')\n",
    "# 저장된 모델을 다시 학습시킴\n",
    "saved_model.fit(test_input, test_target, epochs=3)"
   ]
  },
  {
   "cell_type": "code",
   "execution_count": 30,
   "id": "11eeeb3d",
   "metadata": {},
   "outputs": [
    {
     "name": "stdout",
     "output_type": "stream",
     "text": [
      "1/1 [==============================] - 1s 1s/step\n",
      "Downloading data from https://storage.googleapis.com/download.tensorflow.org/data/imagenet_class_index.json\n",
      "35363/35363 [==============================] - 0s 0us/step\n",
      "예측: [('n02100877', 'Irish_setter', 0.9631066), ('n02437616', 'llama', 0.0061834226), ('n02096294', 'Australian_terrier', 0.003936601)]\n"
     ]
    }
   ],
   "source": [
    "# Resnet-50모델을 단순히 load만 해서 사용\n",
    "from tensorflow.keras.applications.resnet50 import ResNet50\n",
    "from tensorflow.keras.preprocessing import image\n",
    "from tensorflow.keras.applications.resnet50 import preprocess_input, decode_predictions\n",
    "import numpy as np\n",
    "\n",
    "model = ResNet50(weights = 'imagenet')\n",
    "\n",
    "img_path = 'dog.jpg'\n",
    "img = image.load_img(img_path, target_size=(224,224))\n",
    "x = image.img_to_array(img)\n",
    "x=np.expand_dims(x,axis=0)\n",
    "x=preprocess_input(x)\n",
    "\n",
    "preds=model.predict(x)\n",
    "print('예측:',decode_predictions(preds,top=3)[0])"
   ]
  },
  {
   "cell_type": "code",
   "execution_count": null,
   "id": "f61c0467",
   "metadata": {},
   "outputs": [],
   "source": []
  }
 ],
 "metadata": {
  "kernelspec": {
   "display_name": "Python 3 (ipykernel)",
   "language": "python",
   "name": "python3"
  },
  "language_info": {
   "codemirror_mode": {
    "name": "ipython",
    "version": 3
   },
   "file_extension": ".py",
   "mimetype": "text/x-python",
   "name": "python",
   "nbconvert_exporter": "python",
   "pygments_lexer": "ipython3",
   "version": "3.10.9"
  }
 },
 "nbformat": 4,
 "nbformat_minor": 5
}
