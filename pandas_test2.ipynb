{
 "cells": [
  {
   "cell_type": "code",
   "execution_count": 9,
   "id": "371b6352",
   "metadata": {},
   "outputs": [],
   "source": [
    "import numpy as np\n",
    "import pandas as pd\n",
    "import os"
   ]
  },
  {
   "cell_type": "code",
   "execution_count": 4,
   "id": "7f02ef69",
   "metadata": {},
   "outputs": [
    {
     "data": {
      "text/plain": [
       "[1, 2, 3]"
      ]
     },
     "execution_count": 4,
     "metadata": {},
     "output_type": "execute_result"
    }
   ],
   "source": [
    "arr = [1,2,3]\n",
    "arr"
   ]
  },
  {
   "cell_type": "code",
   "execution_count": 6,
   "id": "183f5887",
   "metadata": {},
   "outputs": [],
   "source": [
    "nparr = np.array([1,2,3,4,5])"
   ]
  },
  {
   "cell_type": "code",
   "execution_count": 7,
   "id": "e0352cb2",
   "metadata": {},
   "outputs": [
    {
     "data": {
      "text/plain": [
       "array([3, 4, 5, 6, 7])"
      ]
     },
     "execution_count": 7,
     "metadata": {},
     "output_type": "execute_result"
    }
   ],
   "source": [
    "nparr + 2"
   ]
  },
  {
   "cell_type": "code",
   "execution_count": 8,
   "id": "15708183",
   "metadata": {},
   "outputs": [
    {
     "data": {
      "text/plain": [
       "[1, 2, 3, 4, 5]"
      ]
     },
     "execution_count": 8,
     "metadata": {},
     "output_type": "execute_result"
    }
   ],
   "source": [
    "list(nparr)"
   ]
  },
  {
   "cell_type": "code",
   "execution_count": 9,
   "id": "8958cbe1",
   "metadata": {},
   "outputs": [
    {
     "data": {
      "text/plain": [
       "array([ 2,  4,  6,  8, 10])"
      ]
     },
     "execution_count": 9,
     "metadata": {},
     "output_type": "execute_result"
    }
   ],
   "source": [
    "nparr * 2"
   ]
  },
  {
   "cell_type": "code",
   "execution_count": 11,
   "id": "473dae49",
   "metadata": {},
   "outputs": [
    {
     "data": {
      "text/plain": [
       "array(['1', '2', 'a'], dtype='<U11')"
      ]
     },
     "execution_count": 11,
     "metadata": {},
     "output_type": "execute_result"
    }
   ],
   "source": [
    "# 하나의 배열에 동일한 데이터형만 들어간다\n",
    "np.array([1,2,'a']) # 문자로 취급"
   ]
  },
  {
   "cell_type": "markdown",
   "id": "dce3f706",
   "metadata": {},
   "source": [
    "# 등차수열 만드는법 "
   ]
  },
  {
   "cell_type": "code",
   "execution_count": 14,
   "id": "69198903",
   "metadata": {},
   "outputs": [
    {
     "data": {
      "text/plain": [
       "array([1, 2, 3, 4, 5])"
      ]
     },
     "execution_count": 14,
     "metadata": {},
     "output_type": "execute_result"
    }
   ],
   "source": [
    "np.arange(1,6,1)"
   ]
  },
  {
   "cell_type": "code",
   "execution_count": 15,
   "id": "dfae17f9",
   "metadata": {},
   "outputs": [
    {
     "data": {
      "text/plain": [
       "array([1, 2, 3, 4, 5])"
      ]
     },
     "execution_count": 15,
     "metadata": {},
     "output_type": "execute_result"
    }
   ],
   "source": [
    "np.arange(1,6)"
   ]
  },
  {
   "cell_type": "code",
   "execution_count": 16,
   "id": "7d580c7a",
   "metadata": {},
   "outputs": [
    {
     "data": {
      "text/plain": [
       "array([0.1, 0.3, 0.5, 0.7])"
      ]
     },
     "execution_count": 16,
     "metadata": {},
     "output_type": "execute_result"
    }
   ],
   "source": [
    "np.arange(0.1,0.8,0.2)"
   ]
  },
  {
   "cell_type": "markdown",
   "id": "0c77ca6d",
   "metadata": {},
   "source": [
    "# 여러가지 배열 만들기\n"
   ]
  },
  {
   "cell_type": "code",
   "execution_count": 18,
   "id": "c3bb2de1",
   "metadata": {},
   "outputs": [
    {
     "data": {
      "text/plain": [
       "array(['A', 'A', 'A', 'A', 'A'], dtype='<U1')"
      ]
     },
     "execution_count": 18,
     "metadata": {},
     "output_type": "execute_result"
    }
   ],
   "source": [
    "np.tile(\"A\", 5) "
   ]
  },
  {
   "cell_type": "code",
   "execution_count": 19,
   "id": "d1bc4701",
   "metadata": {},
   "outputs": [
    {
     "data": {
      "text/plain": [
       "['A', 'A', 'A', 'A', 'A']"
      ]
     },
     "execution_count": 19,
     "metadata": {},
     "output_type": "execute_result"
    }
   ],
   "source": [
    "['A' for _ in range(5)]"
   ]
  },
  {
   "cell_type": "code",
   "execution_count": 20,
   "id": "abc5abf6",
   "metadata": {},
   "outputs": [
    {
     "data": {
      "text/plain": [
       "array([0., 0., 0., 0.])"
      ]
     },
     "execution_count": 20,
     "metadata": {},
     "output_type": "execute_result"
    }
   ],
   "source": [
    "np.zeros(4)"
   ]
  },
  {
   "cell_type": "code",
   "execution_count": 21,
   "id": "b1cb0304",
   "metadata": {},
   "outputs": [
    {
     "data": {
      "text/plain": [
       "array([[0., 0., 0.],\n",
       "       [0., 0., 0.]])"
      ]
     },
     "execution_count": 21,
     "metadata": {},
     "output_type": "execute_result"
    }
   ],
   "source": [
    "np.zeros([2,3]) # 2행 3열"
   ]
  },
  {
   "cell_type": "code",
   "execution_count": 22,
   "id": "6f2e28d6",
   "metadata": {},
   "outputs": [
    {
     "data": {
      "text/plain": [
       "array([1., 1., 1.])"
      ]
     },
     "execution_count": 22,
     "metadata": {},
     "output_type": "execute_result"
    }
   ],
   "source": [
    "np.ones(3)"
   ]
  },
  {
   "cell_type": "markdown",
   "id": "8675c7bc",
   "metadata": {},
   "source": [
    "# slicing"
   ]
  },
  {
   "cell_type": "code",
   "execution_count": 25,
   "id": "8dbd4267",
   "metadata": {},
   "outputs": [
    {
     "data": {
      "text/plain": [
       "array([1, 2, 3, 4, 5])"
      ]
     },
     "execution_count": 25,
     "metadata": {},
     "output_type": "execute_result"
    }
   ],
   "source": [
    "d1_arr = np.array([1,2,3,4,5])\n",
    "d1_arr"
   ]
  },
  {
   "cell_type": "code",
   "execution_count": 26,
   "id": "8664b773",
   "metadata": {},
   "outputs": [
    {
     "data": {
      "text/plain": [
       "1"
      ]
     },
     "execution_count": 26,
     "metadata": {},
     "output_type": "execute_result"
    }
   ],
   "source": [
    "d1_arr[0]"
   ]
  },
  {
   "cell_type": "code",
   "execution_count": 27,
   "id": "48a386b7",
   "metadata": {},
   "outputs": [
    {
     "data": {
      "text/plain": [
       "array([2, 3])"
      ]
     },
     "execution_count": 27,
     "metadata": {},
     "output_type": "execute_result"
    }
   ],
   "source": [
    "d1_arr[1:3]"
   ]
  },
  {
   "cell_type": "code",
   "execution_count": 29,
   "id": "b122926b",
   "metadata": {},
   "outputs": [
    {
     "data": {
      "text/plain": [
       "array([[ 1,  2,  3,  4,  5],\n",
       "       [ 6,  7,  8,  9, 10]])"
      ]
     },
     "execution_count": 29,
     "metadata": {},
     "output_type": "execute_result"
    }
   ],
   "source": [
    "# 2차원\n",
    "d2_arr = np.array([[1,2,3,4,5]\n",
    "                 ,[6,7,8,9,10]])\n",
    "d2_arr"
   ]
  },
  {
   "cell_type": "code",
   "execution_count": 30,
   "id": "209b39ac",
   "metadata": {},
   "outputs": [
    {
     "data": {
      "text/plain": [
       "4"
      ]
     },
     "execution_count": 30,
     "metadata": {},
     "output_type": "execute_result"
    }
   ],
   "source": [
    "d2_arr[0,3]"
   ]
  },
  {
   "cell_type": "code",
   "execution_count": 31,
   "id": "93bace03",
   "metadata": {},
   "outputs": [
    {
     "data": {
      "text/plain": [
       "array([8, 9])"
      ]
     },
     "execution_count": 31,
     "metadata": {},
     "output_type": "execute_result"
    }
   ],
   "source": [
    "d2_arr[1, 2:4] # 연속적으로 뽑기"
   ]
  },
  {
   "cell_type": "code",
   "execution_count": 35,
   "id": "fff84512",
   "metadata": {},
   "outputs": [
    {
     "data": {
      "text/plain": [
       "array([ 8, 10])"
      ]
     },
     "execution_count": 35,
     "metadata": {},
     "output_type": "execute_result"
    }
   ],
   "source": [
    "d2_arr[1,[2,4]] # 각열 뽑기"
   ]
  },
  {
   "cell_type": "code",
   "execution_count": 46,
   "id": "e502107a",
   "metadata": {},
   "outputs": [
    {
     "data": {
      "text/plain": [
       "array([[ 3,  5],\n",
       "       [ 8, 10]])"
      ]
     },
     "execution_count": 46,
     "metadata": {},
     "output_type": "execute_result"
    }
   ],
   "source": [
    "d2_arr[:,[2,4]]"
   ]
  },
  {
   "cell_type": "code",
   "execution_count": 73,
   "id": "8fb39781",
   "metadata": {},
   "outputs": [
    {
     "data": {
      "text/plain": [
       "array([19, 25])"
      ]
     },
     "execution_count": 73,
     "metadata": {},
     "output_type": "execute_result"
    }
   ],
   "source": [
    "ages = np.array([18,19,25,30,28])\n",
    "ages[1:3]"
   ]
  },
  {
   "cell_type": "code",
   "execution_count": 74,
   "id": "94cf7c0d",
   "metadata": {},
   "outputs": [
    {
     "data": {
      "text/plain": [
       "array([25, 30, 28])"
      ]
     },
     "execution_count": 74,
     "metadata": {},
     "output_type": "execute_result"
    }
   ],
   "source": [
    "ages[ages>20]"
   ]
  },
  {
   "cell_type": "code",
   "execution_count": 75,
   "id": "6b0bbd3f",
   "metadata": {},
   "outputs": [
    {
     "data": {
      "text/plain": [
       "array([25, 30, 28])"
      ]
     },
     "execution_count": 75,
     "metadata": {},
     "output_type": "execute_result"
    }
   ],
   "source": [
    "ages[[False, False, True, True, True]]"
   ]
  },
  {
   "cell_type": "code",
   "execution_count": 76,
   "id": "c94586a4",
   "metadata": {},
   "outputs": [
    {
     "data": {
      "text/plain": [
       "3"
      ]
     },
     "execution_count": 76,
     "metadata": {},
     "output_type": "execute_result"
    }
   ],
   "source": [
    "a = np.array([[1,2,3],[4,5,6],[7,8,9]])\n",
    "a[0,2] # a[0][2] 0행 2열"
   ]
  },
  {
   "cell_type": "code",
   "execution_count": 77,
   "id": "e00de43a",
   "metadata": {},
   "outputs": [
    {
     "data": {
      "text/plain": [
       "array([[12,  2,  3],\n",
       "       [ 4,  5,  6],\n",
       "       [ 7,  8,  9]])"
      ]
     },
     "execution_count": 77,
     "metadata": {},
     "output_type": "execute_result"
    }
   ],
   "source": [
    "a[0][0] = 12\n",
    "a"
   ]
  },
  {
   "cell_type": "code",
   "execution_count": 78,
   "id": "7b4d732e",
   "metadata": {},
   "outputs": [
    {
     "data": {
      "text/plain": [
       "array([[4, 5],\n",
       "       [7, 8]])"
      ]
     },
     "execution_count": 78,
     "metadata": {},
     "output_type": "execute_result"
    }
   ],
   "source": [
    "a[[1,2],:2]"
   ]
  },
  {
   "cell_type": "code",
   "execution_count": 91,
   "id": "3ae69d38",
   "metadata": {},
   "outputs": [
    {
     "data": {
      "text/plain": [
       "array([7.66666667, 5.        , 6.        ])"
      ]
     },
     "execution_count": 91,
     "metadata": {},
     "output_type": "execute_result"
    }
   ],
   "source": [
    "a.mean(0) # 열에 대해 연산"
   ]
  },
  {
   "cell_type": "code",
   "execution_count": 92,
   "id": "369cfb69",
   "metadata": {},
   "outputs": [
    {
     "data": {
      "text/plain": [
       "array([5.66666667, 5.        , 8.        ])"
      ]
     },
     "execution_count": 92,
     "metadata": {},
     "output_type": "execute_result"
    }
   ],
   "source": [
    "a.mean(1) # 행에 대해 연산"
   ]
  },
  {
   "cell_type": "code",
   "execution_count": null,
   "id": "1bffaf65",
   "metadata": {},
   "outputs": [],
   "source": []
  },
  {
   "cell_type": "code",
   "execution_count": null,
   "id": "c5d60df2",
   "metadata": {},
   "outputs": [],
   "source": []
  },
  {
   "cell_type": "code",
   "execution_count": 48,
   "id": "a6959c8a",
   "metadata": {},
   "outputs": [
    {
     "data": {
      "text/plain": [
       "array([[ 0,  1,  2,  3,  4,  5,  6,  7,  8,  9],\n",
       "       [10, 11, 12, 13, 14, 15, 16, 17, 18, 19],\n",
       "       [20, 21, 22, 23, 24, 25, 26, 27, 28, 29]])"
      ]
     },
     "execution_count": 48,
     "metadata": {},
     "output_type": "execute_result"
    }
   ],
   "source": [
    "#array 분할하기\n",
    "array = np.arange(30).reshape(-1, 10)\n",
    "array"
   ]
  },
  {
   "cell_type": "code",
   "execution_count": 50,
   "id": "d031ff93",
   "metadata": {},
   "outputs": [
    {
     "data": {
      "text/plain": [
       "array([[ 0,  1,  2,  3,  4,  5],\n",
       "       [ 6,  7,  8,  9, 10, 11]])"
      ]
     },
     "execution_count": 50,
     "metadata": {},
     "output_type": "execute_result"
    }
   ],
   "source": [
    "a = np.arange(12)\n",
    "#-1은 unknown 상태의 dimension을 비워놓고 이를 numpy가 알아서 찾아내게끔 맡기는 의미 \n",
    "a.reshape(2,-1)"
   ]
  },
  {
   "cell_type": "code",
   "execution_count": 51,
   "id": "9f3d8d40",
   "metadata": {},
   "outputs": [
    {
     "data": {
      "text/plain": [
       "array([[ 0,  1,  2,  3],\n",
       "       [ 4,  5,  6,  7],\n",
       "       [ 8,  9, 10, 11]])"
      ]
     },
     "execution_count": 51,
     "metadata": {},
     "output_type": "execute_result"
    }
   ],
   "source": [
    "a.reshape(3,4)"
   ]
  },
  {
   "cell_type": "code",
   "execution_count": 57,
   "id": "2d0dd87e",
   "metadata": {},
   "outputs": [],
   "source": [
    "# Array 분할하기\n",
    "arr1, arr2 = np.split(array, [2], axis=1) #2열 분리"
   ]
  },
  {
   "cell_type": "code",
   "execution_count": 58,
   "id": "0bd5b3fc",
   "metadata": {},
   "outputs": [
    {
     "data": {
      "text/plain": [
       "array([[ 0,  1],\n",
       "       [10, 11],\n",
       "       [20, 21]])"
      ]
     },
     "execution_count": 58,
     "metadata": {},
     "output_type": "execute_result"
    }
   ],
   "source": [
    "arr1"
   ]
  },
  {
   "cell_type": "code",
   "execution_count": 59,
   "id": "f1927de4",
   "metadata": {},
   "outputs": [
    {
     "data": {
      "text/plain": [
       "array([[ 2,  3,  4,  5,  6,  7,  8,  9],\n",
       "       [12, 13, 14, 15, 16, 17, 18, 19],\n",
       "       [22, 23, 24, 25, 26, 27, 28, 29]])"
      ]
     },
     "execution_count": 59,
     "metadata": {},
     "output_type": "execute_result"
    }
   ],
   "source": [
    "arr2"
   ]
  },
  {
   "cell_type": "code",
   "execution_count": 60,
   "id": "074fd9b2",
   "metadata": {},
   "outputs": [],
   "source": [
    "# Array 분할하기\n",
    "arr1, arr2 = np.split(array, [2], axis=0) #2행 분리"
   ]
  },
  {
   "cell_type": "code",
   "execution_count": 61,
   "id": "c554e760",
   "metadata": {},
   "outputs": [
    {
     "data": {
      "text/plain": [
       "array([[ 0,  1,  2,  3,  4,  5,  6,  7,  8,  9],\n",
       "       [10, 11, 12, 13, 14, 15, 16, 17, 18, 19]])"
      ]
     },
     "execution_count": 61,
     "metadata": {},
     "output_type": "execute_result"
    }
   ],
   "source": [
    "arr1"
   ]
  },
  {
   "cell_type": "code",
   "execution_count": 62,
   "id": "5a74b0b0",
   "metadata": {},
   "outputs": [
    {
     "data": {
      "text/plain": [
       "array([[20, 21, 22, 23, 24, 25, 26, 27, 28, 29]])"
      ]
     },
     "execution_count": 62,
     "metadata": {},
     "output_type": "execute_result"
    }
   ],
   "source": [
    "arr2"
   ]
  },
  {
   "cell_type": "code",
   "execution_count": 63,
   "id": "ab8c37a9",
   "metadata": {},
   "outputs": [
    {
     "data": {
      "text/plain": [
       "(6,)"
      ]
     },
     "execution_count": 63,
     "metadata": {},
     "output_type": "execute_result"
    }
   ],
   "source": [
    "# array에 새로운 축 추가\n",
    "a = np.array([1,2,3,4,5,6])\n",
    "a.shape "
   ]
  },
  {
   "cell_type": "code",
   "execution_count": 64,
   "id": "ec8ac6e0",
   "metadata": {},
   "outputs": [],
   "source": [
    "# (6,)로 나오기때문에 2차원 만들기"
   ]
  },
  {
   "cell_type": "code",
   "execution_count": 66,
   "id": "7878180c",
   "metadata": {},
   "outputs": [
    {
     "data": {
      "text/plain": [
       "(1, 6)"
      ]
     },
     "execution_count": 66,
     "metadata": {},
     "output_type": "execute_result"
    }
   ],
   "source": [
    "a1 = a[np.newaxis,:]\n",
    "a1.shape"
   ]
  },
  {
   "cell_type": "code",
   "execution_count": 72,
   "id": "0fb090ca",
   "metadata": {},
   "outputs": [
    {
     "data": {
      "text/plain": [
       "(1, 6)"
      ]
     },
     "execution_count": 72,
     "metadata": {},
     "output_type": "execute_result"
    }
   ],
   "source": [
    "a3 = a[np.newaxis][:] ## == [np.newaxis, :]\n",
    "a3.shape"
   ]
  },
  {
   "cell_type": "code",
   "execution_count": 70,
   "id": "bb758767",
   "metadata": {},
   "outputs": [
    {
     "data": {
      "text/plain": [
       "(6, 1)"
      ]
     },
     "execution_count": 70,
     "metadata": {},
     "output_type": "execute_result"
    }
   ],
   "source": [
    "a2 = a[:,np.newaxis]\n",
    "a2.shape"
   ]
  },
  {
   "cell_type": "markdown",
   "id": "facfdd6b",
   "metadata": {},
   "source": [
    "# 판다스"
   ]
  },
  {
   "cell_type": "code",
   "execution_count": 7,
   "id": "182af525",
   "metadata": {},
   "outputs": [
    {
     "data": {
      "text/html": [
       "<div>\n",
       "<style scoped>\n",
       "    .dataframe tbody tr th:only-of-type {\n",
       "        vertical-align: middle;\n",
       "    }\n",
       "\n",
       "    .dataframe tbody tr th {\n",
       "        vertical-align: top;\n",
       "    }\n",
       "\n",
       "    .dataframe thead th {\n",
       "        text-align: right;\n",
       "    }\n",
       "</style>\n",
       "<table border=\"1\" class=\"dataframe\">\n",
       "  <thead>\n",
       "    <tr style=\"text-align: right;\">\n",
       "      <th></th>\n",
       "      <th>col1</th>\n",
       "      <th>col2</th>\n",
       "      <th>col3</th>\n",
       "    </tr>\n",
       "  </thead>\n",
       "  <tbody>\n",
       "    <tr>\n",
       "      <th>0</th>\n",
       "      <td>1</td>\n",
       "      <td>2</td>\n",
       "      <td>a</td>\n",
       "    </tr>\n",
       "    <tr>\n",
       "      <th>1</th>\n",
       "      <td>2</td>\n",
       "      <td>4</td>\n",
       "      <td>b</td>\n",
       "    </tr>\n",
       "    <tr>\n",
       "      <th>2</th>\n",
       "      <td>3</td>\n",
       "      <td>6</td>\n",
       "      <td>c</td>\n",
       "    </tr>\n",
       "  </tbody>\n",
       "</table>\n",
       "</div>"
      ],
      "text/plain": [
       "   col1  col2 col3\n",
       "0     1     2    a\n",
       "1     2     4    b\n",
       "2     3     6    c"
      ]
     },
     "execution_count": 7,
     "metadata": {},
     "output_type": "execute_result"
    }
   ],
   "source": [
    "sample_df = pd.DataFrame({\n",
    "    'col1' : [1,2,3],\n",
    "    'col2' : np.array([1,2,3]) * 2,\n",
    "    'col3' : ['a','b','c'],\n",
    "})\n",
    "sample_df"
   ]
  },
  {
   "cell_type": "code",
   "execution_count": 19,
   "id": "9855c2fa",
   "metadata": {},
   "outputs": [],
   "source": [
    "# 판다스 저장\n",
    "path = 'C:/Users/mark8/scapy'\n",
    "\n",
    "if not(os.path.exists(path)):\n",
    "    sample_df.to_csv('test_pd.csv')"
   ]
  },
  {
   "cell_type": "code",
   "execution_count": 20,
   "id": "cc2c829a",
   "metadata": {},
   "outputs": [
    {
     "data": {
      "text/html": [
       "<div>\n",
       "<style scoped>\n",
       "    .dataframe tbody tr th:only-of-type {\n",
       "        vertical-align: middle;\n",
       "    }\n",
       "\n",
       "    .dataframe tbody tr th {\n",
       "        vertical-align: top;\n",
       "    }\n",
       "\n",
       "    .dataframe thead th {\n",
       "        text-align: right;\n",
       "    }\n",
       "</style>\n",
       "<table border=\"1\" class=\"dataframe\">\n",
       "  <thead>\n",
       "    <tr style=\"text-align: right;\">\n",
       "      <th></th>\n",
       "      <th>Unnamed: 0</th>\n",
       "      <th>col1</th>\n",
       "      <th>col2</th>\n",
       "      <th>col3</th>\n",
       "    </tr>\n",
       "  </thead>\n",
       "  <tbody>\n",
       "    <tr>\n",
       "      <th>0</th>\n",
       "      <td>0</td>\n",
       "      <td>1</td>\n",
       "      <td>2</td>\n",
       "      <td>a</td>\n",
       "    </tr>\n",
       "    <tr>\n",
       "      <th>1</th>\n",
       "      <td>1</td>\n",
       "      <td>2</td>\n",
       "      <td>4</td>\n",
       "      <td>b</td>\n",
       "    </tr>\n",
       "    <tr>\n",
       "      <th>2</th>\n",
       "      <td>2</td>\n",
       "      <td>3</td>\n",
       "      <td>6</td>\n",
       "      <td>c</td>\n",
       "    </tr>\n",
       "  </tbody>\n",
       "</table>\n",
       "</div>"
      ],
      "text/plain": [
       "   Unnamed: 0  col1  col2 col3\n",
       "0           0     1     2    a\n",
       "1           1     2     4    b\n",
       "2           2     3     6    c"
      ]
     },
     "execution_count": 20,
     "metadata": {},
     "output_type": "execute_result"
    }
   ],
   "source": [
    "# 판다스 읽기\n",
    "file_data = pd.read_csv('test_pd.csv')\n",
    "file_data"
   ]
  },
  {
   "cell_type": "markdown",
   "id": "6fa8620f",
   "metadata": {},
   "source": [
    "# 데이터프레임 병합"
   ]
  },
  {
   "cell_type": "code",
   "execution_count": 21,
   "id": "a47885bd",
   "metadata": {},
   "outputs": [
    {
     "name": "stdout",
     "output_type": "stream",
     "text": [
      "   col1 col2\n",
      "0     1    a\n",
      "1     2    b\n",
      "2     3    c\n",
      "0     4    d\n",
      "1     5    e\n",
      "2     6    f\n"
     ]
    }
   ],
   "source": [
    "# 세로로 병합\n",
    "df_1 = pd.DataFrame({\n",
    "    'col1' : np.array([1,2,3]),\n",
    "    'col2' : np.array(['a','b','c'])\n",
    "    \n",
    "})\n",
    "df_2 = pd.DataFrame({\n",
    "    'col1' : np.array([4,5,6]),\n",
    "    'col2' : np.array(['d','e','f'])\n",
    "})\n",
    "print(pd.concat([df_1, df_2]))"
   ]
  },
  {
   "cell_type": "code",
   "execution_count": 22,
   "id": "7f2918a4",
   "metadata": {},
   "outputs": [
    {
     "name": "stdout",
     "output_type": "stream",
     "text": [
      "   col1 col2  col1 col2\n",
      "0     1    a     4    d\n",
      "1     2    b     5    e\n",
      "2     3    c     6    f\n"
     ]
    }
   ],
   "source": [
    "# 가로로 병합\n",
    "print(pd.concat([df_1, df_2], axis = 1))"
   ]
  },
  {
   "cell_type": "markdown",
   "id": "95a44487",
   "metadata": {},
   "source": [
    "# 데이터프레임 열에 대해 작업"
   ]
  },
  {
   "cell_type": "code",
   "execution_count": 23,
   "id": "9eec444b",
   "metadata": {
    "scrolled": true
   },
   "outputs": [
    {
     "name": "stdout",
     "output_type": "stream",
     "text": [
      "   col1  col2 col3\n",
      "0     1     2    a\n",
      "1     2     4    b\n",
      "2     3     6    c\n"
     ]
    }
   ],
   "source": [
    "print(sample_df)"
   ]
  },
  {
   "cell_type": "code",
   "execution_count": 24,
   "id": "efa01b58",
   "metadata": {},
   "outputs": [
    {
     "name": "stdout",
     "output_type": "stream",
     "text": [
      "0    2\n",
      "1    4\n",
      "2    6\n",
      "Name: col2, dtype: int32\n"
     ]
    }
   ],
   "source": [
    "print(sample_df.col2) # 열에 대한 작업하면 series로 뽑아짐 sampe_df딕셔너리가 있는데 거기서 key인 col2를 뽑는거와 유사"
   ]
  },
  {
   "cell_type": "code",
   "execution_count": 25,
   "id": "10896e5e",
   "metadata": {},
   "outputs": [
    {
     "name": "stdout",
     "output_type": "stream",
     "text": [
      "0    2\n",
      "1    4\n",
      "2    6\n",
      "Name: col2, dtype: int32\n"
     ]
    }
   ],
   "source": [
    "print(sample_df['col2']) # 열에 대학 작업하면 series로 뽑아짐 -> 딕셔너리처럼 쓰기"
   ]
  },
  {
   "cell_type": "code",
   "execution_count": 26,
   "id": "3685c92b",
   "metadata": {},
   "outputs": [
    {
     "name": "stdout",
     "output_type": "stream",
     "text": [
      "   col1  col2\n",
      "0     1     2\n",
      "1     2     4\n",
      "2     3     6\n"
     ]
    }
   ],
   "source": [
    "print(sample_df[['col1','col2']]) #각 열 뽑기 [[1, 2]]"
   ]
  },
  {
   "cell_type": "code",
   "execution_count": 27,
   "id": "04321244",
   "metadata": {},
   "outputs": [
    {
     "name": "stdout",
     "output_type": "stream",
     "text": [
      "   col2 col3\n",
      "0     2    a\n",
      "1     4    b\n",
      "2     6    c\n"
     ]
    }
   ],
   "source": [
    "print(sample_df.drop('col1', axis=1)) # col2 col3 뽑기 = col1을 제외하고 뽑기"
   ]
  },
  {
   "cell_type": "markdown",
   "id": "d3949eb2",
   "metadata": {},
   "source": [
    "# 데이터프레임 행에 대해 작업"
   ]
  },
  {
   "cell_type": "code",
   "execution_count": 28,
   "id": "1fec524c",
   "metadata": {},
   "outputs": [
    {
     "name": "stdout",
     "output_type": "stream",
     "text": [
      "   col1  col2 col3\n",
      "0     1     2    a\n",
      "1     2     4    b\n"
     ]
    }
   ],
   "source": [
    "print(sample_df.head(n = 2)) # 처음 2개 행만 가져오기"
   ]
  },
  {
   "cell_type": "code",
   "execution_count": 29,
   "id": "af80e31f",
   "metadata": {},
   "outputs": [
    {
     "name": "stdout",
     "output_type": "stream",
     "text": [
      "   col1  col2 col3\n",
      "0     1     2    a\n"
     ]
    }
   ],
   "source": [
    "# 쿼리로 데이터 유연하게 추출 - iloc으로 뽑기\n",
    "print(sample_df.query('index == 0'))"
   ]
  },
  {
   "cell_type": "code",
   "execution_count": 30,
   "id": "ae34bcf3",
   "metadata": {},
   "outputs": [
    {
     "name": "stdout",
     "output_type": "stream",
     "text": [
      "Empty DataFrame\n",
      "Columns: [col1, col2, col3]\n",
      "Index: []\n"
     ]
    }
   ],
   "source": [
    "print(sample_df.query('col3 == \"A\"'))"
   ]
  },
  {
   "cell_type": "code",
   "execution_count": 31,
   "id": "c5f0c4b6",
   "metadata": {},
   "outputs": [
    {
     "name": "stdout",
     "output_type": "stream",
     "text": [
      "Empty DataFrame\n",
      "Columns: [col1, col2, col3]\n",
      "Index: []\n"
     ]
    }
   ],
   "source": [
    "print(sample_df.query('col3 == \"A\" | col3 == \"D\"'))"
   ]
  },
  {
   "cell_type": "code",
   "execution_count": 32,
   "id": "89a8ae78",
   "metadata": {},
   "outputs": [
    {
     "name": "stdout",
     "output_type": "stream",
     "text": [
      "Empty DataFrame\n",
      "Columns: [col1, col2, col3]\n",
      "Index: []\n"
     ]
    }
   ],
   "source": [
    "print(sample_df.query('col3 == \"A\" and col3 == \"D\"'))"
   ]
  },
  {
   "cell_type": "code",
   "execution_count": 33,
   "id": "212c3c82",
   "metadata": {},
   "outputs": [
    {
     "name": "stdout",
     "output_type": "stream",
     "text": [
      "Empty DataFrame\n",
      "Columns: [col2, col3]\n",
      "Index: []\n"
     ]
    }
   ],
   "source": [
    "# 행과 열 모두에 조건 지정\n",
    "print(sample_df.query('col3 == \"A\"')[[\"col2\", \"col3\"]])"
   ]
  },
  {
   "cell_type": "markdown",
   "id": "637b49d8",
   "metadata": {},
   "source": [
    "# 시리즈"
   ]
  },
  {
   "cell_type": "code",
   "execution_count": 34,
   "id": "89c1bbf6",
   "metadata": {},
   "outputs": [
    {
     "data": {
      "text/plain": [
       "pandas.core.frame.DataFrame"
      ]
     },
     "execution_count": 34,
     "metadata": {},
     "output_type": "execute_result"
    }
   ],
   "source": [
    "type(sample_df)"
   ]
  },
  {
   "cell_type": "code",
   "execution_count": 35,
   "id": "a4f1a518",
   "metadata": {},
   "outputs": [
    {
     "data": {
      "text/plain": [
       "pandas.core.series.Series"
      ]
     },
     "execution_count": 35,
     "metadata": {},
     "output_type": "execute_result"
    }
   ],
   "source": [
    "type(sample_df.col1)"
   ]
  },
  {
   "cell_type": "markdown",
   "id": "6a5e6600",
   "metadata": {},
   "source": [
    "# 시리즈는 numpy 배열과 거의 동일한 작업 가능"
   ]
  },
  {
   "cell_type": "code",
   "execution_count": 36,
   "id": "d3f10d59",
   "metadata": {},
   "outputs": [
    {
     "data": {
      "text/plain": [
       "array([1, 2, 3], dtype=int64)"
      ]
     },
     "execution_count": 36,
     "metadata": {},
     "output_type": "execute_result"
    }
   ],
   "source": [
    "np.array(sample_df.col1)"
   ]
  },
  {
   "cell_type": "code",
   "execution_count": 37,
   "id": "1d380360",
   "metadata": {},
   "outputs": [
    {
     "data": {
      "text/plain": [
       "array([1, 2, 3], dtype=int64)"
      ]
     },
     "execution_count": 37,
     "metadata": {},
     "output_type": "execute_result"
    }
   ],
   "source": [
    "sample_df.col1.values"
   ]
  },
  {
   "cell_type": "code",
   "execution_count": 38,
   "id": "300a0cfe",
   "metadata": {
    "scrolled": true
   },
   "outputs": [
    {
     "name": "stdout",
     "output_type": "stream",
     "text": [
      "Help on method query in module pandas.core.frame:\n",
      "\n",
      "query(expr: 'str', *, inplace: 'bool' = False, **kwargs) -> 'DataFrame | None' method of pandas.core.frame.DataFrame instance\n",
      "    Query the columns of a DataFrame with a boolean expression.\n",
      "    \n",
      "    Parameters\n",
      "    ----------\n",
      "    expr : str\n",
      "        The query string to evaluate.\n",
      "    \n",
      "        You can refer to variables\n",
      "        in the environment by prefixing them with an '@' character like\n",
      "        ``@a + b``.\n",
      "    \n",
      "        You can refer to column names that are not valid Python variable names\n",
      "        by surrounding them in backticks. Thus, column names containing spaces\n",
      "        or punctuations (besides underscores) or starting with digits must be\n",
      "        surrounded by backticks. (For example, a column named \"Area (cm^2)\" would\n",
      "        be referenced as ```Area (cm^2)```). Column names which are Python keywords\n",
      "        (like \"list\", \"for\", \"import\", etc) cannot be used.\n",
      "    \n",
      "        For example, if one of your columns is called ``a a`` and you want\n",
      "        to sum it with ``b``, your query should be ```a a` + b``.\n",
      "    \n",
      "        .. versionadded:: 0.25.0\n",
      "            Backtick quoting introduced.\n",
      "    \n",
      "        .. versionadded:: 1.0.0\n",
      "            Expanding functionality of backtick quoting for more than only spaces.\n",
      "    \n",
      "    inplace : bool\n",
      "        Whether to modify the DataFrame rather than creating a new one.\n",
      "    **kwargs\n",
      "        See the documentation for :func:`eval` for complete details\n",
      "        on the keyword arguments accepted by :meth:`DataFrame.query`.\n",
      "    \n",
      "    Returns\n",
      "    -------\n",
      "    DataFrame or None\n",
      "        DataFrame resulting from the provided query expression or\n",
      "        None if ``inplace=True``.\n",
      "    \n",
      "    See Also\n",
      "    --------\n",
      "    eval : Evaluate a string describing operations on\n",
      "        DataFrame columns.\n",
      "    DataFrame.eval : Evaluate a string describing operations on\n",
      "        DataFrame columns.\n",
      "    \n",
      "    Notes\n",
      "    -----\n",
      "    The result of the evaluation of this expression is first passed to\n",
      "    :attr:`DataFrame.loc` and if that fails because of a\n",
      "    multidimensional key (e.g., a DataFrame) then the result will be passed\n",
      "    to :meth:`DataFrame.__getitem__`.\n",
      "    \n",
      "    This method uses the top-level :func:`eval` function to\n",
      "    evaluate the passed query.\n",
      "    \n",
      "    The :meth:`~pandas.DataFrame.query` method uses a slightly\n",
      "    modified Python syntax by default. For example, the ``&`` and ``|``\n",
      "    (bitwise) operators have the precedence of their boolean cousins,\n",
      "    :keyword:`and` and :keyword:`or`. This *is* syntactically valid Python,\n",
      "    however the semantics are different.\n",
      "    \n",
      "    You can change the semantics of the expression by passing the keyword\n",
      "    argument ``parser='python'``. This enforces the same semantics as\n",
      "    evaluation in Python space. Likewise, you can pass ``engine='python'``\n",
      "    to evaluate an expression using Python itself as a backend. This is not\n",
      "    recommended as it is inefficient compared to using ``numexpr`` as the\n",
      "    engine.\n",
      "    \n",
      "    The :attr:`DataFrame.index` and\n",
      "    :attr:`DataFrame.columns` attributes of the\n",
      "    :class:`~pandas.DataFrame` instance are placed in the query namespace\n",
      "    by default, which allows you to treat both the index and columns of the\n",
      "    frame as a column in the frame.\n",
      "    The identifier ``index`` is used for the frame index; you can also\n",
      "    use the name of the index to identify it in a query. Please note that\n",
      "    Python keywords may not be used as identifiers.\n",
      "    \n",
      "    For further details and examples see the ``query`` documentation in\n",
      "    :ref:`indexing <indexing.query>`.\n",
      "    \n",
      "    *Backtick quoted variables*\n",
      "    \n",
      "    Backtick quoted variables are parsed as literal Python code and\n",
      "    are converted internally to a Python valid identifier.\n",
      "    This can lead to the following problems.\n",
      "    \n",
      "    During parsing a number of disallowed characters inside the backtick\n",
      "    quoted string are replaced by strings that are allowed as a Python identifier.\n",
      "    These characters include all operators in Python, the space character, the\n",
      "    question mark, the exclamation mark, the dollar sign, and the euro sign.\n",
      "    For other characters that fall outside the ASCII range (U+0001..U+007F)\n",
      "    and those that are not further specified in PEP 3131,\n",
      "    the query parser will raise an error.\n",
      "    This excludes whitespace different than the space character,\n",
      "    but also the hashtag (as it is used for comments) and the backtick\n",
      "    itself (backtick can also not be escaped).\n",
      "    \n",
      "    In a special case, quotes that make a pair around a backtick can\n",
      "    confuse the parser.\n",
      "    For example, ```it's` > `that's``` will raise an error,\n",
      "    as it forms a quoted string (``'s > `that'``) with a backtick inside.\n",
      "    \n",
      "    See also the Python documentation about lexical analysis\n",
      "    (https://docs.python.org/3/reference/lexical_analysis.html)\n",
      "    in combination with the source code in :mod:`pandas.core.computation.parsing`.\n",
      "    \n",
      "    Examples\n",
      "    --------\n",
      "    >>> df = pd.DataFrame({'A': range(1, 6),\n",
      "    ...                    'B': range(10, 0, -2),\n",
      "    ...                    'C C': range(10, 5, -1)})\n",
      "    >>> df\n",
      "       A   B  C C\n",
      "    0  1  10   10\n",
      "    1  2   8    9\n",
      "    2  3   6    8\n",
      "    3  4   4    7\n",
      "    4  5   2    6\n",
      "    >>> df.query('A > B')\n",
      "       A  B  C C\n",
      "    4  5  2    6\n",
      "    \n",
      "    The previous expression is equivalent to\n",
      "    \n",
      "    >>> df[df.A > df.B]\n",
      "       A  B  C C\n",
      "    4  5  2    6\n",
      "    \n",
      "    For columns with spaces in their name, you can use backtick quoting.\n",
      "    \n",
      "    >>> df.query('B == `C C`')\n",
      "       A   B  C C\n",
      "    0  1  10   10\n",
      "    \n",
      "    The previous expression is equivalent to\n",
      "    \n",
      "    >>> df[df.B == df['C C']]\n",
      "       A   B  C C\n",
      "    0  1  10   10\n",
      "\n"
     ]
    }
   ],
   "source": [
    "help(sample_df.query)"
   ]
  },
  {
   "cell_type": "markdown",
   "id": "daed4107",
   "metadata": {},
   "source": [
    "# 파이썬을 이용한 데이터 분석"
   ]
  },
  {
   "cell_type": "markdown",
   "id": "74449c22",
   "metadata": {},
   "source": [
    "### 통계처리와 scipy"
   ]
  },
  {
   "cell_type": "code",
   "execution_count": 39,
   "id": "9d72cec7",
   "metadata": {},
   "outputs": [],
   "source": [
    "import numpy as np\n",
    "import scipy as sp"
   ]
  },
  {
   "cell_type": "code",
   "execution_count": 43,
   "id": "5ef976a5",
   "metadata": {},
   "outputs": [
    {
     "data": {
      "text/plain": [
       "'%.3f'"
      ]
     },
     "execution_count": 43,
     "metadata": {},
     "output_type": "execute_result"
    }
   ],
   "source": [
    "%precision 3 # 표시자리수 지정"
   ]
  },
  {
   "cell_type": "markdown",
   "id": "c4193963",
   "metadata": {},
   "source": [
    "## 1변량 데이터 관리"
   ]
  },
  {
   "cell_type": "code",
   "execution_count": 44,
   "id": "2a7d8fcb",
   "metadata": {},
   "outputs": [
    {
     "data": {
      "text/plain": [
       "array([2, 3, 3, 4, 4, 4, 4, 5, 5, 6])"
      ]
     },
     "execution_count": 44,
     "metadata": {},
     "output_type": "execute_result"
    }
   ],
   "source": [
    "fish_data = np.array([2,3,3,4,4,4,4,5,5,6])\n",
    "fish_data"
   ]
  },
  {
   "cell_type": "markdown",
   "id": "7e90079b",
   "metadata": {},
   "source": [
    "## 합계와 샘플사이즈"
   ]
  },
  {
   "cell_type": "code",
   "execution_count": 48,
   "id": "de619859",
   "metadata": {},
   "outputs": [
    {
     "name": "stderr",
     "output_type": "stream",
     "text": [
      "C:\\Users\\mark8\\AppData\\Local\\Temp\\ipykernel_43340\\1524554086.py:1: DeprecationWarning: scipy.sum is deprecated and will be removed in SciPy 2.0.0, use numpy.sum instead\n",
      "  sp.sum(fish_data)\n"
     ]
    },
    {
     "data": {
      "text/plain": [
       "40"
      ]
     },
     "execution_count": 48,
     "metadata": {},
     "output_type": "execute_result"
    }
   ],
   "source": [
    "sp.sum(fish_data)"
   ]
  },
  {
   "cell_type": "code",
   "execution_count": 49,
   "id": "8718a571",
   "metadata": {},
   "outputs": [
    {
     "data": {
      "text/plain": [
       "10"
      ]
     },
     "execution_count": 49,
     "metadata": {},
     "output_type": "execute_result"
    }
   ],
   "source": [
    "len(fish_data)"
   ]
  },
  {
   "cell_type": "code",
   "execution_count": 51,
   "id": "07f32029",
   "metadata": {},
   "outputs": [
    {
     "name": "stderr",
     "output_type": "stream",
     "text": [
      "C:\\Users\\mark8\\AppData\\Local\\Temp\\ipykernel_43340\\2874838953.py:3: DeprecationWarning: scipy.sum is deprecated and will be removed in SciPy 2.0.0, use numpy.sum instead\n",
      "  sum_value = sp.sum(fish_data)\n"
     ]
    },
    {
     "data": {
      "text/plain": [
       "4.000"
      ]
     },
     "execution_count": 51,
     "metadata": {},
     "output_type": "execute_result"
    }
   ],
   "source": [
    "# 평균\n",
    "n = len(fish_data)\n",
    "sum_value = sp.sum(fish_data)\n",
    "mu = sum_value / n\n",
    "mu"
   ]
  },
  {
   "cell_type": "code",
   "execution_count": 52,
   "id": "411da986",
   "metadata": {},
   "outputs": [
    {
     "name": "stderr",
     "output_type": "stream",
     "text": [
      "C:\\Users\\mark8\\AppData\\Local\\Temp\\ipykernel_43340\\2280481668.py:2: DeprecationWarning: scipy.mean is deprecated and will be removed in SciPy 2.0.0, use numpy.mean instead\n",
      "  sp.mean(fish_data)\n"
     ]
    },
    {
     "data": {
      "text/plain": [
       "4.000"
      ]
     },
     "execution_count": 52,
     "metadata": {},
     "output_type": "execute_result"
    }
   ],
   "source": [
    "# 평균\n",
    "sp.mean(fish_data)"
   ]
  },
  {
   "cell_type": "code",
   "execution_count": 54,
   "id": "317fe4a7",
   "metadata": {},
   "outputs": [
    {
     "name": "stderr",
     "output_type": "stream",
     "text": [
      "C:\\Users\\mark8\\AppData\\Local\\Temp\\ipykernel_43340\\1069650969.py:2: DeprecationWarning: scipy.sum is deprecated and will be removed in SciPy 2.0.0, use numpy.sum instead\n",
      "  sigma_2_sample = sp.sum((fish_data - mu) ** 2)/n\n"
     ]
    },
    {
     "data": {
      "text/plain": [
       "1.200"
      ]
     },
     "execution_count": 54,
     "metadata": {},
     "output_type": "execute_result"
    }
   ],
   "source": [
    "# 표본분산 (데이터가 얼마나 평균값에서 떨어져있는지 나타냄)\n",
    "sigma_2_sample = sp.sum((fish_data - mu) ** 2)/n\n",
    "sigma_2_sample"
   ]
  },
  {
   "cell_type": "code",
   "execution_count": 55,
   "id": "dbe4a228",
   "metadata": {},
   "outputs": [
    {
     "name": "stderr",
     "output_type": "stream",
     "text": [
      "C:\\Users\\mark8\\AppData\\Local\\Temp\\ipykernel_43340\\3867428506.py:1: DeprecationWarning: scipy.var is deprecated and will be removed in SciPy 2.0.0, use numpy.var instead\n",
      "  sp.var(fish_data, ddof = 0)\n"
     ]
    },
    {
     "data": {
      "text/plain": [
       "1.200"
      ]
     },
     "execution_count": 55,
     "metadata": {},
     "output_type": "execute_result"
    }
   ],
   "source": [
    "sp.var(fish_data, ddof = 0)"
   ]
  },
  {
   "cell_type": "markdown",
   "id": "e22d0509",
   "metadata": {},
   "source": [
    "# 불편분산"
   ]
  },
  {
   "cell_type": "code",
   "execution_count": 57,
   "id": "3ae3058d",
   "metadata": {},
   "outputs": [
    {
     "name": "stderr",
     "output_type": "stream",
     "text": [
      "C:\\Users\\mark8\\AppData\\Local\\Temp\\ipykernel_43340\\890912176.py:1: DeprecationWarning: scipy.sum is deprecated and will be removed in SciPy 2.0.0, use numpy.sum instead\n",
      "  sigma_2 = sp.sum((fish_data - mu) ** 2) / (n - 1)\n"
     ]
    },
    {
     "data": {
      "text/plain": [
       "1.333"
      ]
     },
     "execution_count": 57,
     "metadata": {},
     "output_type": "execute_result"
    }
   ],
   "source": [
    "sigma_2 = sp.sum((fish_data - mu) ** 2) / (n - 1)\n",
    "sigma_2"
   ]
  },
  {
   "cell_type": "code",
   "execution_count": 58,
   "id": "48592dfe",
   "metadata": {},
   "outputs": [
    {
     "name": "stderr",
     "output_type": "stream",
     "text": [
      "C:\\Users\\mark8\\AppData\\Local\\Temp\\ipykernel_43340\\280700980.py:1: DeprecationWarning: scipy.var is deprecated and will be removed in SciPy 2.0.0, use numpy.var instead\n",
      "  sp.var(fish_data, ddof = 1)\n"
     ]
    },
    {
     "data": {
      "text/plain": [
       "1.333"
      ]
     },
     "execution_count": 58,
     "metadata": {},
     "output_type": "execute_result"
    }
   ],
   "source": [
    "sp.var(fish_data, ddof = 1)"
   ]
  },
  {
   "cell_type": "code",
   "execution_count": 60,
   "id": "fff9d518",
   "metadata": {},
   "outputs": [
    {
     "name": "stderr",
     "output_type": "stream",
     "text": [
      "C:\\Users\\mark8\\AppData\\Local\\Temp\\ipykernel_43340\\811745354.py:1: DeprecationWarning: scipy.sqrt is deprecated and will be removed in SciPy 2.0.0, use numpy.lib.scimath.sqrt instead\n",
      "  sigma = sp.sqrt(sigma_2)\n"
     ]
    },
    {
     "data": {
      "text/plain": [
       "1.155"
      ]
     },
     "execution_count": 60,
     "metadata": {},
     "output_type": "execute_result"
    }
   ],
   "source": [
    "sigma = sp.sqrt(sigma_2)\n",
    "sigma"
   ]
  },
  {
   "cell_type": "code",
   "execution_count": 61,
   "id": "2a412686",
   "metadata": {},
   "outputs": [
    {
     "name": "stderr",
     "output_type": "stream",
     "text": [
      "C:\\Users\\mark8\\AppData\\Local\\Temp\\ipykernel_43340\\3872309479.py:1: DeprecationWarning: scipy.std is deprecated and will be removed in SciPy 2.0.0, use numpy.std instead\n",
      "  sp.std(fish_data, ddof = 1)\n"
     ]
    },
    {
     "data": {
      "text/plain": [
       "1.155"
      ]
     },
     "execution_count": 61,
     "metadata": {},
     "output_type": "execute_result"
    }
   ],
   "source": [
    "sp.std(fish_data, ddof = 1)"
   ]
  },
  {
   "cell_type": "markdown",
   "id": "7a84f525",
   "metadata": {},
   "source": [
    "## 표준화 (데이터의 평균을 0, 표준편차 1로 변환하는 것"
   ]
  },
  {
   "cell_type": "code",
   "execution_count": 63,
   "id": "d21e7fe0",
   "metadata": {},
   "outputs": [
    {
     "data": {
      "text/plain": [
       "array([-2., -1., -1.,  0.,  0.,  0.,  0.,  1.,  1.,  2.])"
      ]
     },
     "execution_count": 63,
     "metadata": {},
     "output_type": "execute_result"
    }
   ],
   "source": [
    "fish_data - mu"
   ]
  },
  {
   "cell_type": "code",
   "execution_count": 64,
   "id": "f218fe0b",
   "metadata": {},
   "outputs": [
    {
     "name": "stderr",
     "output_type": "stream",
     "text": [
      "C:\\Users\\mark8\\AppData\\Local\\Temp\\ipykernel_43340\\2736786221.py:1: DeprecationWarning: scipy.mean is deprecated and will be removed in SciPy 2.0.0, use numpy.mean instead\n",
      "  sp.mean(fish_data - mu)\n"
     ]
    },
    {
     "data": {
      "text/plain": [
       "0.000"
      ]
     },
     "execution_count": 64,
     "metadata": {},
     "output_type": "execute_result"
    }
   ],
   "source": [
    "sp.mean(fish_data - mu)"
   ]
  },
  {
   "cell_type": "code",
   "execution_count": 65,
   "id": "ff6680c3",
   "metadata": {},
   "outputs": [
    {
     "name": "stderr",
     "output_type": "stream",
     "text": [
      "C:\\Users\\mark8\\AppData\\Local\\Temp\\ipykernel_43340\\3161258954.py:1: DeprecationWarning: scipy.std is deprecated and will be removed in SciPy 2.0.0, use numpy.std instead\n",
      "  sp.std(fish_data / sigma, ddof = 1)\n"
     ]
    },
    {
     "data": {
      "text/plain": [
       "1.000"
      ]
     },
     "execution_count": 65,
     "metadata": {},
     "output_type": "execute_result"
    }
   ],
   "source": [
    "sp.std(fish_data / sigma, ddof = 1)"
   ]
  },
  {
   "cell_type": "code",
   "execution_count": 67,
   "id": "a598d7ee",
   "metadata": {},
   "outputs": [
    {
     "data": {
      "text/plain": [
       "array([-1.732, -0.866, -0.866,  0.   ,  0.   ,  0.   ,  0.   ,  0.866,\n",
       "        0.866,  1.732])"
      ]
     },
     "execution_count": 67,
     "metadata": {},
     "output_type": "execute_result"
    }
   ],
   "source": [
    "standard = (fish_data - mu) / sigma \n",
    "standard"
   ]
  },
  {
   "cell_type": "code",
   "execution_count": 69,
   "id": "3ebd91df",
   "metadata": {},
   "outputs": [
    {
     "data": {
      "text/plain": [
       "0.000"
      ]
     },
     "execution_count": 69,
     "metadata": {},
     "output_type": "execute_result"
    }
   ],
   "source": [
    "np.mean(standard)"
   ]
  },
  {
   "cell_type": "code",
   "execution_count": 70,
   "id": "8d4c1e1f",
   "metadata": {},
   "outputs": [
    {
     "data": {
      "text/plain": [
       "1.000"
      ]
     },
     "execution_count": 70,
     "metadata": {},
     "output_type": "execute_result"
    }
   ],
   "source": [
    "np.std(standard, ddof = 1)"
   ]
  },
  {
   "cell_type": "code",
   "execution_count": 71,
   "id": "9dba1d85",
   "metadata": {},
   "outputs": [
    {
     "data": {
      "text/plain": [
       "6"
      ]
     },
     "execution_count": 71,
     "metadata": {},
     "output_type": "execute_result"
    }
   ],
   "source": [
    "np.amax(fish_data)"
   ]
  },
  {
   "cell_type": "code",
   "execution_count": 72,
   "id": "44264588",
   "metadata": {},
   "outputs": [
    {
     "data": {
      "text/plain": [
       "6"
      ]
     },
     "execution_count": 72,
     "metadata": {},
     "output_type": "execute_result"
    }
   ],
   "source": [
    "np.max(fish_data)"
   ]
  },
  {
   "cell_type": "code",
   "execution_count": 74,
   "id": "6d713119",
   "metadata": {},
   "outputs": [
    {
     "data": {
      "text/html": [
       "<div>\n",
       "<style scoped>\n",
       "    .dataframe tbody tr th:only-of-type {\n",
       "        vertical-align: middle;\n",
       "    }\n",
       "\n",
       "    .dataframe tbody tr th {\n",
       "        vertical-align: top;\n",
       "    }\n",
       "\n",
       "    .dataframe thead th {\n",
       "        text-align: right;\n",
       "    }\n",
       "</style>\n",
       "<table border=\"1\" class=\"dataframe\">\n",
       "  <thead>\n",
       "    <tr style=\"text-align: right;\">\n",
       "      <th></th>\n",
       "      <th>species</th>\n",
       "      <th>length</th>\n",
       "    </tr>\n",
       "  </thead>\n",
       "  <tbody>\n",
       "    <tr>\n",
       "      <th>0</th>\n",
       "      <td>A</td>\n",
       "      <td>2</td>\n",
       "    </tr>\n",
       "    <tr>\n",
       "      <th>1</th>\n",
       "      <td>A</td>\n",
       "      <td>3</td>\n",
       "    </tr>\n",
       "    <tr>\n",
       "      <th>2</th>\n",
       "      <td>A</td>\n",
       "      <td>4</td>\n",
       "    </tr>\n",
       "    <tr>\n",
       "      <th>3</th>\n",
       "      <td>B</td>\n",
       "      <td>6</td>\n",
       "    </tr>\n",
       "    <tr>\n",
       "      <th>4</th>\n",
       "      <td>B</td>\n",
       "      <td>8</td>\n",
       "    </tr>\n",
       "    <tr>\n",
       "      <th>5</th>\n",
       "      <td>B</td>\n",
       "      <td>10</td>\n",
       "    </tr>\n",
       "  </tbody>\n",
       "</table>\n",
       "</div>"
      ],
      "text/plain": [
       "  species  length\n",
       "0       A       2\n",
       "1       A       3\n",
       "2       A       4\n",
       "3       B       6\n",
       "4       B       8\n",
       "5       B      10"
      ]
     },
     "execution_count": 74,
     "metadata": {},
     "output_type": "execute_result"
    }
   ],
   "source": [
    "df = pd.DataFrame({\n",
    "    'species':np.array(['A','A','A','B','B','B']),\n",
    "    'length':np.array([2,3,4,6,8,10])\n",
    "})\n",
    "df"
   ]
  },
  {
   "cell_type": "code",
   "execution_count": 75,
   "id": "c1be8604",
   "metadata": {},
   "outputs": [
    {
     "data": {
      "text/plain": [
       "<pandas.core.groupby.generic.DataFrameGroupBy object at 0x000001907F3FD450>"
      ]
     },
     "execution_count": 75,
     "metadata": {},
     "output_type": "execute_result"
    }
   ],
   "source": [
    "grp=df.groupby('species')\n",
    "grp\n",
    "    "
   ]
  },
  {
   "cell_type": "code",
   "execution_count": 76,
   "id": "30d49fae",
   "metadata": {},
   "outputs": [
    {
     "data": {
      "text/html": [
       "<div>\n",
       "<style scoped>\n",
       "    .dataframe tbody tr th:only-of-type {\n",
       "        vertical-align: middle;\n",
       "    }\n",
       "\n",
       "    .dataframe tbody tr th {\n",
       "        vertical-align: top;\n",
       "    }\n",
       "\n",
       "    .dataframe thead th {\n",
       "        text-align: right;\n",
       "    }\n",
       "</style>\n",
       "<table border=\"1\" class=\"dataframe\">\n",
       "  <thead>\n",
       "    <tr style=\"text-align: right;\">\n",
       "      <th></th>\n",
       "      <th>length</th>\n",
       "    </tr>\n",
       "    <tr>\n",
       "      <th>species</th>\n",
       "      <th></th>\n",
       "    </tr>\n",
       "  </thead>\n",
       "  <tbody>\n",
       "    <tr>\n",
       "      <th>A</th>\n",
       "      <td>3.0</td>\n",
       "    </tr>\n",
       "    <tr>\n",
       "      <th>B</th>\n",
       "      <td>8.0</td>\n",
       "    </tr>\n",
       "  </tbody>\n",
       "</table>\n",
       "</div>"
      ],
      "text/plain": [
       "         length\n",
       "species        \n",
       "A           3.0\n",
       "B           8.0"
      ]
     },
     "execution_count": 76,
     "metadata": {},
     "output_type": "execute_result"
    }
   ],
   "source": [
    "grp.mean()"
   ]
  },
  {
   "cell_type": "markdown",
   "id": "691765ff",
   "metadata": {},
   "source": [
    "## 공분산 2개의 연속형 변수의 관계성을 확인하는 통계량"
   ]
  },
  {
   "cell_type": "code",
   "execution_count": 78,
   "id": "8cbc457f",
   "metadata": {},
   "outputs": [
    {
     "data": {
      "text/html": [
       "<div>\n",
       "<style scoped>\n",
       "    .dataframe tbody tr th:only-of-type {\n",
       "        vertical-align: middle;\n",
       "    }\n",
       "\n",
       "    .dataframe tbody tr th {\n",
       "        vertical-align: top;\n",
       "    }\n",
       "\n",
       "    .dataframe thead th {\n",
       "        text-align: right;\n",
       "    }\n",
       "</style>\n",
       "<table border=\"1\" class=\"dataframe\">\n",
       "  <thead>\n",
       "    <tr style=\"text-align: right;\">\n",
       "      <th></th>\n",
       "      <th>x</th>\n",
       "      <th>y</th>\n",
       "    </tr>\n",
       "  </thead>\n",
       "  <tbody>\n",
       "    <tr>\n",
       "      <th>0</th>\n",
       "      <td>18.5</td>\n",
       "      <td>34</td>\n",
       "    </tr>\n",
       "    <tr>\n",
       "      <th>1</th>\n",
       "      <td>18.7</td>\n",
       "      <td>39</td>\n",
       "    </tr>\n",
       "    <tr>\n",
       "      <th>2</th>\n",
       "      <td>19.1</td>\n",
       "      <td>41</td>\n",
       "    </tr>\n",
       "    <tr>\n",
       "      <th>3</th>\n",
       "      <td>19.7</td>\n",
       "      <td>38</td>\n",
       "    </tr>\n",
       "    <tr>\n",
       "      <th>4</th>\n",
       "      <td>21.5</td>\n",
       "      <td>45</td>\n",
       "    </tr>\n",
       "    <tr>\n",
       "      <th>5</th>\n",
       "      <td>21.7</td>\n",
       "      <td>41</td>\n",
       "    </tr>\n",
       "    <tr>\n",
       "      <th>6</th>\n",
       "      <td>21.8</td>\n",
       "      <td>52</td>\n",
       "    </tr>\n",
       "    <tr>\n",
       "      <th>7</th>\n",
       "      <td>22.0</td>\n",
       "      <td>44</td>\n",
       "    </tr>\n",
       "    <tr>\n",
       "      <th>8</th>\n",
       "      <td>23.4</td>\n",
       "      <td>44</td>\n",
       "    </tr>\n",
       "    <tr>\n",
       "      <th>9</th>\n",
       "      <td>23.8</td>\n",
       "      <td>49</td>\n",
       "    </tr>\n",
       "  </tbody>\n",
       "</table>\n",
       "</div>"
      ],
      "text/plain": [
       "      x   y\n",
       "0  18.5  34\n",
       "1  18.7  39\n",
       "2  19.1  41\n",
       "3  19.7  38\n",
       "4  21.5  45\n",
       "5  21.7  41\n",
       "6  21.8  52\n",
       "7  22.0  44\n",
       "8  23.4  44\n",
       "9  23.8  49"
      ]
     },
     "execution_count": 78,
     "metadata": {},
     "output_type": "execute_result"
    }
   ],
   "source": [
    "cov_data = pd.DataFrame({\n",
    "    'x':np.array([18.5, 18.7, 19.1, 19.7, 21.5, 21.7, 21.8, 22.0, 23.4, 23.8]),\n",
    "    'y':np.array([34,39,41,38,45,41,52,44,44,49])\n",
    "})\n",
    "cov_data"
   ]
  },
  {
   "cell_type": "code",
   "execution_count": 80,
   "id": "beb085be",
   "metadata": {},
   "outputs": [
    {
     "name": "stderr",
     "output_type": "stream",
     "text": [
      "C:\\Users\\mark8\\AppData\\Local\\Temp\\ipykernel_43340\\1837513122.py:4: DeprecationWarning: scipy.mean is deprecated and will be removed in SciPy 2.0.0, use numpy.mean instead\n",
      "  mu_x = sp.mean(x)\n",
      "C:\\Users\\mark8\\AppData\\Local\\Temp\\ipykernel_43340\\1837513122.py:5: DeprecationWarning: scipy.mean is deprecated and will be removed in SciPy 2.0.0, use numpy.mean instead\n",
      "  mu_y = sp.mean(y)\n"
     ]
    }
   ],
   "source": [
    "x = cov_data['x']\n",
    "y = cov_data['y']\n",
    "n = len(cov_data)\n",
    "mu_x = sp.mean(x)\n",
    "mu_y = sp.mean(y)"
   ]
  },
  {
   "cell_type": "code",
   "execution_count": 82,
   "id": "18e78f80",
   "metadata": {},
   "outputs": [
    {
     "data": {
      "text/plain": [
       "6.906"
      ]
     },
     "execution_count": 82,
     "metadata": {},
     "output_type": "execute_result"
    }
   ],
   "source": [
    "cov_sample = sum((x - mu_x) * (y - mu_y)) / n\n",
    "cov_sample"
   ]
  },
  {
   "cell_type": "code",
   "execution_count": 84,
   "id": "e4cbfa22",
   "metadata": {},
   "outputs": [
    {
     "data": {
      "text/plain": [
       "7.673"
      ]
     },
     "execution_count": 84,
     "metadata": {},
     "output_type": "execute_result"
    }
   ],
   "source": [
    "cov = sum((x-mu_x) * (y-mu_y)) / (n - 1)\n",
    "cov"
   ]
  },
  {
   "cell_type": "markdown",
   "id": "539b4c56",
   "metadata": {},
   "source": [
    "## 파이썬을 이용한 데이터 시각화"
   ]
  },
  {
   "cell_type": "code",
   "execution_count": 85,
   "id": "edf70bdf",
   "metadata": {},
   "outputs": [],
   "source": [
    "from matplotlib import pyplot as plt\n",
    "%matplotlib inline"
   ]
  },
  {
   "cell_type": "markdown",
   "id": "90328f43",
   "metadata": {},
   "source": [
    "## 꺾은선 그래프"
   ]
  },
  {
   "cell_type": "code",
   "execution_count": 88,
   "id": "87c7ee85",
   "metadata": {},
   "outputs": [
    {
     "name": "stderr",
     "output_type": "stream",
     "text": [
      "findfont: Font family 'NanumGothic' not found.\n",
      "findfont: Font family 'NanumGothic' not found.\n",
      "findfont: Font family 'NanumGothic' not found.\n",
      "findfont: Font family 'NanumGothic' not found.\n",
      "findfont: Font family 'NanumGothic' not found.\n",
      "findfont: Font family 'NanumGothic' not found.\n",
      "findfont: Font family 'NanumGothic' not found.\n",
      "findfont: Font family 'NanumGothic' not found.\n",
      "findfont: Font family 'NanumGothic' not found.\n",
      "findfont: Font family 'NanumGothic' not found.\n",
      "findfont: Font family 'NanumGothic' not found.\n",
      "findfont: Font family 'NanumGothic' not found.\n",
      "findfont: Font family 'NanumGothic' not found.\n",
      "findfont: Font family 'NanumGothic' not found.\n",
      "findfont: Font family 'NanumGothic' not found.\n",
      "findfont: Font family 'NanumGothic' not found.\n",
      "findfont: Font family 'NanumGothic' not found.\n",
      "findfont: Font family 'NanumGothic' not found.\n",
      "findfont: Font family 'NanumGothic' not found.\n",
      "findfont: Font family 'NanumGothic' not found.\n",
      "findfont: Font family 'NanumGothic' not found.\n",
      "findfont: Font family 'NanumGothic' not found.\n",
      "findfont: Font family 'NanumGothic' not found.\n",
      "findfont: Font family 'NanumGothic' not found.\n",
      "findfont: Font family 'NanumGothic' not found.\n",
      "findfont: Font family 'NanumGothic' not found.\n",
      "findfont: Font family 'NanumGothic' not found.\n",
      "findfont: Font family 'NanumGothic' not found.\n",
      "findfont: Font family 'NanumGothic' not found.\n",
      "findfont: Font family 'NanumGothic' not found.\n",
      "findfont: Font family 'NanumGothic' not found.\n",
      "findfont: Font family 'NanumGothic' not found.\n",
      "findfont: Font family 'NanumGothic' not found.\n",
      "findfont: Font family 'NanumGothic' not found.\n",
      "findfont: Font family 'NanumGothic' not found.\n",
      "findfont: Font family 'NanumGothic' not found.\n",
      "findfont: Font family 'NanumGothic' not found.\n",
      "findfont: Font family 'NanumGothic' not found.\n",
      "findfont: Font family 'NanumGothic' not found.\n",
      "findfont: Font family 'NanumGothic' not found.\n",
      "findfont: Font family 'NanumGothic' not found.\n",
      "findfont: Font family 'NanumGothic' not found.\n",
      "findfont: Font family 'NanumGothic' not found.\n",
      "findfont: Font family 'NanumGothic' not found.\n",
      "findfont: Font family 'NanumGothic' not found.\n",
      "findfont: Font family 'NanumGothic' not found.\n",
      "findfont: Font family 'NanumGothic' not found.\n",
      "findfont: Font family 'NanumGothic' not found.\n",
      "findfont: Font family 'NanumGothic' not found.\n",
      "findfont: Font family 'NanumGothic' not found.\n",
      "findfont: Font family 'NanumGothic' not found.\n",
      "findfont: Font family 'NanumGothic' not found.\n",
      "findfont: Font family 'NanumGothic' not found.\n",
      "findfont: Font family 'NanumGothic' not found.\n",
      "findfont: Font family 'NanumGothic' not found.\n",
      "findfont: Font family 'NanumGothic' not found.\n",
      "findfont: Font family 'NanumGothic' not found.\n",
      "findfont: Font family 'NanumGothic' not found.\n",
      "findfont: Font family 'NanumGothic' not found.\n",
      "findfont: Font family 'NanumGothic' not found.\n",
      "findfont: Font family 'NanumGothic' not found.\n",
      "findfont: Font family 'NanumGothic' not found.\n",
      "findfont: Font family 'NanumGothic' not found.\n",
      "findfont: Font family 'NanumGothic' not found.\n",
      "findfont: Font family 'NanumGothic' not found.\n",
      "findfont: Font family 'NanumGothic' not found.\n",
      "findfont: Font family 'NanumGothic' not found.\n",
      "findfont: Font family 'NanumGothic' not found.\n",
      "findfont: Font family 'NanumGothic' not found.\n",
      "findfont: Font family 'NanumGothic' not found.\n",
      "findfont: Font family 'NanumGothic' not found.\n",
      "findfont: Font family 'NanumGothic' not found.\n",
      "findfont: Font family 'NanumGothic' not found.\n",
      "findfont: Font family 'NanumGothic' not found.\n",
      "findfont: Font family 'NanumGothic' not found.\n",
      "findfont: Font family 'NanumGothic' not found.\n",
      "findfont: Font family 'NanumGothic' not found.\n",
      "findfont: Font family 'NanumGothic' not found.\n",
      "findfont: Font family 'NanumGothic' not found.\n",
      "findfont: Font family 'NanumGothic' not found.\n",
      "findfont: Font family 'NanumGothic' not found.\n",
      "findfont: Font family 'NanumGothic' not found.\n",
      "findfont: Font family 'NanumGothic' not found.\n",
      "findfont: Font family 'NanumGothic' not found.\n",
      "findfont: Font family 'NanumGothic' not found.\n",
      "findfont: Font family 'NanumGothic' not found.\n",
      "findfont: Font family 'NanumGothic' not found.\n",
      "findfont: Font family 'NanumGothic' not found.\n",
      "findfont: Font family 'NanumGothic' not found.\n"
     ]
    },
    {
     "data": {
      "image/png": "[encoded data removed]",
      "text/plain": [
       "<Figure size 640x480 with 1 Axes>"
      ]
     },
     "metadata": {},
     "output_type": "display_data"
    }
   ],
   "source": [
    "x = np.array([1,2,3,4])\n",
    "y = np.array([5,6,7,8])\n",
    "plt.plot(x, y, color = 'black') # 그림그리기\n",
    "plt.title('line plot matplotlib') # 제목\n",
    "plt.xlabel('x')\n",
    "plt.ylabel('y')\n",
    "plt.savefig('test_plot')"
   ]
  },
  {
   "cell_type": "code",
   "execution_count": 89,
   "id": "b4acc2a7",
   "metadata": {},
   "outputs": [],
   "source": [
    "import seaborn as sns\n",
    "sns.set()"
   ]
  },
  {
   "cell_type": "code",
   "execution_count": 90,
   "id": "f1c02b7f",
   "metadata": {},
   "outputs": [
    {
     "data": {
      "text/plain": [
       "Text(0, 0.5, 'y')"
      ]
     },
     "execution_count": 90,
     "metadata": {},
     "output_type": "execute_result"
    },
    {
     "data": {
      "image/png": "[encoded data removed]",
      "text/plain": [
       "<Figure size 640x480 with 1 Axes>"
      ]
     },
     "metadata": {},
     "output_type": "display_data"
    }
   ],
   "source": [
    "x = np.array([1,2,3,4])\n",
    "y = np.array([5,6,7,8])\n",
    "plt.plot(x, y, color = 'black') # 그림그리기\n",
    "plt.title('line plot matplotlib') # 제목\n",
    "plt.xlabel('x')\n",
    "plt.ylabel('y')"
   ]
  },
  {
   "cell_type": "markdown",
   "id": "5bb1cbab",
   "metadata": {},
   "source": [
    "## seaborn을 이용한 히스토그램"
   ]
  },
  {
   "cell_type": "code",
   "execution_count": 96,
   "id": "70639166",
   "metadata": {},
   "outputs": [
    {
     "name": "stderr",
     "output_type": "stream",
     "text": [
      "C:\\Users\\mark8\\AppData\\Local\\Temp\\ipykernel_43340\\3156448642.py:1: UserWarning: \n",
      "\n",
      "`distplot` is a deprecated function and will be removed in seaborn v0.14.0.\n",
      "\n",
      "Please adapt your code to use either `displot` (a figure-level function with\n",
      "similar flexibility) or `histplot` (an axes-level function for histograms).\n",
      "\n",
      "For a guide to updating your code to use the new functions, please see\n",
      "https://gist.github.com/mwaskom/de44147ed2974457ad6372750bbe5751\n",
      "\n",
      "  sns.distplot(fish_data, bins = 5, color = 'red', kde = False)\n"
     ]
    },
    {
     "data": {
      "text/plain": [
       "<AxesSubplot: >"
      ]
     },
     "execution_count": 96,
     "metadata": {},
     "output_type": "execute_result"
    },
    {
     "data": {
      "image/png": "[encoded data removed]",
      "text/plain": [
       "<Figure size 640x480 with 1 Axes>"
      ]
     },
     "metadata": {},
     "output_type": "display_data"
    }
   ],
   "source": [
    "sns.distplot(fish_data, bins = 5, color = 'red', kde = False)"
   ]
  },
  {
   "cell_type": "code",
   "execution_count": 97,
   "id": "a073410e",
   "metadata": {},
   "outputs": [
    {
     "data": {
      "text/html": [
       "<div>\n",
       "<style scoped>\n",
       "    .dataframe tbody tr th:only-of-type {\n",
       "        vertical-align: middle;\n",
       "    }\n",
       "\n",
       "    .dataframe tbody tr th {\n",
       "        vertical-align: top;\n",
       "    }\n",
       "\n",
       "    .dataframe thead tr th {\n",
       "        text-align: left;\n",
       "    }\n",
       "\n",
       "    .dataframe thead tr:last-of-type th {\n",
       "        text-align: right;\n",
       "    }\n",
       "</style>\n",
       "<table border=\"1\" class=\"dataframe\">\n",
       "  <thead>\n",
       "    <tr>\n",
       "      <th></th>\n",
       "      <th colspan=\"8\" halign=\"left\">length</th>\n",
       "    </tr>\n",
       "    <tr>\n",
       "      <th></th>\n",
       "      <th>count</th>\n",
       "      <th>mean</th>\n",
       "      <th>std</th>\n",
       "      <th>min</th>\n",
       "      <th>25%</th>\n",
       "      <th>50%</th>\n",
       "      <th>75%</th>\n",
       "      <th>max</th>\n",
       "    </tr>\n",
       "    <tr>\n",
       "      <th>species</th>\n",
       "      <th></th>\n",
       "      <th></th>\n",
       "      <th></th>\n",
       "      <th></th>\n",
       "      <th></th>\n",
       "      <th></th>\n",
       "      <th></th>\n",
       "      <th></th>\n",
       "    </tr>\n",
       "  </thead>\n",
       "  <tbody>\n",
       "    <tr>\n",
       "      <th>A</th>\n",
       "      <td>3.0</td>\n",
       "      <td>3.0</td>\n",
       "      <td>1.0</td>\n",
       "      <td>2.0</td>\n",
       "      <td>2.5</td>\n",
       "      <td>3.0</td>\n",
       "      <td>3.5</td>\n",
       "      <td>4.0</td>\n",
       "    </tr>\n",
       "    <tr>\n",
       "      <th>B</th>\n",
       "      <td>3.0</td>\n",
       "      <td>8.0</td>\n",
       "      <td>2.0</td>\n",
       "      <td>6.0</td>\n",
       "      <td>7.0</td>\n",
       "      <td>8.0</td>\n",
       "      <td>9.0</td>\n",
       "      <td>10.0</td>\n",
       "    </tr>\n",
       "  </tbody>\n",
       "</table>\n",
       "</div>"
      ],
      "text/plain": [
       "        length                                    \n",
       "         count mean  std  min  25%  50%  75%   max\n",
       "species                                           \n",
       "A          3.0  3.0  1.0  2.0  2.5  3.0  3.5   4.0\n",
       "B          3.0  8.0  2.0  6.0  7.0  8.0  9.0  10.0"
      ]
     },
     "execution_count": 97,
     "metadata": {},
     "output_type": "execute_result"
    }
   ],
   "source": [
    "df = pd.DataFrame({\n",
    "    'species':np.array(['A','A','A','B','B','B']),\n",
    "    'length':np.array([2,3,4,6,8,10])\n",
    "})\n",
    "df.groupby('species').describe() # reverse size, forward size "
   ]
  },
  {
   "cell_type": "code",
   "execution_count": 102,
   "id": "27d28aa7",
   "metadata": {},
   "outputs": [
    {
     "data": {
      "text/plain": [
       "<AxesSubplot: xlabel='species', ylabel='length'>"
      ]
     },
     "execution_count": 102,
     "metadata": {},
     "output_type": "execute_result"
    },
    {
     "data": {
      "image/png": "[encoded data removed]",
      "text/plain": [
       "<Figure size 640x480 with 1 Axes>"
      ]
     },
     "metadata": {},
     "output_type": "display_data"
    }
   ],
   "source": [
    "sns.boxplot(\n",
    "x = 'species',\n",
    "y = 'length',\n",
    "data = df)"
   ]
  },
  {
   "cell_type": "markdown",
   "id": "2cec21c4",
   "metadata": {},
   "source": [
    "## 페어플롯"
   ]
  },
  {
   "cell_type": "code",
   "execution_count": 104,
   "id": "9471b181",
   "metadata": {},
   "outputs": [
    {
     "data": {
      "text/html": [
       "<div>\n",
       "<style scoped>\n",
       "    .dataframe tbody tr th:only-of-type {\n",
       "        vertical-align: middle;\n",
       "    }\n",
       "\n",
       "    .dataframe tbody tr th {\n",
       "        vertical-align: top;\n",
       "    }\n",
       "\n",
       "    .dataframe thead th {\n",
       "        text-align: right;\n",
       "    }\n",
       "</style>\n",
       "<table border=\"1\" class=\"dataframe\">\n",
       "  <thead>\n",
       "    <tr style=\"text-align: right;\">\n",
       "      <th></th>\n",
       "      <th>sepal_length</th>\n",
       "      <th>sepal_width</th>\n",
       "      <th>petal_length</th>\n",
       "      <th>petal_width</th>\n",
       "      <th>species</th>\n",
       "    </tr>\n",
       "  </thead>\n",
       "  <tbody>\n",
       "    <tr>\n",
       "      <th>0</th>\n",
       "      <td>5.1</td>\n",
       "      <td>3.5</td>\n",
       "      <td>1.4</td>\n",
       "      <td>0.2</td>\n",
       "      <td>setosa</td>\n",
       "    </tr>\n",
       "    <tr>\n",
       "      <th>1</th>\n",
       "      <td>4.9</td>\n",
       "      <td>3.0</td>\n",
       "      <td>1.4</td>\n",
       "      <td>0.2</td>\n",
       "      <td>setosa</td>\n",
       "    </tr>\n",
       "    <tr>\n",
       "      <th>2</th>\n",
       "      <td>4.7</td>\n",
       "      <td>3.2</td>\n",
       "      <td>1.3</td>\n",
       "      <td>0.2</td>\n",
       "      <td>setosa</td>\n",
       "    </tr>\n",
       "    <tr>\n",
       "      <th>3</th>\n",
       "      <td>4.6</td>\n",
       "      <td>3.1</td>\n",
       "      <td>1.5</td>\n",
       "      <td>0.2</td>\n",
       "      <td>setosa</td>\n",
       "    </tr>\n",
       "    <tr>\n",
       "      <th>4</th>\n",
       "      <td>5.0</td>\n",
       "      <td>3.6</td>\n",
       "      <td>1.4</td>\n",
       "      <td>0.2</td>\n",
       "      <td>setosa</td>\n",
       "    </tr>\n",
       "    <tr>\n",
       "      <th>...</th>\n",
       "      <td>...</td>\n",
       "      <td>...</td>\n",
       "      <td>...</td>\n",
       "      <td>...</td>\n",
       "      <td>...</td>\n",
       "    </tr>\n",
       "    <tr>\n",
       "      <th>145</th>\n",
       "      <td>6.7</td>\n",
       "      <td>3.0</td>\n",
       "      <td>5.2</td>\n",
       "      <td>2.3</td>\n",
       "      <td>virginica</td>\n",
       "    </tr>\n",
       "    <tr>\n",
       "      <th>146</th>\n",
       "      <td>6.3</td>\n",
       "      <td>2.5</td>\n",
       "      <td>5.0</td>\n",
       "      <td>1.9</td>\n",
       "      <td>virginica</td>\n",
       "    </tr>\n",
       "    <tr>\n",
       "      <th>147</th>\n",
       "      <td>6.5</td>\n",
       "      <td>3.0</td>\n",
       "      <td>5.2</td>\n",
       "      <td>2.0</td>\n",
       "      <td>virginica</td>\n",
       "    </tr>\n",
       "    <tr>\n",
       "      <th>148</th>\n",
       "      <td>6.2</td>\n",
       "      <td>3.4</td>\n",
       "      <td>5.4</td>\n",
       "      <td>2.3</td>\n",
       "      <td>virginica</td>\n",
       "    </tr>\n",
       "    <tr>\n",
       "      <th>149</th>\n",
       "      <td>5.9</td>\n",
       "      <td>3.0</td>\n",
       "      <td>5.1</td>\n",
       "      <td>1.8</td>\n",
       "      <td>virginica</td>\n",
       "    </tr>\n",
       "  </tbody>\n",
       "</table>\n",
       "<p>150 rows × 5 columns</p>\n",
       "</div>"
      ],
      "text/plain": [
       "     sepal_length  sepal_width  petal_length  petal_width    species\n",
       "0             5.1          3.5           1.4          0.2     setosa\n",
       "1             4.9          3.0           1.4          0.2     setosa\n",
       "2             4.7          3.2           1.3          0.2     setosa\n",
       "3             4.6          3.1           1.5          0.2     setosa\n",
       "4             5.0          3.6           1.4          0.2     setosa\n",
       "..            ...          ...           ...          ...        ...\n",
       "145           6.7          3.0           5.2          2.3  virginica\n",
       "146           6.3          2.5           5.0          1.9  virginica\n",
       "147           6.5          3.0           5.2          2.0  virginica\n",
       "148           6.2          3.4           5.4          2.3  virginica\n",
       "149           5.9          3.0           5.1          1.8  virginica\n",
       "\n",
       "[150 rows x 5 columns]"
      ]
     },
     "execution_count": 104,
     "metadata": {},
     "output_type": "execute_result"
    }
   ],
   "source": [
    "iris = sns.load_dataset('iris')\n",
    "iris"
   ]
  },
  {
   "cell_type": "code",
   "execution_count": 105,
   "id": "e9e3a93b",
   "metadata": {},
   "outputs": [
    {
     "data": {
      "text/plain": [
       "(150, 5)"
      ]
     },
     "execution_count": 105,
     "metadata": {},
     "output_type": "execute_result"
    }
   ],
   "source": [
    "\n",
    "iris.shape"
   ]
  },
  {
   "cell_type": "code",
   "execution_count": 107,
   "id": "5fbb4de5",
   "metadata": {},
   "outputs": [
    {
     "data": {
      "text/plain": [
       "<seaborn.axisgrid.PairGrid at 0x190053ae5c0>"
      ]
     },
     "execution_count": 107,
     "metadata": {},
     "output_type": "execute_result"
    },
    {
     "data": {
      "image/png": "[encoded data removed]",
      "text/plain": [
       "<Figure size 1120.62x1000 with 20 Axes>"
      ]
     },
     "metadata": {},
     "output_type": "display_data"
    }
   ],
   "source": [
    "sns.pairplot(iris, hue = 'species')"
   ]
  },
  {
   "cell_type": "markdown",
   "id": "bc76ebed",
   "metadata": {},
   "source": [
    "## 추측통계 (모집단을 완전히 알고 있다는 전제하에 모집단에서 표본추출의 시뮬레이션을 해본다, 데이터가 어떤 프로세스로 얻어지는지, 파이썬을 이용해서 어떤 시뮬레이트를 하는지 1장의 내용을 복습하면서 배워보자)"
   ]
  },
  {
   "cell_type": "code",
   "execution_count": 3,
   "id": "a8d47dd5",
   "metadata": {},
   "outputs": [
    {
     "name": "stdout",
     "output_type": "stream",
     "text": [
      "Collecting scipy\n",
      "  Downloading scipy-1.11.1-cp310-cp310-win_amd64.whl (44.0 MB)\n",
      "     ---------------------------------------- 0.0/44.0 MB ? eta -:--:--\n",
      "     ---------------------------------------- 0.4/44.0 MB 7.6 MB/s eta 0:00:06\n",
      "      --------------------------------------- 1.1/44.0 MB 9.9 MB/s eta 0:00:05\n",
      "     - -------------------------------------- 1.8/44.0 MB 11.4 MB/s eta 0:00:04\n",
      "     -- ------------------------------------- 2.5/44.0 MB 10.6 MB/s eta 0:00:04\n",
      "     -- ------------------------------------- 3.1/44.0 MB 11.2 MB/s eta 0:00:04\n",
      "     --- ------------------------------------ 3.9/44.0 MB 11.2 MB/s eta 0:00:04\n",
      "     ---- ----------------------------------- 4.4/44.0 MB 11.3 MB/s eta 0:00:04\n",
      "     ---- ----------------------------------- 5.1/44.0 MB 11.2 MB/s eta 0:00:04\n",
      "     ----- ---------------------------------- 5.6/44.0 MB 10.9 MB/s eta 0:00:04\n",
      "     ----- ---------------------------------- 6.1/44.0 MB 10.8 MB/s eta 0:00:04\n",
      "     ------ --------------------------------- 6.7/44.0 MB 10.8 MB/s eta 0:00:04\n",
      "     ------ --------------------------------- 7.4/44.0 MB 10.7 MB/s eta 0:00:04\n",
      "     ------- -------------------------------- 8.0/44.0 MB 10.8 MB/s eta 0:00:04\n",
      "     ------- -------------------------------- 8.4/44.0 MB 10.9 MB/s eta 0:00:04\n",
      "     ------- -------------------------------- 8.4/44.0 MB 10.9 MB/s eta 0:00:04\n",
      "     ------- -------------------------------- 8.4/44.0 MB 10.9 MB/s eta 0:00:04\n",
      "     ------- -------------------------------- 8.4/44.0 MB 10.9 MB/s eta 0:00:04\n",
      "     ------- -------------------------------- 8.4/44.0 MB 10.9 MB/s eta 0:00:04\n",
      "     ------- -------------------------------- 8.4/44.0 MB 10.9 MB/s eta 0:00:04\n",
      "     -------- ------------------------------- 8.9/44.0 MB 8.3 MB/s eta 0:00:05\n",
      "     -------- ------------------------------- 9.5/44.0 MB 8.3 MB/s eta 0:00:05\n",
      "     --------- ------------------------------ 10.1/44.0 MB 8.4 MB/s eta 0:00:05\n",
      "     --------- ------------------------------ 10.7/44.0 MB 8.6 MB/s eta 0:00:04\n",
      "     ---------- ----------------------------- 11.2/44.0 MB 8.6 MB/s eta 0:00:04\n",
      "     ---------- ----------------------------- 11.7/44.0 MB 8.6 MB/s eta 0:00:04\n",
      "     ----------- ---------------------------- 12.4/44.0 MB 8.6 MB/s eta 0:00:04\n",
      "     ----------- ---------------------------- 12.9/44.0 MB 8.6 MB/s eta 0:00:04\n",
      "     ------------ --------------------------- 13.4/44.0 MB 8.6 MB/s eta 0:00:04\n",
      "     ------------ --------------------------- 14.1/44.0 MB 8.5 MB/s eta 0:00:04\n",
      "     ------------- -------------------------- 14.6/44.0 MB 8.5 MB/s eta 0:00:04\n",
      "     ------------- -------------------------- 15.0/44.0 MB 8.4 MB/s eta 0:00:04\n",
      "     -------------- ------------------------- 15.7/44.0 MB 8.4 MB/s eta 0:00:04\n",
      "     -------------- ------------------------- 16.2/44.0 MB 8.4 MB/s eta 0:00:04\n",
      "     --------------- ------------------------ 16.7/44.0 MB 8.4 MB/s eta 0:00:04\n",
      "     --------------- ------------------------ 17.4/44.0 MB 8.5 MB/s eta 0:00:04\n",
      "     ---------------- ----------------------- 17.9/44.0 MB 8.5 MB/s eta 0:00:04\n",
      "     ---------------- ----------------------- 18.4/44.0 MB 8.4 MB/s eta 0:00:04\n",
      "     ---------------- ---------------------- 19.0/44.0 MB 10.6 MB/s eta 0:00:03\n",
      "     ----------------- --------------------- 19.7/44.0 MB 10.7 MB/s eta 0:00:03\n",
      "     ------------------ -------------------- 20.4/44.0 MB 10.7 MB/s eta 0:00:03\n",
      "     ------------------ -------------------- 21.2/44.0 MB 10.6 MB/s eta 0:00:03\n",
      "     ------------------- ------------------- 21.8/44.0 MB 10.6 MB/s eta 0:00:03\n",
      "     ------------------- ------------------- 22.4/44.0 MB 10.6 MB/s eta 0:00:03\n",
      "     -------------------- ------------------ 23.2/44.0 MB 10.4 MB/s eta 0:00:03\n",
      "     --------------------- ----------------- 24.3/44.0 MB 10.6 MB/s eta 0:00:02\n",
      "     ---------------------- ---------------- 25.1/44.0 MB 10.7 MB/s eta 0:00:02\n",
      "     ---------------------- ---------------- 25.9/44.0 MB 10.7 MB/s eta 0:00:02\n",
      "     ----------------------- --------------- 26.8/44.0 MB 10.7 MB/s eta 0:00:02\n",
      "     ------------------------ -------------- 27.7/44.0 MB 10.7 MB/s eta 0:00:02\n",
      "     ------------------------- ------------- 28.3/44.0 MB 10.9 MB/s eta 0:00:02\n",
      "     ------------------------- ------------- 28.6/44.0 MB 10.6 MB/s eta 0:00:02\n",
      "     ------------------------- ------------- 29.3/44.0 MB 10.4 MB/s eta 0:00:02\n",
      "     -------------------------- ------------ 29.8/44.0 MB 10.2 MB/s eta 0:00:02\n",
      "     --------------------------- ----------- 30.6/44.0 MB 10.1 MB/s eta 0:00:02\n",
      "     --------------------------- ----------- 31.5/44.0 MB 10.4 MB/s eta 0:00:02\n",
      "     ---------------------------- ---------- 32.1/44.0 MB 10.4 MB/s eta 0:00:02\n",
      "     ---------------------------- ---------- 32.4/44.0 MB 10.1 MB/s eta 0:00:02\n",
      "     ----------------------------- --------- 32.9/44.0 MB 10.1 MB/s eta 0:00:02\n",
      "     ------------------------------ --------- 33.4/44.0 MB 9.8 MB/s eta 0:00:02\n",
      "     ------------------------------ --------- 33.9/44.0 MB 9.6 MB/s eta 0:00:02\n",
      "     ------------------------------- -------- 34.6/44.0 MB 9.5 MB/s eta 0:00:01\n",
      "     -------------------------------- ------- 35.2/44.0 MB 9.4 MB/s eta 0:00:01\n",
      "     -------------------------------- ------- 35.9/44.0 MB 9.4 MB/s eta 0:00:01\n",
      "     --------------------------------- ------ 36.6/44.0 MB 9.4 MB/s eta 0:00:01\n",
      "     --------------------------------- ------ 37.3/44.0 MB 9.2 MB/s eta 0:00:01\n",
      "     ----------------------------------- ---- 38.6/44.0 MB 9.4 MB/s eta 0:00:01\n",
      "     ----------------------------------- ---- 39.3/44.0 MB 9.6 MB/s eta 0:00:01\n",
      "     ------------------------------------ --- 39.9/44.0 MB 9.6 MB/s eta 0:00:01\n",
      "     ------------------------------------ --- 40.2/44.0 MB 9.4 MB/s eta 0:00:01\n",
      "     ------------------------------------ --- 40.3/44.0 MB 8.8 MB/s eta 0:00:01\n",
      "     ------------------------------------ --- 40.7/44.0 MB 8.7 MB/s eta 0:00:01\n",
      "     ------------------------------------- -- 40.8/44.0 MB 8.3 MB/s eta 0:00:01\n",
      "     ------------------------------------- -- 41.0/44.0 MB 8.0 MB/s eta 0:00:01\n",
      "     ------------------------------------- -- 41.5/44.0 MB 7.5 MB/s eta 0:00:01\n",
      "     -------------------------------------- - 42.4/44.0 MB 7.4 MB/s eta 0:00:01\n",
      "     ---------------------------------------  42.9/44.0 MB 7.5 MB/s eta 0:00:01\n",
      "     ---------------------------------------  43.4/44.0 MB 7.4 MB/s eta 0:00:01\n",
      "     ---------------------------------------  44.0/44.0 MB 7.4 MB/s eta 0:00:01\n",
      "     ---------------------------------------  44.0/44.0 MB 7.3 MB/s eta 0:00:01\n",
      "     ---------------------------------------  44.0/44.0 MB 7.3 MB/s eta 0:00:01\n",
      "     ---------------------------------------  44.0/44.0 MB 7.3 MB/s eta 0:00:01\n",
      "     ---------------------------------------  44.0/44.0 MB 7.3 MB/s eta 0:00:01\n",
      "     ---------------------------------------  44.0/44.0 MB 7.3 MB/s eta 0:00:01\n",
      "     ---------------------------------------  44.0/44.0 MB 7.3 MB/s eta 0:00:01\n",
      "     ---------------------------------------  44.0/44.0 MB 7.3 MB/s eta 0:00:01\n",
      "     ---------------------------------------- 44.0/44.0 MB 4.2 MB/s eta 0:00:00\n",
      "Requirement already satisfied: numpy<1.28.0,>=1.21.6 in c:\\users\\mark8\\appdata\\local\\programs\\python\\python310\\lib\\site-packages (from scipy) (1.23.2)\n",
      "Installing collected packages: scipy\n",
      "Successfully installed scipy-1.11.1\n",
      "Note: you may need to restart the kernel to use updated packages.\n"
     ]
    },
    {
     "name": "stderr",
     "output_type": "stream",
     "text": [
      "\n",
      "[notice] A new release of pip is available: 23.0 -> 23.2.1\n",
      "[notice] To update, run: python.exe -m pip install --upgrade pip\n"
     ]
    }
   ],
   "source": [
    "pip install scipy"
   ]
  },
  {
   "cell_type": "code",
   "execution_count": 16,
   "id": "73c119ac",
   "metadata": {},
   "outputs": [],
   "source": [
    "# 수치 계산에 사용하는 라이브러리\n",
    "import numpy as np\n",
    "import pandas as pd\n",
    "\n",
    "\n",
    "# 그래프를 그리기 위한 라이브러리\n",
    "from matplotlib import pyplot as plt\n",
    "import seaborn as sns\n",
    "\n",
    "# 표시 자리수 지정\n",
    "%precision 3\n",
    "# 그래프를 주피터 노트북에 그리기위한 설정\n",
    "%matplotlib inline\n"
   ]
  },
  {
   "cell_type": "code",
   "execution_count": null,
   "id": "6222633a",
   "metadata": {},
   "outputs": [
    {
     "ename": "NameError",
     "evalue": "name 'np' is not defined",
     "output_type": "error",
     "traceback": [
      "\u001b[1;31m---------------------------------------------------------------------------\u001b[0m",
      "\u001b[1;31mNameError\u001b[0m                                 Traceback (most recent call last)",
      "Cell \u001b[1;32mIn[1], line 1\u001b[0m\n\u001b[1;32m----> 1\u001b[0m fish_5 \u001b[39m=\u001b[39m np\u001b[39m.\u001b[39marray([\u001b[39m2\u001b[39m,\u001b[39m3\u001b[39m,\u001b[39m4\u001b[39m,\u001b[39m5\u001b[39m,\u001b[39m6\u001b[39m])\n\u001b[0;32m      2\u001b[0m fish_5\n",
      "\u001b[1;31mNameError\u001b[0m: name 'np' is not defined"
     ]
    }
   ],
   "source": [
    "fish_5 = np.array([2,3,4,5,6])\n",
    "fish_5"
   ]
  },
  {
   "cell_type": "code",
   "execution_count": 4,
   "id": "adedc42c",
   "metadata": {},
   "outputs": [
    {
     "ename": "NameError",
     "evalue": "name 'fish_5' is not defined",
     "output_type": "error",
     "traceback": [
      "\u001b[1;31m---------------------------------------------------------------------------\u001b[0m",
      "\u001b[1;31mNameError\u001b[0m                                 Traceback (most recent call last)",
      "Cell \u001b[1;32mIn[4], line 1\u001b[0m\n\u001b[1;32m----> 1\u001b[0m np\u001b[39m.\u001b[39mrandom\u001b[39m.\u001b[39mchoice(fish_5, size \u001b[39m=\u001b[39m \u001b[39m1\u001b[39m, replace \u001b[39m=\u001b[39m \u001b[39mFalse\u001b[39;00m)\n",
      "\u001b[1;31mNameError\u001b[0m: name 'fish_5' is not defined"
     ]
    }
   ],
   "source": [
    "np.random.choice(fish_5, size = 1, replace = False)"
   ]
  },
  {
   "cell_type": "code",
   "execution_count": 5,
   "id": "abc367af",
   "metadata": {},
   "outputs": [
    {
     "data": {
      "text/plain": [
       "0    5.297442\n",
       "1    3.505566\n",
       "2    3.572546\n",
       "3    3.135979\n",
       "4    4.689275\n",
       "Name: length, dtype: float64"
      ]
     },
     "execution_count": 5,
     "metadata": {},
     "output_type": "execute_result"
    }
   ],
   "source": [
    "fish_100000 = pd.read_csv(r'C:\\Users\\mark8\\scapy\\source\\sample\\3-4-1-fish_length_100000.csv')['length']\n",
    "fish_100000.head()"
   ]
  },
  {
   "cell_type": "code",
   "execution_count": 8,
   "id": "878ac802",
   "metadata": {},
   "outputs": [],
   "source": [
    "len(fish_100000)\n",
    "np.random.seed(1)"
   ]
  },
  {
   "cell_type": "code",
   "execution_count": 9,
   "id": "2ce051dc",
   "metadata": {},
   "outputs": [
    {
     "data": {
      "text/plain": [
       "array([3.84378815, 2.5063875 , 4.95892771, 5.04877033, 4.56975969,\n",
       "       2.76014829, 4.95107106, 4.19193018, 4.69562894, 3.79076231])"
      ]
     },
     "execution_count": 9,
     "metadata": {},
     "output_type": "execute_result"
    }
   ],
   "source": [
    "# 10마리 셈플링\n",
    "sampling_result = np.random.choice(fish_100000, size = 10, replace = False)\n",
    "sampling_result"
   ]
  },
  {
   "cell_type": "code",
   "execution_count": 11,
   "id": "caf50375",
   "metadata": {},
   "outputs": [
    {
     "data": {
      "text/plain": [
       "4.131717414132571"
      ]
     },
     "execution_count": 11,
     "metadata": {},
     "output_type": "execute_result"
    }
   ],
   "source": [
    "import numpy as np\n",
    "np.mean(sampling_result)"
   ]
  },
  {
   "cell_type": "code",
   "execution_count": 12,
   "id": "6ac9db6e",
   "metadata": {},
   "outputs": [
    {
     "data": {
      "text/plain": [
       "4.000000000000001"
      ]
     },
     "execution_count": 12,
     "metadata": {},
     "output_type": "execute_result"
    }
   ],
   "source": [
    "# 3.4.7 모집단분포\n",
    "# 모집단 평균 = 모평균\n",
    "np.mean(fish_100000)"
   ]
  },
  {
   "cell_type": "code",
   "execution_count": 13,
   "id": "f62294df",
   "metadata": {},
   "outputs": [
    {
     "data": {
      "text/plain": [
       "0.7999999999999999"
      ]
     },
     "execution_count": 13,
     "metadata": {},
     "output_type": "execute_result"
    }
   ],
   "source": [
    "# 모표준편차\n",
    "np.std(fish_100000, ddof = 0) #모집단 표준편차 ddof = 0 표본표준편차 ddof = 1"
   ]
  },
  {
   "cell_type": "code",
   "execution_count": 14,
   "id": "b9b76dd4",
   "metadata": {},
   "outputs": [
    {
     "data": {
      "text/plain": [
       "0.6399999999999999"
      ]
     },
     "execution_count": 14,
     "metadata": {},
     "output_type": "execute_result"
    }
   ],
   "source": [
    "# 모분산\n",
    "np.var(fish_100000, ddof = 0)\n"
   ]
  },
  {
   "cell_type": "code",
   "execution_count": 18,
   "id": "871702e2",
   "metadata": {},
   "outputs": [
    {
     "name": "stderr",
     "output_type": "stream",
     "text": [
      "C:\\Users\\mark8\\AppData\\Local\\Temp\\ipykernel_13932\\1443094652.py:1: UserWarning: \n",
      "\n",
      "`distplot` is a deprecated function and will be removed in seaborn v0.14.0.\n",
      "\n",
      "Please adapt your code to use either `displot` (a figure-level function with\n",
      "similar flexibility) or `histplot` (an axes-level function for histograms).\n",
      "\n",
      "For a guide to updating your code to use the new functions, please see\n",
      "https://gist.github.com/mwaskom/de44147ed2974457ad6372750bbe5751\n",
      "\n",
      "  sns.distplot(fish_100000, kde = True, color = 'blue')\n"
     ]
    },
    {
     "data": {
      "text/plain": [
       "<AxesSubplot:xlabel='length', ylabel='Density'>"
      ]
     },
     "execution_count": 18,
     "metadata": {},
     "output_type": "execute_result"
    },
    {
     "data": {
      "image/png": "[encoded data removed]",
      "text/plain": [
       "<Figure size 640x480 with 1 Axes>"
      ]
     },
     "metadata": {},
     "output_type": "display_data"
    }
   ],
   "source": [
    "sns.distplot(fish_100000, kde = True, color = 'blue') # kde 바깥 선,"
   ]
  },
  {
   "cell_type": "code",
   "execution_count": 20,
   "id": "898e83b4",
   "metadata": {},
   "outputs": [
    {
     "data": {
      "text/plain": [
       "array([1. , 1.1, 1.2, 1.3, 1.4, 1.5, 1.6, 1.7, 1.8, 1.9, 2. , 2.1, 2.2,\n",
       "       2.3, 2.4, 2.5, 2.6, 2.7, 2.8, 2.9, 3. , 3.1, 3.2, 3.3, 3.4, 3.5,\n",
       "       3.6, 3.7, 3.8, 3.9, 4. , 4.1, 4.2, 4.3, 4.4, 4.5, 4.6, 4.7, 4.8,\n",
       "       4.9, 5. , 5.1, 5.2, 5.3, 5.4, 5.5, 5.6, 5.7, 5.8, 5.9, 6. , 6.1,\n",
       "       6.2, 6.3, 6.4, 6.5, 6.6, 6.7, 6.8, 6.9, 7. ])"
      ]
     },
     "execution_count": 20,
     "metadata": {},
     "output_type": "execute_result"
    }
   ],
   "source": [
    "x = np.arange(start = 1, stop = 7.1, step = 0.1)\n",
    "x"
   ]
  },
  {
   "cell_type": "code",
   "execution_count": 22,
   "id": "248ffe4e",
   "metadata": {},
   "outputs": [
    {
     "ename": "TypeError",
     "evalue": "arange() got an unexpected keyword argument 'count'",
     "output_type": "error",
     "traceback": [
      "\u001b[1;31m---------------------------------------------------------------------------\u001b[0m",
      "\u001b[1;31mTypeError\u001b[0m                                 Traceback (most recent call last)",
      "Cell \u001b[1;32mIn[22], line 1\u001b[0m\n\u001b[1;32m----> 1\u001b[0m x \u001b[39m=\u001b[39m np\u001b[39m.\u001b[39;49marange(start \u001b[39m=\u001b[39;49m \u001b[39m1\u001b[39;49m, stop \u001b[39m=\u001b[39;49m \u001b[39m7.1\u001b[39;49m, count \u001b[39m=\u001b[39;49m \u001b[39m100\u001b[39;49m)\n\u001b[0;32m      2\u001b[0m x\n",
      "\u001b[1;31mTypeError\u001b[0m: arange() got an unexpected keyword argument 'count'"
     ]
    }
   ],
   "source": [
    "x = np.arange(start = 1, stop = 7.1, count = 100)\n",
    "x"
   ]
  },
  {
   "cell_type": "code",
   "execution_count": null,
   "id": "fd3538f9",
   "metadata": {},
   "outputs": [],
   "source": [
    "# 3.5 표본 통계량 성질\n",
    "# 보통 샘플링은 1번밖에 할수있다 하지만 시뮬레이션을 사용하면 셈플링을 몇번이고 반복할수있다\n"
   ]
  },
  {
   "cell_type": "code",
   "execution_count": 2,
   "id": "a45090ba",
   "metadata": {},
   "outputs": [],
   "source": [
    "import numpy as np\n",
    "import pandas as pd\n",
    "import scipy as sp\n",
    "from scipy import stats\n",
    "\n",
    "from matplotlib import pyplot as plt\n",
    "import seaborn as sns\n",
    "sns.set()\n",
    "\n",
    "%precision 3\n",
    "\n",
    "%matplotlib inline\n",
    "\n"
   ]
  },
  {
   "cell_type": "code",
   "execution_count": 3,
   "id": "4df5493b",
   "metadata": {},
   "outputs": [],
   "source": [
    "population = stats.norm(loc = 4, scale = 0.8) # 평균 4, 표준편차 0.8"
   ]
  },
  {
   "cell_type": "code",
   "execution_count": 4,
   "id": "f100874f",
   "metadata": {},
   "outputs": [],
   "source": [
    "# 3.5.4 표본평균을 여러번 계산하기\n",
    "sample_mean_array = np.zeros(10000)"
   ]
  },
  {
   "cell_type": "code",
   "execution_count": 5,
   "id": "4015e0c4",
   "metadata": {},
   "outputs": [
    {
     "name": "stderr",
     "output_type": "stream",
     "text": [
      "C:\\Users\\mark8\\AppData\\Local\\Temp\\ipykernel_15560\\3179221025.py:4: DeprecationWarning: scipy.mean is deprecated and will be removed in SciPy 2.0.0, use numpy.mean instead\n",
      "  sample_mean_array[i] = sp.mean(sample)\n"
     ]
    }
   ],
   "source": [
    "np.random.seed(1)\n",
    "for i in range(0,10000): # 시행횟수는 10000번\n",
    "    sample = population.rvs(size = 10) # 정규분포 POPULATION을 무작위로 10개샘플(표본추출) 뽑기->표본평균\n",
    "    sample_mean_array[i] = sp.mean(sample)"
   ]
  },
  {
   "cell_type": "code",
   "execution_count": 6,
   "id": "244319eb",
   "metadata": {},
   "outputs": [
    {
     "data": {
      "text/plain": [
       "array([3.922, 3.864, 4.07 , ..., 4.136, 4.575, 4.099])"
      ]
     },
     "execution_count": 6,
     "metadata": {},
     "output_type": "execute_result"
    }
   ],
   "source": [
    "sample_mean_array"
   ]
  },
  {
   "cell_type": "code",
   "execution_count": 7,
   "id": "63f46b73",
   "metadata": {},
   "outputs": [
    {
     "name": "stdout",
     "output_type": "stream",
     "text": [
      "ok\n"
     ]
    }
   ],
   "source": [
    "# 3.5.5 표본평균의 평균값은 모평균에 가깝다\n",
    "print('ok')"
   ]
  },
  {
   "cell_type": "code",
   "execution_count": 8,
   "id": "d9e46f47",
   "metadata": {},
   "outputs": [
    {
     "name": "stderr",
     "output_type": "stream",
     "text": [
      "C:\\Users\\mark8\\AppData\\Local\\Temp\\ipykernel_15560\\2884089112.py:1: DeprecationWarning: scipy.mean is deprecated and will be removed in SciPy 2.0.0, use numpy.mean instead\n",
      "  sp.mean(sample_mean_array)\n"
     ]
    },
    {
     "data": {
      "text/plain": [
       "4.004"
      ]
     },
     "execution_count": 8,
     "metadata": {},
     "output_type": "execute_result"
    }
   ],
   "source": [
    "sp.mean(sample_mean_array)# 표본평균의 평균 "
   ]
  },
  {
   "cell_type": "code",
   "execution_count": 9,
   "id": "c03500fd",
   "metadata": {},
   "outputs": [
    {
     "name": "stderr",
     "output_type": "stream",
     "text": [
      "C:\\Users\\mark8\\AppData\\Local\\Temp\\ipykernel_15560\\2898627118.py:1: DeprecationWarning: scipy.std is deprecated and will be removed in SciPy 2.0.0, use numpy.std instead\n",
      "  sp.std(sample_mean_array, ddof = 1)\n"
     ]
    },
    {
     "data": {
      "text/plain": [
       "0.251"
      ]
     },
     "execution_count": 9,
     "metadata": {},
     "output_type": "execute_result"
    }
   ],
   "source": [
    "sp.std(sample_mean_array, ddof = 1)"
   ]
  },
  {
   "cell_type": "code",
   "execution_count": 10,
   "id": "ce1528d3",
   "metadata": {},
   "outputs": [
    {
     "name": "stderr",
     "output_type": "stream",
     "text": [
      "C:\\Users\\mark8\\AppData\\Local\\Temp\\ipykernel_15560\\2241634764.py:1: UserWarning: \n",
      "\n",
      "`distplot` is a deprecated function and will be removed in seaborn v0.14.0.\n",
      "\n",
      "Please adapt your code to use either `displot` (a figure-level function with\n",
      "similar flexibility) or `histplot` (an axes-level function for histograms).\n",
      "\n",
      "For a guide to updating your code to use the new functions, please see\n",
      "https://gist.github.com/mwaskom/de44147ed2974457ad6372750bbe5751\n",
      "\n",
      "  sns.distplot(sample_mean_array, color = 'blue')\n"
     ]
    },
    {
     "data": {
      "text/plain": [
       "<AxesSubplot:ylabel='Density'>"
      ]
     },
     "execution_count": 10,
     "metadata": {},
     "output_type": "execute_result"
    },
    {
     "data": {
      "image/png": "[encoded data removed]",
      "text/plain": [
       "<Figure size 640x480 with 1 Axes>"
      ]
     },
     "metadata": {},
     "output_type": "display_data"
    }
   ],
   "source": [
    "sns.distplot(sample_mean_array, color = 'blue')"
   ]
  },
  {
   "cell_type": "code",
   "execution_count": 11,
   "id": "d476e0ad",
   "metadata": {},
   "outputs": [
    {
     "data": {
      "text/plain": [
       "array([    10,    110,    210, ...,  99810,  99910, 100010])"
      ]
     },
     "execution_count": 11,
     "metadata": {},
     "output_type": "execute_result"
    }
   ],
   "source": [
    "# 3.5.6 샘플사이즈가 크면 표본평균은 모평균에 가까워진다\n",
    "size_array = np.arange(start = 10, stop = 100100, step = 100)\n",
    "size_array"
   ]
  },
  {
   "cell_type": "code",
   "execution_count": 12,
   "id": "84047aa4",
   "metadata": {},
   "outputs": [],
   "source": [
    "sample_mean_array_size = np.zeros(len(size_array))"
   ]
  },
  {
   "cell_type": "code",
   "execution_count": 14,
   "id": "83ae4cfd",
   "metadata": {},
   "outputs": [
    {
     "name": "stderr",
     "output_type": "stream",
     "text": [
      "C:\\Users\\mark8\\AppData\\Local\\Temp\\ipykernel_15560\\2136335570.py:4: DeprecationWarning: scipy.mean is deprecated and will be removed in SciPy 2.0.0, use numpy.mean instead\n",
      "  sample_mean_array_size[i] = sp.mean(sample)\n"
     ]
    }
   ],
   "source": [
    "np.random.seed(1)\n",
    "for i in range(0, len(size_array)):\n",
    "    sample = population.rvs(size = size_array[i]) # 샘플사이즈를 점점 크게 표본을 존나 많이 뽑는다\n",
    "    sample_mean_array_size[i] = sp.mean(sample)"
   ]
  },
  {
   "cell_type": "code",
   "execution_count": 15,
   "id": "6e88ec98",
   "metadata": {},
   "outputs": [
    {
     "data": {
      "text/plain": [
       "Text(0, 0.5, 'sample mean')"
      ]
     },
     "execution_count": 15,
     "metadata": {},
     "output_type": "execute_result"
    },
    {
     "data": {
      "image/png": "[encoded data removed]",
      "text/plain": [
       "<Figure size 640x480 with 1 Axes>"
      ]
     },
     "metadata": {},
     "output_type": "display_data"
    }
   ],
   "source": [
    "plt.plot(size_array, sample_mean_array_size, color = 'blue')\n",
    "plt.xlabel('sample size')\n",
    "plt.ylabel('sample mean')"
   ]
  },
  {
   "cell_type": "code",
   "execution_count": 18,
   "id": "824c719d",
   "metadata": {},
   "outputs": [],
   "source": [
    "# 3.5.7 펴본평균을 몇번이고 계산하는 함수 만들기\n",
    "def calc_sample_mean(size, n_trial): # 표본 사이즈, 시행횟수\n",
    "    sample_mean_array = np.zeros(n_trial) # 시행횟수 리스트 (표본들을 모은 리스트)\n",
    "    for i in range(0, n_trial):\n",
    "        sample = population.rvs(size = size) #표본 뽑기\n",
    "        sample_mean_array[i] = sp.mean(sample) # 표본 평균 리스트\n",
    "    return (sample_mean_array)"
   ]
  },
  {
   "cell_type": "code",
   "execution_count": 19,
   "id": "c83f4058",
   "metadata": {},
   "outputs": [
    {
     "name": "stderr",
     "output_type": "stream",
     "text": [
      "C:\\Users\\mark8\\AppData\\Local\\Temp\\ipykernel_15560\\830738951.py:6: DeprecationWarning: scipy.mean is deprecated and will be removed in SciPy 2.0.0, use numpy.mean instead\n",
      "  sample_mean_array[i] = sp.mean(sample) # 표본 평균 리스트\n",
      "C:\\Users\\mark8\\AppData\\Local\\Temp\\ipykernel_15560\\1371187351.py:2: DeprecationWarning: scipy.mean is deprecated and will be removed in SciPy 2.0.0, use numpy.mean instead\n",
      "  sp.mean(calc_sample_mean(size=10, n_trial=10000))\n"
     ]
    },
    {
     "data": {
      "text/plain": [
       "4.004"
      ]
     },
     "execution_count": 19,
     "metadata": {},
     "output_type": "execute_result"
    }
   ],
   "source": [
    "np.random.seed(1)\n",
    "sp.mean(calc_sample_mean(size=10, n_trial=10000))\n"
   ]
  },
  {
   "cell_type": "code",
   "execution_count": 21,
   "id": "58592b7a",
   "metadata": {},
   "outputs": [
    {
     "name": "stderr",
     "output_type": "stream",
     "text": [
      "C:\\Users\\mark8\\AppData\\Local\\Temp\\ipykernel_15560\\830738951.py:6: DeprecationWarning: scipy.mean is deprecated and will be removed in SciPy 2.0.0, use numpy.mean instead\n",
      "  sample_mean_array[i] = sp.mean(sample) # 표본 평균 리스트\n"
     ]
    },
    {
     "name": "stdout",
     "output_type": "stream",
     "text": [
      "   sample_mean     size\n",
      "0     3.922287  size 10\n",
      "1     3.864329  size 10\n",
      "2     4.069530  size 10\n",
      "3     3.857140  size 10\n",
      "4     4.184654  size 10\n"
     ]
    }
   ],
   "source": [
    "np.random.seed(1)\n",
    "size_10 = calc_sample_mean(size = 10, n_trial = 10000)\n",
    "size_10_df = pd.DataFrame({\n",
    "    'sample_mean':size_10,\n",
    "    'size':np.tile('size 10', 10000) # == [size10 for i in range(10000)]\n",
    "})\n",
    "size_20 = calc_sample_mean(size = 20, n_trial = 10000)\n",
    "size_20_df = pd.DataFrame({\n",
    "    'sample_mean':size_20,\n",
    "    'size':np.tile('size 20', 10000)\n",
    "})\n",
    "size_30 = calc_sample_mean(size = 30, n_trial = 10000)\n",
    "size_30_df = pd.DataFrame({\n",
    "    'sample_mean':size_30,\n",
    "    'size':np.tile('size 30', 10000)\n",
    "})\n",
    "\n",
    "sim_result = pd.concat([size_10_df, size_20_df, size_30_df])\n",
    "print(sim_result.head())"
   ]
  },
  {
   "cell_type": "code",
   "execution_count": 22,
   "id": "f7153a66",
   "metadata": {},
   "outputs": [
    {
     "data": {
      "text/plain": [
       "<AxesSubplot:xlabel='size', ylabel='sample_mean'>"
      ]
     },
     "execution_count": 22,
     "metadata": {},
     "output_type": "execute_result"
    },
    {
     "data": {
      "image/png": "[encoded data removed]",
      "text/plain": [
       "<Figure size 640x480 with 1 Axes>"
      ]
     },
     "metadata": {},
     "output_type": "display_data"
    }
   ],
   "source": [
    "sns.violinplot(x = 'size', y = 'sample_mean', data = sim_result, color = 'gray')"
   ]
  },
  {
   "cell_type": "code",
   "execution_count": 23,
   "id": "4ed3846d",
   "metadata": {},
   "outputs": [],
   "source": [
    "# 3.5.9 표본평균의 표준편차는 모집단보다 작다\n"
   ]
  },
  {
   "cell_type": "code",
   "execution_count": 24,
   "id": "8191f48e",
   "metadata": {},
   "outputs": [],
   "source": [
    "# 표준오차 (standard error) 표준편차/샘플사이즈 = 샘플사이즈가 커지면 표준오차는 작아진다\n",
    "\n"
   ]
  },
  {
   "cell_type": "code",
   "execution_count": 25,
   "id": "e156b0b8",
   "metadata": {},
   "outputs": [
    {
     "data": {
      "text/plain": [
       "array([0.253, 0.076, 0.055, ..., 0.003, 0.003, 0.003])"
      ]
     },
     "execution_count": 25,
     "metadata": {},
     "output_type": "execute_result"
    }
   ],
   "source": [
    "standard_error = 0.8/np.sqrt(size_array)\n",
    "standard_error"
   ]
  },
  {
   "cell_type": "code",
   "execution_count": 26,
   "id": "958955d7",
   "metadata": {},
   "outputs": [
    {
     "data": {
      "text/plain": [
       "[<matplotlib.lines.Line2D at 0x1b796ccefb0>]"
      ]
     },
     "execution_count": 26,
     "metadata": {},
     "output_type": "execute_result"
    },
    {
     "data": {
      "image/png": "[encoded data removed]",
      "text/plain": [
       "<Figure size 640x480 with 1 Axes>"
      ]
     },
     "metadata": {},
     "output_type": "display_data"
    }
   ],
   "source": [
    "plt.plot(size_array)"
   ]
  },
  {
   "cell_type": "code",
   "execution_count": 27,
   "id": "3874cf5a",
   "metadata": {},
   "outputs": [],
   "source": [
    "# 3.5.12 표본분산의 평균값은 모분산과 차이가 있다\n",
    "sample_var_array = np.zeros(10000)\n"
   ]
  },
  {
   "cell_type": "code",
   "execution_count": 29,
   "id": "7076e2d0",
   "metadata": {},
   "outputs": [
    {
     "name": "stderr",
     "output_type": "stream",
     "text": [
      "C:\\Users\\mark8\\AppData\\Local\\Temp\\ipykernel_15560\\3696615559.py:4: DeprecationWarning: scipy.var is deprecated and will be removed in SciPy 2.0.0, use numpy.var instead\n",
      "  sample_var_array[i] = sp.var(sample, ddof = 0)\n"
     ]
    }
   ],
   "source": [
    "np.random.seed(1)\n",
    "for i in range(0, 10000):\n",
    "    sample = population.rvs(size = 10)\n",
    "    sample_var_array[i] = sp.var(sample, ddof = 0)\n"
   ]
  },
  {
   "cell_type": "code",
   "execution_count": 30,
   "id": "011276da",
   "metadata": {},
   "outputs": [
    {
     "name": "stderr",
     "output_type": "stream",
     "text": [
      "C:\\Users\\mark8\\AppData\\Local\\Temp\\ipykernel_15560\\1157712474.py:1: DeprecationWarning: scipy.mean is deprecated and will be removed in SciPy 2.0.0, use numpy.mean instead\n",
      "  sp.mean(sample_var_array)\n"
     ]
    },
    {
     "data": {
      "text/plain": [
       "0.575"
      ]
     },
     "execution_count": 30,
     "metadata": {},
     "output_type": "execute_result"
    }
   ],
   "source": [
    "sp.mean(sample_var_array) # 모분산 = 0.64 표본분산 = 0.575"
   ]
  },
  {
   "cell_type": "code",
   "execution_count": 31,
   "id": "2b933331",
   "metadata": {},
   "outputs": [
    {
     "name": "stderr",
     "output_type": "stream",
     "text": [
      "C:\\Users\\mark8\\AppData\\Local\\Temp\\ipykernel_15560\\1507212667.py:5: DeprecationWarning: scipy.var is deprecated and will be removed in SciPy 2.0.0, use numpy.var instead\n",
      "  sample_var_array[i] = sp.var(sample, ddof = 1)\n"
     ]
    }
   ],
   "source": [
    "# 3.5.13 불편분산을 사용하면 편향이 사라진다\n",
    "np.random.seed(1)\n",
    "for i in range(0, 10000):\n",
    "    sample = population.rvs(size = 10)\n",
    "    sample_var_array[i] = sp.var(sample, ddof = 1)\n"
   ]
  },
  {
   "cell_type": "code",
   "execution_count": 32,
   "id": "762523bf",
   "metadata": {},
   "outputs": [
    {
     "name": "stderr",
     "output_type": "stream",
     "text": [
      "C:\\Users\\mark8\\AppData\\Local\\Temp\\ipykernel_15560\\1157712474.py:1: DeprecationWarning: scipy.mean is deprecated and will be removed in SciPy 2.0.0, use numpy.mean instead\n",
      "  sp.mean(sample_var_array)\n"
     ]
    },
    {
     "data": {
      "text/plain": [
       "0.639"
      ]
     },
     "execution_count": 32,
     "metadata": {},
     "output_type": "execute_result"
    }
   ],
   "source": [
    "sp.mean(sample_var_array) # ddof = 1 표본의크기를 n일때 분모에 n-1로하므로 더 정확히 추정 "
   ]
  },
  {
   "cell_type": "code",
   "execution_count": 36,
   "id": "473d90c6",
   "metadata": {},
   "outputs": [
    {
     "data": {
      "text/plain": [
       "array([   10,   110,   210,   310,   410,   510,   610,   710,   810,\n",
       "         910,  1010,  1110,  1210,  1310,  1410,  1510,  1610,  1710,\n",
       "        1810,  1910,  2010,  2110,  2210,  2310,  2410,  2510,  2610,\n",
       "        2710,  2810,  2910,  3010,  3110,  3210,  3310,  3410,  3510,\n",
       "        3610,  3710,  3810,  3910,  4010,  4110,  4210,  4310,  4410,\n",
       "        4510,  4610,  4710,  4810,  4910,  5010,  5110,  5210,  5310,\n",
       "        5410,  5510,  5610,  5710,  5810,  5910,  6010,  6110,  6210,\n",
       "        6310,  6410,  6510,  6610,  6710,  6810,  6910,  7010,  7110,\n",
       "        7210,  7310,  7410,  7510,  7610,  7710,  7810,  7910,  8010,\n",
       "        8110,  8210,  8310,  8410,  8510,  8610,  8710,  8810,  8910,\n",
       "        9010,  9110,  9210,  9310,  9410,  9510,  9610,  9710,  9810,\n",
       "        9910, 10010, 10110, 10210, 10310, 10410, 10510, 10610, 10710,\n",
       "       10810, 10910, 11010, 11110, 11210, 11310, 11410, 11510, 11610,\n",
       "       11710, 11810, 11910, 12010, 12110, 12210, 12310, 12410, 12510,\n",
       "       12610, 12710, 12810, 12910, 13010, 13110, 13210, 13310, 13410,\n",
       "       13510, 13610, 13710, 13810, 13910, 14010, 14110, 14210, 14310,\n",
       "       14410, 14510, 14610, 14710, 14810, 14910, 15010, 15110, 15210,\n",
       "       15310, 15410, 15510, 15610, 15710, 15810, 15910, 16010, 16110,\n",
       "       16210, 16310, 16410, 16510, 16610, 16710, 16810, 16910, 17010,\n",
       "       17110, 17210, 17310, 17410, 17510, 17610, 17710, 17810, 17910,\n",
       "       18010, 18110, 18210, 18310, 18410, 18510, 18610, 18710, 18810,\n",
       "       18910, 19010, 19110, 19210, 19310, 19410, 19510, 19610, 19710,\n",
       "       19810, 19910, 20010, 20110, 20210, 20310, 20410, 20510, 20610,\n",
       "       20710, 20810, 20910, 21010, 21110, 21210, 21310, 21410, 21510,\n",
       "       21610, 21710, 21810, 21910, 22010, 22110, 22210, 22310, 22410,\n",
       "       22510, 22610, 22710, 22810, 22910, 23010, 23110, 23210, 23310,\n",
       "       23410, 23510, 23610, 23710, 23810, 23910, 24010, 24110, 24210,\n",
       "       24310, 24410, 24510, 24610, 24710, 24810, 24910, 25010, 25110,\n",
       "       25210, 25310, 25410, 25510, 25610, 25710, 25810, 25910, 26010,\n",
       "       26110, 26210, 26310, 26410, 26510, 26610, 26710, 26810, 26910,\n",
       "       27010, 27110, 27210, 27310, 27410, 27510, 27610, 27710, 27810,\n",
       "       27910, 28010, 28110, 28210, 28310, 28410, 28510, 28610, 28710,\n",
       "       28810, 28910, 29010, 29110, 29210, 29310, 29410, 29510, 29610,\n",
       "       29710, 29810, 29910, 30010, 30110, 30210, 30310, 30410, 30510,\n",
       "       30610, 30710, 30810, 30910, 31010, 31110, 31210, 31310, 31410,\n",
       "       31510, 31610, 31710, 31810, 31910, 32010, 32110, 32210, 32310,\n",
       "       32410, 32510, 32610, 32710, 32810, 32910, 33010, 33110, 33210,\n",
       "       33310, 33410, 33510, 33610, 33710, 33810, 33910, 34010, 34110,\n",
       "       34210, 34310, 34410, 34510, 34610, 34710, 34810, 34910, 35010,\n",
       "       35110, 35210, 35310, 35410, 35510, 35610, 35710, 35810, 35910,\n",
       "       36010, 36110, 36210, 36310, 36410, 36510, 36610, 36710, 36810,\n",
       "       36910, 37010, 37110, 37210, 37310, 37410, 37510, 37610, 37710,\n",
       "       37810, 37910, 38010, 38110, 38210, 38310, 38410, 38510, 38610,\n",
       "       38710, 38810, 38910, 39010, 39110, 39210, 39310, 39410, 39510,\n",
       "       39610, 39710, 39810, 39910, 40010, 40110, 40210, 40310, 40410,\n",
       "       40510, 40610, 40710, 40810, 40910, 41010, 41110, 41210, 41310,\n",
       "       41410, 41510, 41610, 41710, 41810, 41910, 42010, 42110, 42210,\n",
       "       42310, 42410, 42510, 42610, 42710, 42810, 42910, 43010, 43110,\n",
       "       43210, 43310, 43410, 43510, 43610, 43710, 43810, 43910, 44010,\n",
       "       44110, 44210, 44310, 44410, 44510, 44610, 44710, 44810, 44910,\n",
       "       45010, 45110, 45210, 45310, 45410, 45510, 45610, 45710, 45810,\n",
       "       45910, 46010, 46110, 46210, 46310, 46410, 46510, 46610, 46710,\n",
       "       46810, 46910, 47010, 47110, 47210, 47310, 47410, 47510, 47610,\n",
       "       47710, 47810, 47910, 48010, 48110, 48210, 48310, 48410, 48510,\n",
       "       48610, 48710, 48810, 48910, 49010, 49110, 49210, 49310, 49410,\n",
       "       49510, 49610, 49710, 49810, 49910, 50010, 50110, 50210, 50310,\n",
       "       50410, 50510, 50610, 50710, 50810, 50910, 51010, 51110, 51210,\n",
       "       51310, 51410, 51510, 51610, 51710, 51810, 51910, 52010, 52110,\n",
       "       52210, 52310, 52410, 52510, 52610, 52710, 52810, 52910, 53010,\n",
       "       53110, 53210, 53310, 53410, 53510, 53610, 53710, 53810, 53910,\n",
       "       54010, 54110, 54210, 54310, 54410, 54510, 54610, 54710, 54810,\n",
       "       54910, 55010, 55110, 55210, 55310, 55410, 55510, 55610, 55710,\n",
       "       55810, 55910, 56010, 56110, 56210, 56310, 56410, 56510, 56610,\n",
       "       56710, 56810, 56910, 57010, 57110, 57210, 57310, 57410, 57510,\n",
       "       57610, 57710, 57810, 57910, 58010, 58110, 58210, 58310, 58410,\n",
       "       58510, 58610, 58710, 58810, 58910, 59010, 59110, 59210, 59310,\n",
       "       59410, 59510, 59610, 59710, 59810, 59910, 60010, 60110, 60210,\n",
       "       60310, 60410, 60510, 60610, 60710, 60810, 60910, 61010, 61110,\n",
       "       61210, 61310, 61410, 61510, 61610, 61710, 61810, 61910, 62010,\n",
       "       62110, 62210, 62310, 62410, 62510, 62610, 62710, 62810, 62910,\n",
       "       63010, 63110, 63210, 63310, 63410, 63510, 63610, 63710, 63810,\n",
       "       63910, 64010, 64110, 64210, 64310, 64410, 64510, 64610, 64710,\n",
       "       64810, 64910, 65010, 65110, 65210, 65310, 65410, 65510, 65610,\n",
       "       65710, 65810, 65910, 66010, 66110, 66210, 66310, 66410, 66510,\n",
       "       66610, 66710, 66810, 66910, 67010, 67110, 67210, 67310, 67410,\n",
       "       67510, 67610, 67710, 67810, 67910, 68010, 68110, 68210, 68310,\n",
       "       68410, 68510, 68610, 68710, 68810, 68910, 69010, 69110, 69210,\n",
       "       69310, 69410, 69510, 69610, 69710, 69810, 69910, 70010, 70110,\n",
       "       70210, 70310, 70410, 70510, 70610, 70710, 70810, 70910, 71010,\n",
       "       71110, 71210, 71310, 71410, 71510, 71610, 71710, 71810, 71910,\n",
       "       72010, 72110, 72210, 72310, 72410, 72510, 72610, 72710, 72810,\n",
       "       72910, 73010, 73110, 73210, 73310, 73410, 73510, 73610, 73710,\n",
       "       73810, 73910, 74010, 74110, 74210, 74310, 74410, 74510, 74610,\n",
       "       74710, 74810, 74910, 75010, 75110, 75210, 75310, 75410, 75510,\n",
       "       75610, 75710, 75810, 75910, 76010, 76110, 76210, 76310, 76410,\n",
       "       76510, 76610, 76710, 76810, 76910, 77010, 77110, 77210, 77310,\n",
       "       77410, 77510, 77610, 77710, 77810, 77910, 78010, 78110, 78210,\n",
       "       78310, 78410, 78510, 78610, 78710, 78810, 78910, 79010, 79110,\n",
       "       79210, 79310, 79410, 79510, 79610, 79710, 79810, 79910, 80010,\n",
       "       80110, 80210, 80310, 80410, 80510, 80610, 80710, 80810, 80910,\n",
       "       81010, 81110, 81210, 81310, 81410, 81510, 81610, 81710, 81810,\n",
       "       81910, 82010, 82110, 82210, 82310, 82410, 82510, 82610, 82710,\n",
       "       82810, 82910, 83010, 83110, 83210, 83310, 83410, 83510, 83610,\n",
       "       83710, 83810, 83910, 84010, 84110, 84210, 84310, 84410, 84510,\n",
       "       84610, 84710, 84810, 84910, 85010, 85110, 85210, 85310, 85410,\n",
       "       85510, 85610, 85710, 85810, 85910, 86010, 86110, 86210, 86310,\n",
       "       86410, 86510, 86610, 86710, 86810, 86910, 87010, 87110, 87210,\n",
       "       87310, 87410, 87510, 87610, 87710, 87810, 87910, 88010, 88110,\n",
       "       88210, 88310, 88410, 88510, 88610, 88710, 88810, 88910, 89010,\n",
       "       89110, 89210, 89310, 89410, 89510, 89610, 89710, 89810, 89910,\n",
       "       90010, 90110, 90210, 90310, 90410, 90510, 90610, 90710, 90810,\n",
       "       90910, 91010, 91110, 91210, 91310, 91410, 91510, 91610, 91710,\n",
       "       91810, 91910, 92010, 92110, 92210, 92310, 92410, 92510, 92610,\n",
       "       92710, 92810, 92910, 93010, 93110, 93210, 93310, 93410, 93510,\n",
       "       93610, 93710, 93810, 93910, 94010, 94110, 94210, 94310, 94410,\n",
       "       94510, 94610, 94710, 94810, 94910, 95010, 95110, 95210, 95310,\n",
       "       95410, 95510, 95610, 95710, 95810, 95910, 96010, 96110, 96210,\n",
       "       96310, 96410, 96510, 96610, 96710, 96810, 96910, 97010, 97110,\n",
       "       97210, 97310, 97410, 97510, 97610, 97710, 97810, 97910, 98010,\n",
       "       98110, 98210, 98310, 98410, 98510, 98610, 98710, 98810, 98910,\n",
       "       99010, 99110, 99210, 99310, 99410, 99510, 99610, 99710, 99810,\n",
       "       99910])"
      ]
     },
     "execution_count": 36,
     "metadata": {},
     "output_type": "execute_result"
    }
   ],
   "source": [
    "size_array = np.arange(10,100000,100)\n",
    "size_array"
   ]
  },
  {
   "cell_type": "code",
   "execution_count": 37,
   "id": "fc75bd43",
   "metadata": {},
   "outputs": [],
   "source": [
    "unbias_var_array_size = np.zeros(len(size_array))"
   ]
  },
  {
   "cell_type": "code",
   "execution_count": 38,
   "id": "8e5ed923",
   "metadata": {},
   "outputs": [
    {
     "name": "stderr",
     "output_type": "stream",
     "text": [
      "C:\\Users\\mark8\\AppData\\Local\\Temp\\ipykernel_15560\\149456440.py:4: DeprecationWarning: scipy.var is deprecated and will be removed in SciPy 2.0.0, use numpy.var instead\n",
      "  unbias_var_array_size[i] = sp.var(sample, ddof = 1)\n"
     ]
    }
   ],
   "source": [
    "np.random.seed(1)\n",
    "for i in range(0, len(size_array)):\n",
    "    sample = population.rvs(size = size_array[i])\n",
    "    unbias_var_array_size[i] = sp.var(sample, ddof = 1)"
   ]
  },
  {
   "cell_type": "code",
   "execution_count": 39,
   "id": "ddacba00",
   "metadata": {},
   "outputs": [
    {
     "data": {
      "text/plain": [
       "Text(0, 0.5, 'unbias var')"
      ]
     },
     "execution_count": 39,
     "metadata": {},
     "output_type": "execute_result"
    },
    {
     "data": {
      "image/png": "[encoded data removed]",
      "text/plain": [
       "<Figure size 640x480 with 1 Axes>"
      ]
     },
     "metadata": {},
     "output_type": "display_data"
    }
   ],
   "source": [
    "plt.plot(size_array, unbias_var_array_size, color = 'blue')\n",
    "plt.xlabel('sample size')\n",
    "plt.ylabel('unbias var')"
   ]
  },
  {
   "cell_type": "code",
   "execution_count": 40,
   "id": "b93c34e3",
   "metadata": {},
   "outputs": [],
   "source": [
    "# 3.5.15 추정량의 기대값이 진짜 모수가 되는 특성을 불편성\n",
    "# 불편성이 있다는 것은 평균을 냈을때 과대 또는 과소 하지 않다\n",
    "# 편향이 없는 추정량\n"
   ]
  },
  {
   "cell_type": "code",
   "execution_count": 41,
   "id": "95dbfcc3",
   "metadata": {},
   "outputs": [],
   "source": [
    "#7.4.2 입력벡터, 목표벡터, 가중치, 편향\n",
    "#독립변수 = 입력벡터\n",
    "# 종속변수 = 목표벡터\n",
    "# 계수 = 가중치\n",
    "# 절편은 값이 항상 1인 독립변수 = 편향"
   ]
  },
  {
   "cell_type": "code",
   "execution_count": 43,
   "id": "12012141",
   "metadata": {},
   "outputs": [
    {
     "name": "stdout",
     "output_type": "stream",
     "text": [
      "Note: you may need to restart the kernel to use updated packages.Collecting statsmodels\n",
      "  Downloading statsmodels-0.14.0-cp310-cp310-win_amd64.whl (9.2 MB)\n",
      "     ---------------------------------------- 0.0/9.2 MB ? eta -:--:--\n",
      "     -- ------------------------------------- 0.6/9.2 MB 12.4 MB/s eta 0:00:01\n",
      "     ---- ----------------------------------- 1.1/9.2 MB 11.8 MB/s eta 0:00:01\n",
      "     ------ --------------------------------- 1.6/9.2 MB 11.4 MB/s eta 0:00:01\n",
      "     --------- ------------------------------ 2.2/9.2 MB 11.7 MB/s eta 0:00:01\n",
      "     ------------ --------------------------- 2.9/9.2 MB 11.4 MB/s eta 0:00:01\n",
      "     -------------- ------------------------- 3.3/9.2 MB 11.7 MB/s eta 0:00:01\n",
      "     ---------------- ----------------------- 3.8/9.2 MB 11.4 MB/s eta 0:00:01\n",
      "     ------------------ --------------------- 4.2/9.2 MB 11.3 MB/s eta 0:00:01\n",
      "     --------------------- ------------------ 4.9/9.2 MB 11.2 MB/s eta 0:00:01\n",
      "     ------------------------ --------------- 5.6/9.2 MB 11.2 MB/s eta 0:00:01\n",
      "     -------------------------- ------------- 6.2/9.2 MB 11.3 MB/s eta 0:00:01\n",
      "     ----------------------------- ---------- 6.7/9.2 MB 11.3 MB/s eta 0:00:01\n",
      "     ------------------------------- -------- 7.2/9.2 MB 11.2 MB/s eta 0:00:01\n",
      "     --------------------------------- ------ 7.6/9.2 MB 11.1 MB/s eta 0:00:01\n",
      "     ----------------------------------- ---- 8.2/9.2 MB 11.1 MB/s eta 0:00:01\n",
      "     ------------------------------------- -- 8.7/9.2 MB 11.1 MB/s eta 0:00:01\n",
      "     ---------------------------------------  9.2/9.2 MB 11.1 MB/s eta 0:00:01\n",
      "     ---------------------------------------  9.2/9.2 MB 11.1 MB/s eta 0:00:01\n",
      "     ---------------------------------------- 9.2/9.2 MB 9.8 MB/s eta 0:00:00\n",
      "Requirement already satisfied: numpy>=1.18 in c:\\users\\mark8\\appdata\\local\\programs\\python\\python310\\lib\\site-packages (from statsmodels) (1.23.2)\n",
      "Requirement already satisfied: packaging>=21.3 in c:\\users\\mark8\\appdata\\local\\programs\\python\\python310\\lib\\site-packages (from statsmodels) (21.3)\n",
      "Collecting patsy>=0.5.2\n",
      "  Downloading patsy-0.5.3-py2.py3-none-any.whl (233 kB)\n",
      "     ---------------------------------------- 0.0/233.8 kB ? eta -:--:--\n",
      "     ------------------------------------- 233.8/233.8 kB 14.9 MB/s eta 0:00:00\n",
      "Requirement already satisfied: pandas>=1.0 in c:\\users\\mark8\\appdata\\local\\programs\\python\\python310\\lib\\site-packages (from statsmodels) (1.5.1)\n",
      "Requirement already satisfied: scipy!=1.9.2,>=1.4 in c:\\users\\mark8\\appdata\\local\\programs\\python\\python310\\lib\\site-packages (from statsmodels) (1.11.1)\n",
      "Requirement already satisfied: pyparsing!=3.0.5,>=2.0.2 in c:\\users\\mark8\\appdata\\local\\programs\\python\\python310\\lib\\site-packages (from packaging>=21.3->statsmodels) (3.0.9)\n",
      "Requirement already satisfied: python-dateutil>=2.8.1 in c:\\users\\mark8\\appdata\\local\\programs\\python\\python310\\lib\\site-packages (from pandas>=1.0->statsmodels) (2.8.2)\n",
      "Requirement already satisfied: pytz>=2020.1 in c:\\users\\mark8\\appdata\\local\\programs\\python\\python310\\lib\\site-packages (from pandas>=1.0->statsmodels) (2022.6)\n",
      "Requirement already satisfied: six in c:\\users\\mark8\\appdata\\local\\programs\\python\\python310\\lib\\site-packages (from patsy>=0.5.2->statsmodels) (1.16.0)\n",
      "Installing collected packages: patsy, statsmodels\n",
      "Successfully installed patsy-0.5.3 statsmodels-0.14.0\n",
      "\n"
     ]
    },
    {
     "name": "stderr",
     "output_type": "stream",
     "text": [
      "\n",
      "[notice] A new release of pip is available: 23.0 -> 23.2.1\n",
      "[notice] To update, run: python.exe -m pip install --upgrade pip\n"
     ]
    }
   ],
   "source": [
    "pip install statsmodels"
   ]
  },
  {
   "cell_type": "code",
   "execution_count": 45,
   "id": "e057fb9b",
   "metadata": {},
   "outputs": [
    {
     "name": "stdout",
     "output_type": "stream",
     "text": [
      "Collecting scikit-learnNote: you may need to restart the kernel to use updated packages.\n",
      "\n",
      "  Downloading scikit_learn-1.3.0-cp310-cp310-win_amd64.whl (9.2 MB)\n",
      "     ---------------------------------------- 0.0/9.2 MB ? eta -:--:--\n",
      "     - -------------------------------------- 0.5/9.2 MB 9.4 MB/s eta 0:00:01\n",
      "     ---- ----------------------------------- 0.9/9.2 MB 9.8 MB/s eta 0:00:01\n",
      "     ------ --------------------------------- 1.6/9.2 MB 10.2 MB/s eta 0:00:01\n",
      "     --------- ------------------------------ 2.2/9.2 MB 10.9 MB/s eta 0:00:01\n",
      "     ------------ --------------------------- 2.8/9.2 MB 10.4 MB/s eta 0:00:01\n",
      "     -------------- ------------------------- 3.3/9.2 MB 10.9 MB/s eta 0:00:01\n",
      "     ----------------- ---------------------- 4.0/9.2 MB 10.3 MB/s eta 0:00:01\n",
      "     ------------------- -------------------- 4.6/9.2 MB 10.4 MB/s eta 0:00:01\n",
      "     --------------------- ------------------ 5.0/9.2 MB 10.4 MB/s eta 0:00:01\n",
      "     ----------------------- ---------------- 5.5/9.2 MB 10.7 MB/s eta 0:00:01\n",
      "     -------------------------- ------------- 6.0/9.2 MB 10.7 MB/s eta 0:00:01\n",
      "     ---------------------------- ----------- 6.6/9.2 MB 10.8 MB/s eta 0:00:01\n",
      "     ------------------------------ --------- 7.1/9.2 MB 10.8 MB/s eta 0:00:01\n",
      "     -------------------------------- ------- 7.4/9.2 MB 10.5 MB/s eta 0:00:01\n",
      "     --------------------------------- ------ 7.8/9.2 MB 10.4 MB/s eta 0:00:01\n",
      "     ------------------------------------ --- 8.3/9.2 MB 10.4 MB/s eta 0:00:01\n",
      "     -------------------------------------- - 8.9/9.2 MB 10.5 MB/s eta 0:00:01\n",
      "     ---------------------------------------  9.2/9.2 MB 10.5 MB/s eta 0:00:01\n",
      "     ---------------------------------------- 9.2/9.2 MB 9.8 MB/s eta 0:00:00\n",
      "Requirement already satisfied: scipy>=1.5.0 in c:\\users\\mark8\\appdata\\local\\programs\\python\\python310\\lib\\site-packages (from scikit-learn) (1.11.1)\n",
      "Requirement already satisfied: numpy>=1.17.3 in c:\\users\\mark8\\appdata\\local\\programs\\python\\python310\\lib\\site-packages (from scikit-learn) (1.23.2)\n",
      "Collecting threadpoolctl>=2.0.0\n",
      "  Downloading threadpoolctl-3.2.0-py3-none-any.whl (15 kB)\n",
      "Collecting joblib>=1.1.1\n",
      "  Downloading joblib-1.3.1-py3-none-any.whl (301 kB)\n",
      "     ---------------------------------------- 0.0/302.0 kB ? eta -:--:--\n",
      "     -------------------------------------- 302.0/302.0 kB 9.4 MB/s eta 0:00:00\n",
      "Installing collected packages: threadpoolctl, joblib, scikit-learn\n",
      "Successfully installed joblib-1.3.1 scikit-learn-1.3.0 threadpoolctl-3.2.0\n"
     ]
    },
    {
     "name": "stderr",
     "output_type": "stream",
     "text": [
      "\n",
      "[notice] A new release of pip is available: 23.0 -> 23.2.1\n",
      "[notice] To update, run: python.exe -m pip install --upgrade pip\n"
     ]
    }
   ],
   "source": [
    "pip install scikit-learn"
   ]
  },
  {
   "cell_type": "code",
   "execution_count": 47,
   "id": "8cf6d9ec",
   "metadata": {},
   "outputs": [
    {
     "data": {
      "text/plain": [
       "'%.3f'"
      ]
     },
     "execution_count": 47,
     "metadata": {},
     "output_type": "execute_result"
    }
   ],
   "source": [
    "#7.4.3 단순 퍼셉트론\n",
    "# 붓꽃\n",
    "# 수치계산 라이브러리\n",
    "import numpy as np\n",
    "import pandas as pd\n",
    "import scipy as sp\n",
    "# 선형모델을 추정하는 라이브러리\n",
    "import statsmodels.formula.api as smf\n",
    "import statsmodels.api as sm\n",
    "# 다층 퍼셉트론용 에플리케이션\n",
    "from sklearn.datasets import load_iris\n",
    "from sklearn.model_selection import train_test_split\n",
    "from sklearn.preprocessing import StandardScaler\n",
    "%precision 3\n"
   ]
  },
  {
   "cell_type": "code",
   "execution_count": 48,
   "id": "4fcdf342",
   "metadata": {},
   "outputs": [
    {
     "data": {
      "text/plain": [
       "['sepal length (cm)',\n",
       " 'sepal width (cm)',\n",
       " 'petal length (cm)',\n",
       " 'petal width (cm)']"
      ]
     },
     "execution_count": 48,
     "metadata": {},
     "output_type": "execute_result"
    }
   ],
   "source": [
    "# 7.4.11 데이터 읽기, 다듬기\n",
    "iris = load_iris()\n",
    "iris.feature_names\n"
   ]
  },
  {
   "cell_type": "code",
   "execution_count": 49,
   "id": "1c934990",
   "metadata": {},
   "outputs": [
    {
     "data": {
      "text/plain": [
       "array(['setosa', 'versicolor', 'virginica'], dtype='<U10')"
      ]
     },
     "execution_count": 49,
     "metadata": {},
     "output_type": "execute_result"
    }
   ],
   "source": [
    "iris.target_names"
   ]
  },
  {
   "cell_type": "code",
   "execution_count": 50,
   "id": "ae029cae",
   "metadata": {},
   "outputs": [
    {
     "name": "stdout",
     "output_type": "stream",
     "text": [
      "독립변수 행수, 열수 :  (100, 2)\n",
      "종속변수 행수, 열수 :  (100,)\n"
     ]
    }
   ],
   "source": [
    "# 독립변수 sepal(꽃받침)만 가져오기\n",
    "x = iris.data[50:150, 0:2]\n",
    "# 붓꽃의 종류도 2개만 가져오기\n",
    "y = iris.target[50:150]\n",
    "\n",
    "print('독립변수 행수, 열수 : ', x.shape)\n",
    "print('종속변수 행수, 열수 : ', y.shape)"
   ]
  },
  {
   "cell_type": "code",
   "execution_count": 51,
   "id": "c61e7b69",
   "metadata": {},
   "outputs": [
    {
     "name": "stdout",
     "output_type": "stream",
     "text": [
      "독립변수 행 수, 열 수 :  (75, 2)\n",
      "종속변수 행 수, 열 수 :  (75,)\n"
     ]
    }
   ],
   "source": [
    "x_train, x_test, y_train, y_test = train_test_split(x, y, random_state = 2)\n",
    "\n",
    "print('독립변수 행 수, 열 수 : ', x_train.shape)\n",
    "print('종속변수 행 수, 열 수 : ', y_train.shape)"
   ]
  },
  {
   "cell_type": "code",
   "execution_count": null,
   "id": "46a6c5a6",
   "metadata": {},
   "outputs": [],
   "source": []
  }
 ],
 "metadata": {
  "kernelspec": {
   "display_name": "Python 3 (ipykernel)",
   "language": "python",
   "name": "python3"
  },
  "language_info": {
   "codemirror_mode": {
    "name": "ipython",
    "version": 3
   },
   "file_extension": ".py",
   "mimetype": "text/x-python",
   "name": "python",
   "nbconvert_exporter": "python",
   "pygments_lexer": "ipython3",
   "version": "3.10.2"
  }
 },
 "nbformat": 4,
 "nbformat_minor": 5
}
