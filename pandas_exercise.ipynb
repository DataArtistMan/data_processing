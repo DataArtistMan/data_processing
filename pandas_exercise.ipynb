{
 "cells": [
  {
   "cell_type": "code",
   "execution_count": 4,
   "id": "4bc5e091",
   "metadata": {},
   "outputs": [
    {
     "data": {
      "text/plain": [
       "메로나    500\n",
       "누가바    800\n",
       "빠비코    200\n",
       "dtype: int64"
      ]
     },
     "execution_count": 4,
     "metadata": {},
     "output_type": "execute_result"
    }
   ],
   "source": [
    "import pandas as pd\n",
    "index = ['메로나','누가바','빠비코']\n",
    "values = [500, 800, 200]\n",
    "s = pd.Series(values, index)\n",
    "s"
   ]
  },
  {
   "cell_type": "code",
   "execution_count": 5,
   "id": "05aba90a",
   "metadata": {},
   "outputs": [
    {
     "name": "stdout",
     "output_type": "stream",
     "text": [
      "500\n"
     ]
    }
   ],
   "source": [
    "print(s.iloc[0])"
   ]
  },
  {
   "cell_type": "code",
   "execution_count": 4,
   "id": "9ede48f6",
   "metadata": {},
   "outputs": [
    {
     "name": "stdout",
     "output_type": "stream",
     "text": [
      "200\n"
     ]
    }
   ],
   "source": [
    "print(s.iloc[2])"
   ]
  },
  {
   "cell_type": "code",
   "execution_count": 5,
   "id": "739a09bc",
   "metadata": {},
   "outputs": [
    {
     "name": "stdout",
     "output_type": "stream",
     "text": [
      "200\n"
     ]
    }
   ],
   "source": [
    "print(s.iloc[-1])"
   ]
  },
  {
   "cell_type": "code",
   "execution_count": 6,
   "id": "8f725c15",
   "metadata": {},
   "outputs": [
    {
     "name": "stdout",
     "output_type": "stream",
     "text": [
      "500\n"
     ]
    }
   ],
   "source": [
    "print(s.loc['메로나'])"
   ]
  },
  {
   "cell_type": "code",
   "execution_count": 7,
   "id": "f3c1a0c8",
   "metadata": {},
   "outputs": [
    {
     "name": "stdout",
     "output_type": "stream",
     "text": [
      "200\n"
     ]
    }
   ],
   "source": [
    "print(s['빠비코'])"
   ]
  },
  {
   "cell_type": "code",
   "execution_count": 8,
   "id": "518c0a61",
   "metadata": {},
   "outputs": [
    {
     "name": "stdout",
     "output_type": "stream",
     "text": [
      "메로나    500\n",
      "누가바    800\n",
      "dtype: int64\n"
     ]
    }
   ],
   "source": [
    "print(s.iloc[0:2])"
   ]
  },
  {
   "cell_type": "code",
   "execution_count": 9,
   "id": "6c374902",
   "metadata": {},
   "outputs": [
    {
     "name": "stdout",
     "output_type": "stream",
     "text": [
      "메로나    500\n",
      "누가바    800\n",
      "빠비코    200\n",
      "dtype: int64\n"
     ]
    }
   ],
   "source": [
    "print(s.loc[:])"
   ]
  },
  {
   "cell_type": "code",
   "execution_count": 10,
   "id": "d0d63c74",
   "metadata": {},
   "outputs": [
    {
     "data": {
      "text/plain": [
       "메로나    500\n",
       "누가바    800\n",
       "빠비코    200\n",
       "dtype: int64"
      ]
     },
     "execution_count": 10,
     "metadata": {},
     "output_type": "execute_result"
    }
   ],
   "source": [
    "s.loc['메로나':]"
   ]
  },
  {
   "cell_type": "code",
   "execution_count": 11,
   "id": "82f4b78f",
   "metadata": {},
   "outputs": [
    {
     "data": {
      "text/plain": [
       "메로나    500\n",
       "누가바    800\n",
       "dtype: int64"
      ]
     },
     "execution_count": 11,
     "metadata": {},
     "output_type": "execute_result"
    }
   ],
   "source": [
    "s.loc[:'누가바']"
   ]
  },
  {
   "cell_type": "code",
   "execution_count": 17,
   "id": "d9ed0c01",
   "metadata": {},
   "outputs": [
    {
     "data": {
      "text/plain": [
       "메로나    500\n",
       "빠비코    200\n",
       "dtype: int64"
      ]
     },
     "execution_count": 17,
     "metadata": {},
     "output_type": "execute_result"
    }
   ],
   "source": [
    "target = [0,2]\n",
    "s.iloc[target]\n",
    "s.iloc[[0,2]]"
   ]
  },
  {
   "cell_type": "code",
   "execution_count": 18,
   "id": "ee533b1c",
   "metadata": {},
   "outputs": [
    {
     "data": {
      "text/plain": [
       "메로나    500\n",
       "빠비코    200\n",
       "dtype: int64"
      ]
     },
     "execution_count": 18,
     "metadata": {},
     "output_type": "execute_result"
    }
   ],
   "source": [
    "s.loc[['메로나','빠비코']]"
   ]
  },
  {
   "cell_type": "code",
   "execution_count": 19,
   "id": "1f401067",
   "metadata": {},
   "outputs": [],
   "source": [
    "s.loc['아바지'] = 1000"
   ]
  },
  {
   "cell_type": "code",
   "execution_count": 21,
   "id": "8fe1c7e5",
   "metadata": {},
   "outputs": [
    {
     "data": {
      "text/plain": [
       "메로나     500\n",
       "누가바     800\n",
       "빠비코     200\n",
       "아바지    1000\n",
       "dtype: int64"
      ]
     },
     "execution_count": 21,
     "metadata": {},
     "output_type": "execute_result"
    }
   ],
   "source": [
    "s"
   ]
  },
  {
   "cell_type": "code",
   "execution_count": 22,
   "id": "3047c290",
   "metadata": {},
   "outputs": [],
   "source": [
    "s['올마이트'] = 600"
   ]
  },
  {
   "cell_type": "code",
   "execution_count": 23,
   "id": "8c103732",
   "metadata": {},
   "outputs": [
    {
     "data": {
      "text/plain": [
       "메로나      500\n",
       "누가바      800\n",
       "빠비코      200\n",
       "아바지     1000\n",
       "올마이트     600\n",
       "dtype: int64"
      ]
     },
     "execution_count": 23,
     "metadata": {},
     "output_type": "execute_result"
    }
   ],
   "source": [
    "s"
   ]
  },
  {
   "cell_type": "code",
   "execution_count": 24,
   "id": "e9a44889",
   "metadata": {},
   "outputs": [
    {
     "data": {
      "text/plain": [
       "누가바      800\n",
       "빠비코      200\n",
       "아바지     1000\n",
       "올마이트     600\n",
       "dtype: int64"
      ]
     },
     "execution_count": 24,
     "metadata": {},
     "output_type": "execute_result"
    }
   ],
   "source": [
    "s.drop('메로나')"
   ]
  },
  {
   "cell_type": "code",
   "execution_count": 25,
   "id": "29781455",
   "metadata": {},
   "outputs": [
    {
     "data": {
      "text/plain": [
       "메로나      500\n",
       "아바지     1000\n",
       "올마이트     600\n",
       "dtype: int64"
      ]
     },
     "execution_count": 25,
     "metadata": {},
     "output_type": "execute_result"
    }
   ],
   "source": [
    "s.drop(['빠비코','누가바'])"
   ]
  },
  {
   "cell_type": "code",
   "execution_count": 26,
   "id": "584da2e3",
   "metadata": {},
   "outputs": [
    {
     "data": {
      "text/plain": [
       "메로나      500\n",
       "누가바      800\n",
       "빠비코      200\n",
       "아바지     1000\n",
       "올마이트     600\n",
       "dtype: int64"
      ]
     },
     "execution_count": 26,
     "metadata": {},
     "output_type": "execute_result"
    }
   ],
   "source": [
    "s"
   ]
  },
  {
   "cell_type": "code",
   "execution_count": 27,
   "id": "0afb73df",
   "metadata": {},
   "outputs": [],
   "source": [
    "s['메로나']=100"
   ]
  },
  {
   "cell_type": "code",
   "execution_count": 29,
   "id": "10a9ccba",
   "metadata": {},
   "outputs": [
    {
     "data": {
      "text/plain": [
       "메로나      100\n",
       "누가바      800\n",
       "빠비코      200\n",
       "아바지     1000\n",
       "올마이트     600\n",
       "dtype: int64"
      ]
     },
     "execution_count": 29,
     "metadata": {},
     "output_type": "execute_result"
    }
   ],
   "source": [
    "s"
   ]
  },
  {
   "cell_type": "code",
   "execution_count": 30,
   "id": "1f2164c9",
   "metadata": {},
   "outputs": [],
   "source": [
    "s.loc['메로나']=30"
   ]
  },
  {
   "cell_type": "code",
   "execution_count": 31,
   "id": "8da602ff",
   "metadata": {},
   "outputs": [
    {
     "data": {
      "text/plain": [
       "메로나       30\n",
       "누가바      800\n",
       "빠비코      200\n",
       "아바지     1000\n",
       "올마이트     600\n",
       "dtype: int64"
      ]
     },
     "execution_count": 31,
     "metadata": {},
     "output_type": "execute_result"
    }
   ],
   "source": [
    "s"
   ]
  },
  {
   "cell_type": "code",
   "execution_count": 32,
   "id": "d124495f",
   "metadata": {},
   "outputs": [],
   "source": [
    "s.loc[['누가바','아바지']] = 30,20"
   ]
  },
  {
   "cell_type": "code",
   "execution_count": 33,
   "id": "f183fa65",
   "metadata": {},
   "outputs": [
    {
     "data": {
      "text/plain": [
       "메로나      30\n",
       "누가바      30\n",
       "빠비코     200\n",
       "아바지      20\n",
       "올마이트    600\n",
       "dtype: int64"
      ]
     },
     "execution_count": 33,
     "metadata": {},
     "output_type": "execute_result"
    }
   ],
   "source": [
    "s"
   ]
  },
  {
   "cell_type": "code",
   "execution_count": 34,
   "id": "cae86996",
   "metadata": {},
   "outputs": [],
   "source": [
    "s.iloc[0]=1"
   ]
  },
  {
   "cell_type": "code",
   "execution_count": 35,
   "id": "f70227ab",
   "metadata": {},
   "outputs": [
    {
     "data": {
      "text/plain": [
       "메로나       1\n",
       "누가바      30\n",
       "빠비코     200\n",
       "아바지      20\n",
       "올마이트    600\n",
       "dtype: int64"
      ]
     },
     "execution_count": 35,
     "metadata": {},
     "output_type": "execute_result"
    }
   ],
   "source": [
    "s"
   ]
  },
  {
   "cell_type": "code",
   "execution_count": 36,
   "id": "4ce4bcd7",
   "metadata": {},
   "outputs": [],
   "source": [
    "s.drop(['메로나','누가바'],inplace = True)\n"
   ]
  },
  {
   "cell_type": "code",
   "execution_count": 37,
   "id": "da3da244",
   "metadata": {},
   "outputs": [
    {
     "data": {
      "text/plain": [
       "빠비코     200\n",
       "아바지      20\n",
       "올마이트    600\n",
       "dtype: int64"
      ]
     },
     "execution_count": 37,
     "metadata": {},
     "output_type": "execute_result"
    }
   ],
   "source": [
    "s"
   ]
  },
  {
   "cell_type": "code",
   "execution_count": 38,
   "id": "db33cb67",
   "metadata": {},
   "outputs": [],
   "source": [
    "s['아바지'] = 2000"
   ]
  },
  {
   "cell_type": "code",
   "execution_count": 39,
   "id": "80cce9eb",
   "metadata": {},
   "outputs": [
    {
     "data": {
      "text/plain": [
       "빠비코      200\n",
       "아바지     2000\n",
       "올마이트     600\n",
       "dtype: int64"
      ]
     },
     "execution_count": 39,
     "metadata": {},
     "output_type": "execute_result"
    }
   ],
   "source": [
    "s"
   ]
  },
  {
   "cell_type": "code",
   "execution_count": 40,
   "id": "2ae8ef31",
   "metadata": {},
   "outputs": [],
   "source": [
    "s[['아바지','올마이트']] = 10000, 20000"
   ]
  },
  {
   "cell_type": "code",
   "execution_count": 41,
   "id": "2012dc8f",
   "metadata": {},
   "outputs": [
    {
     "data": {
      "text/plain": [
       "빠비코       200\n",
       "아바지     10000\n",
       "올마이트    20000\n",
       "dtype: int64"
      ]
     },
     "execution_count": 41,
     "metadata": {},
     "output_type": "execute_result"
    }
   ],
   "source": [
    "s"
   ]
  },
  {
   "cell_type": "code",
   "execution_count": 4,
   "id": "a56ea237",
   "metadata": {},
   "outputs": [
    {
     "name": "stdout",
     "output_type": "stream",
     "text": [
      "메로나    False\n",
      "누가바     True\n",
      "빠비코    False\n",
      "dtype: bool\n"
     ]
    }
   ],
   "source": [
    "c = s > 500\n",
    "print(c)"
   ]
  },
  {
   "cell_type": "code",
   "execution_count": 5,
   "id": "7d9df0b3",
   "metadata": {},
   "outputs": [
    {
     "data": {
      "text/plain": [
       "누가바    800\n",
       "dtype: int64"
      ]
     },
     "execution_count": 5,
     "metadata": {},
     "output_type": "execute_result"
    }
   ],
   "source": [
    "s[c]# s안에 s조건"
   ]
  },
  {
   "cell_type": "code",
   "execution_count": 17,
   "id": "7345392c",
   "metadata": {},
   "outputs": [],
   "source": [
    " 저가 = pd.Series([10,200,200,400,600])\n",
    "고가 = pd.Series([100,300,400,500,600])\n"
   ]
  },
  {
   "cell_type": "code",
   "execution_count": 18,
   "id": "3029e768",
   "metadata": {},
   "outputs": [
    {
     "name": "stdout",
     "output_type": "stream",
     "text": [
      "0     90\n",
      "1    100\n",
      "2    200\n",
      "3    100\n",
      "4      0\n",
      "dtype: int64\n"
     ]
    }
   ],
   "source": [
    "차 = 고가 - 저가\n",
    "print(차)"
   ]
  },
  {
   "cell_type": "code",
   "execution_count": 10,
   "id": "2cf8050b",
   "metadata": {},
   "outputs": [
    {
     "data": {
      "text/plain": [
       "1    300\n",
       "dtype: int64"
      ]
     },
     "execution_count": 10,
     "metadata": {},
     "output_type": "execute_result"
    }
   ],
   "source": [
    "고가[차>=100]"
   ]
  },
  {
   "cell_type": "code",
   "execution_count": 12,
   "id": "758330ab",
   "metadata": {},
   "outputs": [
    {
     "data": {
      "text/plain": [
       "1    300\n",
       "dtype: int64"
      ]
     },
     "execution_count": 12,
     "metadata": {},
     "output_type": "execute_result"
    }
   ],
   "source": [
    "고가[(고가-저가)>=100]"
   ]
  },
  {
   "cell_type": "code",
   "execution_count": 13,
   "id": "dfa2219b",
   "metadata": {},
   "outputs": [
    {
     "data": {
      "text/plain": [
       "0    100\n",
       "1    300\n",
       "2    400\n",
       "3    500\n",
       "4    600\n",
       "dtype: int64"
      ]
     },
     "execution_count": 13,
     "metadata": {},
     "output_type": "execute_result"
    }
   ],
   "source": [
    "고가"
   ]
  },
  {
   "cell_type": "code",
   "execution_count": 17,
   "id": "db48deba",
   "metadata": {},
   "outputs": [
    {
     "data": {
      "text/plain": [
       "1    300\n",
       "2    400\n",
       "3    500\n",
       "dtype: int64"
      ]
     },
     "execution_count": 17,
     "metadata": {},
     "output_type": "execute_result"
    }
   ],
   "source": [
    "cond = (고가-저가)>=100\n",
    "고가[cond]"
   ]
  },
  {
   "cell_type": "code",
   "execution_count": 15,
   "id": "05bc63e5",
   "metadata": {},
   "outputs": [
    {
     "data": {
      "text/plain": [
       "0     10\n",
       "1    200\n",
       "2    400\n",
       "3    600\n",
       "dtype: int64"
      ]
     },
     "execution_count": 15,
     "metadata": {},
     "output_type": "execute_result"
    }
   ],
   "source": [
    "저가"
   ]
  },
  {
   "cell_type": "code",
   "execution_count": 20,
   "id": "e020a78b",
   "metadata": {},
   "outputs": [
    {
     "name": "stdout",
     "output_type": "stream",
     "text": [
      "05/14    93000\n",
      "05/15    82400\n",
      "05/16    99100\n",
      "05/17    81000\n",
      "05/18    72300\n",
      "dtype: int64\n"
     ]
    }
   ],
   "source": [
    "data = [93000,82400,99100,81000,72300]\n",
    "index = ['05/14','05/15','05/16','05/17','05/18']\n",
    "종가 = pd.Series(data,index)\n",
    "print(종가)"
   ]
  },
  {
   "cell_type": "code",
   "execution_count": 21,
   "id": "2b2b66cd",
   "metadata": {},
   "outputs": [
    {
     "data": {
      "text/plain": [
       "05/15    82400\n",
       "05/17    81000\n",
       "dtype: int64"
      ]
     },
     "execution_count": 21,
     "metadata": {},
     "output_type": "execute_result"
    }
   ],
   "source": [
    "\n",
    "종가[(종가>80000) & (종가 < 90000)]"
   ]
  },
  {
   "cell_type": "code",
   "execution_count": 36,
   "id": "27d3fabb",
   "metadata": {},
   "outputs": [
    {
     "name": "stdout",
     "output_type": "stream",
     "text": [
      "05/15 0\n",
      "05/17 5\n"
     ]
    }
   ],
   "source": [
    "a=종가[(종가>80000) & (종가 < 90000)].index\n",
    "for i in range(2):\n",
    "    print(a[i],a[i][i])"
   ]
  },
  {
   "cell_type": "code",
   "execution_count": 37,
   "id": "f90f6781",
   "metadata": {},
   "outputs": [
    {
     "name": "stdout",
     "output_type": "stream",
     "text": [
      "      종가  per  pbr\n",
      "삼성전자   1    1    1\n",
      "네이버    2    2    2\n",
      "카카오    3    3    3\n"
     ]
    }
   ],
   "source": [
    " data={\n",
    "     '종가':[1,2,3],\n",
    "     'per':[1,2,3],\n",
    "     'pbr':[1,2,3]\n",
    " }\n",
    "index = ['삼성전자','네이버','카카오']\n",
    "df = pd.DataFrame(data,index)\n",
    "print(df)"
   ]
  },
  {
   "cell_type": "code",
   "execution_count": 26,
   "id": "3809cfa0",
   "metadata": {},
   "outputs": [
    {
     "name": "stdout",
     "output_type": "stream",
     "text": [
      "       종가  저가  고가\n",
      "naver   1   2   3\n",
      "삼성전자    1   2   3\n"
     ]
    }
   ],
   "source": [
    "data=[[1,2,3],\n",
    "     [1,2,3]]\n",
    "index = ['naver','삼성전자']\n",
    "column = ['종가','저가','고가']\n",
    "df = pd.DataFrame(data,index,column)\n",
    "print(df)"
   ]
  },
  {
   "cell_type": "code",
   "execution_count": 39,
   "id": "792f3bf5",
   "metadata": {},
   "outputs": [
    {
     "data": {
      "text/html": [
       "<div>\n",
       "<style scoped>\n",
       "    .dataframe tbody tr th:only-of-type {\n",
       "        vertical-align: middle;\n",
       "    }\n",
       "\n",
       "    .dataframe tbody tr th {\n",
       "        vertical-align: top;\n",
       "    }\n",
       "\n",
       "    .dataframe thead th {\n",
       "        text-align: right;\n",
       "    }\n",
       "</style>\n",
       "<table border=\"1\" class=\"dataframe\">\n",
       "  <thead>\n",
       "    <tr style=\"text-align: right;\">\n",
       "      <th></th>\n",
       "      <th>시가</th>\n",
       "      <th>고가</th>\n",
       "      <th>저가</th>\n",
       "      <th>종가</th>\n",
       "    </tr>\n",
       "  </thead>\n",
       "  <tbody>\n",
       "    <tr>\n",
       "      <th>비트코인</th>\n",
       "      <td>980</td>\n",
       "      <td>990</td>\n",
       "      <td>920</td>\n",
       "      <td>930</td>\n",
       "    </tr>\n",
       "    <tr>\n",
       "      <th>리플</th>\n",
       "      <td>200</td>\n",
       "      <td>300</td>\n",
       "      <td>180</td>\n",
       "      <td>180</td>\n",
       "    </tr>\n",
       "    <tr>\n",
       "      <th>이더리움</th>\n",
       "      <td>300</td>\n",
       "      <td>500</td>\n",
       "      <td>300</td>\n",
       "      <td>400</td>\n",
       "    </tr>\n",
       "  </tbody>\n",
       "</table>\n",
       "</div>"
      ],
      "text/plain": [
       "       시가   고가   저가   종가\n",
       "비트코인  980  990  920  930\n",
       "리플    200  300  180  180\n",
       "이더리움  300  500  300  400"
      ]
     },
     "execution_count": 39,
     "metadata": {},
     "output_type": "execute_result"
    }
   ],
   "source": [
    "data = {\n",
    "    '시가':[980,200,300],\n",
    "    '고가':[990,300,500],\n",
    "    '저가':[920,180,300],\n",
    "    '종가':[930,180,400]\n",
    "}\n",
    "index=['비트코인','리플','이더리움']\n",
    "df = pd.DataFrame(data=data,index=index)\n",
    "df"
   ]
  },
  {
   "cell_type": "code",
   "execution_count": 46,
   "id": "c9d2ad6e",
   "metadata": {},
   "outputs": [
    {
     "data": {
      "text/plain": [
       "비트코인    980\n",
       "리플      200\n",
       "이더리움    300\n",
       "Name: 시가, dtype: int64"
      ]
     },
     "execution_count": 46,
     "metadata": {},
     "output_type": "execute_result"
    }
   ],
   "source": [
    "df['시가']"
   ]
  },
  {
   "cell_type": "code",
   "execution_count": 7,
   "id": "1cdeedab",
   "metadata": {},
   "outputs": [
    {
     "data": {
      "text/html": [
       "<div>\n",
       "<style scoped>\n",
       "    .dataframe tbody tr th:only-of-type {\n",
       "        vertical-align: middle;\n",
       "    }\n",
       "\n",
       "    .dataframe tbody tr th {\n",
       "        vertical-align: top;\n",
       "    }\n",
       "\n",
       "    .dataframe thead th {\n",
       "        text-align: right;\n",
       "    }\n",
       "</style>\n",
       "<table border=\"1\" class=\"dataframe\">\n",
       "  <thead>\n",
       "    <tr style=\"text-align: right;\">\n",
       "      <th></th>\n",
       "      <th>시가</th>\n",
       "      <th>종가</th>\n",
       "    </tr>\n",
       "  </thead>\n",
       "  <tbody>\n",
       "    <tr>\n",
       "      <th>비트코인</th>\n",
       "      <td>980</td>\n",
       "      <td>930</td>\n",
       "    </tr>\n",
       "    <tr>\n",
       "      <th>리플</th>\n",
       "      <td>200</td>\n",
       "      <td>180</td>\n",
       "    </tr>\n",
       "    <tr>\n",
       "      <th>이더리움</th>\n",
       "      <td>300</td>\n",
       "      <td>400</td>\n",
       "    </tr>\n",
       "  </tbody>\n",
       "</table>\n",
       "</div>"
      ],
      "text/plain": [
       "       시가   종가\n",
       "비트코인  980  930\n",
       "리플    200  180\n",
       "이더리움  300  400"
      ]
     },
     "execution_count": 7,
     "metadata": {},
     "output_type": "execute_result"
    }
   ],
   "source": [
    "df[['시가','종가']]"
   ]
  },
  {
   "cell_type": "code",
   "execution_count": 8,
   "id": "699e4c6b",
   "metadata": {},
   "outputs": [
    {
     "data": {
      "text/html": [
       "<div>\n",
       "<style scoped>\n",
       "    .dataframe tbody tr th:only-of-type {\n",
       "        vertical-align: middle;\n",
       "    }\n",
       "\n",
       "    .dataframe tbody tr th {\n",
       "        vertical-align: top;\n",
       "    }\n",
       "\n",
       "    .dataframe thead th {\n",
       "        text-align: right;\n",
       "    }\n",
       "</style>\n",
       "<table border=\"1\" class=\"dataframe\">\n",
       "  <thead>\n",
       "    <tr style=\"text-align: right;\">\n",
       "      <th></th>\n",
       "      <th>시가</th>\n",
       "      <th>고가</th>\n",
       "      <th>저가</th>\n",
       "      <th>종가</th>\n",
       "    </tr>\n",
       "  </thead>\n",
       "  <tbody>\n",
       "    <tr>\n",
       "      <th>리플</th>\n",
       "      <td>200</td>\n",
       "      <td>300</td>\n",
       "      <td>180</td>\n",
       "      <td>180</td>\n",
       "    </tr>\n",
       "    <tr>\n",
       "      <th>이더리움</th>\n",
       "      <td>300</td>\n",
       "      <td>500</td>\n",
       "      <td>300</td>\n",
       "      <td>400</td>\n",
       "    </tr>\n",
       "  </tbody>\n",
       "</table>\n",
       "</div>"
      ],
      "text/plain": [
       "       시가   고가   저가   종가\n",
       "리플    200  300  180  180\n",
       "이더리움  300  500  300  400"
      ]
     },
     "execution_count": 8,
     "metadata": {},
     "output_type": "execute_result"
    }
   ],
   "source": [
    "df.loc[['리플','이더리움']]"
   ]
  },
  {
   "cell_type": "code",
   "execution_count": 9,
   "id": "b379f80a",
   "metadata": {},
   "outputs": [
    {
     "data": {
      "text/html": [
       "<div>\n",
       "<style scoped>\n",
       "    .dataframe tbody tr th:only-of-type {\n",
       "        vertical-align: middle;\n",
       "    }\n",
       "\n",
       "    .dataframe tbody tr th {\n",
       "        vertical-align: top;\n",
       "    }\n",
       "\n",
       "    .dataframe thead th {\n",
       "        text-align: right;\n",
       "    }\n",
       "</style>\n",
       "<table border=\"1\" class=\"dataframe\">\n",
       "  <thead>\n",
       "    <tr style=\"text-align: right;\">\n",
       "      <th></th>\n",
       "      <th>시가</th>\n",
       "      <th>고가</th>\n",
       "      <th>저가</th>\n",
       "      <th>종가</th>\n",
       "    </tr>\n",
       "  </thead>\n",
       "  <tbody>\n",
       "    <tr>\n",
       "      <th>비트코인</th>\n",
       "      <td>980</td>\n",
       "      <td>990</td>\n",
       "      <td>920</td>\n",
       "      <td>930</td>\n",
       "    </tr>\n",
       "    <tr>\n",
       "      <th>리플</th>\n",
       "      <td>200</td>\n",
       "      <td>300</td>\n",
       "      <td>180</td>\n",
       "      <td>180</td>\n",
       "    </tr>\n",
       "  </tbody>\n",
       "</table>\n",
       "</div>"
      ],
      "text/plain": [
       "       시가   고가   저가   종가\n",
       "비트코인  980  990  920  930\n",
       "리플    200  300  180  180"
      ]
     },
     "execution_count": 9,
     "metadata": {},
     "output_type": "execute_result"
    }
   ],
   "source": [
    "df.iloc[[0,1]]"
   ]
  },
  {
   "cell_type": "code",
   "execution_count": 10,
   "id": "0bff7f04",
   "metadata": {},
   "outputs": [
    {
     "data": {
      "text/html": [
       "<div>\n",
       "<style scoped>\n",
       "    .dataframe tbody tr th:only-of-type {\n",
       "        vertical-align: middle;\n",
       "    }\n",
       "\n",
       "    .dataframe tbody tr th {\n",
       "        vertical-align: top;\n",
       "    }\n",
       "\n",
       "    .dataframe thead th {\n",
       "        text-align: right;\n",
       "    }\n",
       "</style>\n",
       "<table border=\"1\" class=\"dataframe\">\n",
       "  <thead>\n",
       "    <tr style=\"text-align: right;\">\n",
       "      <th></th>\n",
       "      <th>시가</th>\n",
       "      <th>고가</th>\n",
       "      <th>저가</th>\n",
       "      <th>종가</th>\n",
       "    </tr>\n",
       "  </thead>\n",
       "  <tbody>\n",
       "    <tr>\n",
       "      <th>비트코인</th>\n",
       "      <td>980</td>\n",
       "      <td>990</td>\n",
       "      <td>920</td>\n",
       "      <td>930</td>\n",
       "    </tr>\n",
       "    <tr>\n",
       "      <th>리플</th>\n",
       "      <td>200</td>\n",
       "      <td>300</td>\n",
       "      <td>180</td>\n",
       "      <td>180</td>\n",
       "    </tr>\n",
       "  </tbody>\n",
       "</table>\n",
       "</div>"
      ],
      "text/plain": [
       "       시가   고가   저가   종가\n",
       "비트코인  980  990  920  930\n",
       "리플    200  300  180  180"
      ]
     },
     "execution_count": 10,
     "metadata": {},
     "output_type": "execute_result"
    }
   ],
   "source": [
    "df.iloc[0:2]"
   ]
  },
  {
   "cell_type": "code",
   "execution_count": 11,
   "id": "f0839c71",
   "metadata": {},
   "outputs": [
    {
     "ename": "KeyError",
     "evalue": "'리플'",
     "output_type": "error",
     "traceback": [
      "\u001b[1;31m---------------------------------------------------------------------------\u001b[0m",
      "\u001b[1;31mKeyError\u001b[0m                                  Traceback (most recent call last)",
      "File \u001b[1;32m~\\anaconda3\\envs\\test\\lib\\site-packages\\pandas\\core\\indexes\\base.py:3803\u001b[0m, in \u001b[0;36mIndex.get_loc\u001b[1;34m(self, key, method, tolerance)\u001b[0m\n\u001b[0;32m   3802\u001b[0m \u001b[38;5;28;01mtry\u001b[39;00m:\n\u001b[1;32m-> 3803\u001b[0m     \u001b[38;5;28;01mreturn\u001b[39;00m \u001b[38;5;28;43mself\u001b[39;49m\u001b[38;5;241;43m.\u001b[39;49m\u001b[43m_engine\u001b[49m\u001b[38;5;241;43m.\u001b[39;49m\u001b[43mget_loc\u001b[49m\u001b[43m(\u001b[49m\u001b[43mcasted_key\u001b[49m\u001b[43m)\u001b[49m\n\u001b[0;32m   3804\u001b[0m \u001b[38;5;28;01mexcept\u001b[39;00m \u001b[38;5;167;01mKeyError\u001b[39;00m \u001b[38;5;28;01mas\u001b[39;00m err:\n",
      "File \u001b[1;32m~\\anaconda3\\envs\\test\\lib\\site-packages\\pandas\\_libs\\index.pyx:138\u001b[0m, in \u001b[0;36mpandas._libs.index.IndexEngine.get_loc\u001b[1;34m()\u001b[0m\n",
      "File \u001b[1;32m~\\anaconda3\\envs\\test\\lib\\site-packages\\pandas\\_libs\\index.pyx:165\u001b[0m, in \u001b[0;36mpandas._libs.index.IndexEngine.get_loc\u001b[1;34m()\u001b[0m\n",
      "File \u001b[1;32mpandas\\_libs\\hashtable_class_helper.pxi:5745\u001b[0m, in \u001b[0;36mpandas._libs.hashtable.PyObjectHashTable.get_item\u001b[1;34m()\u001b[0m\n",
      "File \u001b[1;32mpandas\\_libs\\hashtable_class_helper.pxi:5753\u001b[0m, in \u001b[0;36mpandas._libs.hashtable.PyObjectHashTable.get_item\u001b[1;34m()\u001b[0m\n",
      "\u001b[1;31mKeyError\u001b[0m: '리플'",
      "\nThe above exception was the direct cause of the following exception:\n",
      "\u001b[1;31mKeyError\u001b[0m                                  Traceback (most recent call last)",
      "Cell \u001b[1;32mIn[11], line 1\u001b[0m\n\u001b[1;32m----> 1\u001b[0m \u001b[43mdf\u001b[49m\u001b[38;5;241;43m.\u001b[39;49m\u001b[43mloc\u001b[49m\u001b[43m[\u001b[49m\u001b[38;5;124;43m'\u001b[39;49m\u001b[38;5;124;43m비트코인\u001b[39;49m\u001b[38;5;124;43m'\u001b[39;49m\u001b[43m,\u001b[49m\u001b[38;5;124;43m'\u001b[39;49m\u001b[38;5;124;43m리플\u001b[39;49m\u001b[38;5;124;43m'\u001b[39;49m\u001b[43m]\u001b[49m\n",
      "File \u001b[1;32m~\\anaconda3\\envs\\test\\lib\\site-packages\\pandas\\core\\indexing.py:1066\u001b[0m, in \u001b[0;36m_LocationIndexer.__getitem__\u001b[1;34m(self, key)\u001b[0m\n\u001b[0;32m   1064\u001b[0m     key \u001b[38;5;241m=\u001b[39m \u001b[38;5;28mtuple\u001b[39m(com\u001b[38;5;241m.\u001b[39mapply_if_callable(x, \u001b[38;5;28mself\u001b[39m\u001b[38;5;241m.\u001b[39mobj) \u001b[38;5;28;01mfor\u001b[39;00m x \u001b[38;5;129;01min\u001b[39;00m key)\n\u001b[0;32m   1065\u001b[0m     \u001b[38;5;28;01mif\u001b[39;00m \u001b[38;5;28mself\u001b[39m\u001b[38;5;241m.\u001b[39m_is_scalar_access(key):\n\u001b[1;32m-> 1066\u001b[0m         \u001b[38;5;28;01mreturn\u001b[39;00m \u001b[38;5;28;43mself\u001b[39;49m\u001b[38;5;241;43m.\u001b[39;49m\u001b[43mobj\u001b[49m\u001b[38;5;241;43m.\u001b[39;49m\u001b[43m_get_value\u001b[49m\u001b[43m(\u001b[49m\u001b[38;5;241;43m*\u001b[39;49m\u001b[43mkey\u001b[49m\u001b[43m,\u001b[49m\u001b[43m \u001b[49m\u001b[43mtakeable\u001b[49m\u001b[38;5;241;43m=\u001b[39;49m\u001b[38;5;28;43mself\u001b[39;49m\u001b[38;5;241;43m.\u001b[39;49m\u001b[43m_takeable\u001b[49m\u001b[43m)\u001b[49m\n\u001b[0;32m   1067\u001b[0m     \u001b[38;5;28;01mreturn\u001b[39;00m \u001b[38;5;28mself\u001b[39m\u001b[38;5;241m.\u001b[39m_getitem_tuple(key)\n\u001b[0;32m   1068\u001b[0m \u001b[38;5;28;01melse\u001b[39;00m:\n\u001b[0;32m   1069\u001b[0m     \u001b[38;5;66;03m# we by definition only have the 0th axis\u001b[39;00m\n",
      "File \u001b[1;32m~\\anaconda3\\envs\\test\\lib\\site-packages\\pandas\\core\\frame.py:3915\u001b[0m, in \u001b[0;36mDataFrame._get_value\u001b[1;34m(self, index, col, takeable)\u001b[0m\n\u001b[0;32m   3912\u001b[0m     series \u001b[38;5;241m=\u001b[39m \u001b[38;5;28mself\u001b[39m\u001b[38;5;241m.\u001b[39m_ixs(col, axis\u001b[38;5;241m=\u001b[39m\u001b[38;5;241m1\u001b[39m)\n\u001b[0;32m   3913\u001b[0m     \u001b[38;5;28;01mreturn\u001b[39;00m series\u001b[38;5;241m.\u001b[39m_values[index]\n\u001b[1;32m-> 3915\u001b[0m series \u001b[38;5;241m=\u001b[39m \u001b[38;5;28;43mself\u001b[39;49m\u001b[38;5;241;43m.\u001b[39;49m\u001b[43m_get_item_cache\u001b[49m\u001b[43m(\u001b[49m\u001b[43mcol\u001b[49m\u001b[43m)\u001b[49m\n\u001b[0;32m   3916\u001b[0m engine \u001b[38;5;241m=\u001b[39m \u001b[38;5;28mself\u001b[39m\u001b[38;5;241m.\u001b[39mindex\u001b[38;5;241m.\u001b[39m_engine\n\u001b[0;32m   3918\u001b[0m \u001b[38;5;28;01mif\u001b[39;00m \u001b[38;5;129;01mnot\u001b[39;00m \u001b[38;5;28misinstance\u001b[39m(\u001b[38;5;28mself\u001b[39m\u001b[38;5;241m.\u001b[39mindex, MultiIndex):\n\u001b[0;32m   3919\u001b[0m     \u001b[38;5;66;03m# CategoricalIndex: Trying to use the engine fastpath may give incorrect\u001b[39;00m\n\u001b[0;32m   3920\u001b[0m     \u001b[38;5;66;03m#  results if our categories are integers that dont match our codes\u001b[39;00m\n\u001b[0;32m   3921\u001b[0m     \u001b[38;5;66;03m# IntervalIndex: IntervalTree has no get_loc\u001b[39;00m\n",
      "File \u001b[1;32m~\\anaconda3\\envs\\test\\lib\\site-packages\\pandas\\core\\frame.py:4279\u001b[0m, in \u001b[0;36mDataFrame._get_item_cache\u001b[1;34m(self, item)\u001b[0m\n\u001b[0;32m   4274\u001b[0m res \u001b[38;5;241m=\u001b[39m cache\u001b[38;5;241m.\u001b[39mget(item)\n\u001b[0;32m   4275\u001b[0m \u001b[38;5;28;01mif\u001b[39;00m res \u001b[38;5;129;01mis\u001b[39;00m \u001b[38;5;28;01mNone\u001b[39;00m:\n\u001b[0;32m   4276\u001b[0m     \u001b[38;5;66;03m# All places that call _get_item_cache have unique columns,\u001b[39;00m\n\u001b[0;32m   4277\u001b[0m     \u001b[38;5;66;03m#  pending resolution of GH#33047\u001b[39;00m\n\u001b[1;32m-> 4279\u001b[0m     loc \u001b[38;5;241m=\u001b[39m \u001b[38;5;28;43mself\u001b[39;49m\u001b[38;5;241;43m.\u001b[39;49m\u001b[43mcolumns\u001b[49m\u001b[38;5;241;43m.\u001b[39;49m\u001b[43mget_loc\u001b[49m\u001b[43m(\u001b[49m\u001b[43mitem\u001b[49m\u001b[43m)\u001b[49m\n\u001b[0;32m   4280\u001b[0m     res \u001b[38;5;241m=\u001b[39m \u001b[38;5;28mself\u001b[39m\u001b[38;5;241m.\u001b[39m_ixs(loc, axis\u001b[38;5;241m=\u001b[39m\u001b[38;5;241m1\u001b[39m)\n\u001b[0;32m   4282\u001b[0m     cache[item] \u001b[38;5;241m=\u001b[39m res\n",
      "File \u001b[1;32m~\\anaconda3\\envs\\test\\lib\\site-packages\\pandas\\core\\indexes\\base.py:3805\u001b[0m, in \u001b[0;36mIndex.get_loc\u001b[1;34m(self, key, method, tolerance)\u001b[0m\n\u001b[0;32m   3803\u001b[0m     \u001b[38;5;28;01mreturn\u001b[39;00m \u001b[38;5;28mself\u001b[39m\u001b[38;5;241m.\u001b[39m_engine\u001b[38;5;241m.\u001b[39mget_loc(casted_key)\n\u001b[0;32m   3804\u001b[0m \u001b[38;5;28;01mexcept\u001b[39;00m \u001b[38;5;167;01mKeyError\u001b[39;00m \u001b[38;5;28;01mas\u001b[39;00m err:\n\u001b[1;32m-> 3805\u001b[0m     \u001b[38;5;28;01mraise\u001b[39;00m \u001b[38;5;167;01mKeyError\u001b[39;00m(key) \u001b[38;5;28;01mfrom\u001b[39;00m \u001b[38;5;21;01merr\u001b[39;00m\n\u001b[0;32m   3806\u001b[0m \u001b[38;5;28;01mexcept\u001b[39;00m \u001b[38;5;167;01mTypeError\u001b[39;00m:\n\u001b[0;32m   3807\u001b[0m     \u001b[38;5;66;03m# If we have a listlike key, _check_indexing_error will raise\u001b[39;00m\n\u001b[0;32m   3808\u001b[0m     \u001b[38;5;66;03m#  InvalidIndexError. Otherwise we fall through and re-raise\u001b[39;00m\n\u001b[0;32m   3809\u001b[0m     \u001b[38;5;66;03m#  the TypeError.\u001b[39;00m\n\u001b[0;32m   3810\u001b[0m     \u001b[38;5;28mself\u001b[39m\u001b[38;5;241m.\u001b[39m_check_indexing_error(key)\n",
      "\u001b[1;31mKeyError\u001b[0m: '리플'"
     ]
    }
   ],
   "source": [
    "df.loc['비트코인','리플']"
   ]
  },
  {
   "cell_type": "code",
   "execution_count": 12,
   "id": "c35c3894",
   "metadata": {},
   "outputs": [
    {
     "data": {
      "text/html": [
       "<div>\n",
       "<style scoped>\n",
       "    .dataframe tbody tr th:only-of-type {\n",
       "        vertical-align: middle;\n",
       "    }\n",
       "\n",
       "    .dataframe tbody tr th {\n",
       "        vertical-align: top;\n",
       "    }\n",
       "\n",
       "    .dataframe thead th {\n",
       "        text-align: right;\n",
       "    }\n",
       "</style>\n",
       "<table border=\"1\" class=\"dataframe\">\n",
       "  <thead>\n",
       "    <tr style=\"text-align: right;\">\n",
       "      <th></th>\n",
       "      <th>시가</th>\n",
       "      <th>고가</th>\n",
       "      <th>저가</th>\n",
       "      <th>종가</th>\n",
       "    </tr>\n",
       "  </thead>\n",
       "  <tbody>\n",
       "    <tr>\n",
       "      <th>비트코인</th>\n",
       "      <td>980</td>\n",
       "      <td>990</td>\n",
       "      <td>920</td>\n",
       "      <td>930</td>\n",
       "    </tr>\n",
       "    <tr>\n",
       "      <th>리플</th>\n",
       "      <td>200</td>\n",
       "      <td>300</td>\n",
       "      <td>180</td>\n",
       "      <td>180</td>\n",
       "    </tr>\n",
       "  </tbody>\n",
       "</table>\n",
       "</div>"
      ],
      "text/plain": [
       "       시가   고가   저가   종가\n",
       "비트코인  980  990  920  930\n",
       "리플    200  300  180  180"
      ]
     },
     "execution_count": 12,
     "metadata": {},
     "output_type": "execute_result"
    }
   ],
   "source": [
    "df.loc['비트코인':'리플']"
   ]
  },
  {
   "cell_type": "code",
   "execution_count": 13,
   "id": "2cb9fadb",
   "metadata": {},
   "outputs": [
    {
     "data": {
      "text/plain": [
       "980"
      ]
     },
     "execution_count": 13,
     "metadata": {},
     "output_type": "execute_result"
    }
   ],
   "source": [
    "df.iloc[0,0]"
   ]
  },
  {
   "cell_type": "code",
   "execution_count": 14,
   "id": "9e8a9aeb",
   "metadata": {},
   "outputs": [
    {
     "ename": "ValueError",
     "evalue": "Location based indexing can only have [integer, integer slice (START point is INCLUDED, END point is EXCLUDED), listlike of integers, boolean array] types",
     "output_type": "error",
     "traceback": [
      "\u001b[1;31m---------------------------------------------------------------------------\u001b[0m",
      "\u001b[1;31mValueError\u001b[0m                                Traceback (most recent call last)",
      "File \u001b[1;32m~\\anaconda3\\envs\\test\\lib\\site-packages\\pandas\\core\\indexing.py:873\u001b[0m, in \u001b[0;36m_LocationIndexer._validate_tuple_indexer\u001b[1;34m(self, key)\u001b[0m\n\u001b[0;32m    872\u001b[0m \u001b[38;5;28;01mtry\u001b[39;00m:\n\u001b[1;32m--> 873\u001b[0m     \u001b[38;5;28;43mself\u001b[39;49m\u001b[38;5;241;43m.\u001b[39;49m\u001b[43m_validate_key\u001b[49m\u001b[43m(\u001b[49m\u001b[43mk\u001b[49m\u001b[43m,\u001b[49m\u001b[43m \u001b[49m\u001b[43mi\u001b[49m\u001b[43m)\u001b[49m\n\u001b[0;32m    874\u001b[0m \u001b[38;5;28;01mexcept\u001b[39;00m \u001b[38;5;167;01mValueError\u001b[39;00m \u001b[38;5;28;01mas\u001b[39;00m err:\n",
      "File \u001b[1;32m~\\anaconda3\\envs\\test\\lib\\site-packages\\pandas\\core\\indexing.py:1483\u001b[0m, in \u001b[0;36m_iLocIndexer._validate_key\u001b[1;34m(self, key, axis)\u001b[0m\n\u001b[0;32m   1482\u001b[0m \u001b[38;5;28;01melse\u001b[39;00m:\n\u001b[1;32m-> 1483\u001b[0m     \u001b[38;5;28;01mraise\u001b[39;00m \u001b[38;5;167;01mValueError\u001b[39;00m(\u001b[38;5;124mf\u001b[39m\u001b[38;5;124m\"\u001b[39m\u001b[38;5;124mCan only index by location with a [\u001b[39m\u001b[38;5;132;01m{\u001b[39;00m\u001b[38;5;28mself\u001b[39m\u001b[38;5;241m.\u001b[39m_valid_types\u001b[38;5;132;01m}\u001b[39;00m\u001b[38;5;124m]\u001b[39m\u001b[38;5;124m\"\u001b[39m)\n",
      "\u001b[1;31mValueError\u001b[0m: Can only index by location with a [integer, integer slice (START point is INCLUDED, END point is EXCLUDED), listlike of integers, boolean array]",
      "\nThe above exception was the direct cause of the following exception:\n",
      "\u001b[1;31mValueError\u001b[0m                                Traceback (most recent call last)",
      "Cell \u001b[1;32mIn[14], line 1\u001b[0m\n\u001b[1;32m----> 1\u001b[0m \u001b[43mdf\u001b[49m\u001b[38;5;241;43m.\u001b[39;49m\u001b[43miloc\u001b[49m\u001b[43m[\u001b[49m\u001b[38;5;124;43m'\u001b[39;49m\u001b[38;5;124;43m비트코인\u001b[39;49m\u001b[38;5;124;43m'\u001b[39;49m\u001b[43m,\u001b[49m\u001b[38;5;124;43m'\u001b[39;49m\u001b[38;5;124;43m시가\u001b[39;49m\u001b[38;5;124;43m'\u001b[39;49m\u001b[43m]\u001b[49m\n",
      "File \u001b[1;32m~\\anaconda3\\envs\\test\\lib\\site-packages\\pandas\\core\\indexing.py:1067\u001b[0m, in \u001b[0;36m_LocationIndexer.__getitem__\u001b[1;34m(self, key)\u001b[0m\n\u001b[0;32m   1065\u001b[0m     \u001b[38;5;28;01mif\u001b[39;00m \u001b[38;5;28mself\u001b[39m\u001b[38;5;241m.\u001b[39m_is_scalar_access(key):\n\u001b[0;32m   1066\u001b[0m         \u001b[38;5;28;01mreturn\u001b[39;00m \u001b[38;5;28mself\u001b[39m\u001b[38;5;241m.\u001b[39mobj\u001b[38;5;241m.\u001b[39m_get_value(\u001b[38;5;241m*\u001b[39mkey, takeable\u001b[38;5;241m=\u001b[39m\u001b[38;5;28mself\u001b[39m\u001b[38;5;241m.\u001b[39m_takeable)\n\u001b[1;32m-> 1067\u001b[0m     \u001b[38;5;28;01mreturn\u001b[39;00m \u001b[38;5;28;43mself\u001b[39;49m\u001b[38;5;241;43m.\u001b[39;49m\u001b[43m_getitem_tuple\u001b[49m\u001b[43m(\u001b[49m\u001b[43mkey\u001b[49m\u001b[43m)\u001b[49m\n\u001b[0;32m   1068\u001b[0m \u001b[38;5;28;01melse\u001b[39;00m:\n\u001b[0;32m   1069\u001b[0m     \u001b[38;5;66;03m# we by definition only have the 0th axis\u001b[39;00m\n\u001b[0;32m   1070\u001b[0m     axis \u001b[38;5;241m=\u001b[39m \u001b[38;5;28mself\u001b[39m\u001b[38;5;241m.\u001b[39maxis \u001b[38;5;129;01mor\u001b[39;00m \u001b[38;5;241m0\u001b[39m\n",
      "File \u001b[1;32m~\\anaconda3\\envs\\test\\lib\\site-packages\\pandas\\core\\indexing.py:1563\u001b[0m, in \u001b[0;36m_iLocIndexer._getitem_tuple\u001b[1;34m(self, tup)\u001b[0m\n\u001b[0;32m   1561\u001b[0m \u001b[38;5;28;01mdef\u001b[39;00m \u001b[38;5;21m_getitem_tuple\u001b[39m(\u001b[38;5;28mself\u001b[39m, tup: \u001b[38;5;28mtuple\u001b[39m):\n\u001b[1;32m-> 1563\u001b[0m     tup \u001b[38;5;241m=\u001b[39m \u001b[38;5;28;43mself\u001b[39;49m\u001b[38;5;241;43m.\u001b[39;49m\u001b[43m_validate_tuple_indexer\u001b[49m\u001b[43m(\u001b[49m\u001b[43mtup\u001b[49m\u001b[43m)\u001b[49m\n\u001b[0;32m   1564\u001b[0m     \u001b[38;5;28;01mwith\u001b[39;00m suppress(IndexingError):\n\u001b[0;32m   1565\u001b[0m         \u001b[38;5;28;01mreturn\u001b[39;00m \u001b[38;5;28mself\u001b[39m\u001b[38;5;241m.\u001b[39m_getitem_lowerdim(tup)\n",
      "File \u001b[1;32m~\\anaconda3\\envs\\test\\lib\\site-packages\\pandas\\core\\indexing.py:875\u001b[0m, in \u001b[0;36m_LocationIndexer._validate_tuple_indexer\u001b[1;34m(self, key)\u001b[0m\n\u001b[0;32m    873\u001b[0m         \u001b[38;5;28mself\u001b[39m\u001b[38;5;241m.\u001b[39m_validate_key(k, i)\n\u001b[0;32m    874\u001b[0m     \u001b[38;5;28;01mexcept\u001b[39;00m \u001b[38;5;167;01mValueError\u001b[39;00m \u001b[38;5;28;01mas\u001b[39;00m err:\n\u001b[1;32m--> 875\u001b[0m         \u001b[38;5;28;01mraise\u001b[39;00m \u001b[38;5;167;01mValueError\u001b[39;00m(\n\u001b[0;32m    876\u001b[0m             \u001b[38;5;124m\"\u001b[39m\u001b[38;5;124mLocation based indexing can only have \u001b[39m\u001b[38;5;124m\"\u001b[39m\n\u001b[0;32m    877\u001b[0m             \u001b[38;5;124mf\u001b[39m\u001b[38;5;124m\"\u001b[39m\u001b[38;5;124m[\u001b[39m\u001b[38;5;132;01m{\u001b[39;00m\u001b[38;5;28mself\u001b[39m\u001b[38;5;241m.\u001b[39m_valid_types\u001b[38;5;132;01m}\u001b[39;00m\u001b[38;5;124m] types\u001b[39m\u001b[38;5;124m\"\u001b[39m\n\u001b[0;32m    878\u001b[0m         ) \u001b[38;5;28;01mfrom\u001b[39;00m \u001b[38;5;21;01merr\u001b[39;00m\n\u001b[0;32m    879\u001b[0m \u001b[38;5;28;01mreturn\u001b[39;00m key\n",
      "\u001b[1;31mValueError\u001b[0m: Location based indexing can only have [integer, integer slice (START point is INCLUDED, END point is EXCLUDED), listlike of integers, boolean array] types"
     ]
    }
   ],
   "source": [
    "df.iloc['비트코인','시가']"
   ]
  },
  {
   "cell_type": "code",
   "execution_count": 48,
   "id": "204fbe1b",
   "metadata": {},
   "outputs": [
    {
     "data": {
      "text/html": [
       "<div>\n",
       "<style scoped>\n",
       "    .dataframe tbody tr th:only-of-type {\n",
       "        vertical-align: middle;\n",
       "    }\n",
       "\n",
       "    .dataframe tbody tr th {\n",
       "        vertical-align: top;\n",
       "    }\n",
       "\n",
       "    .dataframe thead th {\n",
       "        text-align: right;\n",
       "    }\n",
       "</style>\n",
       "<table border=\"1\" class=\"dataframe\">\n",
       "  <thead>\n",
       "    <tr style=\"text-align: right;\">\n",
       "      <th></th>\n",
       "      <th>시가</th>\n",
       "      <th>고가</th>\n",
       "      <th>저가</th>\n",
       "      <th>종가</th>\n",
       "    </tr>\n",
       "  </thead>\n",
       "  <tbody>\n",
       "    <tr>\n",
       "      <th>비트코인</th>\n",
       "      <td>980</td>\n",
       "      <td>990</td>\n",
       "      <td>920</td>\n",
       "      <td>930</td>\n",
       "    </tr>\n",
       "    <tr>\n",
       "      <th>리플</th>\n",
       "      <td>200</td>\n",
       "      <td>300</td>\n",
       "      <td>180</td>\n",
       "      <td>180</td>\n",
       "    </tr>\n",
       "  </tbody>\n",
       "</table>\n",
       "</div>"
      ],
      "text/plain": [
       "       시가   고가   저가   종가\n",
       "비트코인  980  990  920  930\n",
       "리플    200  300  180  180"
      ]
     },
     "execution_count": 48,
     "metadata": {},
     "output_type": "execute_result"
    }
   ],
   "source": [
    "df.loc['비트코인','시가']\n",
    "df.loc[['비트코인','리플']]"
   ]
  },
  {
   "cell_type": "code",
   "execution_count": 50,
   "id": "9c12761d",
   "metadata": {},
   "outputs": [
    {
     "data": {
      "text/html": [
       "<div>\n",
       "<style scoped>\n",
       "    .dataframe tbody tr th:only-of-type {\n",
       "        vertical-align: middle;\n",
       "    }\n",
       "\n",
       "    .dataframe tbody tr th {\n",
       "        vertical-align: top;\n",
       "    }\n",
       "\n",
       "    .dataframe thead th {\n",
       "        text-align: right;\n",
       "    }\n",
       "</style>\n",
       "<table border=\"1\" class=\"dataframe\">\n",
       "  <thead>\n",
       "    <tr style=\"text-align: right;\">\n",
       "      <th></th>\n",
       "      <th>시가</th>\n",
       "      <th>고가</th>\n",
       "    </tr>\n",
       "  </thead>\n",
       "  <tbody>\n",
       "    <tr>\n",
       "      <th>비트코인</th>\n",
       "      <td>980</td>\n",
       "      <td>990</td>\n",
       "    </tr>\n",
       "    <tr>\n",
       "      <th>리플</th>\n",
       "      <td>200</td>\n",
       "      <td>300</td>\n",
       "    </tr>\n",
       "  </tbody>\n",
       "</table>\n",
       "</div>"
      ],
      "text/plain": [
       "       시가   고가\n",
       "비트코인  980  990\n",
       "리플    200  300"
      ]
     },
     "execution_count": 50,
     "metadata": {},
     "output_type": "execute_result"
    }
   ],
   "source": [
    "df.iloc[[0,1],[0,1]]"
   ]
  },
  {
   "cell_type": "code",
   "execution_count": 17,
   "id": "fa385142",
   "metadata": {},
   "outputs": [
    {
     "data": {
      "text/html": [
       "<div>\n",
       "<style scoped>\n",
       "    .dataframe tbody tr th:only-of-type {\n",
       "        vertical-align: middle;\n",
       "    }\n",
       "\n",
       "    .dataframe tbody tr th {\n",
       "        vertical-align: top;\n",
       "    }\n",
       "\n",
       "    .dataframe thead th {\n",
       "        text-align: right;\n",
       "    }\n",
       "</style>\n",
       "<table border=\"1\" class=\"dataframe\">\n",
       "  <thead>\n",
       "    <tr style=\"text-align: right;\">\n",
       "      <th></th>\n",
       "      <th>시가</th>\n",
       "      <th>저가</th>\n",
       "    </tr>\n",
       "  </thead>\n",
       "  <tbody>\n",
       "    <tr>\n",
       "      <th>비트코인</th>\n",
       "      <td>980</td>\n",
       "      <td>920</td>\n",
       "    </tr>\n",
       "    <tr>\n",
       "      <th>비트코인</th>\n",
       "      <td>980</td>\n",
       "      <td>920</td>\n",
       "    </tr>\n",
       "  </tbody>\n",
       "</table>\n",
       "</div>"
      ],
      "text/plain": [
       "       시가   저가\n",
       "비트코인  980  920\n",
       "비트코인  980  920"
      ]
     },
     "execution_count": 17,
     "metadata": {},
     "output_type": "execute_result"
    }
   ],
   "source": [
    "df.iloc[[0,0],[0,2]]"
   ]
  },
  {
   "cell_type": "code",
   "execution_count": 18,
   "id": "68aea7fb",
   "metadata": {},
   "outputs": [
    {
     "data": {
      "text/html": [
       "<div>\n",
       "<style scoped>\n",
       "    .dataframe tbody tr th:only-of-type {\n",
       "        vertical-align: middle;\n",
       "    }\n",
       "\n",
       "    .dataframe tbody tr th {\n",
       "        vertical-align: top;\n",
       "    }\n",
       "\n",
       "    .dataframe thead th {\n",
       "        text-align: right;\n",
       "    }\n",
       "</style>\n",
       "<table border=\"1\" class=\"dataframe\">\n",
       "  <thead>\n",
       "    <tr style=\"text-align: right;\">\n",
       "      <th></th>\n",
       "      <th>시가</th>\n",
       "      <th>저가</th>\n",
       "    </tr>\n",
       "  </thead>\n",
       "  <tbody>\n",
       "    <tr>\n",
       "      <th>비트코인</th>\n",
       "      <td>980</td>\n",
       "      <td>920</td>\n",
       "    </tr>\n",
       "    <tr>\n",
       "      <th>리플</th>\n",
       "      <td>200</td>\n",
       "      <td>180</td>\n",
       "    </tr>\n",
       "  </tbody>\n",
       "</table>\n",
       "</div>"
      ],
      "text/plain": [
       "       시가   저가\n",
       "비트코인  980  920\n",
       "리플    200  180"
      ]
     },
     "execution_count": 18,
     "metadata": {},
     "output_type": "execute_result"
    }
   ],
   "source": [
    "df.iloc[[0,1],[0,2]]"
   ]
  },
  {
   "cell_type": "code",
   "execution_count": 19,
   "id": "e516c783",
   "metadata": {},
   "outputs": [
    {
     "data": {
      "text/html": [
       "<div>\n",
       "<style scoped>\n",
       "    .dataframe tbody tr th:only-of-type {\n",
       "        vertical-align: middle;\n",
       "    }\n",
       "\n",
       "    .dataframe tbody tr th {\n",
       "        vertical-align: top;\n",
       "    }\n",
       "\n",
       "    .dataframe thead th {\n",
       "        text-align: right;\n",
       "    }\n",
       "</style>\n",
       "<table border=\"1\" class=\"dataframe\">\n",
       "  <thead>\n",
       "    <tr style=\"text-align: right;\">\n",
       "      <th></th>\n",
       "      <th>시가</th>\n",
       "      <th>고가</th>\n",
       "      <th>저가</th>\n",
       "      <th>종가</th>\n",
       "    </tr>\n",
       "  </thead>\n",
       "  <tbody>\n",
       "    <tr>\n",
       "      <th>비트코인</th>\n",
       "      <td>980</td>\n",
       "      <td>990</td>\n",
       "      <td>920</td>\n",
       "      <td>930</td>\n",
       "    </tr>\n",
       "    <tr>\n",
       "      <th>리플</th>\n",
       "      <td>200</td>\n",
       "      <td>300</td>\n",
       "      <td>180</td>\n",
       "      <td>180</td>\n",
       "    </tr>\n",
       "    <tr>\n",
       "      <th>이더리움</th>\n",
       "      <td>300</td>\n",
       "      <td>500</td>\n",
       "      <td>300</td>\n",
       "      <td>400</td>\n",
       "    </tr>\n",
       "  </tbody>\n",
       "</table>\n",
       "</div>"
      ],
      "text/plain": [
       "       시가   고가   저가   종가\n",
       "비트코인  980  990  920  930\n",
       "리플    200  300  180  180\n",
       "이더리움  300  500  300  400"
      ]
     },
     "execution_count": 19,
     "metadata": {},
     "output_type": "execute_result"
    }
   ],
   "source": [
    "df"
   ]
  },
  {
   "cell_type": "code",
   "execution_count": 20,
   "id": "a094d2b9",
   "metadata": {},
   "outputs": [
    {
     "data": {
      "text/html": [
       "<div>\n",
       "<style scoped>\n",
       "    .dataframe tbody tr th:only-of-type {\n",
       "        vertical-align: middle;\n",
       "    }\n",
       "\n",
       "    .dataframe tbody tr th {\n",
       "        vertical-align: top;\n",
       "    }\n",
       "\n",
       "    .dataframe thead th {\n",
       "        text-align: right;\n",
       "    }\n",
       "</style>\n",
       "<table border=\"1\" class=\"dataframe\">\n",
       "  <thead>\n",
       "    <tr style=\"text-align: right;\">\n",
       "      <th></th>\n",
       "      <th>저가</th>\n",
       "      <th>종가</th>\n",
       "    </tr>\n",
       "  </thead>\n",
       "  <tbody>\n",
       "    <tr>\n",
       "      <th>비트코인</th>\n",
       "      <td>920</td>\n",
       "      <td>930</td>\n",
       "    </tr>\n",
       "    <tr>\n",
       "      <th>리플</th>\n",
       "      <td>180</td>\n",
       "      <td>180</td>\n",
       "    </tr>\n",
       "    <tr>\n",
       "      <th>이더리움</th>\n",
       "      <td>300</td>\n",
       "      <td>400</td>\n",
       "    </tr>\n",
       "  </tbody>\n",
       "</table>\n",
       "</div>"
      ],
      "text/plain": [
       "       저가   종가\n",
       "비트코인  920  930\n",
       "리플    180  180\n",
       "이더리움  300  400"
      ]
     },
     "execution_count": 20,
     "metadata": {},
     "output_type": "execute_result"
    }
   ],
   "source": [
    "df.iloc[[0,1,2],[2,3]]"
   ]
  },
  {
   "cell_type": "code",
   "execution_count": 21,
   "id": "39be5084",
   "metadata": {},
   "outputs": [
    {
     "ename": "SyntaxError",
     "evalue": "invalid syntax (4141318570.py, line 1)",
     "output_type": "error",
     "traceback": [
      "\u001b[1;36m  Cell \u001b[1;32mIn[21], line 1\u001b[1;36m\u001b[0m\n\u001b[1;33m    df.iloc[[0:2],[0,1]]\u001b[0m\n\u001b[1;37m              ^\u001b[0m\n\u001b[1;31mSyntaxError\u001b[0m\u001b[1;31m:\u001b[0m invalid syntax\n"
     ]
    }
   ],
   "source": [
    "df.iloc[[0:2],[0,1]]"
   ]
  },
  {
   "cell_type": "code",
   "execution_count": 22,
   "id": "527db945",
   "metadata": {},
   "outputs": [
    {
     "data": {
      "text/html": [
       "<div>\n",
       "<style scoped>\n",
       "    .dataframe tbody tr th:only-of-type {\n",
       "        vertical-align: middle;\n",
       "    }\n",
       "\n",
       "    .dataframe tbody tr th {\n",
       "        vertical-align: top;\n",
       "    }\n",
       "\n",
       "    .dataframe thead th {\n",
       "        text-align: right;\n",
       "    }\n",
       "</style>\n",
       "<table border=\"1\" class=\"dataframe\">\n",
       "  <thead>\n",
       "    <tr style=\"text-align: right;\">\n",
       "      <th></th>\n",
       "      <th>시가</th>\n",
       "      <th>고가</th>\n",
       "    </tr>\n",
       "  </thead>\n",
       "  <tbody>\n",
       "    <tr>\n",
       "      <th>비트코인</th>\n",
       "      <td>980</td>\n",
       "      <td>990</td>\n",
       "    </tr>\n",
       "    <tr>\n",
       "      <th>리플</th>\n",
       "      <td>200</td>\n",
       "      <td>300</td>\n",
       "    </tr>\n",
       "  </tbody>\n",
       "</table>\n",
       "</div>"
      ],
      "text/plain": [
       "       시가   고가\n",
       "비트코인  980  990\n",
       "리플    200  300"
      ]
     },
     "execution_count": 22,
     "metadata": {},
     "output_type": "execute_result"
    }
   ],
   "source": [
    "df.iloc[0:2,[0,1]]"
   ]
  },
  {
   "cell_type": "code",
   "execution_count": 5,
   "id": "438813a2",
   "metadata": {},
   "outputs": [],
   "source": [
    "import pyupbit"
   ]
  },
  {
   "cell_type": "code",
   "execution_count": 7,
   "id": "904967d7",
   "metadata": {},
   "outputs": [
    {
     "name": "stdout",
     "output_type": "stream",
     "text": [
      "Requirement already satisfied: pyupbit in c:\\users\\mark8\\anaconda3\\envs\\test\\lib\\site-packages (0.2.33)\n",
      "Requirement already satisfied: websockets in c:\\users\\mark8\\anaconda3\\envs\\test\\lib\\site-packages (from pyupbit) (10.4)\n",
      "Requirement already satisfied: requests in c:\\users\\mark8\\anaconda3\\envs\\test\\lib\\site-packages (from pyupbit) (2.28.1)\n",
      "Requirement already satisfied: pandas in c:\\users\\mark8\\anaconda3\\envs\\test\\lib\\site-packages (from pyupbit) (1.5.2)\n",
      "Requirement already satisfied: pyjwt>=2.0.0 in c:\\users\\mark8\\anaconda3\\envs\\test\\lib\\site-packages (from pyupbit) (2.6.0)\n",
      "Requirement already satisfied: numpy>=1.21.0 in c:\\users\\mark8\\anaconda3\\envs\\test\\lib\\site-packages (from pandas->pyupbit) (1.21.5)\n",
      "Requirement already satisfied: python-dateutil>=2.8.1 in c:\\users\\mark8\\anaconda3\\envs\\test\\lib\\site-packages (from pandas->pyupbit) (2.8.2)\n",
      "Requirement already satisfied: pytz>=2020.1 in c:\\users\\mark8\\anaconda3\\envs\\test\\lib\\site-packages (from pandas->pyupbit) (2022.7)\n",
      "Requirement already satisfied: charset-normalizer<3,>=2 in c:\\users\\mark8\\anaconda3\\envs\\test\\lib\\site-packages (from requests->pyupbit) (2.0.4)\n",
      "Requirement already satisfied: urllib3<1.27,>=1.21.1 in c:\\users\\mark8\\anaconda3\\envs\\test\\lib\\site-packages (from requests->pyupbit) (1.26.14)\n",
      "Requirement already satisfied: certifi>=2017.4.17 in c:\\users\\mark8\\anaconda3\\envs\\test\\lib\\site-packages (from requests->pyupbit) (2022.12.7)\n",
      "Requirement already satisfied: idna<4,>=2.5 in c:\\users\\mark8\\anaconda3\\envs\\test\\lib\\site-packages (from requests->pyupbit) (3.4)\n",
      "Requirement already satisfied: six>=1.5 in c:\\users\\mark8\\anaconda3\\envs\\test\\lib\\site-packages (from python-dateutil>=2.8.1->pandas->pyupbit) (1.16.0)\n",
      "Note: you may need to restart the kernel to use updated packages.\n"
     ]
    }
   ],
   "source": [
    "pip install pyupbit"
   ]
  },
  {
   "cell_type": "code",
   "execution_count": 11,
   "id": "ba61df8d",
   "metadata": {},
   "outputs": [],
   "source": [
    "import pyupbit"
   ]
  },
  {
   "cell_type": "code",
   "execution_count": 12,
   "id": "515bfbbc",
   "metadata": {},
   "outputs": [
    {
     "ename": "AttributeError",
     "evalue": "module 'pyupbit' has no attribute 'get_ohicv'",
     "output_type": "error",
     "traceback": [
      "\u001b[1;31m---------------------------------------------------------------------------\u001b[0m",
      "\u001b[1;31mAttributeError\u001b[0m                            Traceback (most recent call last)",
      "Cell \u001b[1;32mIn[12], line 1\u001b[0m\n\u001b[1;32m----> 1\u001b[0m df \u001b[38;5;241m=\u001b[39m \u001b[43mpyupbit\u001b[49m\u001b[38;5;241;43m.\u001b[39;49m\u001b[43mget_ohicv\u001b[49m[\u001b[38;5;124m'\u001b[39m\u001b[38;5;124mKRW-BTC\u001b[39m\u001b[38;5;124m'\u001b[39m]\n",
      "\u001b[1;31mAttributeError\u001b[0m: module 'pyupbit' has no attribute 'get_ohicv'"
     ]
    }
   ],
   "source": [
    "df = pyupbit.get_ohicv['KRW-BTC']"
   ]
  },
  {
   "cell_type": "code",
   "execution_count": 4,
   "id": "20ab99bf",
   "metadata": {},
   "outputs": [
    {
     "ename": "TypeError",
     "evalue": "'function' object is not subscriptable",
     "output_type": "error",
     "traceback": [
      "\u001b[1;31m---------------------------------------------------------------------------\u001b[0m",
      "\u001b[1;31mTypeError\u001b[0m                                 Traceback (most recent call last)",
      "Cell \u001b[1;32mIn[4], line 1\u001b[0m\n\u001b[1;32m----> 1\u001b[0m df \u001b[38;5;241m=\u001b[39m \u001b[43mpyupbit\u001b[49m\u001b[38;5;241;43m.\u001b[39;49m\u001b[43mget_ohlcv\u001b[49m\u001b[43m[\u001b[49m\u001b[38;5;124;43m'\u001b[39;49m\u001b[38;5;124;43mKRW-BTC\u001b[39;49m\u001b[38;5;124;43m'\u001b[39;49m\u001b[43m]\u001b[49m\n",
      "\u001b[1;31mTypeError\u001b[0m: 'function' object is not subscriptable"
     ]
    }
   ],
   "source": [
    "df = pyupbit.get_ohlcv['KRW-BTC']"
   ]
  },
  {
   "cell_type": "code",
   "execution_count": 4,
   "id": "060ef9cd",
   "metadata": {},
   "outputs": [],
   "source": [
    "df = pyupbit.get_ohlcv('KRW-BTC')"
   ]
  },
  {
   "cell_type": "code",
   "execution_count": 30,
   "id": "f6ff6bf7",
   "metadata": {},
   "outputs": [],
   "source": [
    "df['range'] = df['high']-df['low']"
   ]
  },
  {
   "cell_type": "code",
   "execution_count": 31,
   "id": "8cc336bd",
   "metadata": {},
   "outputs": [
    {
     "data": {
      "text/html": [
       "<div>\n",
       "<style scoped>\n",
       "    .dataframe tbody tr th:only-of-type {\n",
       "        vertical-align: middle;\n",
       "    }\n",
       "\n",
       "    .dataframe tbody tr th {\n",
       "        vertical-align: top;\n",
       "    }\n",
       "\n",
       "    .dataframe thead th {\n",
       "        text-align: right;\n",
       "    }\n",
       "</style>\n",
       "<table border=\"1\" class=\"dataframe\">\n",
       "  <thead>\n",
       "    <tr style=\"text-align: right;\">\n",
       "      <th></th>\n",
       "      <th>open</th>\n",
       "      <th>high</th>\n",
       "      <th>low</th>\n",
       "      <th>close</th>\n",
       "      <th>volume</th>\n",
       "      <th>value</th>\n",
       "      <th>range</th>\n",
       "    </tr>\n",
       "  </thead>\n",
       "  <tbody>\n",
       "    <tr>\n",
       "      <th>2022-07-30 09:00:00</th>\n",
       "      <td>31402000.0</td>\n",
       "      <td>32500000.0</td>\n",
       "      <td>31171000.0</td>\n",
       "      <td>31281000.0</td>\n",
       "      <td>7360.059756</td>\n",
       "      <td>2.340095e+11</td>\n",
       "      <td>1329000.0</td>\n",
       "    </tr>\n",
       "    <tr>\n",
       "      <th>2022-07-31 09:00:00</th>\n",
       "      <td>31270000.0</td>\n",
       "      <td>31775000.0</td>\n",
       "      <td>30714000.0</td>\n",
       "      <td>30751000.0</td>\n",
       "      <td>7085.408944</td>\n",
       "      <td>2.217467e+11</td>\n",
       "      <td>1061000.0</td>\n",
       "    </tr>\n",
       "    <tr>\n",
       "      <th>2022-08-01 09:00:00</th>\n",
       "      <td>30750000.0</td>\n",
       "      <td>31099000.0</td>\n",
       "      <td>30392000.0</td>\n",
       "      <td>30851000.0</td>\n",
       "      <td>6632.833037</td>\n",
       "      <td>2.039703e+11</td>\n",
       "      <td>707000.0</td>\n",
       "    </tr>\n",
       "    <tr>\n",
       "      <th>2022-08-02 09:00:00</th>\n",
       "      <td>30851000.0</td>\n",
       "      <td>31141000.0</td>\n",
       "      <td>30246000.0</td>\n",
       "      <td>30754000.0</td>\n",
       "      <td>7603.475830</td>\n",
       "      <td>2.326983e+11</td>\n",
       "      <td>895000.0</td>\n",
       "    </tr>\n",
       "    <tr>\n",
       "      <th>2022-08-03 09:00:00</th>\n",
       "      <td>30754000.0</td>\n",
       "      <td>31467000.0</td>\n",
       "      <td>30509000.0</td>\n",
       "      <td>30708000.0</td>\n",
       "      <td>6104.358089</td>\n",
       "      <td>1.887195e+11</td>\n",
       "      <td>958000.0</td>\n",
       "    </tr>\n",
       "    <tr>\n",
       "      <th>...</th>\n",
       "      <td>...</td>\n",
       "      <td>...</td>\n",
       "      <td>...</td>\n",
       "      <td>...</td>\n",
       "      <td>...</td>\n",
       "      <td>...</td>\n",
       "      <td>...</td>\n",
       "    </tr>\n",
       "    <tr>\n",
       "      <th>2023-02-10 09:00:00</th>\n",
       "      <td>28193000.0</td>\n",
       "      <td>28350000.0</td>\n",
       "      <td>27916000.0</td>\n",
       "      <td>28120000.0</td>\n",
       "      <td>5826.760545</td>\n",
       "      <td>1.638027e+11</td>\n",
       "      <td>434000.0</td>\n",
       "    </tr>\n",
       "    <tr>\n",
       "      <th>2023-02-11 09:00:00</th>\n",
       "      <td>28145000.0</td>\n",
       "      <td>28379000.0</td>\n",
       "      <td>28057000.0</td>\n",
       "      <td>28377000.0</td>\n",
       "      <td>4616.926761</td>\n",
       "      <td>1.302070e+11</td>\n",
       "      <td>322000.0</td>\n",
       "    </tr>\n",
       "    <tr>\n",
       "      <th>2023-02-12 09:00:00</th>\n",
       "      <td>28360000.0</td>\n",
       "      <td>28490000.0</td>\n",
       "      <td>28141000.0</td>\n",
       "      <td>28263000.0</td>\n",
       "      <td>3940.503342</td>\n",
       "      <td>1.115020e+11</td>\n",
       "      <td>349000.0</td>\n",
       "    </tr>\n",
       "    <tr>\n",
       "      <th>2023-02-13 09:00:00</th>\n",
       "      <td>28264000.0</td>\n",
       "      <td>28379000.0</td>\n",
       "      <td>27910000.0</td>\n",
       "      <td>28309000.0</td>\n",
       "      <td>5446.985890</td>\n",
       "      <td>1.533389e+11</td>\n",
       "      <td>469000.0</td>\n",
       "    </tr>\n",
       "    <tr>\n",
       "      <th>2023-02-14 09:00:00</th>\n",
       "      <td>28334000.0</td>\n",
       "      <td>28344000.0</td>\n",
       "      <td>28055000.0</td>\n",
       "      <td>28240000.0</td>\n",
       "      <td>3050.544758</td>\n",
       "      <td>8.592750e+10</td>\n",
       "      <td>289000.0</td>\n",
       "    </tr>\n",
       "  </tbody>\n",
       "</table>\n",
       "<p>200 rows × 7 columns</p>\n",
       "</div>"
      ],
      "text/plain": [
       "                           open        high         low       close  \\\n",
       "2022-07-30 09:00:00  31402000.0  32500000.0  31171000.0  31281000.0   \n",
       "2022-07-31 09:00:00  31270000.0  31775000.0  30714000.0  30751000.0   \n",
       "2022-08-01 09:00:00  30750000.0  31099000.0  30392000.0  30851000.0   \n",
       "2022-08-02 09:00:00  30851000.0  31141000.0  30246000.0  30754000.0   \n",
       "2022-08-03 09:00:00  30754000.0  31467000.0  30509000.0  30708000.0   \n",
       "...                         ...         ...         ...         ...   \n",
       "2023-02-10 09:00:00  28193000.0  28350000.0  27916000.0  28120000.0   \n",
       "2023-02-11 09:00:00  28145000.0  28379000.0  28057000.0  28377000.0   \n",
       "2023-02-12 09:00:00  28360000.0  28490000.0  28141000.0  28263000.0   \n",
       "2023-02-13 09:00:00  28264000.0  28379000.0  27910000.0  28309000.0   \n",
       "2023-02-14 09:00:00  28334000.0  28344000.0  28055000.0  28240000.0   \n",
       "\n",
       "                          volume         value      range  \n",
       "2022-07-30 09:00:00  7360.059756  2.340095e+11  1329000.0  \n",
       "2022-07-31 09:00:00  7085.408944  2.217467e+11  1061000.0  \n",
       "2022-08-01 09:00:00  6632.833037  2.039703e+11   707000.0  \n",
       "2022-08-02 09:00:00  7603.475830  2.326983e+11   895000.0  \n",
       "2022-08-03 09:00:00  6104.358089  1.887195e+11   958000.0  \n",
       "...                          ...           ...        ...  \n",
       "2023-02-10 09:00:00  5826.760545  1.638027e+11   434000.0  \n",
       "2023-02-11 09:00:00  4616.926761  1.302070e+11   322000.0  \n",
       "2023-02-12 09:00:00  3940.503342  1.115020e+11   349000.0  \n",
       "2023-02-13 09:00:00  5446.985890  1.533389e+11   469000.0  \n",
       "2023-02-14 09:00:00  3050.544758  8.592750e+10   289000.0  \n",
       "\n",
       "[200 rows x 7 columns]"
      ]
     },
     "execution_count": 31,
     "metadata": {},
     "output_type": "execute_result"
    }
   ],
   "source": [
    "df"
   ]
  },
  {
   "cell_type": "code",
   "execution_count": 32,
   "id": "906b955a",
   "metadata": {},
   "outputs": [
    {
     "ename": "TypeError",
     "evalue": "'>' not supported between instances of 'str' and 'int'",
     "output_type": "error",
     "traceback": [
      "\u001b[1;31m---------------------------------------------------------------------------\u001b[0m",
      "\u001b[1;31mTypeError\u001b[0m                                 Traceback (most recent call last)",
      "Cell \u001b[1;32mIn[32], line 1\u001b[0m\n\u001b[1;32m----> 1\u001b[0m df[\u001b[38;5;124;43m'\u001b[39;49m\u001b[38;5;124;43mvolume\u001b[39;49m\u001b[38;5;124;43m'\u001b[39;49m\u001b[38;5;241;43m>\u001b[39;49m\u001b[38;5;241;43m7000\u001b[39;49m]\n",
      "\u001b[1;31mTypeError\u001b[0m: '>' not supported between instances of 'str' and 'int'"
     ]
    }
   ],
   "source": [
    "df['volume'>7000]"
   ]
  },
  {
   "cell_type": "code",
   "execution_count": 33,
   "id": "c0564001",
   "metadata": {},
   "outputs": [
    {
     "data": {
      "text/html": [
       "<div>\n",
       "<style scoped>\n",
       "    .dataframe tbody tr th:only-of-type {\n",
       "        vertical-align: middle;\n",
       "    }\n",
       "\n",
       "    .dataframe tbody tr th {\n",
       "        vertical-align: top;\n",
       "    }\n",
       "\n",
       "    .dataframe thead th {\n",
       "        text-align: right;\n",
       "    }\n",
       "</style>\n",
       "<table border=\"1\" class=\"dataframe\">\n",
       "  <thead>\n",
       "    <tr style=\"text-align: right;\">\n",
       "      <th></th>\n",
       "      <th>open</th>\n",
       "      <th>high</th>\n",
       "      <th>low</th>\n",
       "      <th>close</th>\n",
       "      <th>volume</th>\n",
       "      <th>value</th>\n",
       "      <th>range</th>\n",
       "    </tr>\n",
       "  </thead>\n",
       "  <tbody>\n",
       "    <tr>\n",
       "      <th>2022-07-30 09:00:00</th>\n",
       "      <td>31402000.0</td>\n",
       "      <td>32500000.0</td>\n",
       "      <td>31171000.0</td>\n",
       "      <td>31281000.0</td>\n",
       "      <td>7360.059756</td>\n",
       "      <td>2.340095e+11</td>\n",
       "      <td>1329000.0</td>\n",
       "    </tr>\n",
       "    <tr>\n",
       "      <th>2022-07-31 09:00:00</th>\n",
       "      <td>31270000.0</td>\n",
       "      <td>31775000.0</td>\n",
       "      <td>30714000.0</td>\n",
       "      <td>30751000.0</td>\n",
       "      <td>7085.408944</td>\n",
       "      <td>2.217467e+11</td>\n",
       "      <td>1061000.0</td>\n",
       "    </tr>\n",
       "    <tr>\n",
       "      <th>2022-08-02 09:00:00</th>\n",
       "      <td>30851000.0</td>\n",
       "      <td>31141000.0</td>\n",
       "      <td>30246000.0</td>\n",
       "      <td>30754000.0</td>\n",
       "      <td>7603.475830</td>\n",
       "      <td>2.326983e+11</td>\n",
       "      <td>895000.0</td>\n",
       "    </tr>\n",
       "    <tr>\n",
       "      <th>2022-08-10 09:00:00</th>\n",
       "      <td>30997000.0</td>\n",
       "      <td>32073000.0</td>\n",
       "      <td>30522000.0</td>\n",
       "      <td>31583000.0</td>\n",
       "      <td>8806.557975</td>\n",
       "      <td>2.763075e+11</td>\n",
       "      <td>1551000.0</td>\n",
       "    </tr>\n",
       "    <tr>\n",
       "      <th>2022-08-11 09:00:00</th>\n",
       "      <td>31583000.0</td>\n",
       "      <td>32879000.0</td>\n",
       "      <td>31581000.0</td>\n",
       "      <td>31770000.0</td>\n",
       "      <td>9244.456851</td>\n",
       "      <td>2.988636e+11</td>\n",
       "      <td>1298000.0</td>\n",
       "    </tr>\n",
       "    <tr>\n",
       "      <th>2022-08-12 09:00:00</th>\n",
       "      <td>31770000.0</td>\n",
       "      <td>32450000.0</td>\n",
       "      <td>31590000.0</td>\n",
       "      <td>32368000.0</td>\n",
       "      <td>8387.043922</td>\n",
       "      <td>2.675063e+11</td>\n",
       "      <td>860000.0</td>\n",
       "    </tr>\n",
       "    <tr>\n",
       "      <th>2022-08-19 09:00:00</th>\n",
       "      <td>31720000.0</td>\n",
       "      <td>31739000.0</td>\n",
       "      <td>28612000.0</td>\n",
       "      <td>28678000.0</td>\n",
       "      <td>11796.619470</td>\n",
       "      <td>3.547141e+11</td>\n",
       "      <td>3127000.0</td>\n",
       "    </tr>\n",
       "    <tr>\n",
       "      <th>2022-08-26 09:00:00</th>\n",
       "      <td>29299000.0</td>\n",
       "      <td>29655000.0</td>\n",
       "      <td>27790000.0</td>\n",
       "      <td>27969000.0</td>\n",
       "      <td>7729.246705</td>\n",
       "      <td>2.229064e+11</td>\n",
       "      <td>1865000.0</td>\n",
       "    </tr>\n",
       "    <tr>\n",
       "      <th>2022-09-06 09:00:00</th>\n",
       "      <td>27309000.0</td>\n",
       "      <td>27690000.0</td>\n",
       "      <td>26203000.0</td>\n",
       "      <td>26361000.0</td>\n",
       "      <td>8145.676585</td>\n",
       "      <td>2.206530e+11</td>\n",
       "      <td>1487000.0</td>\n",
       "    </tr>\n",
       "    <tr>\n",
       "      <th>2022-09-09 09:00:00</th>\n",
       "      <td>26887000.0</td>\n",
       "      <td>29616000.0</td>\n",
       "      <td>26864000.0</td>\n",
       "      <td>29350000.0</td>\n",
       "      <td>9802.804138</td>\n",
       "      <td>2.799645e+11</td>\n",
       "      <td>2752000.0</td>\n",
       "    </tr>\n",
       "    <tr>\n",
       "      <th>2022-09-12 09:00:00</th>\n",
       "      <td>30028000.0</td>\n",
       "      <td>30851000.0</td>\n",
       "      <td>29780000.0</td>\n",
       "      <td>30656000.0</td>\n",
       "      <td>7642.566033</td>\n",
       "      <td>2.323437e+11</td>\n",
       "      <td>1071000.0</td>\n",
       "    </tr>\n",
       "    <tr>\n",
       "      <th>2022-09-13 09:00:00</th>\n",
       "      <td>30684000.0</td>\n",
       "      <td>31300000.0</td>\n",
       "      <td>28200000.0</td>\n",
       "      <td>28371000.0</td>\n",
       "      <td>15229.115809</td>\n",
       "      <td>4.518100e+11</td>\n",
       "      <td>3100000.0</td>\n",
       "    </tr>\n",
       "    <tr>\n",
       "      <th>2022-09-14 09:00:00</th>\n",
       "      <td>28371000.0</td>\n",
       "      <td>28813000.0</td>\n",
       "      <td>27688000.0</td>\n",
       "      <td>28344000.0</td>\n",
       "      <td>8716.782685</td>\n",
       "      <td>2.472710e+11</td>\n",
       "      <td>1125000.0</td>\n",
       "    </tr>\n",
       "    <tr>\n",
       "      <th>2022-09-19 09:00:00</th>\n",
       "      <td>27490000.0</td>\n",
       "      <td>27732000.0</td>\n",
       "      <td>26216000.0</td>\n",
       "      <td>27566000.0</td>\n",
       "      <td>9719.594110</td>\n",
       "      <td>2.610364e+11</td>\n",
       "      <td>1516000.0</td>\n",
       "    </tr>\n",
       "    <tr>\n",
       "      <th>2022-09-21 09:00:00</th>\n",
       "      <td>26757000.0</td>\n",
       "      <td>27974000.0</td>\n",
       "      <td>26199000.0</td>\n",
       "      <td>26538000.0</td>\n",
       "      <td>9250.118767</td>\n",
       "      <td>2.494126e+11</td>\n",
       "      <td>1775000.0</td>\n",
       "    </tr>\n",
       "    <tr>\n",
       "      <th>2022-09-23 09:00:00</th>\n",
       "      <td>27571000.0</td>\n",
       "      <td>27788000.0</td>\n",
       "      <td>26709000.0</td>\n",
       "      <td>27594000.0</td>\n",
       "      <td>7237.642087</td>\n",
       "      <td>1.975800e+11</td>\n",
       "      <td>1079000.0</td>\n",
       "    </tr>\n",
       "    <tr>\n",
       "      <th>2022-09-27 09:00:00</th>\n",
       "      <td>27604000.0</td>\n",
       "      <td>29112000.0</td>\n",
       "      <td>27130000.0</td>\n",
       "      <td>27501000.0</td>\n",
       "      <td>11326.095177</td>\n",
       "      <td>3.191365e+11</td>\n",
       "      <td>1982000.0</td>\n",
       "    </tr>\n",
       "    <tr>\n",
       "      <th>2022-09-28 09:00:00</th>\n",
       "      <td>27495000.0</td>\n",
       "      <td>28421000.0</td>\n",
       "      <td>26800000.0</td>\n",
       "      <td>27952000.0</td>\n",
       "      <td>7772.212439</td>\n",
       "      <td>2.141910e+11</td>\n",
       "      <td>1621000.0</td>\n",
       "    </tr>\n",
       "    <tr>\n",
       "      <th>2022-10-13 09:00:00</th>\n",
       "      <td>27460000.0</td>\n",
       "      <td>28063000.0</td>\n",
       "      <td>26400000.0</td>\n",
       "      <td>27810000.0</td>\n",
       "      <td>8203.958395</td>\n",
       "      <td>2.222777e+11</td>\n",
       "      <td>1663000.0</td>\n",
       "    </tr>\n",
       "    <tr>\n",
       "      <th>2022-11-02 09:00:00</th>\n",
       "      <td>28753000.0</td>\n",
       "      <td>29299000.0</td>\n",
       "      <td>28500000.0</td>\n",
       "      <td>28632000.0</td>\n",
       "      <td>7547.861369</td>\n",
       "      <td>2.176693e+11</td>\n",
       "      <td>799000.0</td>\n",
       "    </tr>\n",
       "    <tr>\n",
       "      <th>2022-11-04 09:00:00</th>\n",
       "      <td>28685000.0</td>\n",
       "      <td>29679000.0</td>\n",
       "      <td>28683000.0</td>\n",
       "      <td>29388000.0</td>\n",
       "      <td>7964.117852</td>\n",
       "      <td>2.317181e+11</td>\n",
       "      <td>996000.0</td>\n",
       "    </tr>\n",
       "    <tr>\n",
       "      <th>2022-11-08 09:00:00</th>\n",
       "      <td>28945000.0</td>\n",
       "      <td>29020000.0</td>\n",
       "      <td>25842000.0</td>\n",
       "      <td>26650000.0</td>\n",
       "      <td>21680.492361</td>\n",
       "      <td>5.947722e+11</td>\n",
       "      <td>3178000.0</td>\n",
       "    </tr>\n",
       "    <tr>\n",
       "      <th>2022-11-09 09:00:00</th>\n",
       "      <td>26652000.0</td>\n",
       "      <td>26832000.0</td>\n",
       "      <td>22564000.0</td>\n",
       "      <td>22919000.0</td>\n",
       "      <td>22296.852651</td>\n",
       "      <td>5.527159e+11</td>\n",
       "      <td>4268000.0</td>\n",
       "    </tr>\n",
       "    <tr>\n",
       "      <th>2022-11-10 09:00:00</th>\n",
       "      <td>22924000.0</td>\n",
       "      <td>25120000.0</td>\n",
       "      <td>22840000.0</td>\n",
       "      <td>24779000.0</td>\n",
       "      <td>20710.252778</td>\n",
       "      <td>4.980172e+11</td>\n",
       "      <td>2280000.0</td>\n",
       "    </tr>\n",
       "    <tr>\n",
       "      <th>2022-11-11 09:00:00</th>\n",
       "      <td>24779000.0</td>\n",
       "      <td>24928000.0</td>\n",
       "      <td>23000000.0</td>\n",
       "      <td>23656000.0</td>\n",
       "      <td>12736.126084</td>\n",
       "      <td>3.037494e+11</td>\n",
       "      <td>1928000.0</td>\n",
       "    </tr>\n",
       "    <tr>\n",
       "      <th>2022-11-13 09:00:00</th>\n",
       "      <td>23380000.0</td>\n",
       "      <td>23515000.0</td>\n",
       "      <td>22500000.0</td>\n",
       "      <td>22510000.0</td>\n",
       "      <td>7169.951279</td>\n",
       "      <td>1.645994e+11</td>\n",
       "      <td>1015000.0</td>\n",
       "    </tr>\n",
       "    <tr>\n",
       "      <th>2022-11-14 09:00:00</th>\n",
       "      <td>22511000.0</td>\n",
       "      <td>23438000.0</td>\n",
       "      <td>21509000.0</td>\n",
       "      <td>22701000.0</td>\n",
       "      <td>13460.021929</td>\n",
       "      <td>3.018795e+11</td>\n",
       "      <td>1929000.0</td>\n",
       "    </tr>\n",
       "    <tr>\n",
       "      <th>2023-01-12 09:00:00</th>\n",
       "      <td>22475000.0</td>\n",
       "      <td>23900000.0</td>\n",
       "      <td>22415000.0</td>\n",
       "      <td>23552000.0</td>\n",
       "      <td>7650.901631</td>\n",
       "      <td>1.759627e+11</td>\n",
       "      <td>1485000.0</td>\n",
       "    </tr>\n",
       "    <tr>\n",
       "      <th>2023-01-14 09:00:00</th>\n",
       "      <td>24802000.0</td>\n",
       "      <td>26201000.0</td>\n",
       "      <td>24766000.0</td>\n",
       "      <td>25881000.0</td>\n",
       "      <td>14303.123998</td>\n",
       "      <td>3.680309e+11</td>\n",
       "      <td>1435000.0</td>\n",
       "    </tr>\n",
       "    <tr>\n",
       "      <th>2023-01-18 09:00:00</th>\n",
       "      <td>26255000.0</td>\n",
       "      <td>26795000.0</td>\n",
       "      <td>25502000.0</td>\n",
       "      <td>25718000.0</td>\n",
       "      <td>8246.642922</td>\n",
       "      <td>2.167095e+11</td>\n",
       "      <td>1293000.0</td>\n",
       "    </tr>\n",
       "    <tr>\n",
       "      <th>2023-01-21 09:00:00</th>\n",
       "      <td>28025000.0</td>\n",
       "      <td>29000000.0</td>\n",
       "      <td>27721000.0</td>\n",
       "      <td>28333000.0</td>\n",
       "      <td>7165.779761</td>\n",
       "      <td>2.036514e+11</td>\n",
       "      <td>1279000.0</td>\n",
       "    </tr>\n",
       "    <tr>\n",
       "      <th>2023-02-06 09:00:00</th>\n",
       "      <td>28990000.0</td>\n",
       "      <td>29439000.0</td>\n",
       "      <td>28650000.0</td>\n",
       "      <td>29222000.0</td>\n",
       "      <td>12169.807785</td>\n",
       "      <td>3.541075e+11</td>\n",
       "      <td>789000.0</td>\n",
       "    </tr>\n",
       "    <tr>\n",
       "      <th>2023-02-07 09:00:00</th>\n",
       "      <td>29225000.0</td>\n",
       "      <td>29561000.0</td>\n",
       "      <td>29017000.0</td>\n",
       "      <td>29452000.0</td>\n",
       "      <td>16246.138274</td>\n",
       "      <td>4.754840e+11</td>\n",
       "      <td>544000.0</td>\n",
       "    </tr>\n",
       "    <tr>\n",
       "      <th>2023-02-08 09:00:00</th>\n",
       "      <td>29452000.0</td>\n",
       "      <td>29591000.0</td>\n",
       "      <td>28940000.0</td>\n",
       "      <td>29303000.0</td>\n",
       "      <td>9798.406279</td>\n",
       "      <td>2.880024e+11</td>\n",
       "      <td>651000.0</td>\n",
       "    </tr>\n",
       "    <tr>\n",
       "      <th>2023-02-09 09:00:00</th>\n",
       "      <td>29303000.0</td>\n",
       "      <td>29400000.0</td>\n",
       "      <td>28135000.0</td>\n",
       "      <td>28193000.0</td>\n",
       "      <td>12573.152748</td>\n",
       "      <td>3.626466e+11</td>\n",
       "      <td>1265000.0</td>\n",
       "    </tr>\n",
       "  </tbody>\n",
       "</table>\n",
       "</div>"
      ],
      "text/plain": [
       "                           open        high         low       close  \\\n",
       "2022-07-30 09:00:00  31402000.0  32500000.0  31171000.0  31281000.0   \n",
       "2022-07-31 09:00:00  31270000.0  31775000.0  30714000.0  30751000.0   \n",
       "2022-08-02 09:00:00  30851000.0  31141000.0  30246000.0  30754000.0   \n",
       "2022-08-10 09:00:00  30997000.0  32073000.0  30522000.0  31583000.0   \n",
       "2022-08-11 09:00:00  31583000.0  32879000.0  31581000.0  31770000.0   \n",
       "2022-08-12 09:00:00  31770000.0  32450000.0  31590000.0  32368000.0   \n",
       "2022-08-19 09:00:00  31720000.0  31739000.0  28612000.0  28678000.0   \n",
       "2022-08-26 09:00:00  29299000.0  29655000.0  27790000.0  27969000.0   \n",
       "2022-09-06 09:00:00  27309000.0  27690000.0  26203000.0  26361000.0   \n",
       "2022-09-09 09:00:00  26887000.0  29616000.0  26864000.0  29350000.0   \n",
       "2022-09-12 09:00:00  30028000.0  30851000.0  29780000.0  30656000.0   \n",
       "2022-09-13 09:00:00  30684000.0  31300000.0  28200000.0  28371000.0   \n",
       "2022-09-14 09:00:00  28371000.0  28813000.0  27688000.0  28344000.0   \n",
       "2022-09-19 09:00:00  27490000.0  27732000.0  26216000.0  27566000.0   \n",
       "2022-09-21 09:00:00  26757000.0  27974000.0  26199000.0  26538000.0   \n",
       "2022-09-23 09:00:00  27571000.0  27788000.0  26709000.0  27594000.0   \n",
       "2022-09-27 09:00:00  27604000.0  29112000.0  27130000.0  27501000.0   \n",
       "2022-09-28 09:00:00  27495000.0  28421000.0  26800000.0  27952000.0   \n",
       "2022-10-13 09:00:00  27460000.0  28063000.0  26400000.0  27810000.0   \n",
       "2022-11-02 09:00:00  28753000.0  29299000.0  28500000.0  28632000.0   \n",
       "2022-11-04 09:00:00  28685000.0  29679000.0  28683000.0  29388000.0   \n",
       "2022-11-08 09:00:00  28945000.0  29020000.0  25842000.0  26650000.0   \n",
       "2022-11-09 09:00:00  26652000.0  26832000.0  22564000.0  22919000.0   \n",
       "2022-11-10 09:00:00  22924000.0  25120000.0  22840000.0  24779000.0   \n",
       "2022-11-11 09:00:00  24779000.0  24928000.0  23000000.0  23656000.0   \n",
       "2022-11-13 09:00:00  23380000.0  23515000.0  22500000.0  22510000.0   \n",
       "2022-11-14 09:00:00  22511000.0  23438000.0  21509000.0  22701000.0   \n",
       "2023-01-12 09:00:00  22475000.0  23900000.0  22415000.0  23552000.0   \n",
       "2023-01-14 09:00:00  24802000.0  26201000.0  24766000.0  25881000.0   \n",
       "2023-01-18 09:00:00  26255000.0  26795000.0  25502000.0  25718000.0   \n",
       "2023-01-21 09:00:00  28025000.0  29000000.0  27721000.0  28333000.0   \n",
       "2023-02-06 09:00:00  28990000.0  29439000.0  28650000.0  29222000.0   \n",
       "2023-02-07 09:00:00  29225000.0  29561000.0  29017000.0  29452000.0   \n",
       "2023-02-08 09:00:00  29452000.0  29591000.0  28940000.0  29303000.0   \n",
       "2023-02-09 09:00:00  29303000.0  29400000.0  28135000.0  28193000.0   \n",
       "\n",
       "                           volume         value      range  \n",
       "2022-07-30 09:00:00   7360.059756  2.340095e+11  1329000.0  \n",
       "2022-07-31 09:00:00   7085.408944  2.217467e+11  1061000.0  \n",
       "2022-08-02 09:00:00   7603.475830  2.326983e+11   895000.0  \n",
       "2022-08-10 09:00:00   8806.557975  2.763075e+11  1551000.0  \n",
       "2022-08-11 09:00:00   9244.456851  2.988636e+11  1298000.0  \n",
       "2022-08-12 09:00:00   8387.043922  2.675063e+11   860000.0  \n",
       "2022-08-19 09:00:00  11796.619470  3.547141e+11  3127000.0  \n",
       "2022-08-26 09:00:00   7729.246705  2.229064e+11  1865000.0  \n",
       "2022-09-06 09:00:00   8145.676585  2.206530e+11  1487000.0  \n",
       "2022-09-09 09:00:00   9802.804138  2.799645e+11  2752000.0  \n",
       "2022-09-12 09:00:00   7642.566033  2.323437e+11  1071000.0  \n",
       "2022-09-13 09:00:00  15229.115809  4.518100e+11  3100000.0  \n",
       "2022-09-14 09:00:00   8716.782685  2.472710e+11  1125000.0  \n",
       "2022-09-19 09:00:00   9719.594110  2.610364e+11  1516000.0  \n",
       "2022-09-21 09:00:00   9250.118767  2.494126e+11  1775000.0  \n",
       "2022-09-23 09:00:00   7237.642087  1.975800e+11  1079000.0  \n",
       "2022-09-27 09:00:00  11326.095177  3.191365e+11  1982000.0  \n",
       "2022-09-28 09:00:00   7772.212439  2.141910e+11  1621000.0  \n",
       "2022-10-13 09:00:00   8203.958395  2.222777e+11  1663000.0  \n",
       "2022-11-02 09:00:00   7547.861369  2.176693e+11   799000.0  \n",
       "2022-11-04 09:00:00   7964.117852  2.317181e+11   996000.0  \n",
       "2022-11-08 09:00:00  21680.492361  5.947722e+11  3178000.0  \n",
       "2022-11-09 09:00:00  22296.852651  5.527159e+11  4268000.0  \n",
       "2022-11-10 09:00:00  20710.252778  4.980172e+11  2280000.0  \n",
       "2022-11-11 09:00:00  12736.126084  3.037494e+11  1928000.0  \n",
       "2022-11-13 09:00:00   7169.951279  1.645994e+11  1015000.0  \n",
       "2022-11-14 09:00:00  13460.021929  3.018795e+11  1929000.0  \n",
       "2023-01-12 09:00:00   7650.901631  1.759627e+11  1485000.0  \n",
       "2023-01-14 09:00:00  14303.123998  3.680309e+11  1435000.0  \n",
       "2023-01-18 09:00:00   8246.642922  2.167095e+11  1293000.0  \n",
       "2023-01-21 09:00:00   7165.779761  2.036514e+11  1279000.0  \n",
       "2023-02-06 09:00:00  12169.807785  3.541075e+11   789000.0  \n",
       "2023-02-07 09:00:00  16246.138274  4.754840e+11   544000.0  \n",
       "2023-02-08 09:00:00   9798.406279  2.880024e+11   651000.0  \n",
       "2023-02-09 09:00:00  12573.152748  3.626466e+11  1265000.0  "
      ]
     },
     "execution_count": 33,
     "metadata": {},
     "output_type": "execute_result"
    }
   ],
   "source": [
    "df[df['volume']>7000]"
   ]
  },
  {
   "cell_type": "code",
   "execution_count": 35,
   "id": "e5e7a5a2",
   "metadata": {},
   "outputs": [],
   "source": [
    "df.drop('open',axis = 1,inplace = True)"
   ]
  },
  {
   "cell_type": "code",
   "execution_count": 36,
   "id": "b0243539",
   "metadata": {},
   "outputs": [
    {
     "name": "stdout",
     "output_type": "stream",
     "text": [
      "DatetimeIndex(['2021-10-03', '2022-10-22'], dtype='datetime64[ns]', freq=None)\n"
     ]
    }
   ],
   "source": [
    "time = ['2021-10-03','2022-10-22']\n",
    "index = pd.to_datetime(time)\n",
    "print(index)"
   ]
  },
  {
   "cell_type": "code",
   "execution_count": 47,
   "id": "4df0daba",
   "metadata": {},
   "outputs": [
    {
     "data": {
      "text/html": [
       "<div>\n",
       "<style scoped>\n",
       "    .dataframe tbody tr th:only-of-type {\n",
       "        vertical-align: middle;\n",
       "    }\n",
       "\n",
       "    .dataframe tbody tr th {\n",
       "        vertical-align: top;\n",
       "    }\n",
       "\n",
       "    .dataframe thead th {\n",
       "        text-align: right;\n",
       "    }\n",
       "</style>\n",
       "<table border=\"1\" class=\"dataframe\">\n",
       "  <thead>\n",
       "    <tr style=\"text-align: right;\">\n",
       "      <th></th>\n",
       "      <th>high</th>\n",
       "      <th>low</th>\n",
       "      <th>close</th>\n",
       "      <th>volume</th>\n",
       "      <th>value</th>\n",
       "      <th>range</th>\n",
       "    </tr>\n",
       "  </thead>\n",
       "  <tbody>\n",
       "    <tr>\n",
       "      <th>2022-08-03 09:00:00</th>\n",
       "      <td>31467000.0</td>\n",
       "      <td>30509000.0</td>\n",
       "      <td>30708000.0</td>\n",
       "      <td>6104.358089</td>\n",
       "      <td>1.887195e+11</td>\n",
       "      <td>958000.0</td>\n",
       "    </tr>\n",
       "    <tr>\n",
       "      <th>2022-08-04 09:00:00</th>\n",
       "      <td>30980000.0</td>\n",
       "      <td>30159000.0</td>\n",
       "      <td>30315000.0</td>\n",
       "      <td>5092.111161</td>\n",
       "      <td>1.560295e+11</td>\n",
       "      <td>821000.0</td>\n",
       "    </tr>\n",
       "    <tr>\n",
       "      <th>2022-08-05 09:00:00</th>\n",
       "      <td>30990000.0</td>\n",
       "      <td>30261000.0</td>\n",
       "      <td>30767000.0</td>\n",
       "      <td>5525.870434</td>\n",
       "      <td>1.694478e+11</td>\n",
       "      <td>729000.0</td>\n",
       "    </tr>\n",
       "    <tr>\n",
       "      <th>2022-08-06 09:00:00</th>\n",
       "      <td>30843000.0</td>\n",
       "      <td>30509000.0</td>\n",
       "      <td>30534000.0</td>\n",
       "      <td>2650.633559</td>\n",
       "      <td>8.142511e+10</td>\n",
       "      <td>334000.0</td>\n",
       "    </tr>\n",
       "    <tr>\n",
       "      <th>2022-08-07 09:00:00</th>\n",
       "      <td>30899000.0</td>\n",
       "      <td>30440000.0</td>\n",
       "      <td>30685000.0</td>\n",
       "      <td>2514.515032</td>\n",
       "      <td>7.701918e+10</td>\n",
       "      <td>459000.0</td>\n",
       "    </tr>\n",
       "    <tr>\n",
       "      <th>...</th>\n",
       "      <td>...</td>\n",
       "      <td>...</td>\n",
       "      <td>...</td>\n",
       "      <td>...</td>\n",
       "      <td>...</td>\n",
       "      <td>...</td>\n",
       "    </tr>\n",
       "    <tr>\n",
       "      <th>2023-02-10 09:00:00</th>\n",
       "      <td>28350000.0</td>\n",
       "      <td>27916000.0</td>\n",
       "      <td>28120000.0</td>\n",
       "      <td>5826.760545</td>\n",
       "      <td>1.638027e+11</td>\n",
       "      <td>434000.0</td>\n",
       "    </tr>\n",
       "    <tr>\n",
       "      <th>2023-02-11 09:00:00</th>\n",
       "      <td>28379000.0</td>\n",
       "      <td>28057000.0</td>\n",
       "      <td>28377000.0</td>\n",
       "      <td>4616.926761</td>\n",
       "      <td>1.302070e+11</td>\n",
       "      <td>322000.0</td>\n",
       "    </tr>\n",
       "    <tr>\n",
       "      <th>2023-02-12 09:00:00</th>\n",
       "      <td>28490000.0</td>\n",
       "      <td>28141000.0</td>\n",
       "      <td>28263000.0</td>\n",
       "      <td>3940.503342</td>\n",
       "      <td>1.115020e+11</td>\n",
       "      <td>349000.0</td>\n",
       "    </tr>\n",
       "    <tr>\n",
       "      <th>2023-02-13 09:00:00</th>\n",
       "      <td>28379000.0</td>\n",
       "      <td>27910000.0</td>\n",
       "      <td>28309000.0</td>\n",
       "      <td>5446.985890</td>\n",
       "      <td>1.533389e+11</td>\n",
       "      <td>469000.0</td>\n",
       "    </tr>\n",
       "    <tr>\n",
       "      <th>2023-02-14 09:00:00</th>\n",
       "      <td>28344000.0</td>\n",
       "      <td>28055000.0</td>\n",
       "      <td>28240000.0</td>\n",
       "      <td>3050.544758</td>\n",
       "      <td>8.592750e+10</td>\n",
       "      <td>289000.0</td>\n",
       "    </tr>\n",
       "  </tbody>\n",
       "</table>\n",
       "<p>196 rows × 6 columns</p>\n",
       "</div>"
      ],
      "text/plain": [
       "                           high         low       close       volume  \\\n",
       "2022-08-03 09:00:00  31467000.0  30509000.0  30708000.0  6104.358089   \n",
       "2022-08-04 09:00:00  30980000.0  30159000.0  30315000.0  5092.111161   \n",
       "2022-08-05 09:00:00  30990000.0  30261000.0  30767000.0  5525.870434   \n",
       "2022-08-06 09:00:00  30843000.0  30509000.0  30534000.0  2650.633559   \n",
       "2022-08-07 09:00:00  30899000.0  30440000.0  30685000.0  2514.515032   \n",
       "...                         ...         ...         ...          ...   \n",
       "2023-02-10 09:00:00  28350000.0  27916000.0  28120000.0  5826.760545   \n",
       "2023-02-11 09:00:00  28379000.0  28057000.0  28377000.0  4616.926761   \n",
       "2023-02-12 09:00:00  28490000.0  28141000.0  28263000.0  3940.503342   \n",
       "2023-02-13 09:00:00  28379000.0  27910000.0  28309000.0  5446.985890   \n",
       "2023-02-14 09:00:00  28344000.0  28055000.0  28240000.0  3050.544758   \n",
       "\n",
       "                            value     range  \n",
       "2022-08-03 09:00:00  1.887195e+11  958000.0  \n",
       "2022-08-04 09:00:00  1.560295e+11  821000.0  \n",
       "2022-08-05 09:00:00  1.694478e+11  729000.0  \n",
       "2022-08-06 09:00:00  8.142511e+10  334000.0  \n",
       "2022-08-07 09:00:00  7.701918e+10  459000.0  \n",
       "...                           ...       ...  \n",
       "2023-02-10 09:00:00  1.638027e+11  434000.0  \n",
       "2023-02-11 09:00:00  1.302070e+11  322000.0  \n",
       "2023-02-12 09:00:00  1.115020e+11  349000.0  \n",
       "2023-02-13 09:00:00  1.533389e+11  469000.0  \n",
       "2023-02-14 09:00:00  8.592750e+10  289000.0  \n",
       "\n",
       "[196 rows x 6 columns]"
      ]
     },
     "execution_count": 47,
     "metadata": {},
     "output_type": "execute_result"
    }
   ],
   "source": [
    "a = df.index[0:4]\n",
    "df.drop(a,axis=0)"
   ]
  },
  {
   "cell_type": "code",
   "execution_count": 5,
   "id": "bacf71f7",
   "metadata": {},
   "outputs": [
    {
     "data": {
      "text/plain": [
       "2022-07-30 09:00:00    31402100.0\n",
       "2022-07-31 09:00:00    31270100.0\n",
       "2022-08-01 09:00:00    30750100.0\n",
       "2022-08-02 09:00:00    30851100.0\n",
       "2022-08-03 09:00:00    30754100.0\n",
       "                          ...    \n",
       "2023-02-10 09:00:00    28193100.0\n",
       "2023-02-11 09:00:00    28145100.0\n",
       "2023-02-12 09:00:00    28360100.0\n",
       "2023-02-13 09:00:00    28264100.0\n",
       "2023-02-14 09:00:00    28334100.0\n",
       "Name: open, Length: 200, dtype: float64"
      ]
     },
     "execution_count": 5,
     "metadata": {},
     "output_type": "execute_result"
    }
   ],
   "source": [
    "df['open'] + 100"
   ]
  },
  {
   "cell_type": "code",
   "execution_count": null,
   "id": "91445192",
   "metadata": {},
   "outputs": [],
   "source": []
  }
 ],
 "metadata": {
  "kernelspec": {
   "display_name": "Python 3 (ipykernel)",
   "language": "python",
   "name": "python3"
  },
  "language_info": {
   "codemirror_mode": {
    "name": "ipython",
    "version": 3
   },
   "file_extension": ".py",
   "mimetype": "text/x-python",
   "name": "python",
   "nbconvert_exporter": "python",
   "pygments_lexer": "ipython3",
   "version": "3.10.9"
  }
 },
 "nbformat": 4,
 "nbformat_minor": 5
}
